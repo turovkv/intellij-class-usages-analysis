{
 "cells": [
  {
   "cell_type": "code",
   "execution_count": 1,
   "metadata": {
    "collapsed": true,
    "pycharm": {
     "name": "#%%\n"
    }
   },
   "outputs": [],
   "source": [
    "import numpy as np\n",
    "import pandas as pd\n",
    "from sklearn import metrics\n",
    "from sklearn.linear_model import ARDRegression, RidgeClassifier\n",
    "from sklearn.svm import LinearSVR\n",
    "from sklearn.calibration import CalibratedClassifierCV\n",
    "from sklearn.svm import LinearSVC\n",
    "from utils import show_rank_metrics\n",
    "from sklearn.svm import SVC\n"
   ]
  },
  {
   "cell_type": "code",
   "execution_count": 2,
   "outputs": [],
   "source": [
    "train = pd.read_csv('train.csv', index_col=0).sample(frac=1)\n",
    "y_train = train['correct']\n",
    "X_train = train.drop(columns=['name', 'firstChar', 'group', 'correct'])\n",
    "\n",
    "test = pd.read_csv('test.csv', index_col=0)\n",
    "y_test = test['correct']\n",
    "X_test = test.drop(columns=['name', 'firstChar', 'group', 'correct'])\n",
    "\n",
    "valid = pd.read_csv('valid.csv', index_col=0)\n",
    "y_valid = valid['correct']\n",
    "X_valid = valid.drop(columns=['name', 'firstChar', 'group', 'correct'])"
   ],
   "metadata": {
    "collapsed": false,
    "pycharm": {
     "name": "#%%\n"
    }
   }
  },
  {
   "cell_type": "code",
   "execution_count": 3,
   "outputs": [],
   "source": [
    "xs = X_train.iloc[:3*10 ** 4, :]\n",
    "ys = y_train.iloc[:3*10 ** 4]"
   ],
   "metadata": {
    "collapsed": false,
    "pycharm": {
     "name": "#%%\n"
    }
   }
  },
  {
   "cell_type": "code",
   "execution_count": 4,
   "outputs": [
    {
     "data": {
      "text/plain": "CalibratedClassifierCV(base_estimator=LinearSVC(C=0.1, dual=False,\n                                                max_iter=20000, penalty='l1',\n                                                random_state=0))"
     },
     "execution_count": 4,
     "metadata": {},
     "output_type": "execute_result"
    }
   ],
   "source": [
    "# svm = LinearSVC(random_state=0, penalty=\"l1\", dual=False, max_iter=10**4)\n",
    "svm = LinearSVC(random_state=0, penalty=\"l1\", dual=False, max_iter=2*10**4, C=0.1)\n",
    "clf_svm_lin = CalibratedClassifierCV(svm)\n",
    "clf_svm_lin.fit(xs, ys)"
   ],
   "metadata": {
    "collapsed": false,
    "pycharm": {
     "name": "#%%\n"
    }
   }
  },
  {
   "cell_type": "code",
   "execution_count": 5,
   "outputs": [
    {
     "name": "stdout",
     "output_type": "stream",
     "text": [
      "(30000, 3)\n",
      "\n",
      "mean = 1.423190984578885\n",
      "\n",
      "top0 = 0.0\n",
      "top1 = 0.6755634638196916\n",
      "top2 = 0.9166666666666666\n",
      "top3 = 0.9869513641755635\n",
      "top4 = 0.9976275207591934\n",
      "top5 = 1.0\n"
     ]
    }
   ],
   "source": [
    "show_rank_metrics(\n",
    "    df_group=pd.DataFrame(data=train.iloc[:3*10 ** 4, :]['group'].tolist(), columns=['group']),\n",
    "    df_proba=pd.DataFrame(data=clf_svm_lin.predict_proba(xs)[:,1].tolist(), columns=['proba']),\n",
    "    df_true=pd.DataFrame(data=ys.tolist(), columns=['correct'])\n",
    ")"
   ],
   "metadata": {
    "collapsed": false,
    "pycharm": {
     "name": "#%%\n"
    }
   }
  },
  {
   "cell_type": "code",
   "execution_count": 6,
   "outputs": [
    {
     "name": "stdout",
     "output_type": "stream",
     "text": [
      "(236210, 3)\n",
      "\n",
      "mean = 13.193946064942212\n",
      "\n",
      "top0 = 0.0\n",
      "top1 = 0.1574023115024766\n",
      "top2 = 0.20187121629058888\n",
      "top3 = 0.2345624656026417\n",
      "top4 = 0.2620803522289488\n",
      "top5 = 0.2836543753439736\n",
      "top6 = 0.3010456796917997\n",
      "top7 = 0.3228398458998349\n",
      "top8 = 0.3413318657127133\n",
      "top9 = 0.3641166758392955\n",
      "top10 = 0.3906439185470556\n",
      "top11 = 0.41761144744083656\n",
      "top12 = 0.4478811227297744\n",
      "top13 = 0.482883874518437\n",
      "top14 = 0.5143643368189323\n",
      "top15 = 0.5462850853054485\n",
      "top16 = 0.5806274078150798\n",
      "top17 = 0.6162905888827738\n",
      "top18 = 0.6501926252063841\n",
      "top19 = 0.6854155200880573\n",
      "top20 = 0.7247110621904238\n",
      "top21 = 0.7671986791414419\n",
      "top22 = 0.8108970831040176\n",
      "top23 = 0.8548156301596037\n",
      "top24 = 0.8996147495872318\n",
      "top25 = 0.9477160154100165\n",
      "top26 = 1.0\n"
     ]
    }
   ],
   "source": [
    "show_rank_metrics(\n",
    "    df_group=pd.DataFrame(data=test['group'].tolist(), columns=['group']),\n",
    "    df_proba=pd.DataFrame(data=clf_svm_lin.predict_proba(X_test)[:,1].tolist(), columns=['proba']),\n",
    "    df_true=pd.DataFrame(data=y_test.tolist(), columns=['correct'])\n",
    ")"
   ],
   "metadata": {
    "collapsed": false,
    "pycharm": {
     "name": "#%%\n"
    }
   }
  },
  {
   "cell_type": "code",
   "execution_count": 7,
   "outputs": [],
   "source": [
    "xs = X_train.iloc[:2*10 ** 4, :]\n",
    "ys = y_train.iloc[:2*10 ** 4]"
   ],
   "metadata": {
    "collapsed": false,
    "pycharm": {
     "name": "#%%\n"
    }
   }
  },
  {
   "cell_type": "code",
   "execution_count": 1,
   "outputs": [
    {
     "ename": "AssertionError",
     "evalue": "",
     "output_type": "error",
     "traceback": [
      "\u001B[0;31m---------------------------------------------------------------------------\u001B[0m",
      "\u001B[0;31mAssertionError\u001B[0m                            Traceback (most recent call last)",
      "Input \u001B[0;32mIn [1]\u001B[0m, in \u001B[0;36m<cell line: 1>\u001B[0;34m()\u001B[0m\n\u001B[0;32m----> 1\u001B[0m \u001B[38;5;28;01massert\u001B[39;00m \u001B[38;5;124m\"\u001B[39m\u001B[38;5;124mToo long\u001B[39m\u001B[38;5;124m\"\u001B[39m \u001B[38;5;241m==\u001B[39m \u001B[38;5;124m\"\u001B[39m\u001B[38;5;124m\"\u001B[39m\n\u001B[1;32m      3\u001B[0m \u001B[38;5;66;03m# svm = LinearSVC(random_state=0, penalty=\"l1\", dual=False, max_iter=10**4)\u001B[39;00m\n\u001B[1;32m      4\u001B[0m svm \u001B[38;5;241m=\u001B[39m SVC(random_state\u001B[38;5;241m=\u001B[39m\u001B[38;5;241m0\u001B[39m, C\u001B[38;5;241m=\u001B[39m\u001B[38;5;241m0.1\u001B[39m, cache_size\u001B[38;5;241m=\u001B[39m\u001B[38;5;241m2000\u001B[39m)\n",
      "\u001B[0;31mAssertionError\u001B[0m: "
     ]
    }
   ],
   "source": [
    "assert \"Too long\" == \"\"\n",
    "\n",
    "# svm = LinearSVC(random_state=0, penalty=\"l1\", dual=False, max_iter=10**4)\n",
    "svm = SVC(random_state=0, C=0.1, cache_size=2000)\n",
    "clf_svm_rbf = CalibratedClassifierCV(svm)\n",
    "clf_svm_rbf.fit(xs, ys)"
   ],
   "metadata": {
    "collapsed": false,
    "pycharm": {
     "name": "#%%\n"
    }
   }
  },
  {
   "cell_type": "code",
   "execution_count": null,
   "outputs": [],
   "source": [],
   "metadata": {
    "collapsed": false,
    "pycharm": {
     "name": "#%%\n"
    }
   }
  },
  {
   "cell_type": "code",
   "execution_count": 9,
   "outputs": [
    {
     "name": "stdout",
     "output_type": "stream",
     "text": [
      "(20000, 3)\n",
      "\n",
      "mean = 1.0485008818342152\n",
      "\n",
      "top0 = 0.0\n",
      "top1 = 0.9585537918871252\n",
      "top2 = 0.9942680776014109\n",
      "top3 = 0.9986772486772487\n",
      "top4 = 1.0\n"
     ]
    }
   ],
   "source": [
    "show_rank_metrics(\n",
    "    df_group=pd.DataFrame(data=train.iloc[:2*10 ** 4, :]['group'].tolist(), columns=['group']),\n",
    "    df_proba=pd.DataFrame(data=clf_svm_rbf.predict_proba(xs)[:,1].tolist(), columns=['proba']),\n",
    "    df_true=pd.DataFrame(data=ys.tolist(), columns=['correct'])\n",
    ")"
   ],
   "metadata": {
    "collapsed": false,
    "pycharm": {
     "name": "#%%\n"
    }
   }
  },
  {
   "cell_type": "code",
   "execution_count": 10,
   "outputs": [
    {
     "name": "stdout",
     "output_type": "stream",
     "text": [
      "(20000, 3)\n",
      "\n",
      "mean = 7.298701298701299\n",
      "\n",
      "top0 = 0.0\n",
      "top1 = 0.34935064935064936\n",
      "top2 = 0.43246753246753245\n",
      "top3 = 0.5077922077922078\n",
      "top4 = 0.5493506493506494\n",
      "top5 = 0.5818181818181818\n",
      "top6 = 0.6168831168831169\n",
      "top7 = 0.6480519480519481\n",
      "top8 = 0.6701298701298701\n",
      "top9 = 0.6844155844155844\n",
      "top10 = 0.7025974025974026\n",
      "top11 = 0.7246753246753247\n",
      "top12 = 0.7376623376623377\n",
      "top13 = 0.7636363636363637\n",
      "top14 = 0.787012987012987\n",
      "top15 = 0.8168831168831169\n",
      "top16 = 0.8402597402597403\n",
      "top17 = 0.8584415584415584\n",
      "top18 = 0.8766233766233766\n",
      "top19 = 0.8922077922077922\n",
      "top20 = 0.9090909090909091\n",
      "top21 = 0.9233766233766234\n",
      "top22 = 0.9363636363636364\n",
      "top23 = 0.951948051948052\n",
      "top24 = 0.9636363636363636\n",
      "top25 = 0.9766233766233766\n",
      "top26 = 1.0\n"
     ]
    }
   ],
   "source": [
    "show_rank_metrics(\n",
    "    df_group=pd.DataFrame(data=test.iloc[:2*10 ** 4, :]['group'].tolist(), columns=['group']),\n",
    "    df_proba=pd.DataFrame(data=clf_svm_rbf.predict_proba(X_test.iloc[:2*10 ** 4, :])[:,1].tolist(), columns=['proba']),\n",
    "    df_true=pd.DataFrame(data=y_test.iloc[:2*10 ** 4].tolist(), columns=['correct'])\n",
    ")"
   ],
   "metadata": {
    "collapsed": false,
    "pycharm": {
     "name": "#%%\n"
    }
   }
  },
  {
   "cell_type": "code",
   "execution_count": 11,
   "outputs": [
    {
     "name": "stdout",
     "output_type": "stream",
     "text": [
      "(30000, 3)\n",
      "\n",
      "mean = 6.6663778162911616\n",
      "\n",
      "top0 = 0.0\n",
      "top1 = 0.33362218370883884\n",
      "top2 = 0.4410745233968804\n",
      "top3 = 0.5147313691507799\n",
      "top4 = 0.5658578856152513\n",
      "top5 = 0.6109185441941074\n",
      "top6 = 0.6447140381282496\n",
      "top7 = 0.6776429809358753\n",
      "top8 = 0.707105719237435\n",
      "top9 = 0.7270363951473137\n",
      "top10 = 0.7504332755632582\n",
      "top11 = 0.7729636048526863\n",
      "top12 = 0.7963604852686309\n",
      "top13 = 0.8119584055459272\n",
      "top14 = 0.8318890814558059\n",
      "top15 = 0.8440207972270364\n",
      "top16 = 0.865684575389948\n",
      "top17 = 0.8830155979202773\n",
      "top18 = 0.8977469670710572\n",
      "top19 = 0.9107452339688041\n",
      "top20 = 0.92894280762565\n",
      "top21 = 0.9428076256499134\n",
      "top22 = 0.9575389948006933\n",
      "top23 = 0.9662045060658578\n",
      "top24 = 0.9722703639514731\n",
      "top25 = 0.9783362218370883\n",
      "top26 = 1.0\n"
     ]
    }
   ],
   "source": [
    "show_rank_metrics(\n",
    "    df_group=pd.DataFrame(data=valid.iloc[:3*10 ** 4, :]['group'].tolist(), columns=['group']),\n",
    "    df_proba=pd.DataFrame(data=clf_svm_rbf.predict_proba(X_valid.iloc[:3*10 ** 4, :])[:,1].tolist(), columns=['proba']),\n",
    "    df_true=pd.DataFrame(data=y_valid.iloc[:3*10 ** 4].tolist(), columns=['correct'])\n",
    ")"
   ],
   "metadata": {
    "collapsed": false,
    "pycharm": {
     "name": "#%%\n"
    }
   }
  },
  {
   "cell_type": "code",
   "execution_count": 11,
   "outputs": [],
   "source": [],
   "metadata": {
    "collapsed": false,
    "pycharm": {
     "name": "#%%\n"
    }
   }
  },
  {
   "cell_type": "code",
   "execution_count": 12,
   "outputs": [],
   "source": [
    "######## poly"
   ],
   "metadata": {
    "collapsed": false,
    "pycharm": {
     "name": "#%%\n"
    }
   }
  },
  {
   "cell_type": "code",
   "execution_count": 13,
   "outputs": [
    {
     "data": {
      "text/plain": "CalibratedClassifierCV(base_estimator=SVC(C=0.1, cache_size=2000, kernel='poly',\n                                          random_state=0))"
     },
     "execution_count": 13,
     "metadata": {},
     "output_type": "execute_result"
    }
   ],
   "source": [
    "assert \"Too long\" == \"\"\n",
    "\n",
    "# svm = LinearSVC(random_state=0, penalty=\"l1\", dual=False, max_iter=10**4)\n",
    "svm = SVC(random_state=0, C=0.1, cache_size=2000, kernel=\"poly\")\n",
    "clf_svm_pol = CalibratedClassifierCV(svm)\n",
    "clf_svm_pol.fit(xs, ys)"
   ],
   "metadata": {
    "collapsed": false,
    "pycharm": {
     "name": "#%%\n"
    }
   }
  },
  {
   "cell_type": "code",
   "execution_count": 14,
   "outputs": [
    {
     "name": "stdout",
     "output_type": "stream",
     "text": [
      "(20000, 3)\n",
      "\n",
      "mean = 1.0573192239858906\n",
      "\n",
      "top0 = 0.0\n",
      "top1 = 0.951058201058201\n",
      "top2 = 0.9929453262786596\n",
      "top3 = 0.9986772486772487\n",
      "top4 = 1.0\n"
     ]
    }
   ],
   "source": [
    "show_rank_metrics(\n",
    "    df_group=pd.DataFrame(data=train.iloc[:2*10 ** 4, :]['group'].tolist(), columns=['group']),\n",
    "    df_proba=pd.DataFrame(data=clf_svm_pol.predict_proba(xs)[:,1].tolist(), columns=['proba']),\n",
    "    df_true=pd.DataFrame(data=ys.tolist(), columns=['correct'])\n",
    ")"
   ],
   "metadata": {
    "collapsed": false,
    "pycharm": {
     "name": "#%%\n"
    }
   }
  },
  {
   "cell_type": "code",
   "execution_count": 15,
   "outputs": [
    {
     "name": "stdout",
     "output_type": "stream",
     "text": [
      "(20000, 3)\n",
      "\n",
      "mean = 7.240259740259741\n",
      "\n",
      "top0 = 0.0\n",
      "top1 = 0.34025974025974026\n",
      "top2 = 0.42727272727272725\n",
      "top3 = 0.4883116883116883\n",
      "top4 = 0.5454545454545454\n",
      "top5 = 0.5792207792207792\n",
      "top6 = 0.6155844155844156\n",
      "top7 = 0.6480519480519481\n",
      "top8 = 0.6714285714285714\n",
      "top9 = 0.6883116883116883\n",
      "top10 = 0.7142857142857143\n",
      "top11 = 0.7337662337662337\n",
      "top12 = 0.7519480519480519\n",
      "top13 = 0.7688311688311689\n",
      "top14 = 0.7857142857142857\n",
      "top15 = 0.8064935064935065\n",
      "top16 = 0.8350649350649351\n",
      "top17 = 0.8584415584415584\n",
      "top18 = 0.8792207792207792\n",
      "top19 = 0.9025974025974026\n",
      "top20 = 0.9285714285714286\n",
      "top21 = 0.9337662337662338\n",
      "top22 = 0.9467532467532468\n",
      "top23 = 0.961038961038961\n",
      "top24 = 0.9714285714285714\n",
      "top25 = 0.977922077922078\n",
      "top26 = 1.0\n"
     ]
    }
   ],
   "source": [
    "show_rank_metrics(\n",
    "    df_group=pd.DataFrame(data=test.iloc[:2*10 ** 4, :]['group'].tolist(), columns=['group']),\n",
    "    df_proba=pd.DataFrame(data=clf_svm_pol.predict_proba(X_test.iloc[:2*10 ** 4, :])[:,1].tolist(), columns=['proba']),\n",
    "    df_true=pd.DataFrame(data=y_test.iloc[:2*10 ** 4].tolist(), columns=['correct'])\n",
    ")"
   ],
   "metadata": {
    "collapsed": false,
    "pycharm": {
     "name": "#%%\n"
    }
   }
  },
  {
   "cell_type": "code",
   "execution_count": 16,
   "outputs": [
    {
     "name": "stdout",
     "output_type": "stream",
     "text": [
      "(30000, 3)\n",
      "\n",
      "mean = 6.5103986135181975\n",
      "\n",
      "top0 = 0.0\n",
      "top1 = 0.34055459272097055\n",
      "top2 = 0.43154246100519933\n",
      "top3 = 0.511265164644714\n",
      "top4 = 0.57105719237435\n",
      "top5 = 0.6048526863084922\n",
      "top6 = 0.6403812824956673\n",
      "top7 = 0.6767764298093587\n",
      "top8 = 0.7114384748700173\n",
      "top9 = 0.7417677642980935\n",
      "top10 = 0.755632582322357\n",
      "top11 = 0.7824956672443674\n",
      "top12 = 0.8058925476603119\n",
      "top13 = 0.8292894280762565\n",
      "top14 = 0.8396880415944541\n",
      "top15 = 0.8613518197573656\n",
      "top16 = 0.8778162911611785\n",
      "top17 = 0.8951473136915078\n",
      "top18 = 0.9081455805892548\n",
      "top19 = 0.9237435008665511\n",
      "top20 = 0.9367417677642981\n",
      "top21 = 0.9523396880415944\n",
      "top22 = 0.9636048526863085\n",
      "top23 = 0.9705372616984402\n",
      "top24 = 0.975736568457539\n",
      "top25 = 0.9818024263431543\n",
      "top26 = 1.0\n"
     ]
    }
   ],
   "source": [
    "show_rank_metrics(\n",
    "    df_group=pd.DataFrame(data=valid.iloc[:3*10 ** 4, :]['group'].tolist(), columns=['group']),\n",
    "    df_proba=pd.DataFrame(data=clf_svm_pol.predict_proba(X_valid.iloc[:3*10 ** 4, :])[:,1].tolist(), columns=['proba']),\n",
    "    df_true=pd.DataFrame(data=y_valid.iloc[:3*10 ** 4].tolist(), columns=['correct'])\n",
    ")"
   ],
   "metadata": {
    "collapsed": false,
    "pycharm": {
     "name": "#%%\n"
    }
   }
  },
  {
   "cell_type": "code",
   "execution_count": 17,
   "outputs": [
    {
     "data": {
      "text/plain": "['clf_svm_pol.joblib']"
     },
     "execution_count": 17,
     "metadata": {},
     "output_type": "execute_result"
    }
   ],
   "source": [
    "from joblib import dump, load\n",
    "\n",
    "dump(clf_svm_pol, 'clf_svm_pol.joblib')\n",
    "# 100 MB ..... bruh"
   ],
   "metadata": {
    "collapsed": false,
    "pycharm": {
     "name": "#%%\n"
    }
   }
  }
 ],
 "metadata": {
  "kernelspec": {
   "display_name": "Python 3",
   "language": "python",
   "name": "python3"
  },
  "language_info": {
   "codemirror_mode": {
    "name": "ipython",
    "version": 2
   },
   "file_extension": ".py",
   "mimetype": "text/x-python",
   "name": "python",
   "nbconvert_exporter": "python",
   "pygments_lexer": "ipython2",
   "version": "2.7.6"
  }
 },
 "nbformat": 4,
 "nbformat_minor": 0
}