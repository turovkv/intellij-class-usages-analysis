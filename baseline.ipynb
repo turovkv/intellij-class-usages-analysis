{
 "cells": [
  {
   "cell_type": "code",
   "execution_count": 1,
   "outputs": [],
   "source": [
    "\n",
    "import json\n",
    "import os\n",
    "import random\n",
    "\n",
    "import pandas as pd\n",
    "\n",
    "from utils import show_rank_metrics\n",
    "\n",
    "random.seed(0)"
   ],
   "metadata": {
    "collapsed": false,
    "pycharm": {
     "name": "#%%\n"
    }
   }
  },
  {
   "cell_type": "code",
   "execution_count": 2,
   "outputs": [],
   "source": [
    "train = pd.read_csv('train.csv', index_col=0).sample(frac=1)\n",
    "y_train = train['correct']\n",
    "X_train = train[['name']]\n",
    "\n",
    "test = pd.read_csv('test.csv', index_col=0).sample(frac=1)\n",
    "y_test = test['correct']\n",
    "X_test = test[['name']]\n"
   ],
   "metadata": {
    "collapsed": false,
    "pycharm": {
     "name": "#%%\n"
    }
   }
  },
  {
   "cell_type": "code",
   "execution_count": 3,
   "outputs": [
    {
     "data": {
      "text/plain": "25"
     },
     "execution_count": 3,
     "metadata": {},
     "output_type": "execute_result"
    }
   ],
   "source": [
    "with open(os.path.join(os.getcwd(), 'FirstCharToNameList.txt'), 'r') as f:\n",
    "    firstCharToNameList = json.load(f)\n",
    "\n",
    "len(firstCharToNameList)"
   ],
   "metadata": {
    "collapsed": false,
    "pycharm": {
     "name": "#%%\n"
    }
   }
  },
  {
   "cell_type": "code",
   "execution_count": 4,
   "outputs": [],
   "source": [
    "nameToProbability = {}\n",
    "for ch in firstCharToNameList:\n",
    "    names = firstCharToNameList[ch]\n",
    "    N = len(names)\n",
    "    for i, name in enumerate(names):\n",
    "        nameToProbability[name] = (1.0 - i * 1.0 / N)\n",
    "\n",
    "\n",
    "def getProba(name):\n",
    "    if name in nameToProbability:\n",
    "        return nameToProbability[name]\n",
    "    else:\n",
    "        return 0\n"
   ],
   "metadata": {
    "collapsed": false,
    "pycharm": {
     "name": "#%%\n"
    }
   }
  },
  {
   "cell_type": "code",
   "execution_count": 5,
   "outputs": [],
   "source": [
    "y_test_pred_popular = [getProba(name) for name in X_test['name']]"
   ],
   "metadata": {
    "collapsed": false,
    "pycharm": {
     "name": "#%%\n"
    }
   }
  },
  {
   "cell_type": "code",
   "execution_count": 6,
   "outputs": [
    {
     "name": "stdout",
     "output_type": "stream",
     "text": [
      "(218764, 3)\n",
      "\n",
      "mean = 13.347278345614452\n",
      "\n",
      "top0 = 0.0\n",
      "top1 = 0.24934632754932257\n",
      "top2 = 0.2531495127169004\n",
      "top3 = 0.2590919895412408\n",
      "top4 = 0.2703826955074875\n",
      "top5 = 0.2840503922034704\n",
      "top6 = 0.29985738055621586\n",
      "top7 = 0.31863560732113144\n",
      "top8 = 0.34133586879011174\n",
      "top9 = 0.3637984311861184\n",
      "top10 = 0.39279771808889946\n",
      "top11 = 0.41894461611599715\n",
      "top12 = 0.4462800095079629\n",
      "top13 = 0.47777513667696697\n",
      "top14 = 0.5093891133824578\n",
      "top15 = 0.5394580461136201\n",
      "top16 = 0.5754694556691229\n",
      "top17 = 0.6099358212502971\n",
      "top18 = 0.644639885904445\n",
      "top19 = 0.6794628000950796\n",
      "top20 = 0.7136914666032802\n",
      "top21 = 0.7455431423817447\n",
      "top22 = 0.7770382695507487\n",
      "top23 = 0.8038982647967673\n",
      "top24 = 0.8301640123603518\n",
      "top25 = 0.848585690515807\n",
      "top26 = 1.0\n"
     ]
    }
   ],
   "source": [
    "show_rank_metrics(\n",
    "    df_group=pd.DataFrame(data=test['group'].tolist(), columns=['group']),\n",
    "    df_proba=pd.DataFrame(data=y_test_pred_popular, columns=['proba']),\n",
    "    df_true=pd.DataFrame(data=y_test.tolist(), columns=['correct'])\n",
    ")"
   ],
   "metadata": {
    "collapsed": false,
    "pycharm": {
     "name": "#%%\n"
    }
   }
  },
  {
   "cell_type": "code",
   "execution_count": 7,
   "outputs": [],
   "source": [
    "y_test_pred_random = [random.random() for name in X_test['name']]"
   ],
   "metadata": {
    "collapsed": false,
    "pycharm": {
     "name": "#%%\n"
    }
   }
  },
  {
   "cell_type": "code",
   "execution_count": 8,
   "outputs": [
    {
     "name": "stdout",
     "output_type": "stream",
     "text": [
      "(218764, 3)\n",
      "\n",
      "mean = 13.558592821487997\n",
      "\n",
      "top0 = 0.0\n",
      "top1 = 0.037081055383884\n",
      "top2 = 0.07368671262182078\n",
      "top3 = 0.11183741383408605\n",
      "top4 = 0.1480865224625624\n",
      "top5 = 0.18635607321131448\n",
      "top6 = 0.2267649156168291\n",
      "top7 = 0.2655098645115284\n",
      "top8 = 0.3048490610886618\n",
      "top9 = 0.34335631091038743\n",
      "top10 = 0.3797242690753506\n",
      "top11 = 0.4193011647254576\n",
      "top12 = 0.4554314238174471\n",
      "top13 = 0.49607796529593534\n",
      "top14 = 0.5373187544568576\n",
      "top15 = 0.5743998098407416\n",
      "top16 = 0.6135013073449014\n",
      "top17 = 0.651414309484193\n",
      "top18 = 0.6875445685761825\n",
      "top19 = 0.7302115521749465\n",
      "top20 = 0.7671737580223437\n",
      "top21 = 0.8077014499643451\n",
      "top22 = 0.8512003803185167\n",
      "top23 = 0.8851913477537438\n",
      "top24 = 0.9239362966484431\n",
      "top25 = 0.9637508913715237\n",
      "top26 = 1.0\n"
     ]
    }
   ],
   "source": [
    "show_rank_metrics(\n",
    "    df_group=pd.DataFrame(data=test['group'].tolist(), columns=['group']),\n",
    "    df_proba=pd.DataFrame(data=y_test_pred_random, columns=['proba']),\n",
    "    df_true=pd.DataFrame(data=y_test.tolist(), columns=['correct'])\n",
    ")"
   ],
   "metadata": {
    "collapsed": false,
    "pycharm": {
     "name": "#%%\n"
    }
   }
  }
 ],
 "metadata": {
  "kernelspec": {
   "display_name": "Python 3",
   "language": "python",
   "name": "python3"
  },
  "language_info": {
   "codemirror_mode": {
    "name": "ipython",
    "version": 2
   },
   "file_extension": ".py",
   "mimetype": "text/x-python",
   "name": "python",
   "nbconvert_exporter": "python",
   "pygments_lexer": "ipython2",
   "version": "2.7.6"
  }
 },
 "nbformat": 4,
 "nbformat_minor": 0
}