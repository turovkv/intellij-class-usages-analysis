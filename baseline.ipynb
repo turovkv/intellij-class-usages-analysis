{
 "cells": [
  {
   "cell_type": "code",
   "execution_count": 21,
   "outputs": [],
   "source": [
    "import copy\n",
    "import json\n",
    "import glob\n",
    "import os\n",
    "import random\n",
    "\n",
    "import matplotlib.pyplot as plt\n",
    "import nltk as nltk\n",
    "import numpy as np\n",
    "from collections import Counter\n",
    "import math\n",
    "import pandas as pd\n",
    "from sklearn.feature_extraction.text import CountVectorizer\n",
    "import re\n",
    "from random import shuffle\n",
    "import random\n",
    "from sklearn.metrics import mean_squared_error\n",
    "from sklearn.metrics import r2_score\n",
    "from sklearn.metrics import median_absolute_error\n",
    "from sklearn import svm\n",
    "from sklearn import metrics\n",
    "\n",
    "from catboost import CatBoostRegressor, Pool\n"
   ],
   "metadata": {
    "collapsed": false,
    "pycharm": {
     "name": "#%%\n"
    }
   }
  },
  {
   "cell_type": "code",
   "execution_count": 22,
   "outputs": [],
   "source": [
    "train = pd.read_csv('train.csv', index_col=0).sample(frac=1)\n",
    "y_train = train['correct']\n",
    "X_train = train[['name']]\n",
    "\n",
    "test = pd.read_csv('test.csv', index_col=0).sample(frac=1)\n",
    "y_test = test['correct']\n",
    "X_test = test[['name']]\n"
   ],
   "metadata": {
    "collapsed": false,
    "pycharm": {
     "name": "#%%\n"
    }
   }
  },
  {
   "cell_type": "code",
   "execution_count": 23,
   "outputs": [
    {
     "data": {
      "text/plain": "25"
     },
     "execution_count": 23,
     "metadata": {},
     "output_type": "execute_result"
    }
   ],
   "source": [
    "with open(os.path.join(os.getcwd(), 'FirstCharToNameList.txt'), 'r') as f:\n",
    "    firstCharToNameList = json.load(f)\n",
    "\n",
    "len(firstCharToNameList)"
   ],
   "metadata": {
    "collapsed": false,
    "pycharm": {
     "name": "#%%\n"
    }
   }
  },
  {
   "cell_type": "code",
   "execution_count": 24,
   "outputs": [],
   "source": [
    "nameToProbability = {}\n",
    "for ch in firstCharToNameList:\n",
    "    names = firstCharToNameList[ch]\n",
    "    N = len(names)\n",
    "    for i, name in enumerate(names):\n",
    "        nameToProbability[name] = (1.0 - i * 1.0 / N) ** 2\n"
   ],
   "metadata": {
    "collapsed": false,
    "pycharm": {
     "name": "#%%\n"
    }
   }
  },
  {
   "cell_type": "code",
   "execution_count": 25,
   "outputs": [],
   "source": [
    "y_test_pred = [random.random() for name in X_test['name']]"
   ],
   "metadata": {
    "collapsed": false,
    "pycharm": {
     "name": "#%%\n"
    }
   }
  },
  {
   "cell_type": "code",
   "execution_count": 26,
   "outputs": [
    {
     "data": {
      "text/plain": "107568"
     },
     "execution_count": 26,
     "metadata": {},
     "output_type": "execute_result"
    }
   ],
   "source": [
    "#y_test_pred[:50]\n",
    "len(y_test_pred)"
   ],
   "metadata": {
    "collapsed": false,
    "pycharm": {
     "name": "#%%\n"
    }
   }
  },
  {
   "cell_type": "code",
   "execution_count": 27,
   "outputs": [
    {
     "name": "stdout",
     "output_type": "stream",
     "text": [
      "           proba  correct  group\n",
      "3       0.927995        0     24\n",
      "2       0.776016        0     24\n",
      "1       0.680294        0     24\n",
      "0       0.393837        1     24\n",
      "7       0.368594        0     24\n",
      "...          ...      ...    ...\n",
      "107560  0.200476        1  42950\n",
      "107567  0.147041        0  42950\n",
      "107565  0.073652        0  42950\n",
      "107564  0.067572        0  42950\n",
      "107562  0.034435        0  42950\n",
      "\n",
      "[107568 rows x 3 columns]\n"
     ]
    }
   ],
   "source": [
    "df_proba = pd.DataFrame(data=y_test_pred, columns=['proba'])\n",
    "df_metric = pd.concat([df_proba, y_test.to_frame(), test[['group']]], axis=1)\n",
    "df_metric = df_metric.sort_values(by=['group', 'proba', 'correct'], ascending=[True, False, True])\n",
    "print(df_metric)"
   ],
   "metadata": {
    "collapsed": false,
    "pycharm": {
     "name": "#%%\n"
    }
   }
  },
  {
   "cell_type": "code",
   "execution_count": 28,
   "outputs": [],
   "source": [
    "positions = []\n",
    "cur_group = -1\n",
    "cur_pos = 1\n",
    "for row in df_metric.itertuples():\n",
    "    cur_pos += 1\n",
    "    if row.group != cur_group:\n",
    "        cur_pos = 1\n",
    "        cur_group = row.group\n",
    "    if row.correct == 1:\n",
    "        positions.append(cur_pos)"
   ],
   "metadata": {
    "collapsed": false,
    "pycharm": {
     "name": "#%%\n"
    }
   }
  },
  {
   "cell_type": "code",
   "execution_count": 29,
   "outputs": [
    {
     "name": "stdout",
     "output_type": "stream",
     "text": [
      "min = 1\n",
      "max = 8\n",
      "mean = 4.522311468094601\n"
     ]
    }
   ],
   "source": [
    "print(f'min = {np.min(positions)}')\n",
    "print(f'max = {np.max(positions)}')\n",
    "print(f'mean = {np.mean(positions)}')"
   ],
   "metadata": {
    "collapsed": false,
    "pycharm": {
     "name": "#%%\n"
    }
   }
  },
  {
   "cell_type": "code",
   "execution_count": 30,
   "outputs": [
    {
     "data": {
      "text/plain": "<Figure size 432x288 with 1 Axes>",
      "image/png": "[encoded data removed]"
     },
     "metadata": {
      "needs_background": "light"
     },
     "output_type": "display_data"
    }
   ],
   "source": [
    "fpr, tpr, thresholds = metrics.roc_curve(df_metric['correct'].tolist(), df_metric['proba'].tolist())\n",
    "roc_auc = metrics.auc(fpr, tpr)\n",
    "display = metrics.RocCurveDisplay(fpr=fpr, tpr=tpr, roc_auc=roc_auc, estimator_name='example estimator')\n",
    "display.plot()\n",
    "plt.show()"
   ],
   "metadata": {
    "collapsed": false,
    "pycharm": {
     "name": "#%%\n"
    }
   }
  },
  {
   "cell_type": "code",
   "execution_count": 31,
   "outputs": [
    {
     "name": "stdout",
     "output_type": "stream",
     "text": [
      "top0 = 0.0\n",
      "top1 = 0.12479547820913282\n",
      "top2 = 0.24475680499776886\n",
      "top3 = 0.3695522832069017\n",
      "top4 = 0.4951658485795032\n",
      "top5 = 0.6218206157965194\n",
      "top6 = 0.7480291536516436\n",
      "top7 = 0.8735683474639298\n",
      "top8 = 1.0\n"
     ]
    }
   ],
   "source": [
    "count = [0] * 9\n",
    "for p in positions:\n",
    "    count[p] += 1\n",
    "\n",
    "acc = 0\n",
    "sum_all = sum(count)\n",
    "for i, c in enumerate(count):\n",
    "    acc += c\n",
    "    print(f'top{i} = {acc / sum_all}')"
   ],
   "metadata": {
    "collapsed": false,
    "pycharm": {
     "name": "#%%\n"
    }
   }
  },
  {
   "cell_type": "code",
   "execution_count": 32,
   "outputs": [],
   "source": [
    "# y_train_pred = [nameToProbability[name] for name in X_train['name']]\n",
    "# df_proba = pd.DataFrame(data=y_train_pred, columns=['proba'])\n",
    "# df_metric = pd.concat([df_proba, y_train.to_frame(), train[['group']]], axis=1)\n",
    "# df_metric = df_metric.sort_values(by=['group', 'proba', 'correct'], ascending=[True, False, True])\n",
    "# print(df_metric)"
   ],
   "metadata": {
    "collapsed": false,
    "pycharm": {
     "name": "#%%\n"
    }
   }
  },
  {
   "cell_type": "code",
   "execution_count": 33,
   "outputs": [],
   "source": [
    "# positions = []\n",
    "# cur_group = -1\n",
    "# cur_pos = 1\n",
    "# for row in df_metric.itertuples():\n",
    "#     cur_pos += 1\n",
    "#     if row.group != cur_group:\n",
    "#         cur_pos = 1\n",
    "#         cur_group = row.group\n",
    "#     if row.correct == 1:\n",
    "#         positions.append(cur_pos)"
   ],
   "metadata": {
    "collapsed": false,
    "pycharm": {
     "name": "#%%\n"
    }
   }
  },
  {
   "cell_type": "code",
   "execution_count": 34,
   "outputs": [],
   "source": [
    "# print(f'min = {np.min(positions)}')\n",
    "# print(f'max = {np.max(positions)}')\n",
    "# print(f'mean = {np.mean(positions)}')"
   ],
   "metadata": {
    "collapsed": false,
    "pycharm": {
     "name": "#%%\n"
    }
   }
  },
  {
   "cell_type": "code",
   "execution_count": 35,
   "outputs": [],
   "source": [
    "# count = [0] * 9\n",
    "# for p in positions:\n",
    "#     count[p] += 1\n",
    "#\n",
    "# acc = 0\n",
    "# sum_all = sum(count)\n",
    "# for i, c in enumerate(count):\n",
    "#     acc += c\n",
    "#     print(f'top{i} = {acc / sum_all}')"
   ],
   "metadata": {
    "collapsed": false,
    "pycharm": {
     "name": "#%%\n"
    }
   }
  },
  {
   "cell_type": "code",
   "execution_count": 35,
   "outputs": [],
   "source": [],
   "metadata": {
    "collapsed": false,
    "pycharm": {
     "name": "#%%\n"
    }
   }
  }
 ],
 "metadata": {
  "kernelspec": {
   "display_name": "Python 3",
   "language": "python",
   "name": "python3"
  },
  "language_info": {
   "codemirror_mode": {
    "name": "ipython",
    "version": 2
   },
   "file_extension": ".py",
   "mimetype": "text/x-python",
   "name": "python",
   "nbconvert_exporter": "python",
   "pygments_lexer": "ipython2",
   "version": "2.7.6"
  }
 },
 "nbformat": 4,
 "nbformat_minor": 0
}