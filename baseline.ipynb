{
 "cells": [
  {
   "cell_type": "code",
   "execution_count": 1,
   "outputs": [],
   "source": [
    "import copy\n",
    "import json\n",
    "import glob\n",
    "import os\n",
    "import random\n",
    "\n",
    "import matplotlib.pyplot as plt\n",
    "import nltk as nltk\n",
    "import numpy as np\n",
    "from collections import Counter\n",
    "import math\n",
    "import pandas as pd\n",
    "from sklearn.feature_extraction.text import CountVectorizer\n",
    "import re\n",
    "from random import shuffle\n",
    "import random\n",
    "from sklearn.metrics import mean_squared_error\n",
    "from sklearn.metrics import r2_score\n",
    "from sklearn.metrics import median_absolute_error\n",
    "from sklearn import svm\n",
    "from sklearn import metrics\n",
    "\n",
    "from catboost import CatBoostRegressor, Pool\n"
   ],
   "metadata": {
    "collapsed": false,
    "pycharm": {
     "name": "#%%\n"
    }
   }
  },
  {
   "cell_type": "code",
   "execution_count": 2,
   "outputs": [],
   "source": [
    "train = pd.read_csv('train.csv', index_col=0).sample(frac=1)\n",
    "y_train = train['correct']\n",
    "X_train = train[['name']]\n",
    "\n",
    "test = pd.read_csv('test.csv', index_col=0).sample(frac=1)\n",
    "y_test = test['correct']\n",
    "X_test = test[['name']]\n"
   ],
   "metadata": {
    "collapsed": false,
    "pycharm": {
     "name": "#%%\n"
    }
   }
  },
  {
   "cell_type": "code",
   "execution_count": 3,
   "outputs": [
    {
     "data": {
      "text/plain": "25"
     },
     "execution_count": 3,
     "metadata": {},
     "output_type": "execute_result"
    }
   ],
   "source": [
    "with open(os.path.join(os.getcwd(), 'FirstCharToNameList.txt'), 'r') as f:\n",
    "    firstCharToNameList = json.load(f)\n",
    "\n",
    "len(firstCharToNameList)"
   ],
   "metadata": {
    "collapsed": false,
    "pycharm": {
     "name": "#%%\n"
    }
   }
  },
  {
   "cell_type": "code",
   "execution_count": 4,
   "outputs": [],
   "source": [
    "nameToProbability = {}\n",
    "for ch in firstCharToNameList:\n",
    "    names = firstCharToNameList[ch]\n",
    "    N = len(names)\n",
    "    for i, name in enumerate(names):\n",
    "        nameToProbability[name] = (1.0 - i * 1.0 / N) ** 2\n"
   ],
   "metadata": {
    "collapsed": false,
    "pycharm": {
     "name": "#%%\n"
    }
   }
  },
  {
   "cell_type": "code",
   "execution_count": 5,
   "outputs": [],
   "source": [
    "y_test_pred = [nameToProbability[name] for name in X_test['name']]"
   ],
   "metadata": {
    "collapsed": false,
    "pycharm": {
     "name": "#%%\n"
    }
   }
  },
  {
   "cell_type": "code",
   "execution_count": 6,
   "outputs": [
    {
     "data": {
      "text/plain": "72792"
     },
     "execution_count": 6,
     "metadata": {},
     "output_type": "execute_result"
    }
   ],
   "source": [
    "#y_test_pred[:50]\n",
    "len(y_test_pred)"
   ],
   "metadata": {
    "collapsed": false,
    "pycharm": {
     "name": "#%%\n"
    }
   }
  },
  {
   "cell_type": "code",
   "execution_count": 7,
   "outputs": [
    {
     "name": "stdout",
     "output_type": "stream",
     "text": [
      "          proba  correct  group\n",
      "1      1.000000        0     24\n",
      "7      1.000000        0     24\n",
      "4      0.995311        0     24\n",
      "6      0.986928        0     24\n",
      "5      0.589218        0     24\n",
      "...         ...      ...    ...\n",
      "72787  0.993186        0  42897\n",
      "72791  0.943475        0  42897\n",
      "72784  0.939510        1  42897\n",
      "72786  0.825283        0  42897\n",
      "72785  0.358312        0  42897\n",
      "\n",
      "[72792 rows x 3 columns]\n"
     ]
    }
   ],
   "source": [
    "df_proba = pd.DataFrame(data=y_test_pred, columns=['proba'])\n",
    "df_metric = pd.concat([df_proba, y_test.to_frame(), test[['group']]], axis=1)\n",
    "df_metric = df_metric.sort_values(by=['group', 'proba', 'correct'], ascending=[True, False, True])\n",
    "print(df_metric)"
   ],
   "metadata": {
    "collapsed": false,
    "pycharm": {
     "name": "#%%\n"
    }
   }
  },
  {
   "cell_type": "code",
   "execution_count": 8,
   "outputs": [],
   "source": [
    "positions = []\n",
    "cur_group = -1\n",
    "cur_pos = 1\n",
    "for row in df_metric.itertuples():\n",
    "    cur_pos += 1\n",
    "    if row.group != cur_group:\n",
    "        cur_pos = 1\n",
    "        cur_group = row.group\n",
    "    if row.correct == 1:\n",
    "        positions.append(cur_pos)"
   ],
   "metadata": {
    "collapsed": false,
    "pycharm": {
     "name": "#%%\n"
    }
   }
  },
  {
   "cell_type": "code",
   "execution_count": 9,
   "outputs": [
    {
     "name": "stdout",
     "output_type": "stream",
     "text": [
      "min = 1\n",
      "max = 8\n",
      "mean = 4.6321573799318605\n"
     ]
    }
   ],
   "source": [
    "print(f'min = {np.min(positions)}')\n",
    "print(f'max = {np.max(positions)}')\n",
    "print(f'mean = {np.mean(positions)}')"
   ],
   "metadata": {
    "collapsed": false,
    "pycharm": {
     "name": "#%%\n"
    }
   }
  },
  {
   "cell_type": "code",
   "execution_count": 10,
   "outputs": [
    {
     "data": {
      "text/plain": "<Figure size 432x288 with 1 Axes>",
      "image/png": "[encoded data removed]"
     },
     "metadata": {
      "needs_background": "light"
     },
     "output_type": "display_data"
    }
   ],
   "source": [
    "fpr, tpr, thresholds = metrics.roc_curve(df_metric['correct'].tolist(), df_metric['proba'].tolist())\n",
    "roc_auc = metrics.auc(fpr, tpr)\n",
    "display = metrics.RocCurveDisplay(fpr=fpr, tpr=tpr, roc_auc=roc_auc, estimator_name='example estimator')\n",
    "display.plot()\n",
    "plt.show()"
   ],
   "metadata": {
    "collapsed": false,
    "pycharm": {
     "name": "#%%\n"
    }
   }
  },
  {
   "cell_type": "code",
   "execution_count": 11,
   "outputs": [
    {
     "name": "stdout",
     "output_type": "stream",
     "text": [
      "top0 = 0.0\n",
      "top1 = 0.0624244422464007\n",
      "top2 = 0.20057149137267832\n",
      "top3 = 0.35421474887350257\n",
      "top4 = 0.49499945048906474\n",
      "top5 = 0.6236949115287395\n",
      "top6 = 0.7518408616331465\n",
      "top7 = 0.8800967139246071\n",
      "top8 = 1.0\n"
     ]
    }
   ],
   "source": [
    "count = [0] * 9\n",
    "for p in positions:\n",
    "    count[p] += 1\n",
    "\n",
    "acc = 0\n",
    "sum_all = sum(count)\n",
    "for i, c in enumerate(count):\n",
    "    acc += c\n",
    "    print(f'top{i} = {acc / sum_all}')"
   ],
   "metadata": {
    "collapsed": false,
    "pycharm": {
     "name": "#%%\n"
    }
   }
  },
  {
   "cell_type": "code",
   "execution_count": 12,
   "outputs": [
    {
     "name": "stdout",
     "output_type": "stream",
     "text": [
      "           proba  correct  group\n",
      "1       1.000000        0      0\n",
      "4       0.990632        0      0\n",
      "3       0.948229        0      0\n",
      "2       0.916571        0      0\n",
      "5       0.781384        0      0\n",
      "...          ...      ...    ...\n",
      "270933  0.983806        0  42965\n",
      "270934  0.922859        0  42965\n",
      "270932  0.775335        0  42965\n",
      "270928  0.353470        1  42965\n",
      "270930  0.292303        0  42965\n",
      "\n",
      "[270936 rows x 3 columns]\n"
     ]
    }
   ],
   "source": [
    "y_train_pred = [nameToProbability[name] for name in X_train['name']]\n",
    "df_proba = pd.DataFrame(data=y_train_pred, columns=['proba'])\n",
    "df_metric = pd.concat([df_proba, y_train.to_frame(), train[['group']]], axis=1)\n",
    "df_metric = df_metric.sort_values(by=['group', 'proba', 'correct'], ascending=[True, False, True])\n",
    "print(df_metric)"
   ],
   "metadata": {
    "collapsed": false,
    "pycharm": {
     "name": "#%%\n"
    }
   }
  },
  {
   "cell_type": "code",
   "execution_count": 13,
   "outputs": [],
   "source": [
    "positions = []\n",
    "cur_group = -1\n",
    "cur_pos = 1\n",
    "for row in df_metric.itertuples():\n",
    "    cur_pos += 1\n",
    "    if row.group != cur_group:\n",
    "        cur_pos = 1\n",
    "        cur_group = row.group\n",
    "    if row.correct == 1:\n",
    "        positions.append(cur_pos)"
   ],
   "metadata": {
    "collapsed": false,
    "pycharm": {
     "name": "#%%\n"
    }
   }
  },
  {
   "cell_type": "code",
   "execution_count": 14,
   "outputs": [
    {
     "name": "stdout",
     "output_type": "stream",
     "text": [
      "min = 1\n",
      "max = 8\n",
      "mean = 4.639235834292969\n"
     ]
    }
   ],
   "source": [
    "print(f'min = {np.min(positions)}')\n",
    "print(f'max = {np.max(positions)}')\n",
    "print(f'mean = {np.mean(positions)}')"
   ],
   "metadata": {
    "collapsed": false,
    "pycharm": {
     "name": "#%%\n"
    }
   }
  },
  {
   "cell_type": "code",
   "execution_count": 15,
   "outputs": [
    {
     "name": "stdout",
     "output_type": "stream",
     "text": [
      "top0 = 0.0\n",
      "top1 = 0.06572769953051644\n",
      "top2 = 0.2027046977884076\n",
      "top3 = 0.3557740573419553\n",
      "top4 = 0.495467564295627\n",
      "top5 = 0.6226415094339622\n",
      "top6 = 0.746951309534355\n",
      "top7 = 0.8714973277822069\n",
      "top8 = 1.0\n"
     ]
    }
   ],
   "source": [
    "count = [0] * 9\n",
    "for p in positions:\n",
    "    count[p] += 1\n",
    "\n",
    "acc = 0\n",
    "sum_all = sum(count)\n",
    "for i, c in enumerate(count):\n",
    "    acc += c\n",
    "    print(f'top{i} = {acc / sum_all}')"
   ],
   "metadata": {
    "collapsed": false,
    "pycharm": {
     "name": "#%%\n"
    }
   }
  },
  {
   "cell_type": "code",
   "execution_count": 15,
   "outputs": [],
   "source": [],
   "metadata": {
    "collapsed": false,
    "pycharm": {
     "name": "#%%\n"
    }
   }
  }
 ],
 "metadata": {
  "kernelspec": {
   "display_name": "Python 3",
   "language": "python",
   "name": "python3"
  },
  "language_info": {
   "codemirror_mode": {
    "name": "ipython",
    "version": 2
   },
   "file_extension": ".py",
   "mimetype": "text/x-python",
   "name": "python",
   "nbconvert_exporter": "python",
   "pygments_lexer": "ipython2",
   "version": "2.7.6"
  }
 },
 "nbformat": 4,
 "nbformat_minor": 0
}