{
 "cells": [
  {
   "cell_type": "code",
   "execution_count": 8,
   "outputs": [],
   "source": [
    "\n",
    "import json\n",
    "import os\n",
    "import random\n",
    "\n",
    "import pandas as pd\n",
    "\n",
    "from utils import show_rank_metrics\n",
    "\n",
    "random.seed(0)"
   ],
   "metadata": {
    "collapsed": false,
    "pycharm": {
     "name": "#%%\n"
    }
   }
  },
  {
   "cell_type": "code",
   "execution_count": 9,
   "outputs": [],
   "source": [
    "train = pd.read_csv('train.csv', index_col=0).sample(frac=1)\n",
    "y_train = train['correct']\n",
    "X_train = train[['name']]\n",
    "\n",
    "test = pd.read_csv('test.csv', index_col=0).sample(frac=1)\n",
    "y_test = test['correct']\n",
    "X_test = test[['name']]\n",
    "\n",
    "\n",
    "valid = pd.read_csv('valid.csv', index_col=0)\n",
    "y_valid = valid['correct']\n",
    "X_valid = valid[['name']]\n"
   ],
   "metadata": {
    "collapsed": false,
    "pycharm": {
     "name": "#%%\n"
    }
   }
  },
  {
   "cell_type": "code",
   "execution_count": 10,
   "outputs": [
    {
     "data": {
      "text/plain": "25"
     },
     "execution_count": 10,
     "metadata": {},
     "output_type": "execute_result"
    }
   ],
   "source": [
    "with open(os.path.join(os.getcwd(), 'FirstCharToNameList.txt'), 'r') as f:\n",
    "    firstCharToNameList = json.load(f)\n",
    "\n",
    "len(firstCharToNameList)"
   ],
   "metadata": {
    "collapsed": false,
    "pycharm": {
     "name": "#%%\n"
    }
   }
  },
  {
   "cell_type": "code",
   "execution_count": 11,
   "outputs": [],
   "source": [
    "nameToProbability = {}\n",
    "for ch in firstCharToNameList:\n",
    "    names = firstCharToNameList[ch]\n",
    "    N = len(names)\n",
    "    for i, name in enumerate(names):\n",
    "        nameToProbability[name] = (1.0 - i * 1.0 / N)\n",
    "\n",
    "\n",
    "def getProba(name):\n",
    "    if name in nameToProbability:\n",
    "        return nameToProbability[name]\n",
    "    else:\n",
    "        return 0\n"
   ],
   "metadata": {
    "collapsed": false,
    "pycharm": {
     "name": "#%%\n"
    }
   }
  },
  {
   "cell_type": "code",
   "execution_count": 12,
   "outputs": [
    {
     "name": "stdout",
     "output_type": "stream",
     "text": [
      "Popular test\n",
      "(218764, 3)\n",
      "\n",
      "mean = 13.347278345614452\n",
      "\n",
      "top0 = 0.0\n",
      "top1 = 0.24934632754932257\n",
      "top2 = 0.2531495127169004\n",
      "top3 = 0.2590919895412408\n",
      "top4 = 0.2703826955074875\n",
      "top5 = 0.2840503922034704\n",
      "top6 = 0.29985738055621586\n",
      "top7 = 0.31863560732113144\n",
      "top8 = 0.34133586879011174\n",
      "top9 = 0.3637984311861184\n",
      "top10 = 0.39279771808889946\n",
      "top11 = 0.41894461611599715\n",
      "top12 = 0.4462800095079629\n",
      "top13 = 0.47777513667696697\n",
      "top14 = 0.5093891133824578\n",
      "top15 = 0.5394580461136201\n",
      "top16 = 0.5754694556691229\n",
      "top17 = 0.6099358212502971\n",
      "top18 = 0.644639885904445\n",
      "top19 = 0.6794628000950796\n",
      "top20 = 0.7136914666032802\n",
      "top21 = 0.7455431423817447\n",
      "top22 = 0.7770382695507487\n",
      "top23 = 0.8038982647967673\n",
      "top24 = 0.8301640123603518\n",
      "top25 = 0.848585690515807\n",
      "top26 = 1.0\n"
     ]
    }
   ],
   "source": [
    "print(\"Popular test\")\n",
    "show_rank_metrics(\n",
    "    df_group=pd.DataFrame(data=test['group'].tolist(), columns=['group']),\n",
    "    df_proba=pd.DataFrame(data=[getProba(name) for name in X_test['name']], columns=['proba']),\n",
    "    df_true=pd.DataFrame(data=y_test.tolist(), columns=['correct'])\n",
    ")"
   ],
   "metadata": {
    "collapsed": false,
    "pycharm": {
     "name": "#%%\n"
    }
   }
  },
  {
   "cell_type": "code",
   "execution_count": 13,
   "outputs": [
    {
     "name": "stdout",
     "output_type": "stream",
     "text": [
      "Popular valid\n",
      "(113854, 3)\n",
      "\n",
      "mean = 13.08312400091345\n",
      "\n",
      "top0 = 0.0\n",
      "top1 = 0.27289335464717973\n",
      "top2 = 0.275405343685773\n",
      "top3 = 0.2845398492806577\n",
      "top4 = 0.2961863439141357\n",
      "top5 = 0.3080612011874857\n",
      "top6 = 0.3256451244576387\n",
      "top7 = 0.34117378396894266\n",
      "top8 = 0.36172642155743323\n",
      "top9 = 0.37999543274720254\n",
      "top10 = 0.40237497145467\n",
      "top11 = 0.4272664992007308\n",
      "top12 = 0.4507878511075588\n",
      "top13 = 0.47978990637131763\n",
      "top14 = 0.5122174012331583\n",
      "top15 = 0.5432747202557662\n",
      "top16 = 0.5754738524777346\n",
      "top17 = 0.607444622059831\n",
      "top18 = 0.6414706554007764\n",
      "top19 = 0.6773235898606987\n",
      "top20 = 0.7161452386389586\n",
      "top21 = 0.7490294587805435\n",
      "top22 = 0.7814569536423841\n",
      "top23 = 0.8127426353048641\n",
      "top24 = 0.8369490751313086\n",
      "top25 = 0.857501712719799\n",
      "top26 = 1.0\n"
     ]
    }
   ],
   "source": [
    "print(\"Popular valid\")\n",
    "show_rank_metrics(\n",
    "    df_group=pd.DataFrame(data=valid['group'].tolist(), columns=['group']),\n",
    "    df_proba=pd.DataFrame(data=[getProba(name) for name in X_valid['name']], columns=['proba']),\n",
    "    df_true=pd.DataFrame(data=y_valid.tolist(), columns=['correct'])\n",
    ")"
   ],
   "metadata": {
    "collapsed": false,
    "pycharm": {
     "name": "#%%\n"
    }
   }
  },
  {
   "cell_type": "code",
   "execution_count": 14,
   "outputs": [],
   "source": [
    "y_test_pred_random = [random.random() for name in X_test['name']]"
   ],
   "metadata": {
    "collapsed": false,
    "pycharm": {
     "name": "#%%\n"
    }
   }
  },
  {
   "cell_type": "code",
   "execution_count": 15,
   "outputs": [
    {
     "name": "stdout",
     "output_type": "stream",
     "text": [
      "Random\n",
      "(218764, 3)\n",
      "\n",
      "mean = 13.495483717613501\n",
      "\n",
      "top0 = 0.0\n",
      "top1 = 0.040646541478488236\n",
      "top2 = 0.0801045875921084\n",
      "top3 = 0.12170192536249108\n",
      "top4 = 0.15818873306394104\n",
      "top5 = 0.19954837176135012\n",
      "top6 = 0.23639172807226053\n",
      "top7 = 0.2765628714048015\n",
      "top8 = 0.31138578559543617\n",
      "top9 = 0.35001188495364866\n",
      "top10 = 0.386260993582125\n",
      "top11 = 0.4229855003565486\n",
      "top12 = 0.4641074399809841\n",
      "top13 = 0.49762300927026387\n",
      "top14 = 0.533990967435227\n",
      "top15 = 0.5730924649393867\n",
      "top16 = 0.6142144045638221\n",
      "top17 = 0.6505823627287853\n",
      "top18 = 0.6880199667221298\n",
      "top19 = 0.7233182790587117\n",
      "top20 = 0.7650344663655811\n",
      "top21 = 0.8043736629427145\n",
      "top22 = 0.8413358687901117\n",
      "top23 = 0.8798431186118374\n",
      "top24 = 0.9225101022106014\n",
      "top25 = 0.9626812455431424\n",
      "top26 = 1.0\n"
     ]
    }
   ],
   "source": [
    "print(\"Random\")\n",
    "show_rank_metrics(\n",
    "    df_group=pd.DataFrame(data=test['group'].tolist(), columns=['group']),\n",
    "    df_proba=pd.DataFrame(data=y_test_pred_random, columns=['proba']),\n",
    "    df_true=pd.DataFrame(data=y_test.tolist(), columns=['correct'])\n",
    ")"
   ],
   "metadata": {
    "collapsed": false,
    "pycharm": {
     "name": "#%%\n"
    }
   }
  },
  {
   "cell_type": "code",
   "execution_count": 15,
   "outputs": [],
   "source": [],
   "metadata": {
    "collapsed": false,
    "pycharm": {
     "name": "#%%\n"
    }
   }
  }
 ],
 "metadata": {
  "kernelspec": {
   "display_name": "Python 3",
   "language": "python",
   "name": "python3"
  },
  "language_info": {
   "codemirror_mode": {
    "name": "ipython",
    "version": 2
   },
   "file_extension": ".py",
   "mimetype": "text/x-python",
   "name": "python",
   "nbconvert_exporter": "python",
   "pygments_lexer": "ipython2",
   "version": "2.7.6"
  }
 },
 "nbformat": 4,
 "nbformat_minor": 0
}