{
 "cells": [
  {
   "cell_type": "code",
   "execution_count": 1,
   "outputs": [],
   "source": [
    "from catboost import CatBoostClassifier\n",
    "import numpy as np\n",
    "import pandas as pd\n",
    "from sklearn import metrics\n",
    "from sklearn.linear_model import LogisticRegression\n",
    "from sklearn.linear_model import LogisticRegressionCV\n",
    "from utils import show_rank_metrics\n",
    "dataset_folder='./../dataset/saved/'"
   ],
   "metadata": {
    "collapsed": false,
    "pycharm": {
     "name": "#%%\n"
    }
   }
  },
  {
   "cell_type": "code",
   "execution_count": 2,
   "outputs": [],
   "source": [
    "# train = pd.read_csv('train.csv', index_col=0).sample(frac=1)\n",
    "# y_train = train['correct']\n",
    "# X_train = train.drop(columns=['name', 'firstChar', 'group', 'correct'])\n",
    "#\n",
    "# test = pd.read_csv('test.csv', index_col=0)\n",
    "# y_test = test['correct']\n",
    "# X_test = test.drop(columns=['name', 'firstChar', 'group', 'correct'])\n",
    "# train = pd.read_csv('train_cat.csv', index_col=0).sample(frac=1)\n",
    "# test = pd.read_csv('test_cat.csv', index_col=0)\n",
    "# train.fillna('', inplace=True)\n",
    "# test.fillna('', inplace=True)\n",
    "#\n",
    "#\n",
    "# y_train = train['correct']\n",
    "# X_train = train.drop(columns=['firstChar', 'group', 'correct'])\n",
    "#\n",
    "# y_test = test['correct']\n",
    "# X_test = test.drop(columns=['firstChar', 'group', 'correct'])\n",
    "\n",
    "# df_valid_cat.fillna('', inplace=True)"
   ],
   "metadata": {
    "collapsed": false,
    "pycharm": {
     "name": "#%%\n"
    }
   }
  },
  {
   "cell_type": "code",
   "execution_count": 3,
   "outputs": [],
   "source": [
    "train = pd.read_pickle(dataset_folder+'train_ohe401')\n",
    "y_train = train['correct']\n",
    "X_train = train.drop(columns=['name', 'firstChar', 'group', 'correct'])\n",
    "\n",
    "test = pd.read_pickle(dataset_folder+'test_ohe401')\n",
    "y_test = test['correct']\n",
    "X_test = test.drop(columns=['name', 'firstChar', 'group', 'correct'])\n",
    "\n",
    "valid = pd.read_pickle(dataset_folder+'valid_ohe401')\n",
    "y_valid = valid['correct']\n",
    "X_valid = valid.drop(columns=['name', 'firstChar', 'group', 'correct'])"
   ],
   "metadata": {
    "collapsed": false,
    "pycharm": {
     "name": "#%%\n"
    }
   }
  },
  {
   "cell_type": "code",
   "execution_count": 4,
   "outputs": [
    {
     "data": {
      "text/plain": "<catboost.core.CatBoostClassifier at 0x7f8188f58550>"
     },
     "execution_count": 4,
     "metadata": {},
     "output_type": "execute_result"
    }
   ],
   "source": [
    "# Initialize CatBoostClassifier\n",
    "model = CatBoostClassifier(verbose=False, random_seed=0, task_type=\"CPU\")\n",
    "model.fit(X_train, y_train)"
   ],
   "metadata": {
    "collapsed": false,
    "pycharm": {
     "name": "#%%\n"
    }
   }
  },
  {
   "cell_type": "code",
   "execution_count": 5,
   "outputs": [],
   "source": [
    "#model.predict_proba(X_test)"
   ],
   "metadata": {
    "collapsed": false,
    "pycharm": {
     "name": "#%%\n"
    }
   }
  },
  {
   "cell_type": "code",
   "execution_count": 6,
   "outputs": [
    {
     "name": "stdout",
     "output_type": "stream",
     "text": [
      "\n",
      "------train-------\n",
      "(1023403, 3)\n",
      "\n",
      "mean = 4.556992699845515\n",
      "\n",
      "top0 = 0.0\n",
      "top1 = 0.5146457456153637\n",
      "top2 = 0.6085178566019447\n",
      "top3 = 0.6633144518825917\n",
      "top4 = 0.700966286008542\n",
      "top5 = 0.7295913730954472\n",
      "top6 = 0.7565201587253506\n",
      "top7 = 0.7800866325386969\n",
      "top8 = 0.8036531063520431\n",
      "top9 = 0.8255838609032805\n",
      "top10 = 0.8466058825311241\n",
      "top11 = 0.8657195650198407\n",
      "top12 = 0.8841668433647351\n",
      "top13 = 0.901129857934753\n",
      "top14 = 0.914942598370339\n",
      "top15 = 0.9279980613697634\n",
      "top16 = 0.9399630448611154\n",
      "stop 16\n",
      "\n",
      "\n",
      "------test-------\n",
      "(287060, 3)\n",
      "\n",
      "mean = 5.661879049676026\n",
      "\n",
      "top0 = 0.0\n",
      "top1 = 0.4295896328293736\n",
      "top2 = 0.5260259179265658\n",
      "top3 = 0.5807775377969763\n",
      "top4 = 0.6232181425485961\n",
      "top5 = 0.6572354211663067\n",
      "top6 = 0.6901727861771059\n",
      "top7 = 0.7158747300215983\n",
      "top8 = 0.7431965442764579\n",
      "top9 = 0.7668466522678186\n",
      "top10 = 0.791792656587473\n",
      "top11 = 0.815658747300216\n",
      "top12 = 0.8383369330453564\n",
      "top13 = 0.858207343412527\n",
      "top14 = 0.8768898488120951\n",
      "top15 = 0.8942764578833693\n",
      "top16 = 0.9091792656587473\n",
      "stop 16\n",
      "\n",
      "\n",
      "------valid-------\n",
      "(134354, 3)\n",
      "\n",
      "mean = 168.4257425742574\n",
      "\n",
      "top0 = 0.0\n",
      "top1 = 0.0\n",
      "top2 = 0.0891089108910891\n",
      "top3 = 0.16831683168316833\n",
      "top4 = 0.2079207920792079\n",
      "top5 = 0.24257425742574257\n",
      "top6 = 0.2524752475247525\n",
      "top7 = 0.2623762376237624\n",
      "top8 = 0.2722772277227723\n",
      "top9 = 0.30198019801980197\n",
      "top10 = 0.31683168316831684\n",
      "top11 = 0.31683168316831684\n",
      "top12 = 0.32673267326732675\n",
      "top13 = 0.33663366336633666\n",
      "top14 = 0.3564356435643564\n",
      "top15 = 0.36633663366336633\n",
      "top16 = 0.3712871287128713\n",
      "stop 16\n",
      "\n"
     ]
    }
   ],
   "source": [
    "show_rank_metrics(\n",
    "    df_group=pd.DataFrame(data=train['group'].tolist(), columns=['group']),\n",
    "    df_proba=pd.DataFrame(data=model.predict_proba(X_train)[:,1].tolist(), columns=['proba']),\n",
    "    df_true=pd.DataFrame(data=y_train.tolist(), columns=['correct']),\n",
    "    label='train'\n",
    ")\n",
    "show_rank_metrics(\n",
    "    df_group=pd.DataFrame(data=test['group'].tolist(), columns=['group']),\n",
    "    df_proba=pd.DataFrame(data=model.predict_proba(X_test)[:,1].tolist(), columns=['proba']),\n",
    "    df_true=pd.DataFrame(data=y_test.tolist(), columns=['correct']),\n",
    "    label='test'\n",
    ")\n",
    "show_rank_metrics(\n",
    "    df_group=pd.DataFrame(data=valid['group'].tolist(), columns=['group']),\n",
    "    df_proba=pd.DataFrame(data=model.predict_proba(X_valid)[:,1].tolist(), columns=['proba']),\n",
    "    df_true=pd.DataFrame(data=y_valid.tolist(), columns=['correct']),\n",
    "    label='valid'\n",
    ")"
   ],
   "metadata": {
    "collapsed": false,
    "pycharm": {
     "name": "#%%\n"
    }
   }
  },
  {
   "cell_type": "code",
   "execution_count": 7,
   "outputs": [
    {
     "data": {
      "text/plain": "                         Feature Id  Importances\n0          referenceType_REFERENCE_     7.714207\n1                        name_Event     7.046726\n2                         name_Keys     6.682006\n3                referenceType_TYPE     6.586066\n4                         name_Util     5.344239\n..                              ...          ...\n393   insideStatement1_ternary_else     0.000000\n394   insideStatement1_ternary_then     0.000000\n395     insideStatement1_while_body     0.000000\n396         insideStatement2_return     0.000000\n397  insideStatement2_switch_branch     0.000000\n\n[398 rows x 2 columns]",
      "text/html": "<div>\n<style scoped>\n    .dataframe tbody tr th:only-of-type {\n        vertical-align: middle;\n    }\n\n    .dataframe tbody tr th {\n        vertical-align: top;\n    }\n\n    .dataframe thead th {\n        text-align: right;\n    }\n</style>\n<table border=\"1\" class=\"dataframe\">\n  <thead>\n    <tr style=\"text-align: right;\">\n      <th></th>\n      <th>Feature Id</th>\n      <th>Importances</th>\n    </tr>\n  </thead>\n  <tbody>\n    <tr>\n      <th>0</th>\n      <td>referenceType_REFERENCE_</td>\n      <td>7.714207</td>\n    </tr>\n    <tr>\n      <th>1</th>\n      <td>name_Event</td>\n      <td>7.046726</td>\n    </tr>\n    <tr>\n      <th>2</th>\n      <td>name_Keys</td>\n      <td>6.682006</td>\n    </tr>\n    <tr>\n      <th>3</th>\n      <td>referenceType_TYPE</td>\n      <td>6.586066</td>\n    </tr>\n    <tr>\n      <th>4</th>\n      <td>name_Util</td>\n      <td>5.344239</td>\n    </tr>\n    <tr>\n      <th>...</th>\n      <td>...</td>\n      <td>...</td>\n    </tr>\n    <tr>\n      <th>393</th>\n      <td>insideStatement1_ternary_else</td>\n      <td>0.000000</td>\n    </tr>\n    <tr>\n      <th>394</th>\n      <td>insideStatement1_ternary_then</td>\n      <td>0.000000</td>\n    </tr>\n    <tr>\n      <th>395</th>\n      <td>insideStatement1_while_body</td>\n      <td>0.000000</td>\n    </tr>\n    <tr>\n      <th>396</th>\n      <td>insideStatement2_return</td>\n      <td>0.000000</td>\n    </tr>\n    <tr>\n      <th>397</th>\n      <td>insideStatement2_switch_branch</td>\n      <td>0.000000</td>\n    </tr>\n  </tbody>\n</table>\n<p>398 rows × 2 columns</p>\n</div>"
     },
     "execution_count": 7,
     "metadata": {},
     "output_type": "execute_result"
    }
   ],
   "source": [
    "model.get_feature_importance(prettified=True)"
   ],
   "metadata": {
    "collapsed": false,
    "pycharm": {
     "name": "#%%\n"
    }
   }
  },
  {
   "cell_type": "code",
   "execution_count": 8,
   "outputs": [],
   "source": [
    "model.save_model(\"saved/model_catboost\")"
   ],
   "metadata": {
    "collapsed": false,
    "pycharm": {
     "name": "#%%\n"
    }
   }
  },
  {
   "cell_type": "code",
   "execution_count": 8,
   "outputs": [],
   "source": [],
   "metadata": {
    "collapsed": false,
    "pycharm": {
     "name": "#%%\n"
    }
   }
  }
 ],
 "metadata": {
  "kernelspec": {
   "display_name": "Python 3",
   "language": "python",
   "name": "python3"
  },
  "language_info": {
   "codemirror_mode": {
    "name": "ipython",
    "version": 2
   },
   "file_extension": ".py",
   "mimetype": "text/x-python",
   "name": "python",
   "nbconvert_exporter": "python",
   "pygments_lexer": "ipython2",
   "version": "2.7.6"
  }
 },
 "nbformat": 4,
 "nbformat_minor": 0
}