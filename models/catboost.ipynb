{
 "cells": [
  {
   "cell_type": "code",
   "execution_count": 1,
   "outputs": [],
   "source": [
    "from catboost import CatBoostClassifier\n",
    "import numpy as np\n",
    "import pandas as pd\n",
    "from sklearn import metrics\n",
    "from sklearn.linear_model import LogisticRegression\n",
    "from sklearn.linear_model import LogisticRegressionCV\n",
    "from utils import show_rank_metrics\n",
    "dataset_folder='./../dataset/saved/'"
   ],
   "metadata": {
    "collapsed": false,
    "pycharm": {
     "name": "#%%\n"
    }
   }
  },
  {
   "cell_type": "code",
   "execution_count": 2,
   "outputs": [],
   "source": [
    "# train = pd.read_csv('train.csv', index_col=0).sample(frac=1)\n",
    "# y_train = train['correct']\n",
    "# X_train = train.drop(columns=['name', 'firstChar', 'group', 'correct'])\n",
    "#\n",
    "# test = pd.read_csv('test.csv', index_col=0)\n",
    "# y_test = test['correct']\n",
    "# X_test = test.drop(columns=['name', 'firstChar', 'group', 'correct'])\n",
    "# train = pd.read_csv('train_cat.csv', index_col=0).sample(frac=1)\n",
    "# test = pd.read_csv('test_cat.csv', index_col=0)\n",
    "# train.fillna('', inplace=True)\n",
    "# test.fillna('', inplace=True)\n",
    "#\n",
    "#\n",
    "# y_train = train['correct']\n",
    "# X_train = train.drop(columns=['firstChar', 'group', 'correct'])\n",
    "#\n",
    "# y_test = test['correct']\n",
    "# X_test = test.drop(columns=['firstChar', 'group', 'correct'])\n",
    "\n",
    "# df_valid_cat.fillna('', inplace=True)"
   ],
   "metadata": {
    "collapsed": false,
    "pycharm": {
     "name": "#%%\n"
    }
   }
  },
  {
   "cell_type": "code",
   "execution_count": 3,
   "outputs": [],
   "source": [
    "train = pd.read_pickle(dataset_folder+'train_2_ohe401')\n",
    "y_train = train['correct']\n",
    "X_train = train.drop(columns=['name', 'firstChar', 'group', 'correct'])\n",
    "\n",
    "test = pd.read_pickle(dataset_folder+'test_2_ohe401')\n",
    "y_test = test['correct']\n",
    "X_test = test.drop(columns=['name', 'firstChar', 'group', 'correct'])\n",
    "\n",
    "valid = pd.read_pickle(dataset_folder+'valid_2_ohe401')\n",
    "y_valid = valid['correct']\n",
    "X_valid = valid.drop(columns=['name', 'firstChar', 'group', 'correct'])"
   ],
   "metadata": {
    "collapsed": false,
    "pycharm": {
     "name": "#%%\n"
    }
   }
  },
  {
   "cell_type": "code",
   "execution_count": 4,
   "outputs": [
    {
     "data": {
      "text/plain": "<catboost.core.CatBoostClassifier at 0x7fee6cadc550>"
     },
     "execution_count": 4,
     "metadata": {},
     "output_type": "execute_result"
    }
   ],
   "source": [
    "# Initialize CatBoostClassifier\n",
    "model = CatBoostClassifier(verbose=False, random_seed=0, task_type=\"CPU\")\n",
    "model.fit(X_train, y_train)"
   ],
   "metadata": {
    "collapsed": false,
    "pycharm": {
     "name": "#%%\n"
    }
   }
  },
  {
   "cell_type": "code",
   "execution_count": 5,
   "outputs": [],
   "source": [
    "#model.predict_proba(X_test)"
   ],
   "metadata": {
    "collapsed": false,
    "pycharm": {
     "name": "#%%\n"
    }
   }
  },
  {
   "cell_type": "code",
   "execution_count": 6,
   "outputs": [
    {
     "name": "stdout",
     "output_type": "stream",
     "text": [
      "\n",
      "------train-------\n",
      "(332180, 3)\n",
      "\n",
      "mean = 2.041664157986634\n",
      "\n",
      "top0 = 0.0\n",
      "top1 = 0.6412186164127882\n",
      "top2 = 0.7582635920284183\n",
      "top3 = 0.8299717020892288\n",
      "top4 = 0.8839785658377988\n",
      "top5 = 0.9244385574086339\n",
      "top6 = 0.9555060509362394\n",
      "top7 = 0.9776928171473298\n",
      "top8 = 0.9905171894755855\n",
      "top9 = 0.9967487506773436\n",
      "top10 = 1.0\n",
      "\n",
      "\n",
      "------test-------\n",
      "(193326, 3)\n",
      "\n",
      "mean = 3.9795785357375624\n",
      "\n",
      "top0 = 0.0\n",
      "top1 = 0.4825114056050402\n",
      "top2 = 0.5855963502063871\n",
      "top3 = 0.649141864001738\n",
      "top4 = 0.6945470345426895\n",
      "top5 = 0.7357158374972844\n",
      "top6 = 0.7716706495763632\n",
      "top7 = 0.8053443406474039\n",
      "top8 = 0.8402129046274169\n",
      "top9 = 0.8687812296328481\n",
      "top10 = 0.894308059960895\n",
      "top11 = 0.9152726482728655\n",
      "top12 = 0.9324353682381056\n",
      "top13 = 0.9475342168151206\n",
      "top14 = 0.9633934390614817\n",
      "top15 = 0.9752335433412992\n",
      "top16 = 0.9830545296545731\n",
      "stop 16\n",
      "\n",
      "\n",
      "------valid-------\n",
      "(134146, 3)\n",
      "\n",
      "mean = 171.5148514851485\n",
      "\n",
      "top0 = 0.0\n",
      "top1 = 0.08415841584158416\n",
      "top2 = 0.15841584158415842\n",
      "top3 = 0.23267326732673269\n",
      "top4 = 0.2524752475247525\n",
      "top5 = 0.2623762376237624\n",
      "top6 = 0.26732673267326734\n",
      "top7 = 0.27722772277227725\n",
      "top8 = 0.29207920792079206\n",
      "top9 = 0.29207920792079206\n",
      "top10 = 0.297029702970297\n",
      "top11 = 0.3069306930693069\n",
      "top12 = 0.3069306930693069\n",
      "top13 = 0.3069306930693069\n",
      "top14 = 0.3069306930693069\n",
      "top15 = 0.32673267326732675\n",
      "top16 = 0.33663366336633666\n",
      "stop 16\n",
      "\n"
     ]
    }
   ],
   "source": [
    "show_rank_metrics(\n",
    "    df_group=pd.DataFrame(data=train['group'].tolist(), columns=['group']),\n",
    "    df_proba=pd.DataFrame(data=model.predict_proba(X_train)[:,1].tolist(), columns=['proba']),\n",
    "    df_true=pd.DataFrame(data=y_train.tolist(), columns=['correct']),\n",
    "    label='train'\n",
    ")\n",
    "show_rank_metrics(\n",
    "    df_group=pd.DataFrame(data=test['group'].tolist(), columns=['group']),\n",
    "    df_proba=pd.DataFrame(data=model.predict_proba(X_test)[:,1].tolist(), columns=['proba']),\n",
    "    df_true=pd.DataFrame(data=y_test.tolist(), columns=['correct']),\n",
    "    label='test'\n",
    ")\n",
    "show_rank_metrics(\n",
    "    df_group=pd.DataFrame(data=valid['group'].tolist(), columns=['group']),\n",
    "    df_proba=pd.DataFrame(data=model.predict_proba(X_valid)[:,1].tolist(), columns=['proba']),\n",
    "    df_true=pd.DataFrame(data=y_valid.tolist(), columns=['correct']),\n",
    "    label='valid'\n",
    ")"
   ],
   "metadata": {
    "collapsed": false,
    "pycharm": {
     "name": "#%%\n"
    }
   }
  },
  {
   "cell_type": "code",
   "execution_count": 7,
   "outputs": [
    {
     "data": {
      "text/plain": "                        Feature Id  Importances\n0                       name_Event     9.914086\n1           referenceType_EXTENDS_     7.172150\n2                        name_Keys     6.790053\n3         referenceType_REFERENCE_     6.368721\n4               referenceType_TYPE     5.923861\n..                             ...          ...\n730      insideStatement2_for_body     0.000000\n731        insideStatement2_return     0.000000\n732  insideStatement2_ternary_else     0.000000\n733           insideStatement2_try     0.000000\n734    insideStatement2_while_body     0.000000\n\n[735 rows x 2 columns]",
      "text/html": "<div>\n<style scoped>\n    .dataframe tbody tr th:only-of-type {\n        vertical-align: middle;\n    }\n\n    .dataframe tbody tr th {\n        vertical-align: top;\n    }\n\n    .dataframe thead th {\n        text-align: right;\n    }\n</style>\n<table border=\"1\" class=\"dataframe\">\n  <thead>\n    <tr style=\"text-align: right;\">\n      <th></th>\n      <th>Feature Id</th>\n      <th>Importances</th>\n    </tr>\n  </thead>\n  <tbody>\n    <tr>\n      <th>0</th>\n      <td>name_Event</td>\n      <td>9.914086</td>\n    </tr>\n    <tr>\n      <th>1</th>\n      <td>referenceType_EXTENDS_</td>\n      <td>7.172150</td>\n    </tr>\n    <tr>\n      <th>2</th>\n      <td>name_Keys</td>\n      <td>6.790053</td>\n    </tr>\n    <tr>\n      <th>3</th>\n      <td>referenceType_REFERENCE_</td>\n      <td>6.368721</td>\n    </tr>\n    <tr>\n      <th>4</th>\n      <td>referenceType_TYPE</td>\n      <td>5.923861</td>\n    </tr>\n    <tr>\n      <th>...</th>\n      <td>...</td>\n      <td>...</td>\n    </tr>\n    <tr>\n      <th>730</th>\n      <td>insideStatement2_for_body</td>\n      <td>0.000000</td>\n    </tr>\n    <tr>\n      <th>731</th>\n      <td>insideStatement2_return</td>\n      <td>0.000000</td>\n    </tr>\n    <tr>\n      <th>732</th>\n      <td>insideStatement2_ternary_else</td>\n      <td>0.000000</td>\n    </tr>\n    <tr>\n      <th>733</th>\n      <td>insideStatement2_try</td>\n      <td>0.000000</td>\n    </tr>\n    <tr>\n      <th>734</th>\n      <td>insideStatement2_while_body</td>\n      <td>0.000000</td>\n    </tr>\n  </tbody>\n</table>\n<p>735 rows × 2 columns</p>\n</div>"
     },
     "execution_count": 7,
     "metadata": {},
     "output_type": "execute_result"
    }
   ],
   "source": [
    "model.get_feature_importance(prettified=True)"
   ],
   "metadata": {
    "collapsed": false,
    "pycharm": {
     "name": "#%%\n"
    }
   }
  },
  {
   "cell_type": "code",
   "execution_count": 8,
   "outputs": [],
   "source": [
    "model.save_model(\"saved/model_catboost\")"
   ],
   "metadata": {
    "collapsed": false,
    "pycharm": {
     "name": "#%%\n"
    }
   }
  },
  {
   "cell_type": "code",
   "execution_count": 8,
   "outputs": [],
   "source": [],
   "metadata": {
    "collapsed": false,
    "pycharm": {
     "name": "#%%\n"
    }
   }
  }
 ],
 "metadata": {
  "kernelspec": {
   "display_name": "Python 3",
   "language": "python",
   "name": "python3"
  },
  "language_info": {
   "codemirror_mode": {
    "name": "ipython",
    "version": 2
   },
   "file_extension": ".py",
   "mimetype": "text/x-python",
   "name": "python",
   "nbconvert_exporter": "python",
   "pygments_lexer": "ipython2",
   "version": "2.7.6"
  }
 },
 "nbformat": 4,
 "nbformat_minor": 0
}