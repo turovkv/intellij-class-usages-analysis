{
 "cells": [
  {
   "cell_type": "code",
   "execution_count": 1,
   "outputs": [],
   "source": [
    "from catboost import CatBoostClassifier\n",
    "import numpy as np\n",
    "import pandas as pd\n",
    "from sklearn import metrics\n",
    "from sklearn.linear_model import LogisticRegression\n",
    "from sklearn.linear_model import LogisticRegressionCV\n",
    "from utils import show_rank_metrics\n",
    "dataset_folder='./../dataset/saved/'"
   ],
   "metadata": {
    "collapsed": false,
    "pycharm": {
     "name": "#%%\n"
    }
   }
  },
  {
   "cell_type": "code",
   "execution_count": 2,
   "outputs": [],
   "source": [
    "# train = pd.read_csv('train.csv', index_col=0).sample(frac=1)\n",
    "# y_train = train['correct']\n",
    "# X_train = train.drop(columns=['name', 'firstChar', 'group', 'correct'])\n",
    "#\n",
    "# test = pd.read_csv('test.csv', index_col=0)\n",
    "# y_test = test['correct']\n",
    "# X_test = test.drop(columns=['name', 'firstChar', 'group', 'correct'])\n",
    "# train = pd.read_csv('train_cat.csv', index_col=0).sample(frac=1)\n",
    "# test = pd.read_csv('test_cat.csv', index_col=0)\n",
    "# train.fillna('', inplace=True)\n",
    "# test.fillna('', inplace=True)\n",
    "#\n",
    "#\n",
    "# y_train = train['correct']\n",
    "# X_train = train.drop(columns=['firstChar', 'group', 'correct'])\n",
    "#\n",
    "# y_test = test['correct']\n",
    "# X_test = test.drop(columns=['firstChar', 'group', 'correct'])\n",
    "\n",
    "# df_valid_cat.fillna('', inplace=True)"
   ],
   "metadata": {
    "collapsed": false,
    "pycharm": {
     "name": "#%%\n"
    }
   }
  },
  {
   "cell_type": "code",
   "execution_count": 3,
   "outputs": [],
   "source": [
    "train = pd.read_pickle(dataset_folder+'train_2_ohe401')\n",
    "y_train = train['correct']\n",
    "X_train = train.drop(columns=['name', 'firstChar', 'group', 'correct'])\n",
    "\n",
    "test = pd.read_pickle(dataset_folder+'test_2_ohe401')\n",
    "y_test = test['correct']\n",
    "X_test = test.drop(columns=['name', 'firstChar', 'group', 'correct'])\n",
    "\n",
    "valid = pd.read_pickle(dataset_folder+'valid_2_ohe401')\n",
    "y_valid = valid['correct']\n",
    "X_valid = valid.drop(columns=['name', 'firstChar', 'group', 'correct'])"
   ],
   "metadata": {
    "collapsed": false,
    "pycharm": {
     "name": "#%%\n"
    }
   }
  },
  {
   "cell_type": "code",
   "execution_count": 4,
   "outputs": [
    {
     "data": {
      "text/plain": "<catboost.core.CatBoostClassifier at 0x7fa39f3523d0>"
     },
     "execution_count": 4,
     "metadata": {},
     "output_type": "execute_result"
    }
   ],
   "source": [
    "# Initialize CatBoostClassifier\n",
    "model = CatBoostClassifier(verbose=False, random_seed=0, task_type=\"CPU\")\n",
    "model.fit(X_train, y_train)"
   ],
   "metadata": {
    "collapsed": false,
    "pycharm": {
     "name": "#%%\n"
    }
   }
  },
  {
   "cell_type": "code",
   "execution_count": 5,
   "outputs": [],
   "source": [
    "#model.predict_proba(X_test)"
   ],
   "metadata": {
    "collapsed": false,
    "pycharm": {
     "name": "#%%\n"
    }
   }
  },
  {
   "cell_type": "code",
   "execution_count": 6,
   "outputs": [
    {
     "name": "stdout",
     "output_type": "stream",
     "text": [
      "\n",
      "------train-------\n",
      "(327760, 3)\n",
      "\n",
      "mean = 1.3901025140346595  median=1.0, zerosCountMean=0.0, groupSizeMean=10.999725408835733\n",
      "\n",
      "top0 = 0.0\n",
      "top1 = 0.8246887966804979\n",
      "top2 = 0.9065169636319258\n",
      "top3 = 0.9452953380522333\n",
      "top4 = 0.9679338540395411\n",
      "top5 = 0.9813888210886014\n",
      "top6 = 0.9904503295093972\n",
      "top7 = 0.9957896021479131\n",
      "top8 = 0.9983829631437637\n",
      "top9 = 0.9994508176714669\n",
      "top10 = 1.0\n",
      "\n",
      "\n",
      "------test-------\n",
      "(197715, 3)\n",
      "\n",
      "mean = 2.483590015932023  median=1.0, zerosCountMean=0.0, groupSizeMean=21.99787573021774\n",
      "\n",
      "top0 = 0.0\n",
      "top1 = 0.6597981943706851\n",
      "top2 = 0.7599575146043548\n",
      "top3 = 0.8133828996282528\n",
      "top4 = 0.8525756771109931\n",
      "top5 = 0.8811471056824217\n",
      "top6 = 0.9030270844397238\n",
      "top7 = 0.9211895910780669\n",
      "top8 = 0.9362719065321295\n",
      "top9 = 0.9499734466277218\n",
      "top10 = 0.9590015932023367\n",
      "top11 = 0.9669676048858205\n",
      "top12 = 0.9737652681890601\n",
      "top13 = 0.9796070100902815\n",
      "top14 = 0.9851301115241635\n",
      "top15 = 0.9899097185342538\n",
      "top16 = 0.9936271906532129\n",
      "stop 16\n",
      "\n",
      "\n",
      "------valid-------\n",
      "(134354, 3)\n",
      "\n",
      "mean = 69.93564356435644  median=16.0, zerosCountMean=0.0, groupSizeMean=663.1089108910891\n",
      "\n",
      "top0 = 0.0\n",
      "top1 = 0.18316831683168316\n",
      "top2 = 0.2524752475247525\n",
      "top3 = 0.27722772277227725\n",
      "top4 = 0.3316831683168317\n",
      "top5 = 0.36633663366336633\n",
      "top6 = 0.3910891089108911\n",
      "top7 = 0.39603960396039606\n",
      "top8 = 0.4158415841584158\n",
      "top9 = 0.42574257425742573\n",
      "top10 = 0.43564356435643564\n",
      "top11 = 0.47029702970297027\n",
      "top12 = 0.4752475247524752\n",
      "top13 = 0.48514851485148514\n",
      "top14 = 0.4900990099009901\n",
      "top15 = 0.49504950495049505\n",
      "top16 = 0.5099009900990099\n",
      "stop 16\n",
      "\n"
     ]
    }
   ],
   "source": [
    "show_rank_metrics(\n",
    "    df_group=pd.DataFrame(data=train['group'].tolist(), columns=['group']),\n",
    "    df_proba=pd.DataFrame(data=model.predict_proba(X_train)[:,1].tolist(), columns=['proba']),\n",
    "    df_true=pd.DataFrame(data=y_train.tolist(), columns=['correct']),\n",
    "    label='train'\n",
    ")\n",
    "show_rank_metrics(\n",
    "    df_group=pd.DataFrame(data=test['group'].tolist(), columns=['group']),\n",
    "    df_proba=pd.DataFrame(data=model.predict_proba(X_test)[:,1].tolist(), columns=['proba']),\n",
    "    df_true=pd.DataFrame(data=y_test.tolist(), columns=['correct']),\n",
    "    label='test'\n",
    ")\n",
    "show_rank_metrics(\n",
    "    df_group=pd.DataFrame(data=valid['group'].tolist(), columns=['group']),\n",
    "    df_proba=pd.DataFrame(data=model.predict_proba(X_valid)[:,1].tolist(), columns=['proba']),\n",
    "    df_true=pd.DataFrame(data=y_valid.tolist(), columns=['correct']),\n",
    "    label='valid'\n",
    ")"
   ],
   "metadata": {
    "collapsed": false,
    "pycharm": {
     "name": "#%%\n"
    }
   }
  },
  {
   "cell_type": "code",
   "execution_count": 7,
   "outputs": [
    {
     "data": {
      "text/plain": "                         Feature Id  Importances\n0                        name_Event     6.707963\n1            referenceType_EXTENDS_     5.458667\n2          referenceType_REFERENCE_     4.866478\n3                referenceType_TYPE     3.925029\n4                      name_android     3.390580\n..                              ...          ...\n733   insideStatement2_if_else_body     0.000000\n734   insideStatement2_if_then_body     0.000000\n735  insideStatement2_switch_branch     0.000000\n736            insideStatement2_try     0.000000\n737     insideStatement2_while_body     0.000000\n\n[738 rows x 2 columns]",
      "text/html": "<div>\n<style scoped>\n    .dataframe tbody tr th:only-of-type {\n        vertical-align: middle;\n    }\n\n    .dataframe tbody tr th {\n        vertical-align: top;\n    }\n\n    .dataframe thead th {\n        text-align: right;\n    }\n</style>\n<table border=\"1\" class=\"dataframe\">\n  <thead>\n    <tr style=\"text-align: right;\">\n      <th></th>\n      <th>Feature Id</th>\n      <th>Importances</th>\n    </tr>\n  </thead>\n  <tbody>\n    <tr>\n      <th>0</th>\n      <td>name_Event</td>\n      <td>6.707963</td>\n    </tr>\n    <tr>\n      <th>1</th>\n      <td>referenceType_EXTENDS_</td>\n      <td>5.458667</td>\n    </tr>\n    <tr>\n      <th>2</th>\n      <td>referenceType_REFERENCE_</td>\n      <td>4.866478</td>\n    </tr>\n    <tr>\n      <th>3</th>\n      <td>referenceType_TYPE</td>\n      <td>3.925029</td>\n    </tr>\n    <tr>\n      <th>4</th>\n      <td>name_android</td>\n      <td>3.390580</td>\n    </tr>\n    <tr>\n      <th>...</th>\n      <td>...</td>\n      <td>...</td>\n    </tr>\n    <tr>\n      <th>733</th>\n      <td>insideStatement2_if_else_body</td>\n      <td>0.000000</td>\n    </tr>\n    <tr>\n      <th>734</th>\n      <td>insideStatement2_if_then_body</td>\n      <td>0.000000</td>\n    </tr>\n    <tr>\n      <th>735</th>\n      <td>insideStatement2_switch_branch</td>\n      <td>0.000000</td>\n    </tr>\n    <tr>\n      <th>736</th>\n      <td>insideStatement2_try</td>\n      <td>0.000000</td>\n    </tr>\n    <tr>\n      <th>737</th>\n      <td>insideStatement2_while_body</td>\n      <td>0.000000</td>\n    </tr>\n  </tbody>\n</table>\n<p>738 rows × 2 columns</p>\n</div>"
     },
     "execution_count": 7,
     "metadata": {},
     "output_type": "execute_result"
    }
   ],
   "source": [
    "model.get_feature_importance(prettified=True)"
   ],
   "metadata": {
    "collapsed": false,
    "pycharm": {
     "name": "#%%\n"
    }
   }
  },
  {
   "cell_type": "code",
   "execution_count": 8,
   "outputs": [],
   "source": [
    "model.save_model(\"saved/model_catboost\")"
   ],
   "metadata": {
    "collapsed": false,
    "pycharm": {
     "name": "#%%\n"
    }
   }
  },
  {
   "cell_type": "code",
   "execution_count": 8,
   "outputs": [],
   "source": [],
   "metadata": {
    "collapsed": false,
    "pycharm": {
     "name": "#%%\n"
    }
   }
  }
 ],
 "metadata": {
  "kernelspec": {
   "display_name": "Python 3",
   "language": "python",
   "name": "python3"
  },
  "language_info": {
   "codemirror_mode": {
    "name": "ipython",
    "version": 2
   },
   "file_extension": ".py",
   "mimetype": "text/x-python",
   "name": "python",
   "nbconvert_exporter": "python",
   "pygments_lexer": "ipython2",
   "version": "2.7.6"
  }
 },
 "nbformat": 4,
 "nbformat_minor": 0
}