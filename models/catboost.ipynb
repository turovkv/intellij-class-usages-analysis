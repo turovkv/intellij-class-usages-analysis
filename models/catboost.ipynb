{
 "cells": [
  {
   "cell_type": "code",
   "execution_count": 1,
   "outputs": [],
   "source": [
    "from catboost import CatBoostClassifier\n",
    "import numpy as np\n",
    "import pandas as pd\n",
    "from sklearn import metrics\n",
    "from sklearn.linear_model import LogisticRegression\n",
    "from sklearn.linear_model import LogisticRegressionCV\n",
    "from utils import show_rank_metrics\n",
    "dataset_folder='./../dataset/saved/'"
   ],
   "metadata": {
    "collapsed": false,
    "pycharm": {
     "name": "#%%\n"
    }
   }
  },
  {
   "cell_type": "code",
   "execution_count": 2,
   "outputs": [],
   "source": [
    "# train = pd.read_csv('train.csv', index_col=0).sample(frac=1)\n",
    "# y_train = train['correct']\n",
    "# X_train = train.drop(columns=['name', 'firstChar', 'group', 'correct'])\n",
    "#\n",
    "# test = pd.read_csv('test.csv', index_col=0)\n",
    "# y_test = test['correct']\n",
    "# X_test = test.drop(columns=['name', 'firstChar', 'group', 'correct'])\n",
    "# train = pd.read_csv('train_cat.csv', index_col=0).sample(frac=1)\n",
    "# test = pd.read_csv('test_cat.csv', index_col=0)\n",
    "# train.fillna('', inplace=True)\n",
    "# test.fillna('', inplace=True)\n",
    "#\n",
    "#\n",
    "# y_train = train['correct']\n",
    "# X_train = train.drop(columns=['firstChar', 'group', 'correct'])\n",
    "#\n",
    "# y_test = test['correct']\n",
    "# X_test = test.drop(columns=['firstChar', 'group', 'correct'])\n",
    "\n",
    "# df_valid_cat.fillna('', inplace=True)"
   ],
   "metadata": {
    "collapsed": false,
    "pycharm": {
     "name": "#%%\n"
    }
   }
  },
  {
   "cell_type": "code",
   "execution_count": 3,
   "outputs": [],
   "source": [
    "train = pd.read_pickle(dataset_folder+'train_2_ohe401')\n",
    "y_train = train['correct']\n",
    "X_train = train.drop(columns=['name', 'firstChar', 'group', 'correct'])\n",
    "\n",
    "test = pd.read_pickle(dataset_folder+'test_2_ohe401')\n",
    "y_test = test['correct']\n",
    "X_test = test.drop(columns=['name', 'firstChar', 'group', 'correct'])\n",
    "\n",
    "valid = pd.read_pickle(dataset_folder+'valid_2_ohe401')\n",
    "y_valid = valid['correct']\n",
    "X_valid = valid.drop(columns=['name', 'firstChar', 'group', 'correct'])"
   ],
   "metadata": {
    "collapsed": false,
    "pycharm": {
     "name": "#%%\n"
    }
   }
  },
  {
   "cell_type": "code",
   "execution_count": 4,
   "outputs": [
    {
     "data": {
      "text/plain": "<catboost.core.CatBoostClassifier at 0x7f2f23e22400>"
     },
     "execution_count": 4,
     "metadata": {},
     "output_type": "execute_result"
    }
   ],
   "source": [
    "# Initialize CatBoostClassifier\n",
    "model = CatBoostClassifier(verbose=False, random_seed=0, task_type=\"CPU\")\n",
    "model.fit(X_train, y_train)"
   ],
   "metadata": {
    "collapsed": false,
    "pycharm": {
     "name": "#%%\n"
    }
   }
  },
  {
   "cell_type": "code",
   "execution_count": 5,
   "outputs": [],
   "source": [
    "#model.predict_proba(X_test)"
   ],
   "metadata": {
    "collapsed": false,
    "pycharm": {
     "name": "#%%\n"
    }
   }
  },
  {
   "cell_type": "code",
   "execution_count": 6,
   "outputs": [
    {
     "name": "stdout",
     "output_type": "stream",
     "text": [
      "\n",
      "------train-------\n",
      "(338170, 3)\n",
      "\n",
      "mean = 2.037643788627022\n",
      "\n",
      "top0 = 0.0\n",
      "top1 = 0.63961912647485\n",
      "top2 = 0.7581098264186652\n",
      "top3 = 0.831593577194902\n",
      "top4 = 0.8870390631930686\n",
      "top5 = 0.926161398113375\n",
      "top6 = 0.9563237424963775\n",
      "top7 = 0.9776148091196736\n",
      "top8 = 0.9895318922435461\n",
      "top9 = 0.9963627761185203\n",
      "top10 = 1.0\n",
      "\n",
      "\n",
      "------test-------\n",
      "(174972, 3)\n",
      "\n",
      "mean = 3.7654824771963513\n",
      "\n",
      "top0 = 0.0\n",
      "top1 = 0.5169227076332213\n",
      "top2 = 0.6185789726356217\n",
      "top3 = 0.6763082093134901\n",
      "top4 = 0.7181949111857897\n",
      "top5 = 0.7588814210273643\n",
      "top6 = 0.7890062409985598\n",
      "top7 = 0.8214114258281325\n",
      "top8 = 0.850096015362458\n",
      "top9 = 0.8790206433029285\n",
      "top10 = 0.9000240038406145\n",
      "top11 = 0.9191070571291406\n",
      "top12 = 0.9349495919347095\n",
      "top13 = 0.9511521843494959\n",
      "top14 = 0.963634181469035\n",
      "top15 = 0.9753960633701392\n",
      "top16 = 0.9823571771483437\n",
      "stop 16\n",
      "\n",
      "\n",
      "------valid-------\n",
      "(134354, 3)\n",
      "\n",
      "mean = 169.87128712871288\n",
      "\n",
      "top0 = 0.0\n",
      "top1 = 0.0\n",
      "top2 = 0.0891089108910891\n",
      "top3 = 0.12871287128712872\n",
      "top4 = 0.19801980198019803\n",
      "top5 = 0.21287128712871287\n",
      "top6 = 0.22277227722772278\n",
      "top7 = 0.22772277227722773\n",
      "top8 = 0.23267326732673269\n",
      "top9 = 0.24752475247524752\n",
      "top10 = 0.2623762376237624\n",
      "top11 = 0.26732673267326734\n",
      "top12 = 0.297029702970297\n",
      "top13 = 0.3069306930693069\n",
      "top14 = 0.3118811881188119\n",
      "top15 = 0.31683168316831684\n",
      "top16 = 0.32673267326732675\n",
      "stop 16\n",
      "\n"
     ]
    }
   ],
   "source": [
    "show_rank_metrics(\n",
    "    df_group=pd.DataFrame(data=train['group'].tolist(), columns=['group']),\n",
    "    df_proba=pd.DataFrame(data=model.predict_proba(X_train)[:,1].tolist(), columns=['proba']),\n",
    "    df_true=pd.DataFrame(data=y_train.tolist(), columns=['correct']),\n",
    "    label='train'\n",
    ")\n",
    "show_rank_metrics(\n",
    "    df_group=pd.DataFrame(data=test['group'].tolist(), columns=['group']),\n",
    "    df_proba=pd.DataFrame(data=model.predict_proba(X_test)[:,1].tolist(), columns=['proba']),\n",
    "    df_true=pd.DataFrame(data=y_test.tolist(), columns=['correct']),\n",
    "    label='test'\n",
    ")\n",
    "show_rank_metrics(\n",
    "    df_group=pd.DataFrame(data=valid['group'].tolist(), columns=['group']),\n",
    "    df_proba=pd.DataFrame(data=model.predict_proba(X_valid)[:,1].tolist(), columns=['proba']),\n",
    "    df_true=pd.DataFrame(data=y_valid.tolist(), columns=['correct']),\n",
    "    label='valid'\n",
    ")"
   ],
   "metadata": {
    "collapsed": false,
    "pycharm": {
     "name": "#%%\n"
    }
   }
  },
  {
   "cell_type": "code",
   "execution_count": 7,
   "outputs": [
    {
     "data": {
      "text/plain": "                         Feature Id  Importances\n0                        name_Event     9.140127\n1          referenceType_REFERENCE_     8.069003\n2                         name_Keys     6.042965\n3                referenceType_TYPE     5.745917\n4                         name_Util     5.342966\n..                              ...          ...\n735   insideStatement2_if_else_body     0.000000\n736   insideStatement2_if_then_body     0.000000\n737         insideStatement2_return     0.000000\n738  insideStatement2_switch_branch     0.000000\n739   insideStatement2_ternary_else     0.000000\n\n[740 rows x 2 columns]",
      "text/html": "<div>\n<style scoped>\n    .dataframe tbody tr th:only-of-type {\n        vertical-align: middle;\n    }\n\n    .dataframe tbody tr th {\n        vertical-align: top;\n    }\n\n    .dataframe thead th {\n        text-align: right;\n    }\n</style>\n<table border=\"1\" class=\"dataframe\">\n  <thead>\n    <tr style=\"text-align: right;\">\n      <th></th>\n      <th>Feature Id</th>\n      <th>Importances</th>\n    </tr>\n  </thead>\n  <tbody>\n    <tr>\n      <th>0</th>\n      <td>name_Event</td>\n      <td>9.140127</td>\n    </tr>\n    <tr>\n      <th>1</th>\n      <td>referenceType_REFERENCE_</td>\n      <td>8.069003</td>\n    </tr>\n    <tr>\n      <th>2</th>\n      <td>name_Keys</td>\n      <td>6.042965</td>\n    </tr>\n    <tr>\n      <th>3</th>\n      <td>referenceType_TYPE</td>\n      <td>5.745917</td>\n    </tr>\n    <tr>\n      <th>4</th>\n      <td>name_Util</td>\n      <td>5.342966</td>\n    </tr>\n    <tr>\n      <th>...</th>\n      <td>...</td>\n      <td>...</td>\n    </tr>\n    <tr>\n      <th>735</th>\n      <td>insideStatement2_if_else_body</td>\n      <td>0.000000</td>\n    </tr>\n    <tr>\n      <th>736</th>\n      <td>insideStatement2_if_then_body</td>\n      <td>0.000000</td>\n    </tr>\n    <tr>\n      <th>737</th>\n      <td>insideStatement2_return</td>\n      <td>0.000000</td>\n    </tr>\n    <tr>\n      <th>738</th>\n      <td>insideStatement2_switch_branch</td>\n      <td>0.000000</td>\n    </tr>\n    <tr>\n      <th>739</th>\n      <td>insideStatement2_ternary_else</td>\n      <td>0.000000</td>\n    </tr>\n  </tbody>\n</table>\n<p>740 rows × 2 columns</p>\n</div>"
     },
     "execution_count": 7,
     "metadata": {},
     "output_type": "execute_result"
    }
   ],
   "source": [
    "model.get_feature_importance(prettified=True)"
   ],
   "metadata": {
    "collapsed": false,
    "pycharm": {
     "name": "#%%\n"
    }
   }
  },
  {
   "cell_type": "code",
   "execution_count": 8,
   "outputs": [],
   "source": [
    "model.save_model(\"saved/model_catboost\")"
   ],
   "metadata": {
    "collapsed": false,
    "pycharm": {
     "name": "#%%\n"
    }
   }
  },
  {
   "cell_type": "code",
   "execution_count": 8,
   "outputs": [],
   "source": [],
   "metadata": {
    "collapsed": false,
    "pycharm": {
     "name": "#%%\n"
    }
   }
  }
 ],
 "metadata": {
  "kernelspec": {
   "display_name": "Python 3",
   "language": "python",
   "name": "python3"
  },
  "language_info": {
   "codemirror_mode": {
    "name": "ipython",
    "version": 2
   },
   "file_extension": ".py",
   "mimetype": "text/x-python",
   "name": "python",
   "nbconvert_exporter": "python",
   "pygments_lexer": "ipython2",
   "version": "2.7.6"
  }
 },
 "nbformat": 4,
 "nbformat_minor": 0
}