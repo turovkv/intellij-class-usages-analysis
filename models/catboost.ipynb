{
 "cells": [
  {
   "cell_type": "code",
   "execution_count": 16,
   "outputs": [],
   "source": [
    "from catboost import CatBoostClassifier\n",
    "import numpy as np\n",
    "import pandas as pd\n",
    "from sklearn import metrics\n",
    "from sklearn.linear_model import LogisticRegression\n",
    "from sklearn.linear_model import LogisticRegressionCV\n",
    "from utils import show_rank_metrics\n",
    "dataset_folder='./../dataset/saved/'"
   ],
   "metadata": {
    "collapsed": false,
    "pycharm": {
     "name": "#%%\n"
    }
   }
  },
  {
   "cell_type": "code",
   "execution_count": 17,
   "outputs": [],
   "source": [
    "# train = pd.read_csv('train.csv', index_col=0).sample(frac=1)\n",
    "# y_train = train['correct']\n",
    "# X_train = train.drop(columns=['name', 'firstChar', 'group', 'correct'])\n",
    "#\n",
    "# test = pd.read_csv('test.csv', index_col=0)\n",
    "# y_test = test['correct']\n",
    "# X_test = test.drop(columns=['name', 'firstChar', 'group', 'correct'])\n",
    "# train = pd.read_csv('train_cat.csv', index_col=0).sample(frac=1)\n",
    "# test = pd.read_csv('test_cat.csv', index_col=0)\n",
    "# train.fillna('', inplace=True)\n",
    "# test.fillna('', inplace=True)\n",
    "#\n",
    "#\n",
    "# y_train = train['correct']\n",
    "# X_train = train.drop(columns=['firstChar', 'group', 'correct'])\n",
    "#\n",
    "# y_test = test['correct']\n",
    "# X_test = test.drop(columns=['firstChar', 'group', 'correct'])\n",
    "\n",
    "# df_valid_cat.fillna('', inplace=True)"
   ],
   "metadata": {
    "collapsed": false,
    "pycharm": {
     "name": "#%%\n"
    }
   }
  },
  {
   "cell_type": "code",
   "execution_count": 18,
   "outputs": [],
   "source": [
    "train = pd.read_pickle(dataset_folder+'train_ohe401')\n",
    "y_train = train['correct']\n",
    "X_train = train.drop(columns=['name', 'firstChar', 'group', 'correct'])\n",
    "\n",
    "test = pd.read_pickle(dataset_folder+'test_ohe401')\n",
    "y_test = test['correct']\n",
    "X_test = test.drop(columns=['name', 'firstChar', 'group', 'correct'])\n",
    "\n",
    "valid = pd.read_pickle(dataset_folder+'valid_ohe401')\n",
    "y_valid = valid['correct']\n",
    "X_valid = valid.drop(columns=['name', 'firstChar', 'group', 'correct'])"
   ],
   "metadata": {
    "collapsed": false,
    "pycharm": {
     "name": "#%%\n"
    }
   }
  },
  {
   "cell_type": "code",
   "execution_count": 19,
   "outputs": [
    {
     "data": {
      "text/plain": "<catboost.core.CatBoostClassifier at 0x7f7ea2d83340>"
     },
     "execution_count": 19,
     "metadata": {},
     "output_type": "execute_result"
    }
   ],
   "source": [
    "# Initialize CatBoostClassifier\n",
    "model = CatBoostClassifier(verbose=False, random_seed=0, task_type=\"CPU\")\n",
    "model.fit(X_train, y_train)"
   ],
   "metadata": {
    "collapsed": false,
    "pycharm": {
     "name": "#%%\n"
    }
   }
  },
  {
   "cell_type": "code",
   "execution_count": 20,
   "outputs": [],
   "source": [
    "#model.predict_proba(X_test)"
   ],
   "metadata": {
    "collapsed": false,
    "pycharm": {
     "name": "#%%\n"
    }
   }
  },
  {
   "cell_type": "code",
   "execution_count": 21,
   "outputs": [
    {
     "name": "stdout",
     "output_type": "stream",
     "text": [
      "\n",
      "------train-------\n",
      "(269316, 3)\n",
      "\n",
      "mean = 1.9613353829701912\n",
      "\n",
      "top0 = 0.0\n",
      "top1 = 0.6396537896003208\n",
      "top2 = 0.7619970592166823\n",
      "top3 = 0.8410640288731454\n",
      "top4 = 0.9000802031813928\n",
      "top5 = 0.9425878893196097\n",
      "top6 = 0.9696230450474536\n",
      "top7 = 0.9869669830236599\n",
      "top8 = 0.9966916187675444\n",
      "top9 = 1.0\n",
      "\n",
      "\n",
      "------test-------\n",
      "(221754, 3)\n",
      "\n",
      "mean = 5.056982061202954\n",
      "\n",
      "top0 = 0.0\n",
      "top1 = 0.4470629616602181\n",
      "top2 = 0.5388673935983116\n",
      "top3 = 0.5970219251963887\n",
      "top4 = 0.6360651893539688\n",
      "top5 = 0.6734669949583773\n",
      "top6 = 0.7065306601008324\n",
      "top7 = 0.7401805604408489\n",
      "top8 = 0.7724234963067182\n",
      "top9 = 0.8013835150662446\n",
      "top10 = 0.8294055575096729\n",
      "top11 = 0.8522687302145621\n",
      "top12 = 0.873607691405792\n",
      "top13 = 0.8927189588462892\n",
      "top14 = 0.9085473091804432\n",
      "top15 = 0.9213272364872787\n",
      "top16 = 0.9356313753077735\n",
      "top17 = 0.9484113026146089\n",
      "top18 = 0.9602532536053464\n",
      "top19 = 0.9690467815687653\n",
      "top20 = 0.9778403095321843\n",
      "top21 = 0.9838199085473092\n",
      "top22 = 0.9892132723648728\n",
      "top23 = 0.9935514128268261\n",
      "top24 = 0.9964825888146325\n",
      "top25 = 0.9978895532887795\n",
      "top26 = 1.0\n",
      "\n",
      "\n",
      "------valid-------\n",
      "(117338, 3)\n",
      "\n",
      "mean = 4.959007312209174\n",
      "\n",
      "top0 = 0.0\n",
      "top1 = 0.4555727897185907\n",
      "top2 = 0.5486372701085752\n",
      "top3 = 0.6022601373808997\n",
      "top4 = 0.6499002880567251\n",
      "top5 = 0.6871260802127188\n",
      "top6 = 0.7190339020607135\n",
      "top7 = 0.7542654553512076\n",
      "top8 = 0.7781963217372037\n",
      "top9 = 0.8054509195656991\n",
      "top10 = 0.8322623532018613\n",
      "top11 = 0.8557500553955241\n",
      "top12 = 0.8739197872811877\n",
      "top13 = 0.8909816086860182\n",
      "top14 = 0.9076002658985154\n",
      "top15 = 0.9211167737646798\n",
      "top16 = 0.9366275204963439\n",
      "top17 = 0.9523598493241746\n",
      "top18 = 0.9621094615555064\n",
      "top19 = 0.9698648349213383\n",
      "top20 = 0.9782849545756703\n",
      "top21 = 0.9860403279415023\n",
      "top22 = 0.9906935519610015\n",
      "top23 = 0.9924662087303346\n",
      "top24 = 0.9942388654996677\n",
      "top25 = 0.9962331043651673\n",
      "top26 = 1.0\n",
      "\n"
     ]
    }
   ],
   "source": [
    "show_rank_metrics(\n",
    "    df_group=pd.DataFrame(data=train['group'].tolist(), columns=['group']),\n",
    "    df_proba=pd.DataFrame(data=model.predict_proba(X_train)[:,1].tolist(), columns=['proba']),\n",
    "    df_true=pd.DataFrame(data=y_train.tolist(), columns=['correct']),\n",
    "    label='train'\n",
    ")\n",
    "show_rank_metrics(\n",
    "    df_group=pd.DataFrame(data=test['group'].tolist(), columns=['group']),\n",
    "    df_proba=pd.DataFrame(data=model.predict_proba(X_test)[:,1].tolist(), columns=['proba']),\n",
    "    df_true=pd.DataFrame(data=y_test.tolist(), columns=['correct']),\n",
    "    label='test'\n",
    ")\n",
    "show_rank_metrics(\n",
    "    df_group=pd.DataFrame(data=valid['group'].tolist(), columns=['group']),\n",
    "    df_proba=pd.DataFrame(data=model.predict_proba(X_valid)[:,1].tolist(), columns=['proba']),\n",
    "    df_true=pd.DataFrame(data=y_valid.tolist(), columns=['correct']),\n",
    "    label='valid'\n",
    ")"
   ],
   "metadata": {
    "collapsed": false,
    "pycharm": {
     "name": "#%%\n"
    }
   }
  },
  {
   "cell_type": "code",
   "execution_count": 22,
   "outputs": [
    {
     "data": {
      "text/plain": "                        Feature Id  Importances\n0                       name_Event     9.749220\n1         referenceType_REFERENCE_     9.174933\n2                        name_Keys     7.175284\n3               referenceType_TYPE     6.553398\n4                      name_Action     4.941951\n..                             ...          ...\n394      insideStatement2_for_body     0.000000\n395  insideStatement2_if_condition     0.000000\n396  insideStatement2_if_else_body     0.000000\n397        insideStatement2_return     0.000000\n398    insideStatement2_while_body     0.000000\n\n[399 rows x 2 columns]",
      "text/html": "<div>\n<style scoped>\n    .dataframe tbody tr th:only-of-type {\n        vertical-align: middle;\n    }\n\n    .dataframe tbody tr th {\n        vertical-align: top;\n    }\n\n    .dataframe thead th {\n        text-align: right;\n    }\n</style>\n<table border=\"1\" class=\"dataframe\">\n  <thead>\n    <tr style=\"text-align: right;\">\n      <th></th>\n      <th>Feature Id</th>\n      <th>Importances</th>\n    </tr>\n  </thead>\n  <tbody>\n    <tr>\n      <th>0</th>\n      <td>name_Event</td>\n      <td>9.749220</td>\n    </tr>\n    <tr>\n      <th>1</th>\n      <td>referenceType_REFERENCE_</td>\n      <td>9.174933</td>\n    </tr>\n    <tr>\n      <th>2</th>\n      <td>name_Keys</td>\n      <td>7.175284</td>\n    </tr>\n    <tr>\n      <th>3</th>\n      <td>referenceType_TYPE</td>\n      <td>6.553398</td>\n    </tr>\n    <tr>\n      <th>4</th>\n      <td>name_Action</td>\n      <td>4.941951</td>\n    </tr>\n    <tr>\n      <th>...</th>\n      <td>...</td>\n      <td>...</td>\n    </tr>\n    <tr>\n      <th>394</th>\n      <td>insideStatement2_for_body</td>\n      <td>0.000000</td>\n    </tr>\n    <tr>\n      <th>395</th>\n      <td>insideStatement2_if_condition</td>\n      <td>0.000000</td>\n    </tr>\n    <tr>\n      <th>396</th>\n      <td>insideStatement2_if_else_body</td>\n      <td>0.000000</td>\n    </tr>\n    <tr>\n      <th>397</th>\n      <td>insideStatement2_return</td>\n      <td>0.000000</td>\n    </tr>\n    <tr>\n      <th>398</th>\n      <td>insideStatement2_while_body</td>\n      <td>0.000000</td>\n    </tr>\n  </tbody>\n</table>\n<p>399 rows × 2 columns</p>\n</div>"
     },
     "execution_count": 22,
     "metadata": {},
     "output_type": "execute_result"
    }
   ],
   "source": [
    "model.get_feature_importance(prettified=True)"
   ],
   "metadata": {
    "collapsed": false,
    "pycharm": {
     "name": "#%%\n"
    }
   }
  },
  {
   "cell_type": "code",
   "execution_count": 24,
   "outputs": [],
   "source": [
    "model.save_model(\"saved/model_catboost\")"
   ],
   "metadata": {
    "collapsed": false,
    "pycharm": {
     "name": "#%%\n"
    }
   }
  },
  {
   "cell_type": "code",
   "execution_count": 23,
   "outputs": [],
   "source": [],
   "metadata": {
    "collapsed": false,
    "pycharm": {
     "name": "#%%\n"
    }
   }
  }
 ],
 "metadata": {
  "kernelspec": {
   "display_name": "Python 3",
   "language": "python",
   "name": "python3"
  },
  "language_info": {
   "codemirror_mode": {
    "name": "ipython",
    "version": 2
   },
   "file_extension": ".py",
   "mimetype": "text/x-python",
   "name": "python",
   "nbconvert_exporter": "python",
   "pygments_lexer": "ipython2",
   "version": "2.7.6"
  }
 },
 "nbformat": 4,
 "nbformat_minor": 0
}