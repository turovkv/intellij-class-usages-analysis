{
 "cells": [
  {
   "cell_type": "code",
   "execution_count": 1,
   "outputs": [],
   "source": [
    "from catboost import CatBoostClassifier\n",
    "import numpy as np\n",
    "import pandas as pd\n",
    "from sklearn import metrics\n",
    "from sklearn.linear_model import LogisticRegression\n",
    "from sklearn.linear_model import LogisticRegressionCV\n",
    "from utils import show_rank_metrics\n",
    "dataset_folder='./../dataset/saved/'"
   ],
   "metadata": {
    "collapsed": false,
    "pycharm": {
     "name": "#%%\n"
    }
   }
  },
  {
   "cell_type": "code",
   "execution_count": 2,
   "outputs": [],
   "source": [
    "# train = pd.read_csv('train.csv', index_col=0).sample(frac=1)\n",
    "# y_train = train['correct']\n",
    "# X_train = train.drop(columns=['name', 'firstChar', 'group', 'correct'])\n",
    "#\n",
    "# test = pd.read_csv('test.csv', index_col=0)\n",
    "# y_test = test['correct']\n",
    "# X_test = test.drop(columns=['name', 'firstChar', 'group', 'correct'])\n",
    "# train = pd.read_csv('train_cat.csv', index_col=0).sample(frac=1)\n",
    "# test = pd.read_csv('test_cat.csv', index_col=0)\n",
    "# train.fillna('', inplace=True)\n",
    "# test.fillna('', inplace=True)\n",
    "#\n",
    "#\n",
    "# y_train = train['correct']\n",
    "# X_train = train.drop(columns=['firstChar', 'group', 'correct'])\n",
    "#\n",
    "# y_test = test['correct']\n",
    "# X_test = test.drop(columns=['firstChar', 'group', 'correct'])\n",
    "\n",
    "# df_valid_cat.fillna('', inplace=True)"
   ],
   "metadata": {
    "collapsed": false,
    "pycharm": {
     "name": "#%%\n"
    }
   }
  },
  {
   "cell_type": "code",
   "execution_count": 3,
   "outputs": [],
   "source": [
    "train = pd.read_pickle(dataset_folder+'train_ohe401')\n",
    "y_train = train['correct']\n",
    "X_train = train.drop(columns=['name', 'firstChar', 'group', 'correct'])\n",
    "\n",
    "test = pd.read_pickle(dataset_folder+'test_ohe401')\n",
    "y_test = test['correct']\n",
    "X_test = test.drop(columns=['name', 'firstChar', 'group', 'correct'])\n",
    "\n",
    "valid = pd.read_pickle(dataset_folder+'valid_ohe401')\n",
    "y_valid = valid['correct']\n",
    "X_valid = valid.drop(columns=['name', 'firstChar', 'group', 'correct'])"
   ],
   "metadata": {
    "collapsed": false,
    "pycharm": {
     "name": "#%%\n"
    }
   }
  },
  {
   "cell_type": "code",
   "execution_count": 4,
   "outputs": [
    {
     "data": {
      "text/plain": "<catboost.core.CatBoostClassifier at 0x7f24972004f0>"
     },
     "execution_count": 4,
     "metadata": {},
     "output_type": "execute_result"
    }
   ],
   "source": [
    "# Initialize CatBoostClassifier\n",
    "model = CatBoostClassifier(verbose=False, random_seed=0, task_type=\"CPU\")\n",
    "model.fit(X_train, y_train)"
   ],
   "metadata": {
    "collapsed": false,
    "pycharm": {
     "name": "#%%\n"
    }
   }
  },
  {
   "cell_type": "code",
   "execution_count": 5,
   "outputs": [],
   "source": [
    "#model.predict_proba(X_test)"
   ],
   "metadata": {
    "collapsed": false,
    "pycharm": {
     "name": "#%%\n"
    }
   }
  },
  {
   "cell_type": "code",
   "execution_count": 6,
   "outputs": [
    {
     "name": "stdout",
     "output_type": "stream",
     "text": [
      "\n",
      "------train-------\n",
      "(299961, 3)\n",
      "\n",
      "mean = 1.9917189234600499\n",
      "\n",
      "top0 = 0.0\n",
      "top1 = 0.6278316181103544\n",
      "top2 = 0.7561583005790753\n",
      "top3 = 0.8369888085451108\n",
      "top4 = 0.8960364847430166\n",
      "top5 = 0.9387320351645714\n",
      "top6 = 0.969516037084821\n",
      "top7 = 0.9869783071799334\n",
      "top8 = 0.9960394851330673\n",
      "top9 = 1.0\n",
      "\n",
      "\n",
      "------test-------\n",
      "(240110, 3)\n",
      "\n",
      "mean = 4.8945316729832165\n",
      "\n",
      "top0 = 0.0\n",
      "top1 = 0.4397401191120736\n",
      "top2 = 0.542284786139686\n",
      "top3 = 0.6002165674066053\n",
      "top4 = 0.6445046020573904\n",
      "top5 = 0.6780725500812128\n",
      "top6 = 0.7127233351380617\n",
      "top7 = 0.745100162425555\n",
      "top8 = 0.7755278830536004\n",
      "top9 = 0.8051976177585274\n",
      "top10 = 0.8334596643205198\n",
      "top11 = 0.8587980508933406\n",
      "top12 = 0.8829453167298321\n",
      "top13 = 0.9042772062804548\n",
      "top14 = 0.9213860314022739\n",
      "top15 = 0.9360043313481321\n",
      "top16 = 0.9515971846237141\n",
      "stop 16\n",
      "\n",
      "\n",
      "------valid-------\n",
      "(134354, 3)\n",
      "\n",
      "mean = 172.509900990099\n",
      "\n",
      "top0 = 0.0\n",
      "top1 = 0.0\n",
      "top2 = 0.08415841584158416\n",
      "top3 = 0.16336633663366337\n",
      "top4 = 0.22277227722772278\n",
      "top5 = 0.2376237623762376\n",
      "top6 = 0.25742574257425743\n",
      "top7 = 0.26732673267326734\n",
      "top8 = 0.2722772277227723\n",
      "top9 = 0.28217821782178215\n",
      "top10 = 0.2871287128712871\n",
      "top11 = 0.30198019801980197\n",
      "top12 = 0.3069306930693069\n",
      "top13 = 0.3217821782178218\n",
      "top14 = 0.32673267326732675\n",
      "top15 = 0.33663366336633666\n",
      "top16 = 0.35148514851485146\n",
      "stop 16\n",
      "\n"
     ]
    }
   ],
   "source": [
    "show_rank_metrics(\n",
    "    df_group=pd.DataFrame(data=train['group'].tolist(), columns=['group']),\n",
    "    df_proba=pd.DataFrame(data=model.predict_proba(X_train)[:,1].tolist(), columns=['proba']),\n",
    "    df_true=pd.DataFrame(data=y_train.tolist(), columns=['correct']),\n",
    "    label='train'\n",
    ")\n",
    "show_rank_metrics(\n",
    "    df_group=pd.DataFrame(data=test['group'].tolist(), columns=['group']),\n",
    "    df_proba=pd.DataFrame(data=model.predict_proba(X_test)[:,1].tolist(), columns=['proba']),\n",
    "    df_true=pd.DataFrame(data=y_test.tolist(), columns=['correct']),\n",
    "    label='test'\n",
    ")\n",
    "show_rank_metrics(\n",
    "    df_group=pd.DataFrame(data=valid['group'].tolist(), columns=['group']),\n",
    "    df_proba=pd.DataFrame(data=model.predict_proba(X_valid)[:,1].tolist(), columns=['proba']),\n",
    "    df_true=pd.DataFrame(data=y_valid.tolist(), columns=['correct']),\n",
    "    label='valid'\n",
    ")"
   ],
   "metadata": {
    "collapsed": false,
    "pycharm": {
     "name": "#%%\n"
    }
   }
  },
  {
   "cell_type": "code",
   "execution_count": 7,
   "outputs": [
    {
     "data": {
      "text/plain": "                        Feature Id  Importances\n0                       name_Event     9.666905\n1         referenceType_REFERENCE_     8.053910\n2                        name_Keys     7.194176\n3                        name_Util     6.897864\n4               referenceType_TYPE     5.884608\n..                             ...          ...\n393  insideStatement1_ternary_else     0.000000\n394  insideStatement1_ternary_then     0.000000\n395           insideStatement1_try     0.000000\n396    insideStatement1_while_body     0.000000\n397    insideStatement2_while_body     0.000000\n\n[398 rows x 2 columns]",
      "text/html": "<div>\n<style scoped>\n    .dataframe tbody tr th:only-of-type {\n        vertical-align: middle;\n    }\n\n    .dataframe tbody tr th {\n        vertical-align: top;\n    }\n\n    .dataframe thead th {\n        text-align: right;\n    }\n</style>\n<table border=\"1\" class=\"dataframe\">\n  <thead>\n    <tr style=\"text-align: right;\">\n      <th></th>\n      <th>Feature Id</th>\n      <th>Importances</th>\n    </tr>\n  </thead>\n  <tbody>\n    <tr>\n      <th>0</th>\n      <td>name_Event</td>\n      <td>9.666905</td>\n    </tr>\n    <tr>\n      <th>1</th>\n      <td>referenceType_REFERENCE_</td>\n      <td>8.053910</td>\n    </tr>\n    <tr>\n      <th>2</th>\n      <td>name_Keys</td>\n      <td>7.194176</td>\n    </tr>\n    <tr>\n      <th>3</th>\n      <td>name_Util</td>\n      <td>6.897864</td>\n    </tr>\n    <tr>\n      <th>4</th>\n      <td>referenceType_TYPE</td>\n      <td>5.884608</td>\n    </tr>\n    <tr>\n      <th>...</th>\n      <td>...</td>\n      <td>...</td>\n    </tr>\n    <tr>\n      <th>393</th>\n      <td>insideStatement1_ternary_else</td>\n      <td>0.000000</td>\n    </tr>\n    <tr>\n      <th>394</th>\n      <td>insideStatement1_ternary_then</td>\n      <td>0.000000</td>\n    </tr>\n    <tr>\n      <th>395</th>\n      <td>insideStatement1_try</td>\n      <td>0.000000</td>\n    </tr>\n    <tr>\n      <th>396</th>\n      <td>insideStatement1_while_body</td>\n      <td>0.000000</td>\n    </tr>\n    <tr>\n      <th>397</th>\n      <td>insideStatement2_while_body</td>\n      <td>0.000000</td>\n    </tr>\n  </tbody>\n</table>\n<p>398 rows × 2 columns</p>\n</div>"
     },
     "execution_count": 7,
     "metadata": {},
     "output_type": "execute_result"
    }
   ],
   "source": [
    "model.get_feature_importance(prettified=True)"
   ],
   "metadata": {
    "collapsed": false,
    "pycharm": {
     "name": "#%%\n"
    }
   }
  },
  {
   "cell_type": "code",
   "execution_count": 8,
   "outputs": [],
   "source": [
    "model.save_model(\"saved/model_catboost\")"
   ],
   "metadata": {
    "collapsed": false,
    "pycharm": {
     "name": "#%%\n"
    }
   }
  },
  {
   "cell_type": "code",
   "execution_count": 8,
   "outputs": [],
   "source": [],
   "metadata": {
    "collapsed": false,
    "pycharm": {
     "name": "#%%\n"
    }
   }
  }
 ],
 "metadata": {
  "kernelspec": {
   "display_name": "Python 3",
   "language": "python",
   "name": "python3"
  },
  "language_info": {
   "codemirror_mode": {
    "name": "ipython",
    "version": 2
   },
   "file_extension": ".py",
   "mimetype": "text/x-python",
   "name": "python",
   "nbconvert_exporter": "python",
   "pygments_lexer": "ipython2",
   "version": "2.7.6"
  }
 },
 "nbformat": 4,
 "nbformat_minor": 0
}