{
 "cells": [
  {
   "cell_type": "code",
   "execution_count": 1,
   "outputs": [],
   "source": [
    "from catboost import CatBoostClassifier\n",
    "import numpy as np\n",
    "import pandas as pd\n",
    "from sklearn import metrics\n",
    "from sklearn.linear_model import LogisticRegression\n",
    "from sklearn.linear_model import LogisticRegressionCV\n",
    "from utils import show_rank_metrics\n",
    "dataset_folder='./../dataset/saved/'"
   ],
   "metadata": {
    "collapsed": false,
    "pycharm": {
     "name": "#%%\n"
    }
   }
  },
  {
   "cell_type": "code",
   "execution_count": 2,
   "outputs": [],
   "source": [
    "# train = pd.read_csv('train.csv', index_col=0).sample(frac=1)\n",
    "# y_train = train['correct']\n",
    "# X_train = train.drop(columns=['name', 'firstChar', 'group', 'correct'])\n",
    "#\n",
    "# test = pd.read_csv('test.csv', index_col=0)\n",
    "# y_test = test['correct']\n",
    "# X_test = test.drop(columns=['name', 'firstChar', 'group', 'correct'])\n",
    "# train = pd.read_csv('train_cat.csv', index_col=0).sample(frac=1)\n",
    "# test = pd.read_csv('test_cat.csv', index_col=0)\n",
    "# train.fillna('', inplace=True)\n",
    "# test.fillna('', inplace=True)\n",
    "#\n",
    "#\n",
    "# y_train = train['correct']\n",
    "# X_train = train.drop(columns=['firstChar', 'group', 'correct'])\n",
    "#\n",
    "# y_test = test['correct']\n",
    "# X_test = test.drop(columns=['firstChar', 'group', 'correct'])\n",
    "\n",
    "# df_valid_cat.fillna('', inplace=True)"
   ],
   "metadata": {
    "collapsed": false,
    "pycharm": {
     "name": "#%%\n"
    }
   }
  },
  {
   "cell_type": "code",
   "execution_count": 3,
   "outputs": [],
   "source": [
    "train = pd.read_pickle(dataset_folder+'train_2_ohe401')\n",
    "y_train = train['correct']\n",
    "X_train = train.drop(columns=['name', 'firstChar', 'group', 'correct'])\n",
    "\n",
    "test = pd.read_pickle(dataset_folder+'test_2_ohe401')\n",
    "y_test = test['correct']\n",
    "X_test = test.drop(columns=['name', 'firstChar', 'group', 'correct'])\n",
    "\n",
    "valid = pd.read_pickle(dataset_folder+'valid_2_ohe401')\n",
    "y_valid = valid['correct']\n",
    "X_valid = valid.drop(columns=['name', 'firstChar', 'group', 'correct'])"
   ],
   "metadata": {
    "collapsed": false,
    "pycharm": {
     "name": "#%%\n"
    }
   }
  },
  {
   "cell_type": "code",
   "execution_count": 4,
   "outputs": [
    {
     "data": {
      "text/plain": "<catboost.core.CatBoostClassifier at 0x7f9d304b0400>"
     },
     "execution_count": 4,
     "metadata": {},
     "output_type": "execute_result"
    }
   ],
   "source": [
    "# Initialize CatBoostClassifier\n",
    "model = CatBoostClassifier(verbose=False, random_seed=0, task_type=\"CPU\")\n",
    "model.fit(X_train, y_train)"
   ],
   "metadata": {
    "collapsed": false,
    "pycharm": {
     "name": "#%%\n"
    }
   }
  },
  {
   "cell_type": "code",
   "execution_count": 5,
   "outputs": [],
   "source": [
    "#model.predict_proba(X_test)"
   ],
   "metadata": {
    "collapsed": false,
    "pycharm": {
     "name": "#%%\n"
    }
   }
  },
  {
   "cell_type": "code",
   "execution_count": 6,
   "outputs": [
    {
     "name": "stdout",
     "output_type": "stream",
     "text": [
      "\n",
      "------train-------\n",
      "(334350, 3)\n",
      "\n",
      "mean = 1.3794227605802303  median=1.0, zerosCountMean=0.0, groupSizeMean=10.999730820995962\n",
      "\n",
      "top0 = 0.0\n",
      "top1 = 0.8282338866457305\n",
      "top2 = 0.908688500074772\n",
      "top3 = 0.9467623747569912\n",
      "top4 = 0.9684761477493644\n",
      "top5 = 0.9825631822940033\n",
      "top6 = 0.9918049947659638\n",
      "top7 = 0.9959922237176612\n",
      "top8 = 0.9984447435322267\n",
      "top9 = 0.9996111858830566\n",
      "top10 = 1.0\n",
      "\n",
      "\n",
      "------test-------\n",
      "(183267, 3)\n",
      "\n",
      "mean = 2.281883808869027  median=1.0, zerosCountMean=0.0, groupSizeMean=21.99770826171651\n",
      "\n",
      "top0 = 0.0\n",
      "top1 = 0.6891257018448493\n",
      "top2 = 0.7868683396356136\n",
      "top3 = 0.8362552996447805\n",
      "top4 = 0.8710897215537986\n",
      "top5 = 0.8987051678698292\n",
      "top6 = 0.9188724647645239\n",
      "top7 = 0.933195829036324\n",
      "top8 = 0.947175432565601\n",
      "top9 = 0.9562277987853787\n",
      "top10 = 0.9655093388335052\n",
      "top11 = 0.9736450097398877\n",
      "top12 = 0.980291050762003\n",
      "top13 = 0.9863641572132462\n",
      "top14 = 0.9907184599518735\n",
      "top15 = 0.9939268935487567\n",
      "top16 = 0.9958748710897215\n",
      "stop 16\n",
      "\n",
      "\n",
      "------valid-------\n",
      "(134354, 3)\n",
      "\n",
      "mean = 70.0049504950495  median=16.0, zerosCountMean=0.0, groupSizeMean=663.1089108910891\n",
      "\n",
      "top0 = 0.0\n",
      "top1 = 0.1782178217821782\n",
      "top2 = 0.2722772277227723\n",
      "top3 = 0.3069306930693069\n",
      "top4 = 0.3316831683168317\n",
      "top5 = 0.37623762376237624\n",
      "top6 = 0.39603960396039606\n",
      "top7 = 0.40594059405940597\n",
      "top8 = 0.4207920792079208\n",
      "top9 = 0.42574257425742573\n",
      "top10 = 0.42574257425742573\n",
      "top11 = 0.42574257425742573\n",
      "top12 = 0.44554455445544555\n",
      "top13 = 0.47029702970297027\n",
      "top14 = 0.4801980198019802\n",
      "top15 = 0.49504950495049505\n",
      "top16 = 0.504950495049505\n",
      "stop 16\n",
      "\n"
     ]
    }
   ],
   "source": [
    "show_rank_metrics(\n",
    "    df_group=pd.DataFrame(data=train['group'].tolist(), columns=['group']),\n",
    "    df_proba=pd.DataFrame(data=model.predict_proba(X_train)[:,1].tolist(), columns=['proba']),\n",
    "    df_true=pd.DataFrame(data=y_train.tolist(), columns=['correct']),\n",
    "    label='train'\n",
    ")\n",
    "show_rank_metrics(\n",
    "    df_group=pd.DataFrame(data=test['group'].tolist(), columns=['group']),\n",
    "    df_proba=pd.DataFrame(data=model.predict_proba(X_test)[:,1].tolist(), columns=['proba']),\n",
    "    df_true=pd.DataFrame(data=y_test.tolist(), columns=['correct']),\n",
    "    label='test'\n",
    ")\n",
    "show_rank_metrics(\n",
    "    df_group=pd.DataFrame(data=valid['group'].tolist(), columns=['group']),\n",
    "    df_proba=pd.DataFrame(data=model.predict_proba(X_valid)[:,1].tolist(), columns=['proba']),\n",
    "    df_true=pd.DataFrame(data=y_valid.tolist(), columns=['correct']),\n",
    "    label='valid'\n",
    ")"
   ],
   "metadata": {
    "collapsed": false,
    "pycharm": {
     "name": "#%%\n"
    }
   }
  },
  {
   "cell_type": "code",
   "execution_count": 7,
   "outputs": [
    {
     "data": {
      "text/plain": "                        Feature Id  Importances\n0                       name_Event     7.275089\n1           referenceType_EXTENDS_     4.257549\n2         referenceType_REFERENCE_     4.097546\n3                      name_Action     3.498745\n4               referenceType_TYPE     3.330665\n..                             ...          ...\n735  insideStatement2_if_condition     0.000000\n736  insideStatement2_if_else_body     0.000000\n737  insideStatement2_ternary_else     0.000000\n738           insideStatement2_try     0.000000\n739    insideStatement2_while_body     0.000000\n\n[740 rows x 2 columns]",
      "text/html": "<div>\n<style scoped>\n    .dataframe tbody tr th:only-of-type {\n        vertical-align: middle;\n    }\n\n    .dataframe tbody tr th {\n        vertical-align: top;\n    }\n\n    .dataframe thead th {\n        text-align: right;\n    }\n</style>\n<table border=\"1\" class=\"dataframe\">\n  <thead>\n    <tr style=\"text-align: right;\">\n      <th></th>\n      <th>Feature Id</th>\n      <th>Importances</th>\n    </tr>\n  </thead>\n  <tbody>\n    <tr>\n      <th>0</th>\n      <td>name_Event</td>\n      <td>7.275089</td>\n    </tr>\n    <tr>\n      <th>1</th>\n      <td>referenceType_EXTENDS_</td>\n      <td>4.257549</td>\n    </tr>\n    <tr>\n      <th>2</th>\n      <td>referenceType_REFERENCE_</td>\n      <td>4.097546</td>\n    </tr>\n    <tr>\n      <th>3</th>\n      <td>name_Action</td>\n      <td>3.498745</td>\n    </tr>\n    <tr>\n      <th>4</th>\n      <td>referenceType_TYPE</td>\n      <td>3.330665</td>\n    </tr>\n    <tr>\n      <th>...</th>\n      <td>...</td>\n      <td>...</td>\n    </tr>\n    <tr>\n      <th>735</th>\n      <td>insideStatement2_if_condition</td>\n      <td>0.000000</td>\n    </tr>\n    <tr>\n      <th>736</th>\n      <td>insideStatement2_if_else_body</td>\n      <td>0.000000</td>\n    </tr>\n    <tr>\n      <th>737</th>\n      <td>insideStatement2_ternary_else</td>\n      <td>0.000000</td>\n    </tr>\n    <tr>\n      <th>738</th>\n      <td>insideStatement2_try</td>\n      <td>0.000000</td>\n    </tr>\n    <tr>\n      <th>739</th>\n      <td>insideStatement2_while_body</td>\n      <td>0.000000</td>\n    </tr>\n  </tbody>\n</table>\n<p>740 rows × 2 columns</p>\n</div>"
     },
     "execution_count": 7,
     "metadata": {},
     "output_type": "execute_result"
    }
   ],
   "source": [
    "model.get_feature_importance(prettified=True)"
   ],
   "metadata": {
    "collapsed": false,
    "pycharm": {
     "name": "#%%\n"
    }
   }
  },
  {
   "cell_type": "code",
   "execution_count": 8,
   "outputs": [],
   "source": [
    "model.save_model(\"saved/model_catboost\")"
   ],
   "metadata": {
    "collapsed": false,
    "pycharm": {
     "name": "#%%\n"
    }
   }
  },
  {
   "cell_type": "code",
   "execution_count": 8,
   "outputs": [],
   "source": [],
   "metadata": {
    "collapsed": false,
    "pycharm": {
     "name": "#%%\n"
    }
   }
  }
 ],
 "metadata": {
  "kernelspec": {
   "display_name": "Python 3",
   "language": "python",
   "name": "python3"
  },
  "language_info": {
   "codemirror_mode": {
    "name": "ipython",
    "version": 2
   },
   "file_extension": ".py",
   "mimetype": "text/x-python",
   "name": "python",
   "nbconvert_exporter": "python",
   "pygments_lexer": "ipython2",
   "version": "2.7.6"
  }
 },
 "nbformat": 4,
 "nbformat_minor": 0
}