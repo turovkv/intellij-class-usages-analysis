{
 "cells": [
  {
   "cell_type": "code",
   "execution_count": 1,
   "metadata": {
    "collapsed": true,
    "pycharm": {
     "name": "#%%\n"
    }
   },
   "outputs": [],
   "source": [
    "import numpy as np\n",
    "import pandas as pd\n",
    "from sklearn import metrics\n",
    "from sklearn.linear_model import LogisticRegression\n",
    "from sklearn.linear_model import LogisticRegressionCV\n",
    "from utils import show_rank_metrics\n",
    "dataset_folder='./../dataset/saved/'"
   ]
  },
  {
   "cell_type": "code",
   "execution_count": 10,
   "outputs": [],
   "source": [
    "train = pd.read_pickle(dataset_folder+'train_ohe401_intr2_2k')\n",
    "y_train = train['correct']\n",
    "X_train = train.drop(columns=['group', 'correct'])\n",
    "\n",
    "test = pd.read_pickle(dataset_folder+'test_ohe401_intr2_2k')\n",
    "y_test = test['correct']\n",
    "X_test = test.drop(columns=['group', 'correct'])\n",
    "\n",
    "valid = pd.read_pickle(dataset_folder+'valid_ohe401_intr2_2k')\n",
    "y_valid = valid['correct']\n",
    "X_valid = valid.drop(columns=['group', 'correct'])"
   ],
   "metadata": {
    "collapsed": false,
    "pycharm": {
     "name": "#%%\n"
    }
   }
  },
  {
   "cell_type": "code",
   "execution_count": 3,
   "outputs": [],
   "source": [
    "# xs = X_train.iloc[:4 * 10 ** 4, :]\n",
    "# ys = y_train.iloc[:4 * 10 ** 4]\n",
    "\n",
    "xs = X_train\n",
    "ys = y_train"
   ],
   "metadata": {
    "collapsed": false,
    "pycharm": {
     "name": "#%%\n"
    }
   }
  },
  {
   "cell_type": "code",
   "execution_count": 4,
   "outputs": [],
   "source": [
    "clf = LogisticRegression(random_state=0, solver='saga', max_iter=10 ** 3, n_jobs=6).fit(xs, ys)"
   ],
   "metadata": {
    "collapsed": false,
    "pycharm": {
     "name": "#%%\n"
    }
   }
  },
  {
   "cell_type": "code",
   "execution_count": 5,
   "outputs": [],
   "source": [
    "#clf.predict_proba(xs)"
   ],
   "metadata": {
    "collapsed": false,
    "pycharm": {
     "name": "#%%\n"
    }
   }
  },
  {
   "cell_type": "code",
   "execution_count": 6,
   "outputs": [],
   "source": [
    "#metrics.plot_roc_curve(clf, X_test, y_test)"
   ],
   "metadata": {
    "collapsed": false,
    "pycharm": {
     "name": "#%%\n"
    }
   }
  },
  {
   "cell_type": "code",
   "execution_count": 7,
   "outputs": [],
   "source": [
    "#metrics.plot_roc_curve(clf, xs, ys)"
   ],
   "metadata": {
    "collapsed": false,
    "pycharm": {
     "name": "#%%\n"
    }
   }
  },
  {
   "cell_type": "code",
   "execution_count": 11,
   "outputs": [
    {
     "name": "stdout",
     "output_type": "stream",
     "text": [
      "\n",
      "------train-------\n",
      "(299961, 3)\n",
      "\n",
      "mean = 2.229739866182604\n",
      "\n",
      "top0 = 0.0\n",
      "top1 = 0.5765249482432716\n",
      "top2 = 0.7092021962855172\n",
      "top3 = 0.7918929460829908\n",
      "top4 = 0.8576014881934652\n",
      "top5 = 0.9113684779021273\n",
      "top6 = 0.9520837708902157\n",
      "top7 = 0.9783971916349126\n",
      "top8 = 0.993189114584896\n",
      "top9 = 1.0\n",
      "\n",
      "\n",
      "------test-------\n",
      "(240110, 3)\n",
      "\n",
      "mean = 5.522144017325393\n",
      "\n",
      "top0 = 0.0\n",
      "top1 = 0.3991337303735788\n",
      "top2 = 0.5042772062804548\n",
      "top3 = 0.5690308608554413\n",
      "top4 = 0.6164591229020032\n",
      "top5 = 0.6531672983216026\n",
      "top6 = 0.6866269626421223\n",
      "top7 = 0.7130481862479697\n",
      "top8 = 0.7381700054141852\n",
      "top9 = 0.7661072008662696\n",
      "top10 = 0.7916621548456957\n",
      "top11 = 0.8186247969680563\n",
      "top12 = 0.8427720628045479\n",
      "top13 = 0.8678938819707634\n",
      "top14 = 0.8885760693015701\n",
      "top15 = 0.907958852192745\n",
      "top16 = 0.9253925284244722\n",
      "stop 16\n",
      "\n",
      "\n",
      "------valid-------\n",
      "(134354, 3)\n",
      "\n",
      "mean = 195.32178217821783\n",
      "\n",
      "top0 = 0.0\n",
      "top1 = 0.0\n",
      "top2 = 0.07425742574257425\n",
      "top3 = 0.10891089108910891\n",
      "top4 = 0.1485148514851485\n",
      "top5 = 0.15346534653465346\n",
      "top6 = 0.16336633663366337\n",
      "top7 = 0.1782178217821782\n",
      "top8 = 0.20297029702970298\n",
      "top9 = 0.21287128712871287\n",
      "top10 = 0.22277227722772278\n",
      "top11 = 0.24257425742574257\n",
      "top12 = 0.2524752475247525\n",
      "top13 = 0.2722772277227723\n",
      "top14 = 0.27722772277227725\n",
      "top15 = 0.2871287128712871\n",
      "top16 = 0.2871287128712871\n",
      "stop 16\n",
      "\n"
     ]
    }
   ],
   "source": [
    "show_rank_metrics(\n",
    "    df_group=pd.DataFrame(data=train['group'].iloc[:xs.shape[0]].tolist(), columns=['group']),\n",
    "    df_proba=pd.DataFrame(data=clf.predict_proba(xs)[:,1], columns=['proba']),\n",
    "    df_true=pd.DataFrame(data=ys.tolist(), columns=['correct']),\n",
    "    label='train'\n",
    ")\n",
    "show_rank_metrics(\n",
    "    df_group=pd.DataFrame(data=test['group'].tolist(), columns=['group']),\n",
    "    df_proba=pd.DataFrame(data=clf.predict_proba(X_test)[:,1], columns=['proba']),\n",
    "    df_true=pd.DataFrame(data=y_test.tolist(), columns=['correct']),\n",
    "    label='test'\n",
    ")\n",
    "show_rank_metrics(\n",
    "    df_group=pd.DataFrame(data=valid['group'].tolist(), columns=['group']),\n",
    "    df_proba=pd.DataFrame(data=clf.predict_proba(X_valid)[:,1], columns=['proba']),\n",
    "    df_true=pd.DataFrame(data=y_valid.tolist(), columns=['correct']),\n",
    "    label='valid'\n",
    ")"
   ],
   "metadata": {
    "collapsed": false,
    "pycharm": {
     "name": "#%%\n"
    }
   }
  },
  {
   "cell_type": "code",
   "execution_count": 9,
   "outputs": [
    {
     "ename": "AssertionError",
     "evalue": "",
     "output_type": "error",
     "traceback": [
      "\u001B[0;31m---------------------------------------------------------------------------\u001B[0m",
      "\u001B[0;31mAssertionError\u001B[0m                            Traceback (most recent call last)",
      "Input \u001B[0;32mIn [9]\u001B[0m, in \u001B[0;36m<cell line: 1>\u001B[0;34m()\u001B[0m\n\u001B[0;32m----> 1\u001B[0m \u001B[38;5;28;01massert\u001B[39;00m \u001B[38;5;28;01mFalse\u001B[39;00m\n",
      "\u001B[0;31mAssertionError\u001B[0m: "
     ]
    }
   ],
   "source": [
    "assert False"
   ],
   "metadata": {
    "collapsed": false,
    "pycharm": {
     "name": "#%%\n"
    }
   }
  },
  {
   "cell_type": "code",
   "execution_count": null,
   "outputs": [],
   "source": [
    "clf = LogisticRegression(random_state=0, C=1e-1, max_iter=10 ** 3, n_jobs=4).fit(xs, ys)"
   ],
   "metadata": {
    "collapsed": false,
    "pycharm": {
     "name": "#%%\n"
    }
   }
  },
  {
   "cell_type": "code",
   "execution_count": null,
   "outputs": [],
   "source": [
    "print(\"lin reg lbfgs\\n\")\n",
    "show_rank_metrics(\n",
    "    df_group=pd.DataFrame(data=test['group'].tolist(), columns=['group']),\n",
    "    df_proba=pd.DataFrame(data=clf.predict_proba(X_test)[:,1], columns=['proba']),\n",
    "    df_true=pd.DataFrame(data=y_test.tolist(), columns=['correct'])\n",
    ")"
   ],
   "metadata": {
    "collapsed": false,
    "pycharm": {
     "name": "#%%\n"
    }
   }
  },
  {
   "cell_type": "code",
   "execution_count": null,
   "outputs": [],
   "source": [
    "clf = LogisticRegression(random_state=0, C=1e-1, max_iter=10 ** 3, n_jobs=4, penalty='l1', solver='saga').fit(xs, ys)\n",
    "show_rank_metrics(\n",
    "    df_group=pd.DataFrame(data=test['group'].tolist(), columns=['group']),\n",
    "    df_proba=pd.DataFrame(data=clf.predict_proba(X_test)[:,1], columns=['proba']),\n",
    "    df_true=pd.DataFrame(data=y_test.tolist(), columns=['correct'])\n",
    ")"
   ],
   "metadata": {
    "collapsed": false,
    "pycharm": {
     "name": "#%%\n"
    }
   }
  },
  {
   "cell_type": "code",
   "execution_count": null,
   "outputs": [],
   "source": [
    "from joblib import dump, load\n",
    "\n",
    "dump(clf, 'clf_linreg.joblib')\n",
    "# 17 kb"
   ],
   "metadata": {
    "collapsed": false,
    "pycharm": {
     "name": "#%%\n"
    }
   }
  }
 ],
 "metadata": {
  "kernelspec": {
   "display_name": "Python 3",
   "language": "python",
   "name": "python3"
  },
  "language_info": {
   "codemirror_mode": {
    "name": "ipython",
    "version": 2
   },
   "file_extension": ".py",
   "mimetype": "text/x-python",
   "name": "python",
   "nbconvert_exporter": "python",
   "pygments_lexer": "ipython2",
   "version": "2.7.6"
  }
 },
 "nbformat": 4,
 "nbformat_minor": 0
}