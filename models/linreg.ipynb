{
 "cells": [
  {
   "cell_type": "code",
   "execution_count": 1,
   "metadata": {
    "collapsed": true,
    "pycharm": {
     "name": "#%%\n"
    }
   },
   "outputs": [],
   "source": [
    "import numpy as np\n",
    "import pandas as pd\n",
    "from sklearn import metrics\n",
    "from sklearn.linear_model import LogisticRegression\n",
    "from sklearn.linear_model import LogisticRegressionCV\n",
    "from utils import show_rank_metrics\n",
    "dataset_folder='./../dataset/saved/'"
   ]
  },
  {
   "cell_type": "code",
   "execution_count": 2,
   "outputs": [],
   "source": [
    "train = pd.read_pickle(dataset_folder+'train_ohe401_intr2_2k')\n",
    "y_train = train['correct']\n",
    "X_train = train.drop(columns=['group', 'correct'])\n",
    "\n",
    "test = pd.read_pickle(dataset_folder+'test_ohe401_intr2_2k')\n",
    "y_test = test['correct']\n",
    "X_test = test.drop(columns=['group', 'correct'])"
   ],
   "metadata": {
    "collapsed": false,
    "pycharm": {
     "name": "#%%\n"
    }
   }
  },
  {
   "cell_type": "code",
   "execution_count": 3,
   "outputs": [],
   "source": [
    "# xs = X_train.iloc[:4 * 10 ** 4, :]\n",
    "# ys = y_train.iloc[:4 * 10 ** 4]\n",
    "\n",
    "xs = X_train\n",
    "ys = y_train"
   ],
   "metadata": {
    "collapsed": false,
    "pycharm": {
     "name": "#%%\n"
    }
   }
  },
  {
   "cell_type": "code",
   "execution_count": 10,
   "outputs": [
    {
     "name": "stderr",
     "output_type": "stream",
     "text": [
      "/home/kirill/Documents/1.Projects/class-ranking/intellij-class-usages-analysis/venv/lib/python3.8/site-packages/sklearn/linear_model/_sag.py:352: ConvergenceWarning: The max_iter was reached which means the coef_ did not converge\n",
      "  warnings.warn(\n"
     ]
    }
   ],
   "source": [
    "clf = LogisticRegression(random_state=0, solver='saga', max_iter=10 ** 3, n_jobs=6).fit(xs, ys)"
   ],
   "metadata": {
    "collapsed": false,
    "pycharm": {
     "name": "#%%\n"
    }
   }
  },
  {
   "cell_type": "code",
   "execution_count": 11,
   "outputs": [],
   "source": [
    "#clf.predict_proba(xs)"
   ],
   "metadata": {
    "collapsed": false,
    "pycharm": {
     "name": "#%%\n"
    }
   }
  },
  {
   "cell_type": "code",
   "execution_count": 12,
   "outputs": [],
   "source": [
    "#metrics.plot_roc_curve(clf, X_test, y_test)"
   ],
   "metadata": {
    "collapsed": false,
    "pycharm": {
     "name": "#%%\n"
    }
   }
  },
  {
   "cell_type": "code",
   "execution_count": 13,
   "outputs": [],
   "source": [
    "#metrics.plot_roc_curve(clf, xs, ys)"
   ],
   "metadata": {
    "collapsed": false,
    "pycharm": {
     "name": "#%%\n"
    }
   }
  },
  {
   "cell_type": "code",
   "execution_count": 14,
   "outputs": [
    {
     "name": "stdout",
     "output_type": "stream",
     "text": [
      "\n",
      "------train-------\n",
      "(269316, 3)\n",
      "\n",
      "mean = 3.142059885042107\n",
      "\n",
      "top0 = 0.0\n",
      "top1 = 0.49612351289934503\n",
      "top2 = 0.5995856168961369\n",
      "top3 = 0.6569643095842802\n",
      "top4 = 0.7066902820478546\n",
      "top5 = 0.756483090495923\n",
      "top6 = 0.8174709263467451\n",
      "top7 = 0.8809651116160941\n",
      "top8 = 0.9436572650715145\n",
      "top9 = 1.0\n",
      "\n",
      "\n",
      "------test-------\n",
      "(221754, 3)\n",
      "\n",
      "mean = 8.454332278109979\n",
      "\n",
      "top0 = 0.0\n",
      "top1 = 0.3547895415640755\n",
      "top2 = 0.4360417399460664\n",
      "top3 = 0.4890374018056044\n",
      "top4 = 0.5257357251729394\n",
      "top5 = 0.5512955797866104\n",
      "top6 = 0.5731035291358894\n",
      "top7 = 0.5935045140110212\n",
      "top8 = 0.6096846054637121\n",
      "top9 = 0.6272716613905499\n",
      "top10 = 0.6438034939617775\n",
      "top11 = 0.659397350216907\n",
      "top12 = 0.6759291827881346\n",
      "top13 = 0.6941024739125337\n",
      "top14 = 0.7141517176691289\n",
      "top15 = 0.7320905147145035\n",
      "top16 = 0.7534294759057334\n",
      "top17 = 0.7778168601242819\n",
      "top18 = 0.8027904795403916\n",
      "top19 = 0.8282330871145503\n",
      "top20 = 0.8576620940321257\n",
      "top21 = 0.8814632430531129\n",
      "top22 = 0.9065541095087349\n",
      "top23 = 0.9302380114902099\n",
      "top24 = 0.951694219720952\n",
      "top25 = 0.9758471098604761\n",
      "top26 = 1.0\n",
      "\n"
     ]
    }
   ],
   "source": [
    "show_rank_metrics(\n",
    "    df_group=pd.DataFrame(data=train['group'].iloc[:xs.shape[0]].tolist(), columns=['group']),\n",
    "    df_proba=pd.DataFrame(data=clf.predict_proba(xs)[:,1], columns=['proba']),\n",
    "    df_true=pd.DataFrame(data=ys.tolist(), columns=['correct']),\n",
    "    label='train'\n",
    ")\n",
    "show_rank_metrics(\n",
    "    df_group=pd.DataFrame(data=test['group'].tolist(), columns=['group']),\n",
    "    df_proba=pd.DataFrame(data=clf.predict_proba(X_test)[:,1], columns=['proba']),\n",
    "    df_true=pd.DataFrame(data=y_test.tolist(), columns=['correct']),\n",
    "    label='test'\n",
    ")"
   ],
   "metadata": {
    "collapsed": false,
    "pycharm": {
     "name": "#%%\n"
    }
   }
  },
  {
   "cell_type": "code",
   "execution_count": 9,
   "outputs": [
    {
     "ename": "AssertionError",
     "evalue": "",
     "output_type": "error",
     "traceback": [
      "\u001B[0;31m---------------------------------------------------------------------------\u001B[0m",
      "\u001B[0;31mAssertionError\u001B[0m                            Traceback (most recent call last)",
      "Input \u001B[0;32mIn [9]\u001B[0m, in \u001B[0;36m<cell line: 1>\u001B[0;34m()\u001B[0m\n\u001B[0;32m----> 1\u001B[0m \u001B[38;5;28;01massert\u001B[39;00m \u001B[38;5;28;01mFalse\u001B[39;00m\n",
      "\u001B[0;31mAssertionError\u001B[0m: "
     ]
    }
   ],
   "source": [
    "assert False"
   ],
   "metadata": {
    "collapsed": false,
    "pycharm": {
     "name": "#%%\n"
    }
   }
  },
  {
   "cell_type": "code",
   "execution_count": null,
   "outputs": [],
   "source": [
    "clf = LogisticRegression(random_state=0, C=1e-1, max_iter=10 ** 3, n_jobs=4).fit(xs, ys)"
   ],
   "metadata": {
    "collapsed": false,
    "pycharm": {
     "name": "#%%\n"
    }
   }
  },
  {
   "cell_type": "code",
   "execution_count": null,
   "outputs": [],
   "source": [
    "print(\"lin reg lbfgs\\n\")\n",
    "show_rank_metrics(\n",
    "    df_group=pd.DataFrame(data=test['group'].tolist(), columns=['group']),\n",
    "    df_proba=pd.DataFrame(data=clf.predict_proba(X_test)[:,1], columns=['proba']),\n",
    "    df_true=pd.DataFrame(data=y_test.tolist(), columns=['correct'])\n",
    ")"
   ],
   "metadata": {
    "collapsed": false,
    "pycharm": {
     "name": "#%%\n"
    }
   }
  },
  {
   "cell_type": "code",
   "execution_count": null,
   "outputs": [],
   "source": [
    "clf = LogisticRegression(random_state=0, C=1e-1, max_iter=10 ** 3, n_jobs=4, penalty='l1', solver='saga').fit(xs, ys)\n",
    "show_rank_metrics(\n",
    "    df_group=pd.DataFrame(data=test['group'].tolist(), columns=['group']),\n",
    "    df_proba=pd.DataFrame(data=clf.predict_proba(X_test)[:,1], columns=['proba']),\n",
    "    df_true=pd.DataFrame(data=y_test.tolist(), columns=['correct'])\n",
    ")"
   ],
   "metadata": {
    "collapsed": false,
    "pycharm": {
     "name": "#%%\n"
    }
   }
  },
  {
   "cell_type": "code",
   "execution_count": null,
   "outputs": [],
   "source": [
    "from joblib import dump, load\n",
    "\n",
    "dump(clf, 'clf_linreg.joblib')\n",
    "# 17 kb"
   ],
   "metadata": {
    "collapsed": false,
    "pycharm": {
     "name": "#%%\n"
    }
   }
  }
 ],
 "metadata": {
  "kernelspec": {
   "display_name": "Python 3",
   "language": "python",
   "name": "python3"
  },
  "language_info": {
   "codemirror_mode": {
    "name": "ipython",
    "version": 2
   },
   "file_extension": ".py",
   "mimetype": "text/x-python",
   "name": "python",
   "nbconvert_exporter": "python",
   "pygments_lexer": "ipython2",
   "version": "2.7.6"
  }
 },
 "nbformat": 4,
 "nbformat_minor": 0
}