{
 "cells": [
  {
   "cell_type": "code",
   "execution_count": 1,
   "metadata": {
    "collapsed": true,
    "pycharm": {
     "name": "#%%\n"
    }
   },
   "outputs": [],
   "source": [
    "import numpy as np\n",
    "import pandas as pd\n",
    "from sklearn import metrics\n",
    "from sklearn.linear_model import LogisticRegression\n",
    "from sklearn.linear_model import LogisticRegressionCV\n",
    "from utils import show_rank_metrics"
   ]
  },
  {
   "cell_type": "code",
   "execution_count": 2,
   "outputs": [],
   "source": [
    "train = pd.read_csv('train.csv', index_col=0).sample(frac=1)\n",
    "y_train = train['correct']\n",
    "X_train = train.drop(columns=['name', 'firstChar', 'group', 'correct'])\n",
    "\n",
    "test = pd.read_csv('test.csv', index_col=0).sample(frac=1)\n",
    "y_test = test['correct']\n",
    "X_test = test.drop(columns=['name', 'firstChar', 'group', 'correct'])"
   ],
   "metadata": {
    "collapsed": false,
    "pycharm": {
     "name": "#%%\n"
    }
   }
  },
  {
   "cell_type": "code",
   "execution_count": 3,
   "outputs": [],
   "source": [
    "s_tr = X_train.sum()\n",
    "s_te = X_test.sum()"
   ],
   "metadata": {
    "collapsed": false,
    "pycharm": {
     "name": "#%%\n"
    }
   }
  },
  {
   "cell_type": "code",
   "execution_count": 4,
   "outputs": [
    {
     "name": "stdout",
     "output_type": "stream",
     "text": [
      "train median 1.01838656341026 %\n",
      "test median 0.9055420453091002 %\n"
     ]
    }
   ],
   "source": [
    "print(f'train median {s_tr.median() / X_train.shape[0] * 100} %')\n",
    "print(f'test median {s_te.median() / X_test.shape[0] * 100} %')"
   ],
   "metadata": {
    "collapsed": false,
    "pycharm": {
     "name": "#%%\n"
    }
   }
  },
  {
   "cell_type": "code",
   "execution_count": 5,
   "outputs": [],
   "source": [
    "xs = X_train.iloc[:4 * 10 ** 4, :]\n",
    "ys = y_train.iloc[:4 * 10 ** 4]"
   ],
   "metadata": {
    "collapsed": false,
    "pycharm": {
     "name": "#%%\n"
    }
   }
  },
  {
   "cell_type": "code",
   "execution_count": 6,
   "outputs": [],
   "source": [
    "clf = LogisticRegression(random_state=0, C=1e-3, solver='saga', max_iter=10 ** 3, n_jobs=5).fit(xs, ys)"
   ],
   "metadata": {
    "collapsed": false,
    "pycharm": {
     "name": "#%%\n"
    }
   }
  },
  {
   "cell_type": "code",
   "execution_count": 7,
   "outputs": [],
   "source": [
    "#clf.predict_proba(xs)"
   ],
   "metadata": {
    "collapsed": false,
    "pycharm": {
     "name": "#%%\n"
    }
   }
  },
  {
   "cell_type": "code",
   "execution_count": 8,
   "outputs": [],
   "source": [
    "#metrics.plot_roc_curve(clf, X_test, y_test)"
   ],
   "metadata": {
    "collapsed": false,
    "pycharm": {
     "name": "#%%\n"
    }
   }
  },
  {
   "cell_type": "code",
   "execution_count": 9,
   "outputs": [],
   "source": [
    "#metrics.plot_roc_curve(clf, xs, ys)"
   ],
   "metadata": {
    "collapsed": false,
    "pycharm": {
     "name": "#%%\n"
    }
   }
  },
  {
   "cell_type": "code",
   "execution_count": 10,
   "outputs": [
    {
     "name": "stdout",
     "output_type": "stream",
     "text": [
      "(40000, 3)\n",
      "\n",
      "mean = 1.5487452809238285\n",
      "\n",
      "top0 = 0.0\n",
      "top1 = 0.6087053075727293\n",
      "top2 = 0.8758605374194981\n",
      "top3 = 0.9706862091938707\n",
      "top4 = 0.9964468132356207\n",
      "top5 = 0.9995558516544526\n",
      "top6 = 1.0\n"
     ]
    }
   ],
   "source": [
    "show_rank_metrics(\n",
    "    df_group=pd.DataFrame(data=train['group'].iloc[:4 * 10 ** 4].tolist(), columns=['group']),\n",
    "    df_proba=pd.DataFrame(data=clf.predict_proba(xs)[:,1], columns=['proba']),\n",
    "    df_true=pd.DataFrame(data=ys.tolist(), columns=['correct'])\n",
    ")"
   ],
   "metadata": {
    "collapsed": false,
    "pycharm": {
     "name": "#%%\n"
    }
   }
  },
  {
   "cell_type": "code",
   "execution_count": 11,
   "outputs": [
    {
     "name": "stdout",
     "output_type": "stream",
     "text": [
      "(218764, 3)\n",
      "\n",
      "mean = 13.249346327549322\n",
      "\n",
      "top0 = 0.0\n",
      "top1 = 0.15533634418825767\n",
      "top2 = 0.19681483242215356\n",
      "top3 = 0.2265272165438555\n",
      "top4 = 0.24958402662229617\n",
      "top5 = 0.2694318992155931\n",
      "top6 = 0.29248870929403376\n",
      "top7 = 0.31269313049679104\n",
      "top8 = 0.3352745424292845\n",
      "top9 = 0.35880675065367246\n",
      "top10 = 0.3813881625861659\n",
      "top11 = 0.4089612550511053\n",
      "top12 = 0.4372474447349655\n",
      "top13 = 0.46707867839315426\n",
      "top14 = 0.5034466365581174\n",
      "top15 = 0.537675303066318\n",
      "top16 = 0.5795103399096744\n",
      "top17 = 0.6169479439030188\n",
      "top18 = 0.6568813881625861\n",
      "top19 = 0.697171381031614\n",
      "top20 = 0.7407891609222724\n",
      "top21 = 0.7808414547183266\n",
      "top22 = 0.8237461373900642\n",
      "top23 = 0.8658188733063941\n",
      "top24 = 0.9090801045875921\n",
      "top25 = 0.9471119562633705\n",
      "top26 = 1.0\n"
     ]
    }
   ],
   "source": [
    "show_rank_metrics(\n",
    "    df_group=pd.DataFrame(data=test['group'].tolist(), columns=['group']),\n",
    "    df_proba=pd.DataFrame(data=clf.predict_proba(X_test)[:,1], columns=['proba']),\n",
    "    df_true=pd.DataFrame(data=y_test.tolist(), columns=['correct'])\n",
    ")"
   ],
   "metadata": {
    "collapsed": false,
    "pycharm": {
     "name": "#%%\n"
    }
   }
  },
  {
   "cell_type": "code",
   "execution_count": 12,
   "outputs": [],
   "source": [
    "clf = LogisticRegression(random_state=0, C=1e-1, max_iter=10 ** 3, n_jobs=4).fit(xs, ys)"
   ],
   "metadata": {
    "collapsed": false,
    "pycharm": {
     "name": "#%%\n"
    }
   }
  },
  {
   "cell_type": "code",
   "execution_count": 13,
   "outputs": [
    {
     "name": "stdout",
     "output_type": "stream",
     "text": [
      "lin reg lbfgs\n",
      "\n",
      "(218764, 3)\n",
      "\n",
      "mean = 13.280484906108866\n",
      "\n",
      "top0 = 0.0\n",
      "top1 = 0.15295935345852152\n",
      "top2 = 0.19776562871404801\n",
      "top3 = 0.23223199429522226\n",
      "top4 = 0.2598050867601616\n",
      "top5 = 0.28309959591157596\n",
      "top6 = 0.30425481340622773\n",
      "top7 = 0.32315188970763015\n",
      "top8 = 0.3409793201806513\n",
      "top9 = 0.36189683860232946\n",
      "top10 = 0.38008081768481106\n",
      "top11 = 0.40099833610648916\n",
      "top12 = 0.4277394818160209\n",
      "top13 = 0.4582838126931305\n",
      "top14 = 0.49417637271214643\n",
      "top15 = 0.532089374851438\n",
      "top16 = 0.5720228191110055\n",
      "top17 = 0.6086284763489422\n",
      "top18 = 0.6474922747801284\n",
      "top19 = 0.691585452816734\n",
      "top20 = 0.7325885429046827\n",
      "top21 = 0.7775136676966959\n",
      "top22 = 0.8219633943427621\n",
      "top23 = 0.8639172807226052\n",
      "top24 = 0.906108866175422\n",
      "top25 = 0.9481816020917518\n",
      "top26 = 1.0\n"
     ]
    }
   ],
   "source": [
    "print(\"lin reg lbfgs\\n\")\n",
    "show_rank_metrics(\n",
    "    df_group=pd.DataFrame(data=test['group'].tolist(), columns=['group']),\n",
    "    df_proba=pd.DataFrame(data=clf.predict_proba(X_test)[:,1], columns=['proba']),\n",
    "    df_true=pd.DataFrame(data=y_test.tolist(), columns=['correct'])\n",
    ")"
   ],
   "metadata": {
    "collapsed": false,
    "pycharm": {
     "name": "#%%\n"
    }
   }
  },
  {
   "cell_type": "code",
   "execution_count": 14,
   "outputs": [
    {
     "name": "stdout",
     "output_type": "stream",
     "text": [
      "(218764, 3)\n",
      "\n",
      "mean = 16.351794628000953\n",
      "\n",
      "top0 = 0.0\n",
      "top1 = 0.13477537437603992\n",
      "top2 = 0.1587829807463751\n",
      "top3 = 0.17185642975992393\n",
      "top4 = 0.1804135963869741\n",
      "top5 = 0.18599952460185407\n",
      "top6 = 0.191585452816734\n",
      "top7 = 0.19657713334917995\n",
      "top8 = 0.20335155692892798\n",
      "top9 = 0.2096505823627288\n",
      "top10 = 0.21761350130734491\n",
      "top11 = 0.22593296886142145\n",
      "top12 = 0.23971951509389114\n",
      "top13 = 0.2590919895412408\n",
      "top14 = 0.2859519847872593\n",
      "top15 = 0.3197052531495127\n",
      "top16 = 0.364036130259092\n",
      "top17 = 0.415973377703827\n",
      "top18 = 0.4770620394580461\n",
      "top19 = 0.5377941526028048\n",
      "top20 = 0.6096981221773236\n",
      "top21 = 0.6843356310910388\n",
      "top22 = 0.7551699548371761\n",
      "top23 = 0.8210125980508676\n",
      "top24 = 0.8773472783456144\n",
      "top25 = 0.9247682434038508\n",
      "top26 = 1.0\n"
     ]
    }
   ],
   "source": [
    "clf = LogisticRegression(random_state=0, C=1e-1, max_iter=10 ** 3, n_jobs=4, penalty='l1', solver='saga').fit(xs, ys)\n",
    "show_rank_metrics(\n",
    "    df_group=pd.DataFrame(data=test['group'].tolist(), columns=['group']),\n",
    "    df_proba=pd.DataFrame(data=clf.predict_proba(X_test)[:,1], columns=['proba']),\n",
    "    df_true=pd.DataFrame(data=y_test.tolist(), columns=['correct'])\n",
    ")"
   ],
   "metadata": {
    "collapsed": false,
    "pycharm": {
     "name": "#%%\n"
    }
   }
  },
  {
   "cell_type": "code",
   "execution_count": 15,
   "outputs": [
    {
     "data": {
      "text/plain": "['clf_linreg.joblib']"
     },
     "execution_count": 15,
     "metadata": {},
     "output_type": "execute_result"
    }
   ],
   "source": [
    "from joblib import dump, load\n",
    "\n",
    "dump(clf, 'clf_linreg.joblib')\n",
    "# 17 kb"
   ],
   "metadata": {
    "collapsed": false,
    "pycharm": {
     "name": "#%%\n"
    }
   }
  }
 ],
 "metadata": {
  "kernelspec": {
   "display_name": "Python 3",
   "language": "python",
   "name": "python3"
  },
  "language_info": {
   "codemirror_mode": {
    "name": "ipython",
    "version": 2
   },
   "file_extension": ".py",
   "mimetype": "text/x-python",
   "name": "python",
   "nbconvert_exporter": "python",
   "pygments_lexer": "ipython2",
   "version": "2.7.6"
  }
 },
 "nbformat": 4,
 "nbformat_minor": 0
}