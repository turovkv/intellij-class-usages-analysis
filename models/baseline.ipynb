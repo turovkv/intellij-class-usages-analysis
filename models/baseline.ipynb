{
 "cells": [
  {
   "cell_type": "code",
   "execution_count": 1,
   "outputs": [],
   "source": [
    "\n",
    "import json\n",
    "import os\n",
    "import random\n",
    "\n",
    "import pandas as pd\n",
    "\n",
    "from utils import show_rank_metrics\n",
    "dataset_folder='./../dataset/saved/'\n",
    "random.seed(0)"
   ],
   "metadata": {
    "collapsed": false,
    "pycharm": {
     "name": "#%%\n"
    }
   }
  },
  {
   "cell_type": "code",
   "execution_count": 2,
   "outputs": [
    {
     "name": "stderr",
     "output_type": "stream",
     "text": [
      "/tmp/ipykernel_106775/4023215888.py:10: DtypeWarning: Columns (2,3,15) have mixed types. Specify dtype option on import or set low_memory=False.\n",
      "  valid = pd.read_csv(dataset_folder+'valid_eval_raw_2.csv', index_col=0).sample(frac=1, random_state=0)\n"
     ]
    }
   ],
   "source": [
    "train = pd.read_csv(dataset_folder+'train_raw_2.csv', index_col=0).sample(frac=1, random_state=0)\n",
    "y_train = train['correct']\n",
    "X_train = train[['name']]\n",
    "\n",
    "test = pd.read_csv(dataset_folder+'test_raw_2.csv', index_col=0).sample(frac=1, random_state=0)\n",
    "y_test = test['correct']\n",
    "X_test = test[['name']]\n",
    "\n",
    "\n",
    "valid = pd.read_csv(dataset_folder+'valid_eval_raw_2.csv', index_col=0).sample(frac=1, random_state=0)\n",
    "y_valid = valid['correct']\n",
    "X_valid = valid[['name']]\n"
   ],
   "metadata": {
    "collapsed": false,
    "pycharm": {
     "name": "#%%\n"
    }
   }
  },
  {
   "cell_type": "code",
   "execution_count": 3,
   "outputs": [
    {
     "data": {
      "text/plain": "                                                     name  \\\n46682               git4idea.crlf.GitCrlfProblemsDetector   \n111451  com.intellij.ide.plugins.DescriptorListLoading...   \n6863        com.intellij.openapi.vcs.merge.MergeSessionEx   \n35370   com.intellij.ui.dsl.builder.impl.SegmentedButt...   \n116165  com.intellij.openapi.vcs.changes.ui.LocalChang...   \n\n                                enclosingClassExtendsList  \\\n46682                     git4idea.actions.GitMergeAction   \n111451                                                NaN   \n6863    com.intellij.openapi.vcs.history.BaseDiffFromH...   \n35370        com.intellij.openapi.util.UserDataHolderBase   \n116165                                                NaN   \n\n                             enclosingClassImplementsList  correct firstChar  \\\n46682                                                 NaN        0         G   \n111451  com.intellij.openapi.actionSystem.DataProvider...        0         D   \n6863                                                  NaN        0         M   \n35370   com.android.tools.idea.apk.viewer.ApkFileEdito...        0         S   \n116165  com.intellij.openapi.actionSystem.DataProvider...        0         S   \n\n        group features.referenceType features.scopeKind  \\\n46682     287   REFERENCE_EXPRESSION             Method   \n111451    633                   TYPE             Method   \n6863       52                   TYPE             Method   \n35370     211         NEW_EXPRESSION        Initializer   \n116165    665   REFERENCE_EXPRESSION             Method   \n\n                            features.enclosingScopeName  \\\n46682                                     getActionName   \n111451                                  initPatchViewer   \n6863    checkIfFileWasTouchedAndFindParentsInBackground   \n35370                                            <init>   \n116165                                  initPatchViewer   \n\n         features.variablesTypesInEnclosingClassRemaining  \\\n46682                                      Key AnAction[]   \n111451  Project DiffContext ApplyPatchRequest TextEdit...   \n6863                                               Logger   \n35370   Disposable JBLoadingPanel Tree JPanel DexViewF...   \n116165  Project DiffContext ApplyPatchRequest TextEdit...   \n\n                           features.variablesTypesInScope  \\\n46682                                                 NaN   \n111451                                                NaN   \n6863                                                  NaN   \n35370   DefaultActionGroup JComponent ColumnTreeBuilde...   \n116165  VisibleAreaListener List int[] LineNumberConve...   \n\n                           features.variablesNamesInScope  \\\n46682                                                 NaN   \n111451                                                NaN   \n6863                                                  NaN   \n35370   actionGroup columnTree builder project dexFile...   \n116165  areaListener modelRanges patchToModelIndexes m...   \n\n       features.insideStatement_0 features.insideStatement_1  \\\n46682                      return                        NaN   \n111451                        NaN                        NaN   \n6863                          NaN                        NaN   \n35370                         NaN                        NaN   \n116165               if_then_body                        NaN   \n\n       features.insideStatement_2  \\\n46682                         NaN   \n111451                        NaN   \n6863                          NaN   \n35370                         NaN   \n116165                        NaN   \n\n                              features.enclosingClassName  \n46682                           git4idea.actions.GitMerge  \n111451  com.intellij.openapi.vcs.changes.patch.tool.Ap...  \n6863           git4idea.history.GitDiffFromHistoryHandler  \n35370   com.android.tools.idea.apk.viewer.dex.DexFileV...  \n116165  com.intellij.openapi.vcs.changes.patch.tool.Ap...  ",
      "text/html": "<div>\n<style scoped>\n    .dataframe tbody tr th:only-of-type {\n        vertical-align: middle;\n    }\n\n    .dataframe tbody tr th {\n        vertical-align: top;\n    }\n\n    .dataframe thead th {\n        text-align: right;\n    }\n</style>\n<table border=\"1\" class=\"dataframe\">\n  <thead>\n    <tr style=\"text-align: right;\">\n      <th></th>\n      <th>name</th>\n      <th>enclosingClassExtendsList</th>\n      <th>enclosingClassImplementsList</th>\n      <th>correct</th>\n      <th>firstChar</th>\n      <th>group</th>\n      <th>features.referenceType</th>\n      <th>features.scopeKind</th>\n      <th>features.enclosingScopeName</th>\n      <th>features.variablesTypesInEnclosingClassRemaining</th>\n      <th>features.variablesTypesInScope</th>\n      <th>features.variablesNamesInScope</th>\n      <th>features.insideStatement_0</th>\n      <th>features.insideStatement_1</th>\n      <th>features.insideStatement_2</th>\n      <th>features.enclosingClassName</th>\n    </tr>\n  </thead>\n  <tbody>\n    <tr>\n      <th>46682</th>\n      <td>git4idea.crlf.GitCrlfProblemsDetector</td>\n      <td>git4idea.actions.GitMergeAction</td>\n      <td>NaN</td>\n      <td>0</td>\n      <td>G</td>\n      <td>287</td>\n      <td>REFERENCE_EXPRESSION</td>\n      <td>Method</td>\n      <td>getActionName</td>\n      <td>Key AnAction[]</td>\n      <td>NaN</td>\n      <td>NaN</td>\n      <td>return</td>\n      <td>NaN</td>\n      <td>NaN</td>\n      <td>git4idea.actions.GitMerge</td>\n    </tr>\n    <tr>\n      <th>111451</th>\n      <td>com.intellij.ide.plugins.DescriptorListLoading...</td>\n      <td>NaN</td>\n      <td>com.intellij.openapi.actionSystem.DataProvider...</td>\n      <td>0</td>\n      <td>D</td>\n      <td>633</td>\n      <td>TYPE</td>\n      <td>Method</td>\n      <td>initPatchViewer</td>\n      <td>Project DiffContext ApplyPatchRequest TextEdit...</td>\n      <td>NaN</td>\n      <td>NaN</td>\n      <td>NaN</td>\n      <td>NaN</td>\n      <td>NaN</td>\n      <td>com.intellij.openapi.vcs.changes.patch.tool.Ap...</td>\n    </tr>\n    <tr>\n      <th>6863</th>\n      <td>com.intellij.openapi.vcs.merge.MergeSessionEx</td>\n      <td>com.intellij.openapi.vcs.history.BaseDiffFromH...</td>\n      <td>NaN</td>\n      <td>0</td>\n      <td>M</td>\n      <td>52</td>\n      <td>TYPE</td>\n      <td>Method</td>\n      <td>checkIfFileWasTouchedAndFindParentsInBackground</td>\n      <td>Logger</td>\n      <td>NaN</td>\n      <td>NaN</td>\n      <td>NaN</td>\n      <td>NaN</td>\n      <td>NaN</td>\n      <td>git4idea.history.GitDiffFromHistoryHandler</td>\n    </tr>\n    <tr>\n      <th>35370</th>\n      <td>com.intellij.ui.dsl.builder.impl.SegmentedButt...</td>\n      <td>com.intellij.openapi.util.UserDataHolderBase</td>\n      <td>com.android.tools.idea.apk.viewer.ApkFileEdito...</td>\n      <td>0</td>\n      <td>S</td>\n      <td>211</td>\n      <td>NEW_EXPRESSION</td>\n      <td>Initializer</td>\n      <td>&lt;init&gt;</td>\n      <td>Disposable JBLoadingPanel Tree JPanel DexViewF...</td>\n      <td>DefaultActionGroup JComponent ColumnTreeBuilde...</td>\n      <td>actionGroup columnTree builder project dexFile...</td>\n      <td>NaN</td>\n      <td>NaN</td>\n      <td>NaN</td>\n      <td>com.android.tools.idea.apk.viewer.dex.DexFileV...</td>\n    </tr>\n    <tr>\n      <th>116165</th>\n      <td>com.intellij.openapi.vcs.changes.ui.LocalChang...</td>\n      <td>NaN</td>\n      <td>com.intellij.openapi.actionSystem.DataProvider...</td>\n      <td>0</td>\n      <td>S</td>\n      <td>665</td>\n      <td>REFERENCE_EXPRESSION</td>\n      <td>Method</td>\n      <td>initPatchViewer</td>\n      <td>Project DiffContext ApplyPatchRequest TextEdit...</td>\n      <td>VisibleAreaListener List int[] LineNumberConve...</td>\n      <td>areaListener modelRanges patchToModelIndexes m...</td>\n      <td>if_then_body</td>\n      <td>NaN</td>\n      <td>NaN</td>\n      <td>com.intellij.openapi.vcs.changes.patch.tool.Ap...</td>\n    </tr>\n  </tbody>\n</table>\n</div>"
     },
     "execution_count": 3,
     "metadata": {},
     "output_type": "execute_result"
    }
   ],
   "source": [
    "valid.head(5)"
   ],
   "metadata": {
    "collapsed": false,
    "pycharm": {
     "name": "#%%\n"
    }
   }
  },
  {
   "cell_type": "code",
   "execution_count": 4,
   "outputs": [
    {
     "data": {
      "text/plain": "25"
     },
     "execution_count": 4,
     "metadata": {},
     "output_type": "execute_result"
    }
   ],
   "source": [
    "with open(os.path.join(os.getcwd(), dataset_folder+'FirstCharToNameList.txt'), 'r') as f:\n",
    "    firstCharToNameList = json.load(f)\n",
    "\n",
    "len(firstCharToNameList)"
   ],
   "metadata": {
    "collapsed": false,
    "pycharm": {
     "name": "#%%\n"
    }
   }
  },
  {
   "cell_type": "code",
   "execution_count": 5,
   "outputs": [],
   "source": [
    "nameToProbability = {}\n",
    "for ch in firstCharToNameList:\n",
    "    names = firstCharToNameList[ch]\n",
    "    N = len(names)\n",
    "    for i, name in enumerate(names):\n",
    "        nameToProbability[name] = (1.0 - i * 1.0 / N)\n",
    "\n",
    "\n",
    "def getProba(name):\n",
    "    if name in nameToProbability:\n",
    "        return nameToProbability[name]\n",
    "    else:\n",
    "        return 0\n"
   ],
   "metadata": {
    "collapsed": false,
    "pycharm": {
     "name": "#%%\n"
    }
   }
  },
  {
   "cell_type": "code",
   "execution_count": 6,
   "outputs": [
    {
     "name": "stdout",
     "output_type": "stream",
     "text": [
      "\n",
      "------Popular - test-------\n",
      "(213045, 3)\n",
      "\n",
      "mean = 10.830556924593395  median=11.0, zerosCountMean=0.14647609659931002, groupSizeMean=21.998028585510102\n",
      "\n",
      "top0 = 0.0\n",
      "top1 = 0.2504682109413504\n",
      "top2 = 0.2582552981764416\n",
      "top3 = 0.2693937900443568\n",
      "top4 = 0.2861508132084771\n",
      "top5 = 0.3071463775258748\n",
      "top6 = 0.332971907343519\n",
      "top7 = 0.3619517003449975\n",
      "top8 = 0.39083292262198127\n",
      "top9 = 0.4255298176441597\n",
      "top10 = 0.4632824051256777\n",
      "top11 = 0.5009364218827008\n",
      "top12 = 0.541941843272548\n",
      "top13 = 0.5863972400197142\n",
      "top14 = 0.6305569245933957\n",
      "top15 = 0.6701823558403154\n",
      "top16 = 0.7089206505667817\n",
      "stop 16\n",
      "\n",
      "\n",
      "------Popular - Real valid-------\n",
      "(134354, 3)\n",
      "\n",
      "mean = 71.85643564356435  median=8.0, zerosCountMean=599.3217821782179, groupSizeMean=663.1089108910891\n",
      "\n",
      "top0 = 0.0\n",
      "top1 = 0.09405940594059406\n",
      "top2 = 0.2376237623762376\n",
      "top3 = 0.31683168316831684\n",
      "top4 = 0.3465346534653465\n",
      "top5 = 0.3910891089108911\n",
      "top6 = 0.44554455445544555\n",
      "top7 = 0.4801980198019802\n",
      "top8 = 0.5099009900990099\n",
      "top9 = 0.5099009900990099\n",
      "top10 = 0.5148514851485149\n",
      "top11 = 0.5693069306930693\n",
      "top12 = 0.6138613861386139\n",
      "top13 = 0.6188118811881188\n",
      "top14 = 0.6237623762376238\n",
      "top15 = 0.6237623762376238\n",
      "top16 = 0.6435643564356436\n",
      "stop 16\n",
      "\n"
     ]
    }
   ],
   "source": [
    "show_rank_metrics(\n",
    "    df_group=pd.DataFrame(data=test['group'].tolist(), columns=['group']),\n",
    "    df_proba=pd.DataFrame(data=[getProba(name) for name in X_test['name']], columns=['proba']),\n",
    "    df_true=pd.DataFrame(data=y_test.tolist(), columns=['correct']),\n",
    "    label='Popular - test'\n",
    ")\n",
    "show_rank_metrics(\n",
    "    df_group=pd.DataFrame(data=valid['group'].tolist(), columns=['group']),\n",
    "    df_proba=pd.DataFrame(data=[getProba(name) for name in X_valid['name']], columns=['proba']),\n",
    "    df_true=pd.DataFrame(data=y_valid.tolist(), columns=['correct']),\n",
    "    label='Popular - Real valid'\n",
    ")\n",
    "#print([getProba(name) for name in X_valid['name']])\n",
    "#print([name for name in X_valid['name'] if '.' in str(name)])"
   ],
   "metadata": {
    "collapsed": false,
    "pycharm": {
     "name": "#%%\n"
    }
   }
  },
  {
   "cell_type": "code",
   "execution_count": 7,
   "outputs": [
    {
     "name": "stdout",
     "output_type": "stream",
     "text": [
      "\n",
      "------Random - test-------\n",
      "(213045, 3)\n",
      "\n",
      "mean = 10.929817644159684  median=11.0, zerosCountMean=0.0, groupSizeMean=21.998028585510102\n",
      "\n",
      "top0 = 0.0\n",
      "top1 = 0.04642681123706259\n",
      "top2 = 0.09521931986200098\n",
      "top3 = 0.14263183834401183\n",
      "top4 = 0.1925086249383933\n",
      "top5 = 0.2393297190734352\n",
      "top6 = 0.28772794480039426\n",
      "top7 = 0.33681616559881716\n",
      "top8 = 0.38531296205027105\n",
      "top9 = 0.43449975357318876\n",
      "top10 = 0.4802365697387876\n",
      "top11 = 0.5264662395268606\n",
      "top12 = 0.5748644652538196\n",
      "top13 = 0.6211927057663874\n",
      "top14 = 0.6694923607688517\n",
      "top15 = 0.717200591424347\n",
      "top16 = 0.766190241498275\n",
      "stop 16\n",
      "\n",
      "\n",
      "------Random - Real valid-------\n",
      "(134354, 3)\n",
      "\n",
      "mean = 329.8811881188119  median=321.0, zerosCountMean=0.0, groupSizeMean=663.1089108910891\n",
      "\n",
      "top0 = 0.0\n",
      "top1 = 0.01485148514851485\n",
      "top2 = 0.019801980198019802\n",
      "top3 = 0.019801980198019802\n",
      "top4 = 0.024752475247524754\n",
      "top5 = 0.024752475247524754\n",
      "top6 = 0.024752475247524754\n",
      "top7 = 0.024752475247524754\n",
      "top8 = 0.024752475247524754\n",
      "top9 = 0.024752475247524754\n",
      "top10 = 0.024752475247524754\n",
      "top11 = 0.024752475247524754\n",
      "top12 = 0.034653465346534656\n",
      "top13 = 0.034653465346534656\n",
      "top14 = 0.034653465346534656\n",
      "top15 = 0.039603960396039604\n",
      "top16 = 0.039603960396039604\n",
      "stop 16\n",
      "\n"
     ]
    }
   ],
   "source": [
    "show_rank_metrics(\n",
    "    df_group=pd.DataFrame(data=test['group'].tolist(), columns=['group']),\n",
    "    df_proba=pd.DataFrame(data=[random.random() for name in X_test['name']], columns=['proba']),\n",
    "    df_true=pd.DataFrame(data=y_test.tolist(), columns=['correct']),\n",
    "    label='Random - test'\n",
    ")\n",
    "y_valid_pred_random = [random.random() for name in X_valid['name']]\n",
    "show_rank_metrics(\n",
    "    df_group=pd.DataFrame(data=valid['group'].tolist(), columns=['group']),\n",
    "    df_proba=pd.DataFrame(data=[random.random() for name in X_valid['name']], columns=['proba']),\n",
    "    df_true=pd.DataFrame(data=y_valid.tolist(), columns=['correct']),\n",
    "    label='Random - Real valid'\n",
    ")"
   ],
   "metadata": {
    "collapsed": false,
    "pycharm": {
     "name": "#%%\n"
    }
   }
  }
 ],
 "metadata": {
  "kernelspec": {
   "display_name": "Python 3",
   "language": "python",
   "name": "python3"
  },
  "language_info": {
   "codemirror_mode": {
    "name": "ipython",
    "version": 2
   },
   "file_extension": ".py",
   "mimetype": "text/x-python",
   "name": "python",
   "nbconvert_exporter": "python",
   "pygments_lexer": "ipython2",
   "version": "2.7.6"
  }
 },
 "nbformat": 4,
 "nbformat_minor": 0
}