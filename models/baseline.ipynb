{
 "cells": [
  {
   "cell_type": "code",
   "execution_count": 5,
   "outputs": [],
   "source": [
    "\n",
    "import json\n",
    "import os\n",
    "import random\n",
    "\n",
    "import pandas as pd\n",
    "\n",
    "from utils import show_rank_metrics\n",
    "dataset_folder='./../dataset/saved/'\n",
    "random.seed(0)"
   ],
   "metadata": {
    "collapsed": false,
    "pycharm": {
     "name": "#%%\n"
    }
   }
  },
  {
   "cell_type": "code",
   "execution_count": 6,
   "outputs": [
    {
     "name": "stderr",
     "output_type": "stream",
     "text": [
      "/tmp/ipykernel_20688/1155599295.py:10: DtypeWarning: Columns (2,3,15) have mixed types. Specify dtype option on import or set low_memory=False.\n",
      "  valid = pd.read_csv(dataset_folder+'valid_eval_raw_2.csv', index_col=0)\n"
     ]
    }
   ],
   "source": [
    "train = pd.read_csv(dataset_folder+'train_raw_2.csv', index_col=0).sample(frac=1)\n",
    "y_train = train['correct']\n",
    "X_train = train[['name']]\n",
    "\n",
    "test = pd.read_csv(dataset_folder+'test_raw_2.csv', index_col=0).sample(frac=1)\n",
    "y_test = test['correct']\n",
    "X_test = test[['name']]\n",
    "\n",
    "\n",
    "valid = pd.read_csv(dataset_folder+'valid_eval_raw_2.csv', index_col=0)\n",
    "y_valid = valid['correct']\n",
    "X_valid = valid[['name']]\n"
   ],
   "metadata": {
    "collapsed": false,
    "pycharm": {
     "name": "#%%\n"
    }
   }
  },
  {
   "cell_type": "code",
   "execution_count": 8,
   "outputs": [
    {
     "data": {
      "text/plain": "25"
     },
     "execution_count": 8,
     "metadata": {},
     "output_type": "execute_result"
    }
   ],
   "source": [
    "with open(os.path.join(os.getcwd(), dataset_folder+'FirstCharToNameList.txt'), 'r') as f:\n",
    "    firstCharToNameList = json.load(f)\n",
    "\n",
    "len(firstCharToNameList)"
   ],
   "metadata": {
    "collapsed": false,
    "pycharm": {
     "name": "#%%\n"
    }
   }
  },
  {
   "cell_type": "code",
   "execution_count": 9,
   "outputs": [],
   "source": [
    "nameToProbability = {}\n",
    "for ch in firstCharToNameList:\n",
    "    names = firstCharToNameList[ch]\n",
    "    N = len(names)\n",
    "    for i, name in enumerate(names):\n",
    "        nameToProbability[name] = (1.0 - i * 1.0 / N)\n",
    "\n",
    "\n",
    "def getProba(name):\n",
    "    if name in nameToProbability:\n",
    "        return nameToProbability[name]\n",
    "    else:\n",
    "        return 0\n"
   ],
   "metadata": {
    "collapsed": false,
    "pycharm": {
     "name": "#%%\n"
    }
   }
  },
  {
   "cell_type": "code",
   "execution_count": 10,
   "outputs": [
    {
     "name": "stdout",
     "output_type": "stream",
     "text": [
      "Popular test\n",
      "\n",
      "-------------\n",
      "(174972, 3)\n",
      "\n",
      "mean = 10.746039366298607\n",
      "\n",
      "top0 = 0.0\n",
      "top1 = 0.25480076812289965\n",
      "top2 = 0.2616418626980317\n",
      "top3 = 0.27340374459913586\n",
      "top4 = 0.292246759481517\n",
      "top5 = 0.3154104656745079\n",
      "top6 = 0.33893422947671625\n",
      "top7 = 0.36245799327892464\n",
      "top8 = 0.3941430628900624\n",
      "top9 = 0.4317090734517523\n",
      "top10 = 0.46927508401344215\n",
      "top11 = 0.5076812289966395\n",
      "top12 = 0.5511281805088815\n",
      "top13 = 0.5908545367258762\n",
      "top14 = 0.6364618338934229\n",
      "top15 = 0.6746279404704753\n",
      "top16 = 0.7131541046567451\n",
      "stop 16\n",
      "\n"
     ]
    }
   ],
   "source": [
    "print(\"Popular test\")\n",
    "show_rank_metrics(\n",
    "    df_group=pd.DataFrame(data=test['group'].tolist(), columns=['group']),\n",
    "    df_proba=pd.DataFrame(data=[getProba(name) for name in X_test['name']], columns=['proba']),\n",
    "    df_true=pd.DataFrame(data=y_test.tolist(), columns=['correct'])\n",
    ")"
   ],
   "metadata": {
    "collapsed": false,
    "pycharm": {
     "name": "#%%\n"
    }
   }
  },
  {
   "cell_type": "code",
   "execution_count": 11,
   "outputs": [
    {
     "name": "stdout",
     "output_type": "stream",
     "text": [
      "Popular valid\n",
      "\n",
      "-------------\n",
      "(134354, 3)\n",
      "\n",
      "mean = 115.83168316831683\n",
      "\n",
      "top0 = 0.0\n",
      "top1 = 0.8217821782178217\n",
      "top2 = 0.8217821782178217\n",
      "top3 = 0.8366336633663366\n",
      "top4 = 0.8366336633663366\n",
      "top5 = 0.8366336633663366\n",
      "top6 = 0.8366336633663366\n",
      "top7 = 0.8366336633663366\n",
      "top8 = 0.8366336633663366\n",
      "top9 = 0.8366336633663366\n",
      "top10 = 0.8366336633663366\n",
      "top11 = 0.8366336633663366\n",
      "top12 = 0.8366336633663366\n",
      "top13 = 0.8366336633663366\n",
      "top14 = 0.8366336633663366\n",
      "top15 = 0.8366336633663366\n",
      "top16 = 0.8366336633663366\n",
      "stop 16\n",
      "\n"
     ]
    }
   ],
   "source": [
    "print(\"Popular valid\")\n",
    "show_rank_metrics(\n",
    "    df_group=pd.DataFrame(data=valid['group'].tolist(), columns=['group']),\n",
    "    df_proba=pd.DataFrame(data=[getProba(name) for name in X_valid['name']], columns=['proba']),\n",
    "    df_true=pd.DataFrame(data=y_valid.tolist(), columns=['correct'])\n",
    ")"
   ],
   "metadata": {
    "collapsed": false,
    "pycharm": {
     "name": "#%%\n"
    }
   }
  },
  {
   "cell_type": "code",
   "execution_count": 12,
   "outputs": [],
   "source": [
    "y_test_pred_random = [random.random() for name in X_test['name']]"
   ],
   "metadata": {
    "collapsed": false,
    "pycharm": {
     "name": "#%%\n"
    }
   }
  },
  {
   "cell_type": "code",
   "execution_count": 13,
   "outputs": [
    {
     "name": "stdout",
     "output_type": "stream",
     "text": [
      "Random\n",
      "\n",
      "-------------\n",
      "(174972, 3)\n",
      "\n",
      "mean = 11.077892462794047\n",
      "\n",
      "top0 = 0.0\n",
      "top1 = 0.04500720115218435\n",
      "top2 = 0.09049447911665867\n",
      "top3 = 0.1329812770043207\n",
      "top4 = 0.18230916946711473\n",
      "top5 = 0.23067690830532886\n",
      "top6 = 0.2796447431589054\n",
      "top7 = 0.3307729236677868\n",
      "top8 = 0.3748199711953913\n",
      "top9 = 0.4217474795967355\n",
      "top10 = 0.4713154104656745\n",
      "top11 = 0.5162025924147864\n",
      "top12 = 0.5656505040806529\n",
      "top13 = 0.615698511761882\n",
      "top14 = 0.6625060009601537\n",
      "top15 = 0.7125540086413826\n",
      "top16 = 0.7630820931349016\n",
      "stop 16\n",
      "\n"
     ]
    }
   ],
   "source": [
    "print(\"Random\")\n",
    "show_rank_metrics(\n",
    "    df_group=pd.DataFrame(data=test['group'].tolist(), columns=['group']),\n",
    "    df_proba=pd.DataFrame(data=y_test_pred_random, columns=['proba']),\n",
    "    df_true=pd.DataFrame(data=y_test.tolist(), columns=['correct'])\n",
    ")"
   ],
   "metadata": {
    "collapsed": false,
    "pycharm": {
     "name": "#%%\n"
    }
   }
  },
  {
   "cell_type": "code",
   "execution_count": 13,
   "outputs": [],
   "source": [],
   "metadata": {
    "collapsed": false,
    "pycharm": {
     "name": "#%%\n"
    }
   }
  },
  {
   "cell_type": "code",
   "execution_count": null,
   "outputs": [],
   "source": [],
   "metadata": {
    "collapsed": false,
    "pycharm": {
     "name": "#%%\n"
    }
   }
  }
 ],
 "metadata": {
  "kernelspec": {
   "display_name": "Python 3",
   "language": "python",
   "name": "python3"
  },
  "language_info": {
   "codemirror_mode": {
    "name": "ipython",
    "version": 2
   },
   "file_extension": ".py",
   "mimetype": "text/x-python",
   "name": "python",
   "nbconvert_exporter": "python",
   "pygments_lexer": "ipython2",
   "version": "2.7.6"
  }
 },
 "nbformat": 4,
 "nbformat_minor": 0
}