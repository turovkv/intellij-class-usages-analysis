{
 "cells": [
  {
   "cell_type": "code",
   "execution_count": 1,
   "metadata": {
    "collapsed": true,
    "pycharm": {
     "name": "#%%\n"
    }
   },
   "outputs": [],
   "source": [
    "import numpy as np\n",
    "import pandas as pd\n",
    "from sklearn import metrics\n",
    "from sklearn.linear_model import ARDRegression, RidgeClassifier\n",
    "from sklearn.svm import LinearSVR\n",
    "from sklearn.calibration import CalibratedClassifierCV\n",
    "from sklearn.svm import LinearSVC\n",
    "from utils import show_rank_metrics\n",
    "from sklearn.svm import SVC\n",
    "dataset_folder='./../dataset/saved/'"
   ]
  },
  {
   "cell_type": "code",
   "execution_count": 2,
   "outputs": [],
   "source": [
    "# train = pd.read_csv('train.csv', index_col=0).sample(frac=1)\n",
    "# y_train = train['correct']\n",
    "# X_train = train.drop(columns=['name', 'firstChar', 'group', 'correct'])\n",
    "#\n",
    "# test = pd.read_csv('test.csv', index_col=0)\n",
    "# y_test = test['correct']\n",
    "# X_test = test.drop(columns=['name', 'firstChar', 'group', 'correct'])\n",
    "#\n",
    "# valid = pd.read_csv('valid.csv', index_col=0)\n",
    "# y_valid = valid['correct']\n",
    "# X_valid = valid.drop(columns=['name', 'firstChar', 'group', 'correct'])"
   ],
   "metadata": {
    "collapsed": false,
    "pycharm": {
     "name": "#%%\n"
    }
   }
  },
  {
   "cell_type": "code",
   "execution_count": 3,
   "outputs": [],
   "source": [
    "# xs = X_train.iloc[:3*10 ** 4, :]\n",
    "# ys = y_train.iloc[:3*10 ** 4]"
   ],
   "metadata": {
    "collapsed": false,
    "pycharm": {
     "name": "#%%\n"
    }
   }
  },
  {
   "cell_type": "code",
   "execution_count": 4,
   "outputs": [],
   "source": [
    "# # svm = LinearSVC(random_state=0, penalty=\"l1\", dual=False, max_iter=10**4)\n",
    "# svm = LinearSVC(random_state=0, penalty=\"l1\", dual=False, max_iter=2*10**4, C=0.1)\n",
    "# clf_svm_lin = CalibratedClassifierCV(svm)\n",
    "# clf_svm_lin.fit(xs, ys)"
   ],
   "metadata": {
    "collapsed": false,
    "pycharm": {
     "name": "#%%\n"
    }
   }
  },
  {
   "cell_type": "code",
   "execution_count": 5,
   "outputs": [],
   "source": [
    "# show_rank_metrics(\n",
    "#     df_group=pd.DataFrame(data=train.iloc[:3*10 ** 4, :]['group'].tolist(), columns=['group']),\n",
    "#     df_proba=pd.DataFrame(data=clf_svm_lin.predict_proba(xs)[:,1].tolist(), columns=['proba']),\n",
    "#     df_true=pd.DataFrame(data=ys.tolist(), columns=['correct'])\n",
    "# )"
   ],
   "metadata": {
    "collapsed": false,
    "pycharm": {
     "name": "#%%\n"
    }
   }
  },
  {
   "cell_type": "code",
   "execution_count": 6,
   "outputs": [],
   "source": [
    "# show_rank_metrics(\n",
    "#     df_group=pd.DataFrame(data=test['group'].tolist(), columns=['group']),\n",
    "#     df_proba=pd.DataFrame(data=clf_svm_lin.predict_proba(X_test)[:,1].tolist(), columns=['proba']),\n",
    "#     df_true=pd.DataFrame(data=y_test.tolist(), columns=['correct'])\n",
    "# )"
   ],
   "metadata": {
    "collapsed": false,
    "pycharm": {
     "name": "#%%\n"
    }
   }
  },
  {
   "cell_type": "code",
   "execution_count": 7,
   "outputs": [],
   "source": [
    "# xs = X_train.iloc[:2*10 ** 4, :]\n",
    "# ys = y_train.iloc[:2*10 ** 4]"
   ],
   "metadata": {
    "collapsed": false,
    "pycharm": {
     "name": "#%%\n"
    }
   }
  },
  {
   "cell_type": "code",
   "execution_count": 8,
   "outputs": [],
   "source": [
    "# assert \"Too long\" == \"\"\n",
    "#\n",
    "# # svm = LinearSVC(random_state=0, penalty=\"l1\", dual=False, max_iter=10**4)\n",
    "# svm = SVC(random_state=0, C=0.1, cache_size=2000)\n",
    "# clf_svm_rbf = CalibratedClassifierCV(svm)\n",
    "# clf_svm_rbf.fit(xs, ys)"
   ],
   "metadata": {
    "collapsed": false,
    "pycharm": {
     "name": "#%%\n"
    }
   }
  },
  {
   "cell_type": "code",
   "execution_count": 8,
   "outputs": [],
   "source": [],
   "metadata": {
    "collapsed": false,
    "pycharm": {
     "name": "#%%\n"
    }
   }
  },
  {
   "cell_type": "code",
   "execution_count": 9,
   "outputs": [],
   "source": [
    "# show_rank_metrics(\n",
    "#     df_group=pd.DataFrame(data=train.iloc[:2*10 ** 4, :]['group'].tolist(), columns=['group']),\n",
    "#     df_proba=pd.DataFrame(data=clf_svm_rbf.predict_proba(xs)[:,1].tolist(), columns=['proba']),\n",
    "#     df_true=pd.DataFrame(data=ys.tolist(), columns=['correct'])\n",
    "# )"
   ],
   "metadata": {
    "collapsed": false,
    "pycharm": {
     "name": "#%%\n"
    }
   }
  },
  {
   "cell_type": "code",
   "execution_count": 10,
   "outputs": [],
   "source": [
    "# show_rank_metrics(\n",
    "#     df_group=pd.DataFrame(data=test.iloc[:2*10 ** 4, :]['group'].tolist(), columns=['group']),\n",
    "#     df_proba=pd.DataFrame(data=clf_svm_rbf.predict_proba(X_test.iloc[:2*10 ** 4, :])[:,1].tolist(), columns=['proba']),\n",
    "#     df_true=pd.DataFrame(data=y_test.iloc[:2*10 ** 4].tolist(), columns=['correct'])\n",
    "# )"
   ],
   "metadata": {
    "collapsed": false,
    "pycharm": {
     "name": "#%%\n"
    }
   }
  },
  {
   "cell_type": "code",
   "execution_count": 11,
   "outputs": [],
   "source": [
    "# show_rank_metrics(\n",
    "#     df_group=pd.DataFrame(data=valid.iloc[:3*10 ** 4, :]['group'].tolist(), columns=['group']),\n",
    "#     df_proba=pd.DataFrame(data=clf_svm_rbf.predict_proba(X_valid.iloc[:3*10 ** 4, :])[:,1].tolist(), columns=['proba']),\n",
    "#     df_true=pd.DataFrame(data=y_valid.iloc[:3*10 ** 4].tolist(), columns=['correct'])\n",
    "# )"
   ],
   "metadata": {
    "collapsed": false,
    "pycharm": {
     "name": "#%%\n"
    }
   }
  },
  {
   "cell_type": "code",
   "execution_count": 11,
   "outputs": [],
   "source": [],
   "metadata": {
    "collapsed": false,
    "pycharm": {
     "name": "#%%\n"
    }
   }
  },
  {
   "cell_type": "code",
   "execution_count": 12,
   "outputs": [],
   "source": [
    "######## poly"
   ],
   "metadata": {
    "collapsed": false,
    "pycharm": {
     "name": "#%%\n"
    }
   }
  },
  {
   "cell_type": "code",
   "execution_count": 13,
   "outputs": [],
   "source": [
    "# assert \"Too long\" == \"\"\n",
    "#\n",
    "# # svm = LinearSVC(random_state=0, penalty=\"l1\", dual=False, max_iter=10**4)\n",
    "# svm = SVC(random_state=0, C=0.1, cache_size=2000, kernel=\"poly\")\n",
    "# clf_svm_pol = CalibratedClassifierCV(svm)\n",
    "# clf_svm_pol.fit(xs, ys)"
   ],
   "metadata": {
    "collapsed": false,
    "pycharm": {
     "name": "#%%\n"
    }
   }
  },
  {
   "cell_type": "code",
   "execution_count": 14,
   "outputs": [],
   "source": [
    "# show_rank_metrics(\n",
    "#     df_group=pd.DataFrame(data=train.iloc[:2*10 ** 4, :]['group'].tolist(), columns=['group']),\n",
    "#     df_proba=pd.DataFrame(data=clf_svm_pol.predict_proba(xs)[:,1].tolist(), columns=['proba']),\n",
    "#     df_true=pd.DataFrame(data=ys.tolist(), columns=['correct'])\n",
    "# )"
   ],
   "metadata": {
    "collapsed": false,
    "pycharm": {
     "name": "#%%\n"
    }
   }
  },
  {
   "cell_type": "code",
   "execution_count": 15,
   "outputs": [],
   "source": [
    "# show_rank_metrics(\n",
    "#     df_group=pd.DataFrame(data=test.iloc[:2*10 ** 4, :]['group'].tolist(), columns=['group']),\n",
    "#     df_proba=pd.DataFrame(data=clf_svm_pol.predict_proba(X_test.iloc[:2*10 ** 4, :])[:,1].tolist(), columns=['proba']),\n",
    "#     df_true=pd.DataFrame(data=y_test.iloc[:2*10 ** 4].tolist(), columns=['correct'])\n",
    "# )"
   ],
   "metadata": {
    "collapsed": false,
    "pycharm": {
     "name": "#%%\n"
    }
   }
  },
  {
   "cell_type": "code",
   "execution_count": 16,
   "outputs": [],
   "source": [
    "# show_rank_metrics(\n",
    "#     df_group=pd.DataFrame(data=valid.iloc[:3*10 ** 4, :]['group'].tolist(), columns=['group']),\n",
    "#     df_proba=pd.DataFrame(data=clf_svm_pol.predict_proba(X_valid.iloc[:3*10 ** 4, :])[:,1].tolist(), columns=['proba']),\n",
    "#     df_true=pd.DataFrame(data=y_valid.iloc[:3*10 ** 4].tolist(), columns=['correct'])\n",
    "# )"
   ],
   "metadata": {
    "collapsed": false,
    "pycharm": {
     "name": "#%%\n"
    }
   }
  },
  {
   "cell_type": "code",
   "execution_count": 17,
   "outputs": [],
   "source": [
    "# from joblib import dump, load\n",
    "#\n",
    "# dump(clf_svm_pol, 'clf_svm_pol.joblib')\n",
    "# # 100 MB ..... bruh"
   ],
   "metadata": {
    "collapsed": false,
    "pycharm": {
     "name": "#%%\n"
    }
   }
  },
  {
   "cell_type": "code",
   "execution_count": 17,
   "outputs": [],
   "source": [],
   "metadata": {
    "collapsed": false,
    "pycharm": {
     "name": "#%%\n"
    }
   }
  },
  {
   "cell_type": "code",
   "execution_count": 18,
   "outputs": [],
   "source": [
    "train = pd.read_pickle(dataset_folder+'train_ohe401_intr2_2k')\n",
    "y_train = train['correct']\n",
    "X_train = train.drop(columns=['group', 'correct'])\n",
    "\n",
    "test = pd.read_pickle(dataset_folder+'test_ohe401_intr2_2k')\n",
    "y_test = test['correct']\n",
    "X_test = test.drop(columns=['group', 'correct'])\n",
    "\n",
    "valid = pd.read_pickle(dataset_folder+'valid_ohe401_intr2_2k')\n",
    "y_valid = valid['correct']\n",
    "X_valid = valid.drop(columns=['group', 'correct'])"
   ],
   "metadata": {
    "collapsed": false,
    "pycharm": {
     "name": "#%%\n"
    }
   }
  },
  {
   "cell_type": "code",
   "execution_count": 19,
   "outputs": [],
   "source": [
    "# xs = X_train.iloc[:3*10 ** 4, :]\n",
    "# ys = y_train.iloc[:3*10 ** 4]"
   ],
   "metadata": {
    "collapsed": false,
    "pycharm": {
     "name": "#%%\n"
    }
   }
  },
  {
   "cell_type": "code",
   "execution_count": 20,
   "outputs": [
    {
     "data": {
      "text/plain": "CalibratedClassifierCV(base_estimator=LinearSVC(C=0.01, dual=False,\n                                                max_iter=20000,\n                                                random_state=0),\n                       cv=4, n_jobs=4)"
     },
     "execution_count": 20,
     "metadata": {},
     "output_type": "execute_result"
    }
   ],
   "source": [
    "svm = LinearSVC(random_state=0, penalty=\"l2\", dual=False, max_iter=2*10**4, C=0.01)\n",
    "clf_svm_lin = CalibratedClassifierCV(svm, n_jobs=4, cv=4)\n",
    "clf_svm_lin.fit(X_train, y_train)"
   ],
   "metadata": {
    "collapsed": false,
    "pycharm": {
     "name": "#%%\n"
    }
   }
  },
  {
   "cell_type": "code",
   "execution_count": 21,
   "outputs": [
    {
     "name": "stdout",
     "output_type": "stream",
     "text": [
      "\n",
      "------train-------\n",
      "(332180, 3)\n",
      "\n",
      "mean = 2.344241074116443\n",
      "\n",
      "top0 = 0.0\n",
      "top1 = 0.5833885242940574\n",
      "top2 = 0.7092841230658077\n",
      "top3 = 0.7803600457583239\n",
      "top4 = 0.8370160756216509\n",
      "top5 = 0.8861159612258415\n",
      "top6 = 0.9265759527966765\n",
      "top7 = 0.9584562586549461\n",
      "top8 = 0.9813655247155156\n",
      "top9 = 0.9931964597507376\n",
      "top10 = 1.0\n",
      "\n",
      "\n",
      "------test-------\n",
      "(193326, 3)\n",
      "\n",
      "mean = 4.567238757332174\n",
      "\n",
      "top0 = 0.0\n",
      "top1 = 0.4454703454268955\n",
      "top2 = 0.5585487725396481\n",
      "top3 = 0.6208994134260265\n",
      "top4 = 0.66815120573539\n",
      "top5 = 0.7049750162937215\n",
      "top6 = 0.7409298283728003\n",
      "top7 = 0.7656962850315012\n",
      "top8 = 0.790462741690202\n",
      "top9 = 0.8166413208776885\n",
      "top10 = 0.8415164023462959\n",
      "top11 = 0.8686726048229415\n",
      "top12 = 0.8919183141429502\n",
      "top13 = 0.9158157723223984\n",
      "top14 = 0.9353682381055833\n",
      "top15 = 0.9518792092113839\n",
      "top16 = 0.9656745600695199\n",
      "stop 16\n",
      "\n",
      "\n",
      "------valid-------\n",
      "(134146, 3)\n",
      "\n",
      "mean = 172.56930693069307\n",
      "\n",
      "top0 = 0.0\n",
      "top1 = 0.06435643564356436\n",
      "top2 = 0.10891089108910891\n",
      "top3 = 0.12871287128712872\n",
      "top4 = 0.15346534653465346\n",
      "top5 = 0.1782178217821782\n",
      "top6 = 0.18811881188118812\n",
      "top7 = 0.2079207920792079\n",
      "top8 = 0.22277227722772278\n",
      "top9 = 0.23267326732673269\n",
      "top10 = 0.2376237623762376\n",
      "top11 = 0.24257425742574257\n",
      "top12 = 0.2524752475247525\n",
      "top13 = 0.26732673267326734\n",
      "top14 = 0.27722772277227725\n",
      "top15 = 0.2871287128712871\n",
      "top16 = 0.29207920792079206\n",
      "stop 16\n",
      "\n"
     ]
    }
   ],
   "source": [
    "show_rank_metrics(\n",
    "    df_group=pd.DataFrame(data=train['group'].tolist(), columns=['group']),\n",
    "    df_proba=pd.DataFrame(data=clf_svm_lin.predict_proba(X_train)[:,1].tolist(), columns=['proba']),\n",
    "    df_true=pd.DataFrame(data=y_train.tolist(), columns=['correct']),\n",
    "    label='train'\n",
    ")\n",
    "show_rank_metrics(\n",
    "    df_group=pd.DataFrame(data=test['group'].tolist(), columns=['group']),\n",
    "    df_proba=pd.DataFrame(data=clf_svm_lin.predict_proba(X_test)[:,1].tolist(), columns=['proba']),\n",
    "    df_true=pd.DataFrame(data=y_test.tolist(), columns=['correct']),\n",
    "    label='test'\n",
    ")\n",
    "show_rank_metrics(\n",
    "    df_group=pd.DataFrame(data=valid['group'].tolist(), columns=['group']),\n",
    "    df_proba=pd.DataFrame(data=clf_svm_lin.predict_proba(X_valid)[:,1].tolist(), columns=['proba']),\n",
    "    df_true=pd.DataFrame(data=y_valid.tolist(), columns=['correct']),\n",
    "    label='valid'\n",
    ")"
   ],
   "metadata": {
    "collapsed": false,
    "pycharm": {
     "name": "#%%\n"
    }
   }
  },
  {
   "cell_type": "code",
   "execution_count": 22,
   "outputs": [
    {
     "data": {
      "text/plain": "['saved/clf_svm_lin.joblib']"
     },
     "execution_count": 22,
     "metadata": {},
     "output_type": "execute_result"
    }
   ],
   "source": [
    "from joblib import dump, load\n",
    "\n",
    "dump(clf_svm_lin, 'saved/clf_svm_lin.joblib')"
   ],
   "metadata": {
    "collapsed": false,
    "pycharm": {
     "name": "#%%\n"
    }
   }
  },
  {
   "cell_type": "code",
   "execution_count": 22,
   "outputs": [],
   "source": [],
   "metadata": {
    "collapsed": false,
    "pycharm": {
     "name": "#%%\n"
    }
   }
  }
 ],
 "metadata": {
  "kernelspec": {
   "display_name": "Python 3",
   "language": "python",
   "name": "python3"
  },
  "language_info": {
   "codemirror_mode": {
    "name": "ipython",
    "version": 2
   },
   "file_extension": ".py",
   "mimetype": "text/x-python",
   "name": "python",
   "nbconvert_exporter": "python",
   "pygments_lexer": "ipython2",
   "version": "2.7.6"
  }
 },
 "nbformat": 4,
 "nbformat_minor": 0
}