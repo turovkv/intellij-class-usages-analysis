{
 "cells": [
  {
   "cell_type": "code",
   "execution_count": 1,
   "metadata": {
    "collapsed": true,
    "pycharm": {
     "name": "#%%\n"
    }
   },
   "outputs": [],
   "source": [
    "import numpy as np\n",
    "import pandas as pd\n",
    "from sklearn import metrics\n",
    "from sklearn.linear_model import ARDRegression, RidgeClassifier\n",
    "from sklearn.svm import LinearSVR\n",
    "from sklearn.calibration import CalibratedClassifierCV\n",
    "from sklearn.svm import LinearSVC\n",
    "from utils import show_rank_metrics\n",
    "from sklearn.svm import SVC\n",
    "dataset_folder='./../dataset/saved/'"
   ]
  },
  {
   "cell_type": "code",
   "execution_count": 2,
   "outputs": [],
   "source": [
    "# train = pd.read_csv('train.csv', index_col=0).sample(frac=1)\n",
    "# y_train = train['correct']\n",
    "# X_train = train.drop(columns=['name', 'firstChar', 'group', 'correct'])\n",
    "#\n",
    "# test = pd.read_csv('test.csv', index_col=0)\n",
    "# y_test = test['correct']\n",
    "# X_test = test.drop(columns=['name', 'firstChar', 'group', 'correct'])\n",
    "#\n",
    "# valid = pd.read_csv('valid.csv', index_col=0)\n",
    "# y_valid = valid['correct']\n",
    "# X_valid = valid.drop(columns=['name', 'firstChar', 'group', 'correct'])"
   ],
   "metadata": {
    "collapsed": false,
    "pycharm": {
     "name": "#%%\n"
    }
   }
  },
  {
   "cell_type": "code",
   "execution_count": 3,
   "outputs": [],
   "source": [
    "# xs = X_train.iloc[:3*10 ** 4, :]\n",
    "# ys = y_train.iloc[:3*10 ** 4]"
   ],
   "metadata": {
    "collapsed": false,
    "pycharm": {
     "name": "#%%\n"
    }
   }
  },
  {
   "cell_type": "code",
   "execution_count": 4,
   "outputs": [],
   "source": [
    "# # svm = LinearSVC(random_state=0, penalty=\"l1\", dual=False, max_iter=10**4)\n",
    "# svm = LinearSVC(random_state=0, penalty=\"l1\", dual=False, max_iter=2*10**4, C=0.1)\n",
    "# clf_svm_lin = CalibratedClassifierCV(svm)\n",
    "# clf_svm_lin.fit(xs, ys)"
   ],
   "metadata": {
    "collapsed": false,
    "pycharm": {
     "name": "#%%\n"
    }
   }
  },
  {
   "cell_type": "code",
   "execution_count": 5,
   "outputs": [],
   "source": [
    "# show_rank_metrics(\n",
    "#     df_group=pd.DataFrame(data=train.iloc[:3*10 ** 4, :]['group'].tolist(), columns=['group']),\n",
    "#     df_proba=pd.DataFrame(data=clf_svm_lin.predict_proba(xs)[:,1].tolist(), columns=['proba']),\n",
    "#     df_true=pd.DataFrame(data=ys.tolist(), columns=['correct'])\n",
    "# )"
   ],
   "metadata": {
    "collapsed": false,
    "pycharm": {
     "name": "#%%\n"
    }
   }
  },
  {
   "cell_type": "code",
   "execution_count": 6,
   "outputs": [],
   "source": [
    "# show_rank_metrics(\n",
    "#     df_group=pd.DataFrame(data=test['group'].tolist(), columns=['group']),\n",
    "#     df_proba=pd.DataFrame(data=clf_svm_lin.predict_proba(X_test)[:,1].tolist(), columns=['proba']),\n",
    "#     df_true=pd.DataFrame(data=y_test.tolist(), columns=['correct'])\n",
    "# )"
   ],
   "metadata": {
    "collapsed": false,
    "pycharm": {
     "name": "#%%\n"
    }
   }
  },
  {
   "cell_type": "code",
   "execution_count": 7,
   "outputs": [],
   "source": [
    "# xs = X_train.iloc[:2*10 ** 4, :]\n",
    "# ys = y_train.iloc[:2*10 ** 4]"
   ],
   "metadata": {
    "collapsed": false,
    "pycharm": {
     "name": "#%%\n"
    }
   }
  },
  {
   "cell_type": "code",
   "execution_count": 8,
   "outputs": [],
   "source": [
    "# assert \"Too long\" == \"\"\n",
    "#\n",
    "# # svm = LinearSVC(random_state=0, penalty=\"l1\", dual=False, max_iter=10**4)\n",
    "# svm = SVC(random_state=0, C=0.1, cache_size=2000)\n",
    "# clf_svm_rbf = CalibratedClassifierCV(svm)\n",
    "# clf_svm_rbf.fit(xs, ys)"
   ],
   "metadata": {
    "collapsed": false,
    "pycharm": {
     "name": "#%%\n"
    }
   }
  },
  {
   "cell_type": "code",
   "execution_count": 8,
   "outputs": [],
   "source": [],
   "metadata": {
    "collapsed": false,
    "pycharm": {
     "name": "#%%\n"
    }
   }
  },
  {
   "cell_type": "code",
   "execution_count": 9,
   "outputs": [],
   "source": [
    "# show_rank_metrics(\n",
    "#     df_group=pd.DataFrame(data=train.iloc[:2*10 ** 4, :]['group'].tolist(), columns=['group']),\n",
    "#     df_proba=pd.DataFrame(data=clf_svm_rbf.predict_proba(xs)[:,1].tolist(), columns=['proba']),\n",
    "#     df_true=pd.DataFrame(data=ys.tolist(), columns=['correct'])\n",
    "# )"
   ],
   "metadata": {
    "collapsed": false,
    "pycharm": {
     "name": "#%%\n"
    }
   }
  },
  {
   "cell_type": "code",
   "execution_count": 10,
   "outputs": [],
   "source": [
    "# show_rank_metrics(\n",
    "#     df_group=pd.DataFrame(data=test.iloc[:2*10 ** 4, :]['group'].tolist(), columns=['group']),\n",
    "#     df_proba=pd.DataFrame(data=clf_svm_rbf.predict_proba(X_test.iloc[:2*10 ** 4, :])[:,1].tolist(), columns=['proba']),\n",
    "#     df_true=pd.DataFrame(data=y_test.iloc[:2*10 ** 4].tolist(), columns=['correct'])\n",
    "# )"
   ],
   "metadata": {
    "collapsed": false,
    "pycharm": {
     "name": "#%%\n"
    }
   }
  },
  {
   "cell_type": "code",
   "execution_count": 11,
   "outputs": [],
   "source": [
    "# show_rank_metrics(\n",
    "#     df_group=pd.DataFrame(data=valid.iloc[:3*10 ** 4, :]['group'].tolist(), columns=['group']),\n",
    "#     df_proba=pd.DataFrame(data=clf_svm_rbf.predict_proba(X_valid.iloc[:3*10 ** 4, :])[:,1].tolist(), columns=['proba']),\n",
    "#     df_true=pd.DataFrame(data=y_valid.iloc[:3*10 ** 4].tolist(), columns=['correct'])\n",
    "# )"
   ],
   "metadata": {
    "collapsed": false,
    "pycharm": {
     "name": "#%%\n"
    }
   }
  },
  {
   "cell_type": "code",
   "execution_count": 11,
   "outputs": [],
   "source": [],
   "metadata": {
    "collapsed": false,
    "pycharm": {
     "name": "#%%\n"
    }
   }
  },
  {
   "cell_type": "code",
   "execution_count": 12,
   "outputs": [],
   "source": [
    "######## poly"
   ],
   "metadata": {
    "collapsed": false,
    "pycharm": {
     "name": "#%%\n"
    }
   }
  },
  {
   "cell_type": "code",
   "execution_count": 13,
   "outputs": [],
   "source": [
    "# assert \"Too long\" == \"\"\n",
    "#\n",
    "# # svm = LinearSVC(random_state=0, penalty=\"l1\", dual=False, max_iter=10**4)\n",
    "# svm = SVC(random_state=0, C=0.1, cache_size=2000, kernel=\"poly\")\n",
    "# clf_svm_pol = CalibratedClassifierCV(svm)\n",
    "# clf_svm_pol.fit(xs, ys)"
   ],
   "metadata": {
    "collapsed": false,
    "pycharm": {
     "name": "#%%\n"
    }
   }
  },
  {
   "cell_type": "code",
   "execution_count": 14,
   "outputs": [],
   "source": [
    "# show_rank_metrics(\n",
    "#     df_group=pd.DataFrame(data=train.iloc[:2*10 ** 4, :]['group'].tolist(), columns=['group']),\n",
    "#     df_proba=pd.DataFrame(data=clf_svm_pol.predict_proba(xs)[:,1].tolist(), columns=['proba']),\n",
    "#     df_true=pd.DataFrame(data=ys.tolist(), columns=['correct'])\n",
    "# )"
   ],
   "metadata": {
    "collapsed": false,
    "pycharm": {
     "name": "#%%\n"
    }
   }
  },
  {
   "cell_type": "code",
   "execution_count": 15,
   "outputs": [],
   "source": [
    "# show_rank_metrics(\n",
    "#     df_group=pd.DataFrame(data=test.iloc[:2*10 ** 4, :]['group'].tolist(), columns=['group']),\n",
    "#     df_proba=pd.DataFrame(data=clf_svm_pol.predict_proba(X_test.iloc[:2*10 ** 4, :])[:,1].tolist(), columns=['proba']),\n",
    "#     df_true=pd.DataFrame(data=y_test.iloc[:2*10 ** 4].tolist(), columns=['correct'])\n",
    "# )"
   ],
   "metadata": {
    "collapsed": false,
    "pycharm": {
     "name": "#%%\n"
    }
   }
  },
  {
   "cell_type": "code",
   "execution_count": 16,
   "outputs": [],
   "source": [
    "# show_rank_metrics(\n",
    "#     df_group=pd.DataFrame(data=valid.iloc[:3*10 ** 4, :]['group'].tolist(), columns=['group']),\n",
    "#     df_proba=pd.DataFrame(data=clf_svm_pol.predict_proba(X_valid.iloc[:3*10 ** 4, :])[:,1].tolist(), columns=['proba']),\n",
    "#     df_true=pd.DataFrame(data=y_valid.iloc[:3*10 ** 4].tolist(), columns=['correct'])\n",
    "# )"
   ],
   "metadata": {
    "collapsed": false,
    "pycharm": {
     "name": "#%%\n"
    }
   }
  },
  {
   "cell_type": "code",
   "execution_count": 17,
   "outputs": [],
   "source": [
    "# from joblib import dump, load\n",
    "#\n",
    "# dump(clf_svm_pol, 'clf_svm_pol.joblib')\n",
    "# # 100 MB ..... bruh"
   ],
   "metadata": {
    "collapsed": false,
    "pycharm": {
     "name": "#%%\n"
    }
   }
  },
  {
   "cell_type": "code",
   "execution_count": 17,
   "outputs": [],
   "source": [],
   "metadata": {
    "collapsed": false,
    "pycharm": {
     "name": "#%%\n"
    }
   }
  },
  {
   "cell_type": "code",
   "execution_count": 18,
   "outputs": [],
   "source": [
    "train = pd.read_pickle(dataset_folder+'train_ohe401_intr2_2k')\n",
    "y_train = train['correct']\n",
    "X_train = train.drop(columns=['group', 'correct'])\n",
    "\n",
    "test = pd.read_pickle(dataset_folder+'test_ohe401_intr2_2k')\n",
    "y_test = test['correct']\n",
    "X_test = test.drop(columns=['group', 'correct'])\n",
    "\n",
    "valid = pd.read_pickle(dataset_folder+'valid_ohe401_intr2_2k')\n",
    "y_valid = valid['correct']\n",
    "X_valid = valid.drop(columns=['group', 'correct'])"
   ],
   "metadata": {
    "collapsed": false,
    "pycharm": {
     "name": "#%%\n"
    }
   }
  },
  {
   "cell_type": "code",
   "execution_count": 19,
   "outputs": [],
   "source": [
    "# xs = X_train.iloc[:3*10 ** 4, :]\n",
    "# ys = y_train.iloc[:3*10 ** 4]"
   ],
   "metadata": {
    "collapsed": false,
    "pycharm": {
     "name": "#%%\n"
    }
   }
  },
  {
   "cell_type": "code",
   "execution_count": 20,
   "outputs": [
    {
     "data": {
      "text/plain": "CalibratedClassifierCV(base_estimator=LinearSVC(C=0.01, dual=False,\n                                                max_iter=20000,\n                                                random_state=0),\n                       cv=4, n_jobs=4)"
     },
     "execution_count": 20,
     "metadata": {},
     "output_type": "execute_result"
    }
   ],
   "source": [
    "svm = LinearSVC(random_state=0, penalty=\"l2\", dual=False, max_iter=2*10**4, C=0.01)\n",
    "clf_svm_lin = CalibratedClassifierCV(svm, n_jobs=4, cv=4)\n",
    "clf_svm_lin.fit(X_train, y_train)"
   ],
   "metadata": {
    "collapsed": false,
    "pycharm": {
     "name": "#%%\n"
    }
   }
  },
  {
   "cell_type": "code",
   "execution_count": 23,
   "outputs": [
    {
     "name": "stdout",
     "output_type": "stream",
     "text": [
      "\n",
      "------train-------\n",
      "(269316, 3)\n",
      "\n",
      "mean = 2.302934099719289\n",
      "\n",
      "top0 = 0.0\n",
      "top1 = 0.57258387916054\n",
      "top2 = 0.7004745354899078\n",
      "top3 = 0.7807445528672637\n",
      "top4 = 0.8429688544312258\n",
      "top5 = 0.8961368800962438\n",
      "top6 = 0.9409838256917524\n",
      "top7 = 0.9722964844272156\n",
      "top8 = 0.9908768881165619\n",
      "top9 = 1.0\n",
      "\n",
      "\n",
      "------test-------\n",
      "(221754, 3)\n",
      "\n",
      "mean = 5.737249384453043\n",
      "\n",
      "top0 = 0.0\n",
      "top1 = 0.405674756712393\n",
      "top2 = 0.5005276116778051\n",
      "top3 = 0.5661859538046664\n",
      "top4 = 0.6116778051354204\n",
      "top5 = 0.6506038222534881\n",
      "top6 = 0.6831984992378942\n",
      "top7 = 0.711924023918396\n",
      "top8 = 0.7358424199788955\n",
      "top9 = 0.7580021104467112\n",
      "top10 = 0.781099777230625\n",
      "top11 = 0.8030249736194162\n",
      "top12 = 0.8256536522452808\n",
      "top13 = 0.8479305897526087\n",
      "top14 = 0.8690350568648142\n",
      "top15 = 0.8897877828584828\n",
      "top16 = 0.9085473091804432\n",
      "top17 = 0.925665376949232\n",
      "top18 = 0.9392660335326533\n",
      "top19 = 0.950756243404854\n",
      "top20 = 0.9640051588697386\n",
      "top21 = 0.9732676749912065\n",
      "top22 = 0.9825301911126744\n",
      "top23 = 0.9887442842068238\n",
      "top24 = 0.9931996717082894\n",
      "top25 = 0.9965998358541447\n",
      "top26 = 1.0\n",
      "\n",
      "\n",
      "------valid-------\n",
      "(117338, 3)\n",
      "\n",
      "mean = 5.661200974961223\n",
      "\n",
      "top0 = 0.0\n",
      "top1 = 0.4083758032350986\n",
      "top2 = 0.503877686682916\n",
      "top3 = 0.5676933303789053\n",
      "top4 = 0.6193219587857302\n",
      "top5 = 0.6583204077110569\n",
      "top6 = 0.6913361400398848\n",
      "top7 = 0.7203633946377133\n",
      "top8 = 0.7434079326390428\n",
      "top9 = 0.766009306448039\n",
      "top10 = 0.7850653667183691\n",
      "top11 = 0.8076667405273654\n",
      "top12 = 0.8293817859516951\n",
      "top13 = 0.8517615776645248\n",
      "top14 = 0.8739197872811877\n",
      "top15 = 0.8929758475515178\n",
      "top16 = 0.9109239973410148\n",
      "top17 = 0.9268779082650122\n",
      "top18 = 0.9415023266120097\n",
      "top19 = 0.955683580766674\n",
      "top20 = 0.9638821183248394\n",
      "top21 = 0.9714159095945047\n",
      "top22 = 0.978506536671837\n",
      "top23 = 0.9858187458453357\n",
      "top24 = 0.9893640593840017\n",
      "top25 = 0.9953467759805008\n",
      "top26 = 1.0\n",
      "\n"
     ]
    }
   ],
   "source": [
    "show_rank_metrics(\n",
    "    df_group=pd.DataFrame(data=train['group'].tolist(), columns=['group']),\n",
    "    df_proba=pd.DataFrame(data=clf_svm_lin.predict_proba(X_train)[:,1].tolist(), columns=['proba']),\n",
    "    df_true=pd.DataFrame(data=y_train.tolist(), columns=['correct']),\n",
    "    label='train'\n",
    ")\n",
    "show_rank_metrics(\n",
    "    df_group=pd.DataFrame(data=test['group'].tolist(), columns=['group']),\n",
    "    df_proba=pd.DataFrame(data=clf_svm_lin.predict_proba(X_test)[:,1].tolist(), columns=['proba']),\n",
    "    df_true=pd.DataFrame(data=y_test.tolist(), columns=['correct']),\n",
    "    label='test'\n",
    ")\n",
    "show_rank_metrics(\n",
    "    df_group=pd.DataFrame(data=valid['group'].tolist(), columns=['group']),\n",
    "    df_proba=pd.DataFrame(data=clf_svm_lin.predict_proba(X_valid)[:,1].tolist(), columns=['proba']),\n",
    "    df_true=pd.DataFrame(data=y_valid.tolist(), columns=['correct']),\n",
    "    label='valid'\n",
    ")"
   ],
   "metadata": {
    "collapsed": false,
    "pycharm": {
     "name": "#%%\n"
    }
   }
  },
  {
   "cell_type": "code",
   "execution_count": 22,
   "outputs": [
    {
     "data": {
      "text/plain": "['clf_svm_lin.joblib']"
     },
     "execution_count": 22,
     "metadata": {},
     "output_type": "execute_result"
    }
   ],
   "source": [
    "from joblib import dump, load\n",
    "\n",
    "dump(clf_svm_lin, 'saved/clf_svm_lin.joblib')"
   ],
   "metadata": {
    "collapsed": false,
    "pycharm": {
     "name": "#%%\n"
    }
   }
  },
  {
   "cell_type": "code",
   "execution_count": 22,
   "outputs": [],
   "source": [],
   "metadata": {
    "collapsed": false,
    "pycharm": {
     "name": "#%%\n"
    }
   }
  }
 ],
 "metadata": {
  "kernelspec": {
   "display_name": "Python 3",
   "language": "python",
   "name": "python3"
  },
  "language_info": {
   "codemirror_mode": {
    "name": "ipython",
    "version": 2
   },
   "file_extension": ".py",
   "mimetype": "text/x-python",
   "name": "python",
   "nbconvert_exporter": "python",
   "pygments_lexer": "ipython2",
   "version": "2.7.6"
  }
 },
 "nbformat": 4,
 "nbformat_minor": 0
}