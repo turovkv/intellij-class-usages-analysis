{
 "cells": [
  {
   "cell_type": "code",
   "execution_count": 1,
   "metadata": {
    "collapsed": true,
    "pycharm": {
     "name": "#%%\n"
    }
   },
   "outputs": [],
   "source": [
    "import numpy as np\n",
    "import pandas as pd\n",
    "from sklearn import metrics\n",
    "from sklearn.linear_model import ARDRegression, RidgeClassifier\n",
    "from sklearn.svm import LinearSVR\n",
    "from sklearn.calibration import CalibratedClassifierCV\n",
    "from sklearn.svm import LinearSVC\n",
    "from utils import show_rank_metrics\n",
    "from sklearn.svm import SVC\n",
    "dataset_folder='./../dataset/saved/'"
   ]
  },
  {
   "cell_type": "code",
   "execution_count": 2,
   "outputs": [],
   "source": [
    "# train = pd.read_csv('train.csv', index_col=0).sample(frac=1)\n",
    "# y_train = train['correct']\n",
    "# X_train = train.drop(columns=['name', 'firstChar', 'group', 'correct'])\n",
    "#\n",
    "# test = pd.read_csv('test.csv', index_col=0)\n",
    "# y_test = test['correct']\n",
    "# X_test = test.drop(columns=['name', 'firstChar', 'group', 'correct'])\n",
    "#\n",
    "# valid = pd.read_csv('valid.csv', index_col=0)\n",
    "# y_valid = valid['correct']\n",
    "# X_valid = valid.drop(columns=['name', 'firstChar', 'group', 'correct'])"
   ],
   "metadata": {
    "collapsed": false,
    "pycharm": {
     "name": "#%%\n"
    }
   }
  },
  {
   "cell_type": "code",
   "execution_count": 3,
   "outputs": [],
   "source": [
    "# xs = X_train.iloc[:3*10 ** 4, :]\n",
    "# ys = y_train.iloc[:3*10 ** 4]"
   ],
   "metadata": {
    "collapsed": false,
    "pycharm": {
     "name": "#%%\n"
    }
   }
  },
  {
   "cell_type": "code",
   "execution_count": 4,
   "outputs": [],
   "source": [
    "# # svm = LinearSVC(random_state=0, penalty=\"l1\", dual=False, max_iter=10**4)\n",
    "# svm = LinearSVC(random_state=0, penalty=\"l1\", dual=False, max_iter=2*10**4, C=0.1)\n",
    "# clf_svm_lin = CalibratedClassifierCV(svm)\n",
    "# clf_svm_lin.fit(xs, ys)"
   ],
   "metadata": {
    "collapsed": false,
    "pycharm": {
     "name": "#%%\n"
    }
   }
  },
  {
   "cell_type": "code",
   "execution_count": 5,
   "outputs": [],
   "source": [
    "# show_rank_metrics(\n",
    "#     df_group=pd.DataFrame(data=train.iloc[:3*10 ** 4, :]['group'].tolist(), columns=['group']),\n",
    "#     df_proba=pd.DataFrame(data=clf_svm_lin.predict_proba(xs)[:,1].tolist(), columns=['proba']),\n",
    "#     df_true=pd.DataFrame(data=ys.tolist(), columns=['correct'])\n",
    "# )"
   ],
   "metadata": {
    "collapsed": false,
    "pycharm": {
     "name": "#%%\n"
    }
   }
  },
  {
   "cell_type": "code",
   "execution_count": 6,
   "outputs": [],
   "source": [
    "# show_rank_metrics(\n",
    "#     df_group=pd.DataFrame(data=test['group'].tolist(), columns=['group']),\n",
    "#     df_proba=pd.DataFrame(data=clf_svm_lin.predict_proba(X_test)[:,1].tolist(), columns=['proba']),\n",
    "#     df_true=pd.DataFrame(data=y_test.tolist(), columns=['correct'])\n",
    "# )"
   ],
   "metadata": {
    "collapsed": false,
    "pycharm": {
     "name": "#%%\n"
    }
   }
  },
  {
   "cell_type": "code",
   "execution_count": 7,
   "outputs": [],
   "source": [
    "# xs = X_train.iloc[:2*10 ** 4, :]\n",
    "# ys = y_train.iloc[:2*10 ** 4]"
   ],
   "metadata": {
    "collapsed": false,
    "pycharm": {
     "name": "#%%\n"
    }
   }
  },
  {
   "cell_type": "code",
   "execution_count": 8,
   "outputs": [],
   "source": [
    "# assert \"Too long\" == \"\"\n",
    "#\n",
    "# # svm = LinearSVC(random_state=0, penalty=\"l1\", dual=False, max_iter=10**4)\n",
    "# svm = SVC(random_state=0, C=0.1, cache_size=2000)\n",
    "# clf_svm_rbf = CalibratedClassifierCV(svm)\n",
    "# clf_svm_rbf.fit(xs, ys)"
   ],
   "metadata": {
    "collapsed": false,
    "pycharm": {
     "name": "#%%\n"
    }
   }
  },
  {
   "cell_type": "code",
   "execution_count": 8,
   "outputs": [],
   "source": [],
   "metadata": {
    "collapsed": false,
    "pycharm": {
     "name": "#%%\n"
    }
   }
  },
  {
   "cell_type": "code",
   "execution_count": 9,
   "outputs": [],
   "source": [
    "# show_rank_metrics(\n",
    "#     df_group=pd.DataFrame(data=train.iloc[:2*10 ** 4, :]['group'].tolist(), columns=['group']),\n",
    "#     df_proba=pd.DataFrame(data=clf_svm_rbf.predict_proba(xs)[:,1].tolist(), columns=['proba']),\n",
    "#     df_true=pd.DataFrame(data=ys.tolist(), columns=['correct'])\n",
    "# )"
   ],
   "metadata": {
    "collapsed": false,
    "pycharm": {
     "name": "#%%\n"
    }
   }
  },
  {
   "cell_type": "code",
   "execution_count": 10,
   "outputs": [],
   "source": [
    "# show_rank_metrics(\n",
    "#     df_group=pd.DataFrame(data=test.iloc[:2*10 ** 4, :]['group'].tolist(), columns=['group']),\n",
    "#     df_proba=pd.DataFrame(data=clf_svm_rbf.predict_proba(X_test.iloc[:2*10 ** 4, :])[:,1].tolist(), columns=['proba']),\n",
    "#     df_true=pd.DataFrame(data=y_test.iloc[:2*10 ** 4].tolist(), columns=['correct'])\n",
    "# )"
   ],
   "metadata": {
    "collapsed": false,
    "pycharm": {
     "name": "#%%\n"
    }
   }
  },
  {
   "cell_type": "code",
   "execution_count": 11,
   "outputs": [],
   "source": [
    "# show_rank_metrics(\n",
    "#     df_group=pd.DataFrame(data=valid.iloc[:3*10 ** 4, :]['group'].tolist(), columns=['group']),\n",
    "#     df_proba=pd.DataFrame(data=clf_svm_rbf.predict_proba(X_valid.iloc[:3*10 ** 4, :])[:,1].tolist(), columns=['proba']),\n",
    "#     df_true=pd.DataFrame(data=y_valid.iloc[:3*10 ** 4].tolist(), columns=['correct'])\n",
    "# )"
   ],
   "metadata": {
    "collapsed": false,
    "pycharm": {
     "name": "#%%\n"
    }
   }
  },
  {
   "cell_type": "code",
   "execution_count": 11,
   "outputs": [],
   "source": [],
   "metadata": {
    "collapsed": false,
    "pycharm": {
     "name": "#%%\n"
    }
   }
  },
  {
   "cell_type": "code",
   "execution_count": 12,
   "outputs": [],
   "source": [
    "######## poly"
   ],
   "metadata": {
    "collapsed": false,
    "pycharm": {
     "name": "#%%\n"
    }
   }
  },
  {
   "cell_type": "code",
   "execution_count": 13,
   "outputs": [],
   "source": [
    "# assert \"Too long\" == \"\"\n",
    "#\n",
    "# # svm = LinearSVC(random_state=0, penalty=\"l1\", dual=False, max_iter=10**4)\n",
    "# svm = SVC(random_state=0, C=0.1, cache_size=2000, kernel=\"poly\")\n",
    "# clf_svm_pol = CalibratedClassifierCV(svm)\n",
    "# clf_svm_pol.fit(xs, ys)"
   ],
   "metadata": {
    "collapsed": false,
    "pycharm": {
     "name": "#%%\n"
    }
   }
  },
  {
   "cell_type": "code",
   "execution_count": 14,
   "outputs": [],
   "source": [
    "# show_rank_metrics(\n",
    "#     df_group=pd.DataFrame(data=train.iloc[:2*10 ** 4, :]['group'].tolist(), columns=['group']),\n",
    "#     df_proba=pd.DataFrame(data=clf_svm_pol.predict_proba(xs)[:,1].tolist(), columns=['proba']),\n",
    "#     df_true=pd.DataFrame(data=ys.tolist(), columns=['correct'])\n",
    "# )"
   ],
   "metadata": {
    "collapsed": false,
    "pycharm": {
     "name": "#%%\n"
    }
   }
  },
  {
   "cell_type": "code",
   "execution_count": 15,
   "outputs": [],
   "source": [
    "# show_rank_metrics(\n",
    "#     df_group=pd.DataFrame(data=test.iloc[:2*10 ** 4, :]['group'].tolist(), columns=['group']),\n",
    "#     df_proba=pd.DataFrame(data=clf_svm_pol.predict_proba(X_test.iloc[:2*10 ** 4, :])[:,1].tolist(), columns=['proba']),\n",
    "#     df_true=pd.DataFrame(data=y_test.iloc[:2*10 ** 4].tolist(), columns=['correct'])\n",
    "# )"
   ],
   "metadata": {
    "collapsed": false,
    "pycharm": {
     "name": "#%%\n"
    }
   }
  },
  {
   "cell_type": "code",
   "execution_count": 16,
   "outputs": [],
   "source": [
    "# show_rank_metrics(\n",
    "#     df_group=pd.DataFrame(data=valid.iloc[:3*10 ** 4, :]['group'].tolist(), columns=['group']),\n",
    "#     df_proba=pd.DataFrame(data=clf_svm_pol.predict_proba(X_valid.iloc[:3*10 ** 4, :])[:,1].tolist(), columns=['proba']),\n",
    "#     df_true=pd.DataFrame(data=y_valid.iloc[:3*10 ** 4].tolist(), columns=['correct'])\n",
    "# )"
   ],
   "metadata": {
    "collapsed": false,
    "pycharm": {
     "name": "#%%\n"
    }
   }
  },
  {
   "cell_type": "code",
   "execution_count": 17,
   "outputs": [],
   "source": [
    "# from joblib import dump, load\n",
    "#\n",
    "# dump(clf_svm_pol, 'clf_svm_pol.joblib')\n",
    "# # 100 MB ..... bruh"
   ],
   "metadata": {
    "collapsed": false,
    "pycharm": {
     "name": "#%%\n"
    }
   }
  },
  {
   "cell_type": "code",
   "execution_count": 17,
   "outputs": [],
   "source": [],
   "metadata": {
    "collapsed": false,
    "pycharm": {
     "name": "#%%\n"
    }
   }
  },
  {
   "cell_type": "code",
   "execution_count": 18,
   "outputs": [],
   "source": [
    "train = pd.read_pickle(dataset_folder+'train_ohe401_intr2_2k')\n",
    "y_train = train['correct']\n",
    "X_train = train.drop(columns=['group', 'correct'])\n",
    "\n",
    "test = pd.read_pickle(dataset_folder+'test_ohe401_intr2_2k')\n",
    "y_test = test['correct']\n",
    "X_test = test.drop(columns=['group', 'correct'])\n",
    "\n",
    "valid = pd.read_pickle(dataset_folder+'valid_ohe401_intr2_2k')\n",
    "y_valid = valid['correct']\n",
    "X_valid = valid.drop(columns=['group', 'correct'])"
   ],
   "metadata": {
    "collapsed": false,
    "pycharm": {
     "name": "#%%\n"
    }
   }
  },
  {
   "cell_type": "code",
   "execution_count": 19,
   "outputs": [],
   "source": [
    "# xs = X_train.iloc[:3*10 ** 4, :]\n",
    "# ys = y_train.iloc[:3*10 ** 4]"
   ],
   "metadata": {
    "collapsed": false,
    "pycharm": {
     "name": "#%%\n"
    }
   }
  },
  {
   "cell_type": "code",
   "execution_count": 20,
   "outputs": [
    {
     "data": {
      "text/plain": "CalibratedClassifierCV(base_estimator=LinearSVC(C=0.01, dual=False,\n                                                max_iter=20000,\n                                                random_state=0),\n                       cv=4, n_jobs=4)"
     },
     "execution_count": 20,
     "metadata": {},
     "output_type": "execute_result"
    }
   ],
   "source": [
    "svm = LinearSVC(random_state=0, penalty=\"l2\", dual=False, max_iter=2*10**4, C=0.01)\n",
    "clf_svm_lin = CalibratedClassifierCV(svm, n_jobs=4, cv=4)\n",
    "clf_svm_lin.fit(X_train, y_train)"
   ],
   "metadata": {
    "collapsed": false,
    "pycharm": {
     "name": "#%%\n"
    }
   }
  },
  {
   "cell_type": "code",
   "execution_count": 21,
   "outputs": [
    {
     "name": "stdout",
     "output_type": "stream",
     "text": [
      "\n",
      "------train-------\n",
      "(327760, 3)\n",
      "\n",
      "mean = 1.6282035635831096  median=1.0, zerosCountMean=0.0, groupSizeMean=10.999725408835733\n",
      "\n",
      "top0 = 0.0\n",
      "top1 = 0.7436844032218697\n",
      "top2 = 0.8534903587991213\n",
      "top3 = 0.9078594093238955\n",
      "top4 = 0.9424273858921162\n",
      "top5 = 0.9640590676104467\n",
      "top6 = 0.9787954600927508\n",
      "top7 = 0.988162069807176\n",
      "top8 = 0.9949353185257506\n",
      "top9 = 0.9983829631437637\n",
      "top10 = 1.0\n",
      "\n",
      "\n",
      "------test-------\n",
      "(197715, 3)\n",
      "\n",
      "mean = 3.0267657992565056  median=1.0, zerosCountMean=0.0, groupSizeMean=21.99787573021774\n",
      "\n",
      "top0 = 0.0\n",
      "top1 = 0.5911842804036113\n",
      "top2 = 0.6999468932554435\n",
      "top3 = 0.7596388741370154\n",
      "top4 = 0.8028677642060542\n",
      "top5 = 0.8382368560807223\n",
      "top6 = 0.8645778013807753\n",
      "top7 = 0.8840148698884759\n",
      "top8 = 0.9016463090812533\n",
      "top9 = 0.917578332448221\n",
      "top10 = 0.9304301646309081\n",
      "top11 = 0.9444503451938396\n",
      "top12 = 0.9549654806160383\n",
      "top13 = 0.9640998406797663\n",
      "top14 = 0.9742963356346256\n",
      "top15 = 0.9813064259160913\n",
      "top16 = 0.9859798194370685\n",
      "stop 16\n",
      "\n",
      "\n",
      "------valid-------\n",
      "(134354, 3)\n",
      "\n",
      "mean = 86.26237623762377  median=27.5, zerosCountMean=0.0, groupSizeMean=663.1089108910891\n",
      "\n",
      "top0 = 0.0\n",
      "top1 = 0.10891089108910891\n",
      "top2 = 0.15346534653465346\n",
      "top3 = 0.21782178217821782\n",
      "top4 = 0.2524752475247525\n",
      "top5 = 0.2722772277227723\n",
      "top6 = 0.3217821782178218\n",
      "top7 = 0.32673267326732675\n",
      "top8 = 0.3415841584158416\n",
      "top9 = 0.3564356435643564\n",
      "top10 = 0.36633663366336633\n",
      "top11 = 0.37623762376237624\n",
      "top12 = 0.38613861386138615\n",
      "top13 = 0.39603960396039606\n",
      "top14 = 0.39603960396039606\n",
      "top15 = 0.400990099009901\n",
      "top16 = 0.4158415841584158\n",
      "stop 16\n",
      "\n"
     ]
    }
   ],
   "source": [
    "show_rank_metrics(\n",
    "    df_group=pd.DataFrame(data=train['group'].tolist(), columns=['group']),\n",
    "    df_proba=pd.DataFrame(data=clf_svm_lin.predict_proba(X_train)[:,1].tolist(), columns=['proba']),\n",
    "    df_true=pd.DataFrame(data=y_train.tolist(), columns=['correct']),\n",
    "    label='train'\n",
    ")\n",
    "show_rank_metrics(\n",
    "    df_group=pd.DataFrame(data=test['group'].tolist(), columns=['group']),\n",
    "    df_proba=pd.DataFrame(data=clf_svm_lin.predict_proba(X_test)[:,1].tolist(), columns=['proba']),\n",
    "    df_true=pd.DataFrame(data=y_test.tolist(), columns=['correct']),\n",
    "    label='test'\n",
    ")\n",
    "show_rank_metrics(\n",
    "    df_group=pd.DataFrame(data=valid['group'].tolist(), columns=['group']),\n",
    "    df_proba=pd.DataFrame(data=clf_svm_lin.predict_proba(X_valid)[:,1].tolist(), columns=['proba']),\n",
    "    df_true=pd.DataFrame(data=y_valid.tolist(), columns=['correct']),\n",
    "    label='valid'\n",
    ")"
   ],
   "metadata": {
    "collapsed": false,
    "pycharm": {
     "name": "#%%\n"
    }
   }
  },
  {
   "cell_type": "code",
   "execution_count": 22,
   "outputs": [
    {
     "data": {
      "text/plain": "['saved/clf_svm_lin.joblib']"
     },
     "execution_count": 22,
     "metadata": {},
     "output_type": "execute_result"
    }
   ],
   "source": [
    "from joblib import dump, load\n",
    "\n",
    "dump(clf_svm_lin, 'saved/clf_svm_lin.joblib')"
   ],
   "metadata": {
    "collapsed": false,
    "pycharm": {
     "name": "#%%\n"
    }
   }
  },
  {
   "cell_type": "code",
   "execution_count": 22,
   "outputs": [],
   "source": [],
   "metadata": {
    "collapsed": false,
    "pycharm": {
     "name": "#%%\n"
    }
   }
  }
 ],
 "metadata": {
  "kernelspec": {
   "display_name": "Python 3",
   "language": "python",
   "name": "python3"
  },
  "language_info": {
   "codemirror_mode": {
    "name": "ipython",
    "version": 2
   },
   "file_extension": ".py",
   "mimetype": "text/x-python",
   "name": "python",
   "nbconvert_exporter": "python",
   "pygments_lexer": "ipython2",
   "version": "2.7.6"
  }
 },
 "nbformat": 4,
 "nbformat_minor": 0
}