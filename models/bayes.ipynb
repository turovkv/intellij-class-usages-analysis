{
 "cells": [
  {
   "cell_type": "code",
   "execution_count": 47,
   "metadata": {
    "collapsed": true,
    "pycharm": {
     "name": "#%%\n"
    }
   },
   "outputs": [],
   "source": [
    "import numpy as np\n",
    "import pandas as pd\n",
    "from sklearn import metrics\n",
    "from sklearn.linear_model import ARDRegression, RidgeClassifier\n",
    "from sklearn.svm import LinearSVR\n",
    "from sklearn.calibration import CalibratedClassifierCV\n",
    "from sklearn.svm import LinearSVC\n",
    "from utils import show_rank_metrics\n",
    "from sklearn.naive_bayes import MultinomialNB, ComplementNB, BernoulliNB\n",
    "from joblib import dump, load\n",
    "dataset_folder='./../dataset/saved/'"
   ]
  },
  {
   "cell_type": "code",
   "execution_count": 48,
   "outputs": [],
   "source": [
    "# clf_ridge = CalibratedClassifierCV(RidgeClassifier())\n",
    "# clf_ridge.fit(xs, ys)"
   ],
   "metadata": {
    "collapsed": false,
    "pycharm": {
     "name": "#%%\n"
    }
   }
  },
  {
   "cell_type": "code",
   "execution_count": 49,
   "outputs": [],
   "source": [
    "# show_rank_metrics(\n",
    "#     df_group=pd.DataFrame(data=test['group'].tolist(), columns=['group']),\n",
    "#     df_proba=pd.DataFrame(data=clf_ridge.predict_proba(X_test)[:,1].tolist(), columns=['proba']),\n",
    "#     df_true=pd.DataFrame(data=y_test.tolist(), columns=['correct'])\n",
    "# )"
   ],
   "metadata": {
    "collapsed": false,
    "pycharm": {
     "name": "#%%\n"
    }
   }
  },
  {
   "cell_type": "code",
   "execution_count": 50,
   "outputs": [
    {
     "name": "stdout",
     "output_type": "stream",
     "text": [
      "#########################################################\n"
     ]
    }
   ],
   "source": [
    "print('#########################################################')"
   ],
   "metadata": {
    "collapsed": false,
    "pycharm": {
     "name": "#%%\n"
    }
   }
  },
  {
   "cell_type": "code",
   "execution_count": 51,
   "outputs": [],
   "source": [
    "train = pd.read_pickle(dataset_folder+'train_ohe401_intr2_2k')\n",
    "y_train = train['correct']\n",
    "X_train = train.drop(columns=['group', 'correct'])\n",
    "\n",
    "test = pd.read_pickle(dataset_folder+'test_ohe401_intr2_2k')\n",
    "y_test = test['correct']\n",
    "X_test = test.drop(columns=['group', 'correct'])\n",
    "\n",
    "valid = pd.read_pickle(dataset_folder+'valid_ohe401_intr2_2k')\n",
    "y_valid = valid['correct']\n",
    "X_valid = valid.drop(columns=['group', 'correct'])"
   ],
   "metadata": {
    "collapsed": false,
    "pycharm": {
     "name": "#%%\n"
    }
   }
  },
  {
   "cell_type": "code",
   "execution_count": 52,
   "outputs": [],
   "source": [
    "# xs = X_train.iloc[:10 ** 5, :]\n",
    "# ys = y_train.iloc[:10 ** 5]"
   ],
   "metadata": {
    "collapsed": false,
    "pycharm": {
     "name": "#%%\n"
    }
   }
  },
  {
   "cell_type": "code",
   "execution_count": 53,
   "outputs": [],
   "source": [
    "clf_bayes_mnl = MultinomialNB().fit(X_train, y_train)"
   ],
   "metadata": {
    "collapsed": false,
    "pycharm": {
     "name": "#%%\n"
    }
   }
  },
  {
   "cell_type": "code",
   "execution_count": 54,
   "outputs": [
    {
     "name": "stdout",
     "output_type": "stream",
     "text": [
      "\n",
      "------train-------\n",
      "(269316, 3)\n",
      "\n",
      "mean = 2.5470191150915653\n",
      "\n",
      "top0 = 0.0\n",
      "top1 = 0.5206857372009089\n",
      "top2 = 0.6491779173907232\n",
      "top3 = 0.7385376286592702\n",
      "top4 = 0.8102860580136345\n",
      "top5 = 0.8689346344071648\n",
      "top6 = 0.9209330303435369\n",
      "top7 = 0.9594305574121107\n",
      "top8 = 0.9849953214810854\n",
      "top9 = 1.0\n",
      "\n",
      "\n",
      "------test-------\n",
      "(221754, 3)\n",
      "\n",
      "mean = 6.648024387384218\n",
      "\n",
      "top0 = 0.0\n",
      "top1 = 0.35842419978895534\n",
      "top2 = 0.44319380935631375\n",
      "top3 = 0.5021690702309767\n",
      "top4 = 0.545081486692461\n",
      "top5 = 0.5810763278227224\n",
      "top6 = 0.6155469574393246\n",
      "top7 = 0.6481416344237309\n",
      "top8 = 0.680736311408137\n",
      "top9 = 0.7078203775354672\n",
      "top10 = 0.734200961425724\n",
      "top11 = 0.7612850275530543\n",
      "top12 = 0.7864931410481886\n",
      "top13 = 0.8118185015828351\n",
      "top14 = 0.837378356196506\n",
      "top15 = 0.8603587759409075\n",
      "top16 = 0.8813459960136006\n",
      "top17 = 0.9026849572048306\n",
      "top18 = 0.9203892601711807\n",
      "top19 = 0.9352796341892368\n",
      "top20 = 0.9477078203775354\n",
      "top21 = 0.9591980302497362\n",
      "top22 = 0.9702192519638879\n",
      "top23 = 0.9801852503224293\n",
      "top24 = 0.9873373197326768\n",
      "top25 = 0.9939031539453629\n",
      "top26 = 1.0\n",
      "\n",
      "\n",
      "------valid-------\n",
      "(117338, 3)\n",
      "\n",
      "mean = 6.611123421227565\n",
      "\n",
      "top0 = 0.0\n",
      "top1 = 0.3625083093286062\n",
      "top2 = 0.4531353866607578\n",
      "top3 = 0.5076445823177487\n",
      "top4 = 0.5543984046089075\n",
      "top5 = 0.5927321072457346\n",
      "top6 = 0.6255262574783957\n",
      "top7 = 0.6585419898072236\n",
      "top8 = 0.6842455129625526\n",
      "top9 = 0.709727454021715\n",
      "top10 = 0.7354309771770441\n",
      "top11 = 0.7633503212940395\n",
      "top12 = 0.7872811876800354\n",
      "top13 = 0.8143142034123643\n",
      "top14 = 0.8406824728561932\n",
      "top15 = 0.8586306226456902\n",
      "top16 = 0.8794593396853534\n",
      "top17 = 0.8980722357633503\n",
      "top18 = 0.9149124750720142\n",
      "top19 = 0.9308663859960116\n",
      "top20 = 0.9448260580545091\n",
      "top21 = 0.9578994017283403\n",
      "top22 = 0.9672058497673388\n",
      "top23 = 0.9760691336140039\n",
      "top24 = 0.9816086860181698\n",
      "top25 = 0.989807223576335\n",
      "top26 = 1.0\n",
      "\n"
     ]
    }
   ],
   "source": [
    "show_rank_metrics(\n",
    "    df_group=pd.DataFrame(data=train['group'].tolist(), columns=['group']),\n",
    "    df_proba=pd.DataFrame(data=clf_bayes_mnl.predict_proba(X_train)[:,1].tolist(), columns=['proba']),\n",
    "    df_true=pd.DataFrame(data=y_train.tolist(), columns=['correct']),\n",
    "    label='train'\n",
    ")\n",
    "show_rank_metrics(\n",
    "    df_group=pd.DataFrame(data=test['group'].tolist(), columns=['group']),\n",
    "    df_proba=pd.DataFrame(data=clf_bayes_mnl.predict_proba(X_test)[:,1].tolist(), columns=['proba']),\n",
    "    df_true=pd.DataFrame(data=y_test.tolist(), columns=['correct']),\n",
    "    label='test'\n",
    ")\n",
    "show_rank_metrics(\n",
    "    df_group=pd.DataFrame(data=valid['group'].tolist(), columns=['group']),\n",
    "    df_proba=pd.DataFrame(data=clf_bayes_mnl.predict_proba(X_valid)[:,1].tolist(), columns=['proba']),\n",
    "    df_true=pd.DataFrame(data=y_valid.tolist(), columns=['correct']),\n",
    "    label='valid'\n",
    ")"
   ],
   "metadata": {
    "collapsed": false,
    "pycharm": {
     "name": "#%%\n"
    }
   }
  },
  {
   "cell_type": "code",
   "execution_count": 55,
   "outputs": [
    {
     "data": {
      "text/plain": "['saved/clf_bayes_mnl']"
     },
     "execution_count": 55,
     "metadata": {},
     "output_type": "execute_result"
    }
   ],
   "source": [
    "dump(clf_bayes_mnl, 'saved/clf_bayes_mnl')\n",
    "# 51 kb (for 1000 features)"
   ],
   "metadata": {
    "collapsed": false,
    "pycharm": {
     "name": "#%%\n"
    }
   }
  },
  {
   "cell_type": "code",
   "execution_count": 55,
   "outputs": [],
   "source": [],
   "metadata": {
    "collapsed": false,
    "pycharm": {
     "name": "#%%\n"
    }
   }
  },
  {
   "cell_type": "code",
   "execution_count": 56,
   "outputs": [],
   "source": [
    "\n",
    "\n",
    "clf_bayes_cmp = ComplementNB().fit(X_train, y_train)"
   ],
   "metadata": {
    "collapsed": false,
    "pycharm": {
     "name": "#%%\n"
    }
   }
  },
  {
   "cell_type": "code",
   "execution_count": 57,
   "outputs": [
    {
     "name": "stdout",
     "output_type": "stream",
     "text": [
      "\n",
      "------train-------\n",
      "(269316, 3)\n",
      "\n",
      "mean = 2.5470191150915653\n",
      "\n",
      "top0 = 0.0\n",
      "top1 = 0.5206857372009089\n",
      "top2 = 0.6491779173907232\n",
      "top3 = 0.7385376286592702\n",
      "top4 = 0.8102860580136345\n",
      "top5 = 0.8689346344071648\n",
      "top6 = 0.9209330303435369\n",
      "top7 = 0.9594305574121107\n",
      "top8 = 0.9849953214810854\n",
      "top9 = 1.0\n",
      "\n",
      "\n",
      "------test-------\n",
      "(221754, 3)\n",
      "\n",
      "mean = 6.648024387384218\n",
      "\n",
      "top0 = 0.0\n",
      "top1 = 0.35842419978895534\n",
      "top2 = 0.44319380935631375\n",
      "top3 = 0.5021690702309767\n",
      "top4 = 0.545081486692461\n",
      "top5 = 0.5810763278227224\n",
      "top6 = 0.6155469574393246\n",
      "top7 = 0.6481416344237309\n",
      "top8 = 0.680736311408137\n",
      "top9 = 0.7078203775354672\n",
      "top10 = 0.734200961425724\n",
      "top11 = 0.7612850275530543\n",
      "top12 = 0.7864931410481886\n",
      "top13 = 0.8118185015828351\n",
      "top14 = 0.837378356196506\n",
      "top15 = 0.8603587759409075\n",
      "top16 = 0.8813459960136006\n",
      "top17 = 0.9026849572048306\n",
      "top18 = 0.9203892601711807\n",
      "top19 = 0.9352796341892368\n",
      "top20 = 0.9477078203775354\n",
      "top21 = 0.9591980302497362\n",
      "top22 = 0.9702192519638879\n",
      "top23 = 0.9801852503224293\n",
      "top24 = 0.9873373197326768\n",
      "top25 = 0.9939031539453629\n",
      "top26 = 1.0\n",
      "\n",
      "\n",
      "------valid-------\n",
      "(117338, 3)\n",
      "\n",
      "mean = 6.611123421227565\n",
      "\n",
      "top0 = 0.0\n",
      "top1 = 0.3625083093286062\n",
      "top2 = 0.4531353866607578\n",
      "top3 = 0.5076445823177487\n",
      "top4 = 0.5543984046089075\n",
      "top5 = 0.5927321072457346\n",
      "top6 = 0.6255262574783957\n",
      "top7 = 0.6585419898072236\n",
      "top8 = 0.6842455129625526\n",
      "top9 = 0.709727454021715\n",
      "top10 = 0.7354309771770441\n",
      "top11 = 0.7633503212940395\n",
      "top12 = 0.7872811876800354\n",
      "top13 = 0.8143142034123643\n",
      "top14 = 0.8406824728561932\n",
      "top15 = 0.8586306226456902\n",
      "top16 = 0.8794593396853534\n",
      "top17 = 0.8980722357633503\n",
      "top18 = 0.9149124750720142\n",
      "top19 = 0.9308663859960116\n",
      "top20 = 0.9448260580545091\n",
      "top21 = 0.9578994017283403\n",
      "top22 = 0.9672058497673388\n",
      "top23 = 0.9760691336140039\n",
      "top24 = 0.9816086860181698\n",
      "top25 = 0.989807223576335\n",
      "top26 = 1.0\n",
      "\n"
     ]
    }
   ],
   "source": [
    "show_rank_metrics(\n",
    "    df_group=pd.DataFrame(data=train['group'].tolist(), columns=['group']),\n",
    "    df_proba=pd.DataFrame(data=clf_bayes_mnl.predict_proba(X_train)[:,1].tolist(), columns=['proba']),\n",
    "    df_true=pd.DataFrame(data=y_train.tolist(), columns=['correct']),\n",
    "    label='train'\n",
    ")\n",
    "show_rank_metrics(\n",
    "    df_group=pd.DataFrame(data=test['group'].tolist(), columns=['group']),\n",
    "    df_proba=pd.DataFrame(data=clf_bayes_mnl.predict_proba(X_test)[:,1].tolist(), columns=['proba']),\n",
    "    df_true=pd.DataFrame(data=y_test.tolist(), columns=['correct']),\n",
    "    label='test'\n",
    ")\n",
    "show_rank_metrics(\n",
    "    df_group=pd.DataFrame(data=valid['group'].tolist(), columns=['group']),\n",
    "    df_proba=pd.DataFrame(data=clf_bayes_mnl.predict_proba(X_valid)[:,1].tolist(), columns=['proba']),\n",
    "    df_true=pd.DataFrame(data=y_valid.tolist(), columns=['correct']),\n",
    "    label='valid'\n",
    ")"
   ],
   "metadata": {
    "collapsed": false,
    "pycharm": {
     "name": "#%%\n"
    }
   }
  },
  {
   "cell_type": "code",
   "execution_count": 58,
   "outputs": [],
   "source": [
    "clf_bayes_brn = BernoulliNB().fit(X_train, y_train)"
   ],
   "metadata": {
    "collapsed": false,
    "pycharm": {
     "name": "#%%\n"
    }
   }
  },
  {
   "cell_type": "code",
   "execution_count": 59,
   "outputs": [
    {
     "name": "stdout",
     "output_type": "stream",
     "text": [
      "\n",
      "------train-------\n",
      "(269316, 3)\n",
      "\n",
      "mean = 2.591932896671568\n",
      "\n",
      "top0 = 0.0\n",
      "top1 = 0.5088223499532148\n",
      "top2 = 0.6410239272824488\n",
      "top3 = 0.7326226440315465\n",
      "top4 = 0.8025330838123246\n",
      "top5 = 0.8637214276166288\n",
      "top6 = 0.9167557813126588\n",
      "top7 = 0.9581940916989707\n",
      "top8 = 0.9843937976206389\n",
      "top9 = 1.0\n",
      "\n",
      "\n",
      "------test-------\n",
      "(221754, 3)\n",
      "\n",
      "mean = 6.780161800914527\n",
      "\n",
      "top0 = 0.0\n",
      "top1 = 0.3533825770899285\n",
      "top2 = 0.4373314573807011\n",
      "top3 = 0.4972446945714621\n",
      "top4 = 0.5426192988627038\n",
      "top5 = 0.5803728455856489\n",
      "top6 = 0.6130847696095674\n",
      "top7 = 0.6438034939617775\n",
      "top8 = 0.6781568765388674\n",
      "top9 = 0.7044202133896119\n",
      "top10 = 0.7293938328057217\n",
      "top11 = 0.7534294759057334\n",
      "top12 = 0.7740649548598898\n",
      "top13 = 0.8000937976316098\n",
      "top14 = 0.8214327588228397\n",
      "top15 = 0.8478133427130965\n",
      "top16 = 0.870324774299449\n",
      "top17 = 0.8935396881228749\n",
      "top18 = 0.9153476374721539\n",
      "top19 = 0.9312932348458202\n",
      "top20 = 0.9446593973502169\n",
      "top21 = 0.9577910657755891\n",
      "top22 = 0.9695157697268144\n",
      "top23 = 0.9807714855199906\n",
      "top24 = 0.9867510845351155\n",
      "top25 = 0.9931996717082894\n",
      "top26 = 1.0\n",
      "\n",
      "\n",
      "------valid-------\n",
      "(117338, 3)\n",
      "\n",
      "mean = 6.762463992909373\n",
      "\n",
      "top0 = 0.0\n",
      "top1 = 0.3534234433857744\n",
      "top2 = 0.4416131176600931\n",
      "top3 = 0.49878129847108355\n",
      "top4 = 0.5435408818967428\n",
      "top5 = 0.5880788832262354\n",
      "top6 = 0.6210946155550632\n",
      "top7 = 0.655883004653224\n",
      "top8 = 0.6782627963660536\n",
      "top9 = 0.7048526479060492\n",
      "top10 = 0.7263461112342122\n",
      "top11 = 0.7513848881010414\n",
      "top12 = 0.7770884112563705\n",
      "top13 = 0.7996897850653667\n",
      "top14 = 0.8260580545091957\n",
      "top15 = 0.8488810104143585\n",
      "top16 = 0.871925548415688\n",
      "top17 = 0.8934190117438511\n",
      "top18 = 0.9111455794371814\n",
      "top19 = 0.9304232218036783\n",
      "top20 = 0.9432749833813427\n",
      "top21 = 0.9559051628628407\n",
      "top22 = 0.9665411034788389\n",
      "top23 = 0.9762907157101706\n",
      "top24 = 0.9840460890760027\n",
      "top25 = 0.9895856414801684\n",
      "top26 = 1.0\n",
      "\n"
     ]
    }
   ],
   "source": [
    "show_rank_metrics(\n",
    "    df_group=pd.DataFrame(data=train['group'].tolist(), columns=['group']),\n",
    "    df_proba=pd.DataFrame(data=clf_bayes_brn.predict_proba(X_train)[:,1].tolist(), columns=['proba']),\n",
    "    df_true=pd.DataFrame(data=y_train.tolist(), columns=['correct']),\n",
    "    label='train'\n",
    ")\n",
    "show_rank_metrics(\n",
    "    df_group=pd.DataFrame(data=test['group'].tolist(), columns=['group']),\n",
    "    df_proba=pd.DataFrame(data=clf_bayes_brn.predict_proba(X_test)[:,1].tolist(), columns=['proba']),\n",
    "    df_true=pd.DataFrame(data=y_test.tolist(), columns=['correct']),\n",
    "    label='test'\n",
    ")\n",
    "show_rank_metrics(\n",
    "    df_group=pd.DataFrame(data=valid['group'].tolist(), columns=['group']),\n",
    "    df_proba=pd.DataFrame(data=clf_bayes_brn.predict_proba(X_valid)[:,1].tolist(), columns=['proba']),\n",
    "    df_true=pd.DataFrame(data=y_valid.tolist(), columns=['correct']),\n",
    "    label='valid'\n",
    ")"
   ],
   "metadata": {
    "collapsed": false,
    "pycharm": {
     "name": "#%%\n"
    }
   }
  },
  {
   "cell_type": "code",
   "execution_count": 60,
   "outputs": [],
   "source": [
    "# train = pd.read_csv(dataset_folder+'train.csv', index_col=0).sample(frac=1)\n",
    "# y_train = train['correct']\n",
    "# X_train = train.drop(columns=['name', 'firstChar', 'group', 'correct'])\n",
    "#\n",
    "# test = pd.read_csv(dataset_folder+'test.csv', index_col=0)\n",
    "# y_test = test['correct']\n",
    "# X_test = test.drop(columns=['name', 'firstChar', 'group', 'correct'])\n",
    "#\n",
    "# valid = pd.read_csv(dataset_folder+'valid.csv', index_col=0)\n",
    "# y_valid = valid['correct']\n",
    "# X_valid = valid.drop(columns=['name', 'firstChar', 'group', 'correct'])"
   ],
   "metadata": {
    "collapsed": false,
    "pycharm": {
     "name": "#%%\n"
    }
   }
  },
  {
   "cell_type": "code",
   "execution_count": 61,
   "outputs": [],
   "source": [
    "# clf_bern = MultinomialNB().fit(X_train, y_train)"
   ],
   "metadata": {
    "collapsed": false,
    "pycharm": {
     "name": "#%%\n"
    }
   }
  },
  {
   "cell_type": "code",
   "execution_count": 62,
   "outputs": [],
   "source": [
    "# show_rank_metrics(\n",
    "#     df_group=pd.DataFrame(data=test['group'].tolist(), columns=['group']),\n",
    "#     df_proba=pd.DataFrame(data=clf_bern.predict_proba(X_test)[:,1].tolist(), columns=['proba']),\n",
    "#     df_true=pd.DataFrame(data=y_test.tolist(), columns=['correct']),\n",
    "#     label='test'\n",
    "# )\n",
    "# show_rank_metrics(\n",
    "#     df_group=pd.DataFrame(data=valid['group'].tolist(), columns=['group']),\n",
    "#     df_proba=pd.DataFrame(data=clf_bern.predict_proba(X_valid)[:,1].tolist(), columns=['proba']),\n",
    "#     df_true=pd.DataFrame(data=y_valid.tolist(), columns=['correct']),\n",
    "#     label='valid'\n",
    "# )"
   ],
   "metadata": {
    "collapsed": false,
    "pycharm": {
     "name": "#%%\n"
    }
   }
  },
  {
   "cell_type": "code",
   "execution_count": 62,
   "outputs": [],
   "source": [],
   "metadata": {
    "collapsed": false,
    "pycharm": {
     "name": "#%%\n"
    }
   }
  }
 ],
 "metadata": {
  "kernelspec": {
   "display_name": "Python 3",
   "language": "python",
   "name": "python3"
  },
  "language_info": {
   "codemirror_mode": {
    "name": "ipython",
    "version": 2
   },
   "file_extension": ".py",
   "mimetype": "text/x-python",
   "name": "python",
   "nbconvert_exporter": "python",
   "pygments_lexer": "ipython2",
   "version": "2.7.6"
  }
 },
 "nbformat": 4,
 "nbformat_minor": 0
}