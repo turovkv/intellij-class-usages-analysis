{
 "cells": [
  {
   "cell_type": "code",
   "execution_count": 1,
   "metadata": {
    "collapsed": true,
    "pycharm": {
     "name": "#%%\n"
    }
   },
   "outputs": [],
   "source": [
    "import numpy as np\n",
    "import pandas as pd\n",
    "from sklearn import metrics\n",
    "from sklearn.linear_model import ARDRegression, RidgeClassifier\n",
    "from sklearn.svm import LinearSVR\n",
    "from sklearn.calibration import CalibratedClassifierCV\n",
    "from sklearn.svm import LinearSVC\n",
    "from utils import show_rank_metrics\n",
    "from sklearn.naive_bayes import MultinomialNB, ComplementNB, BernoulliNB\n",
    "from joblib import dump, load\n",
    "dataset_folder='./../dataset/saved/'"
   ]
  },
  {
   "cell_type": "code",
   "execution_count": 2,
   "outputs": [],
   "source": [
    "# clf_ridge = CalibratedClassifierCV(RidgeClassifier())\n",
    "# clf_ridge.fit(xs, ys)"
   ],
   "metadata": {
    "collapsed": false,
    "pycharm": {
     "name": "#%%\n"
    }
   }
  },
  {
   "cell_type": "code",
   "execution_count": 3,
   "outputs": [],
   "source": [
    "# show_rank_metrics(\n",
    "#     df_group=pd.DataFrame(data=test['group'].tolist(), columns=['group']),\n",
    "#     df_proba=pd.DataFrame(data=clf_ridge.predict_proba(X_test)[:,1].tolist(), columns=['proba']),\n",
    "#     df_true=pd.DataFrame(data=y_test.tolist(), columns=['correct'])\n",
    "# )"
   ],
   "metadata": {
    "collapsed": false,
    "pycharm": {
     "name": "#%%\n"
    }
   }
  },
  {
   "cell_type": "code",
   "execution_count": 4,
   "outputs": [
    {
     "name": "stdout",
     "output_type": "stream",
     "text": [
      "#########################################################\n"
     ]
    }
   ],
   "source": [
    "print('#########################################################')"
   ],
   "metadata": {
    "collapsed": false,
    "pycharm": {
     "name": "#%%\n"
    }
   }
  },
  {
   "cell_type": "code",
   "execution_count": 5,
   "outputs": [],
   "source": [
    "train = pd.read_pickle(dataset_folder+'train_ohe401_intr2_2k')\n",
    "y_train = train['correct']\n",
    "X_train = train.drop(columns=['group', 'correct'])\n",
    "\n",
    "test = pd.read_pickle(dataset_folder+'test_ohe401_intr2_2k')\n",
    "y_test = test['correct']\n",
    "X_test = test.drop(columns=['group', 'correct'])\n",
    "\n",
    "valid = pd.read_pickle(dataset_folder+'valid_ohe401_intr2_2k')\n",
    "y_valid = valid['correct']\n",
    "X_valid = valid.drop(columns=['group', 'correct'])"
   ],
   "metadata": {
    "collapsed": false,
    "pycharm": {
     "name": "#%%\n"
    }
   }
  },
  {
   "cell_type": "code",
   "execution_count": 6,
   "outputs": [],
   "source": [
    "# xs = X_train.iloc[:10 ** 5, :]\n",
    "# ys = y_train.iloc[:10 ** 5]"
   ],
   "metadata": {
    "collapsed": false,
    "pycharm": {
     "name": "#%%\n"
    }
   }
  },
  {
   "cell_type": "code",
   "execution_count": 7,
   "outputs": [],
   "source": [
    "clf_bayes_mnl = MultinomialNB().fit(X_train, y_train)"
   ],
   "metadata": {
    "collapsed": false,
    "pycharm": {
     "name": "#%%\n"
    }
   }
  },
  {
   "cell_type": "code",
   "execution_count": 8,
   "outputs": [
    {
     "name": "stdout",
     "output_type": "stream",
     "text": [
      "\n",
      "------train-------\n",
      "(338170, 3)\n",
      "\n",
      "mean = 2.739982848862998\n",
      "\n",
      "top0 = 0.0\n",
      "top1 = 0.512641570807582\n",
      "top2 = 0.6345329272259514\n",
      "top3 = 0.7152911257651478\n",
      "top4 = 0.7836295354407546\n",
      "top5 = 0.8409084188425939\n",
      "top6 = 0.8921252624419671\n",
      "top7 = 0.9327852855072892\n",
      "top8 = 0.9633911937782772\n",
      "top9 = 0.9847118313274389\n",
      "top10 = 1.0\n",
      "\n",
      "\n",
      "------test-------\n",
      "(174972, 3)\n",
      "\n",
      "mean = 5.1867498799807965\n",
      "\n",
      "top0 = 0.0\n",
      "top1 = 0.4111857897263562\n",
      "top2 = 0.507081132981277\n",
      "top3 = 0.5663706192990878\n",
      "top4 = 0.6124579932789246\n",
      "top5 = 0.6553048487758041\n",
      "top6 = 0.6890302448391743\n",
      "top7 = 0.7210753720595295\n",
      "top8 = 0.7532405184829573\n",
      "top9 = 0.7838454152664426\n",
      "top10 = 0.8134901584253481\n",
      "top11 = 0.8391742678828612\n",
      "top12 = 0.8674987998079693\n",
      "top13 = 0.8919827172347575\n",
      "top14 = 0.9126260201632261\n",
      "top15 = 0.9330292846855497\n",
      "top16 = 0.9469515122419587\n",
      "stop 16\n",
      "\n",
      "\n",
      "------valid-------\n",
      "(134354, 3)\n",
      "\n",
      "mean = 219.48019801980197\n",
      "\n",
      "top0 = 0.0\n",
      "top1 = 0.0\n",
      "top2 = 0.06435643564356436\n",
      "top3 = 0.11386138613861387\n",
      "top4 = 0.15346534653465346\n",
      "top5 = 0.15841584158415842\n",
      "top6 = 0.17326732673267325\n",
      "top7 = 0.17326732673267325\n",
      "top8 = 0.19306930693069307\n",
      "top9 = 0.19801980198019803\n",
      "top10 = 0.20297029702970298\n",
      "top11 = 0.2079207920792079\n",
      "top12 = 0.22277227722772278\n",
      "top13 = 0.22772277227722773\n",
      "top14 = 0.23267326732673269\n",
      "top15 = 0.23267326732673269\n",
      "top16 = 0.23267326732673269\n",
      "stop 16\n",
      "\n"
     ]
    }
   ],
   "source": [
    "show_rank_metrics(\n",
    "    df_group=pd.DataFrame(data=train['group'].tolist(), columns=['group']),\n",
    "    df_proba=pd.DataFrame(data=clf_bayes_mnl.predict_proba(X_train)[:,1].tolist(), columns=['proba']),\n",
    "    df_true=pd.DataFrame(data=y_train.tolist(), columns=['correct']),\n",
    "    label='train'\n",
    ")\n",
    "show_rank_metrics(\n",
    "    df_group=pd.DataFrame(data=test['group'].tolist(), columns=['group']),\n",
    "    df_proba=pd.DataFrame(data=clf_bayes_mnl.predict_proba(X_test)[:,1].tolist(), columns=['proba']),\n",
    "    df_true=pd.DataFrame(data=y_test.tolist(), columns=['correct']),\n",
    "    label='test'\n",
    ")\n",
    "show_rank_metrics(\n",
    "    df_group=pd.DataFrame(data=valid['group'].tolist(), columns=['group']),\n",
    "    df_proba=pd.DataFrame(data=clf_bayes_mnl.predict_proba(X_valid)[:,1].tolist(), columns=['proba']),\n",
    "    df_true=pd.DataFrame(data=y_valid.tolist(), columns=['correct']),\n",
    "    label='valid'\n",
    ")"
   ],
   "metadata": {
    "collapsed": false,
    "pycharm": {
     "name": "#%%\n"
    }
   }
  },
  {
   "cell_type": "code",
   "execution_count": 9,
   "outputs": [
    {
     "data": {
      "text/plain": "['saved/clf_bayes_mnl']"
     },
     "execution_count": 9,
     "metadata": {},
     "output_type": "execute_result"
    }
   ],
   "source": [
    "dump(clf_bayes_mnl, 'saved/clf_bayes_mnl')\n",
    "# 51 kb (for 1000 features)"
   ],
   "metadata": {
    "collapsed": false,
    "pycharm": {
     "name": "#%%\n"
    }
   }
  },
  {
   "cell_type": "code",
   "execution_count": 9,
   "outputs": [],
   "source": [],
   "metadata": {
    "collapsed": false,
    "pycharm": {
     "name": "#%%\n"
    }
   }
  },
  {
   "cell_type": "code",
   "execution_count": 10,
   "outputs": [],
   "source": [
    "\n",
    "\n",
    "clf_bayes_cmp = ComplementNB().fit(X_train, y_train)"
   ],
   "metadata": {
    "collapsed": false,
    "pycharm": {
     "name": "#%%\n"
    }
   }
  },
  {
   "cell_type": "code",
   "execution_count": 11,
   "outputs": [
    {
     "name": "stdout",
     "output_type": "stream",
     "text": [
      "\n",
      "------train-------\n",
      "(338170, 3)\n",
      "\n",
      "mean = 2.739982848862998\n",
      "\n",
      "top0 = 0.0\n",
      "top1 = 0.512641570807582\n",
      "top2 = 0.6345329272259514\n",
      "top3 = 0.7152911257651478\n",
      "top4 = 0.7836295354407546\n",
      "top5 = 0.8409084188425939\n",
      "top6 = 0.8921252624419671\n",
      "top7 = 0.9327852855072892\n",
      "top8 = 0.9633911937782772\n",
      "top9 = 0.9847118313274389\n",
      "top10 = 1.0\n",
      "\n",
      "\n",
      "------test-------\n",
      "(174972, 3)\n",
      "\n",
      "mean = 5.1867498799807965\n",
      "\n",
      "top0 = 0.0\n",
      "top1 = 0.4111857897263562\n",
      "top2 = 0.507081132981277\n",
      "top3 = 0.5663706192990878\n",
      "top4 = 0.6124579932789246\n",
      "top5 = 0.6553048487758041\n",
      "top6 = 0.6890302448391743\n",
      "top7 = 0.7210753720595295\n",
      "top8 = 0.7532405184829573\n",
      "top9 = 0.7838454152664426\n",
      "top10 = 0.8134901584253481\n",
      "top11 = 0.8391742678828612\n",
      "top12 = 0.8674987998079693\n",
      "top13 = 0.8919827172347575\n",
      "top14 = 0.9126260201632261\n",
      "top15 = 0.9330292846855497\n",
      "top16 = 0.9469515122419587\n",
      "stop 16\n",
      "\n",
      "\n",
      "------valid-------\n",
      "(134354, 3)\n",
      "\n",
      "mean = 219.48019801980197\n",
      "\n",
      "top0 = 0.0\n",
      "top1 = 0.0\n",
      "top2 = 0.06435643564356436\n",
      "top3 = 0.11386138613861387\n",
      "top4 = 0.15346534653465346\n",
      "top5 = 0.15841584158415842\n",
      "top6 = 0.17326732673267325\n",
      "top7 = 0.17326732673267325\n",
      "top8 = 0.19306930693069307\n",
      "top9 = 0.19801980198019803\n",
      "top10 = 0.20297029702970298\n",
      "top11 = 0.2079207920792079\n",
      "top12 = 0.22277227722772278\n",
      "top13 = 0.22772277227722773\n",
      "top14 = 0.23267326732673269\n",
      "top15 = 0.23267326732673269\n",
      "top16 = 0.23267326732673269\n",
      "stop 16\n",
      "\n"
     ]
    }
   ],
   "source": [
    "show_rank_metrics(\n",
    "    df_group=pd.DataFrame(data=train['group'].tolist(), columns=['group']),\n",
    "    df_proba=pd.DataFrame(data=clf_bayes_mnl.predict_proba(X_train)[:,1].tolist(), columns=['proba']),\n",
    "    df_true=pd.DataFrame(data=y_train.tolist(), columns=['correct']),\n",
    "    label='train'\n",
    ")\n",
    "show_rank_metrics(\n",
    "    df_group=pd.DataFrame(data=test['group'].tolist(), columns=['group']),\n",
    "    df_proba=pd.DataFrame(data=clf_bayes_mnl.predict_proba(X_test)[:,1].tolist(), columns=['proba']),\n",
    "    df_true=pd.DataFrame(data=y_test.tolist(), columns=['correct']),\n",
    "    label='test'\n",
    ")\n",
    "show_rank_metrics(\n",
    "    df_group=pd.DataFrame(data=valid['group'].tolist(), columns=['group']),\n",
    "    df_proba=pd.DataFrame(data=clf_bayes_mnl.predict_proba(X_valid)[:,1].tolist(), columns=['proba']),\n",
    "    df_true=pd.DataFrame(data=y_valid.tolist(), columns=['correct']),\n",
    "    label='valid'\n",
    ")"
   ],
   "metadata": {
    "collapsed": false,
    "pycharm": {
     "name": "#%%\n"
    }
   }
  },
  {
   "cell_type": "code",
   "execution_count": 12,
   "outputs": [],
   "source": [
    "clf_bayes_brn = BernoulliNB().fit(X_train, y_train)"
   ],
   "metadata": {
    "collapsed": false,
    "pycharm": {
     "name": "#%%\n"
    }
   }
  },
  {
   "cell_type": "code",
   "execution_count": 13,
   "outputs": [
    {
     "name": "stdout",
     "output_type": "stream",
     "text": [
      "\n",
      "------train-------\n",
      "(338170, 3)\n",
      "\n",
      "mean = 2.800307537629003\n",
      "\n",
      "top0 = 0.0\n",
      "top1 = 0.5003696365733211\n",
      "top2 = 0.6249519472454682\n",
      "top3 = 0.706715557264098\n",
      "top4 = 0.774669544903451\n",
      "top5 = 0.8338113966348286\n",
      "top6 = 0.8843185380134252\n",
      "top7 = 0.9279060827394505\n",
      "top8 = 0.9619422184108585\n",
      "top9 = 0.9850075405860957\n",
      "top10 = 1.0\n",
      "\n",
      "\n",
      "------test-------\n",
      "(174972, 3)\n",
      "\n",
      "mean = 5.326092174747959\n",
      "\n",
      "top0 = 0.0\n",
      "top1 = 0.40050408065290444\n",
      "top2 = 0.4959193470955353\n",
      "top3 = 0.5591694671147384\n",
      "top4 = 0.6035765722515603\n",
      "top5 = 0.6451032165146423\n",
      "top6 = 0.6779884781565051\n",
      "top7 = 0.7087133941430629\n",
      "top8 = 0.7418386941910706\n",
      "top9 = 0.7696831493038886\n",
      "top10 = 0.8026884301488239\n",
      "top11 = 0.8310129620739318\n",
      "top12 = 0.8595775324051849\n",
      "top13 = 0.884301488238118\n",
      "top14 = 0.9069851176188191\n",
      "top15 = 0.92774843975036\n",
      "top16 = 0.9464714354296687\n",
      "stop 16\n",
      "\n",
      "\n",
      "------valid-------\n",
      "(134354, 3)\n",
      "\n",
      "mean = 204.4257425742574\n",
      "\n",
      "top0 = 0.0\n",
      "top1 = 0.0\n",
      "top2 = 0.0594059405940594\n",
      "top3 = 0.1188118811881188\n",
      "top4 = 0.15841584158415842\n",
      "top5 = 0.17326732673267325\n",
      "top6 = 0.17326732673267325\n",
      "top7 = 0.18811881188118812\n",
      "top8 = 0.21782178217821782\n",
      "top9 = 0.22277227722772278\n",
      "top10 = 0.22772277227722773\n",
      "top11 = 0.23267326732673269\n",
      "top12 = 0.23267326732673269\n",
      "top13 = 0.2376237623762376\n",
      "top14 = 0.2376237623762376\n",
      "top15 = 0.2376237623762376\n",
      "top16 = 0.24257425742574257\n",
      "stop 16\n",
      "\n"
     ]
    }
   ],
   "source": [
    "show_rank_metrics(\n",
    "    df_group=pd.DataFrame(data=train['group'].tolist(), columns=['group']),\n",
    "    df_proba=pd.DataFrame(data=clf_bayes_brn.predict_proba(X_train)[:,1].tolist(), columns=['proba']),\n",
    "    df_true=pd.DataFrame(data=y_train.tolist(), columns=['correct']),\n",
    "    label='train'\n",
    ")\n",
    "show_rank_metrics(\n",
    "    df_group=pd.DataFrame(data=test['group'].tolist(), columns=['group']),\n",
    "    df_proba=pd.DataFrame(data=clf_bayes_brn.predict_proba(X_test)[:,1].tolist(), columns=['proba']),\n",
    "    df_true=pd.DataFrame(data=y_test.tolist(), columns=['correct']),\n",
    "    label='test'\n",
    ")\n",
    "show_rank_metrics(\n",
    "    df_group=pd.DataFrame(data=valid['group'].tolist(), columns=['group']),\n",
    "    df_proba=pd.DataFrame(data=clf_bayes_brn.predict_proba(X_valid)[:,1].tolist(), columns=['proba']),\n",
    "    df_true=pd.DataFrame(data=y_valid.tolist(), columns=['correct']),\n",
    "    label='valid'\n",
    ")"
   ],
   "metadata": {
    "collapsed": false,
    "pycharm": {
     "name": "#%%\n"
    }
   }
  },
  {
   "cell_type": "code",
   "execution_count": 14,
   "outputs": [],
   "source": [
    "# train = pd.read_csv(dataset_folder+'train.csv', index_col=0).sample(frac=1)\n",
    "# y_train = train['correct']\n",
    "# X_train = train.drop(columns=['name', 'firstChar', 'group', 'correct'])\n",
    "#\n",
    "# test = pd.read_csv(dataset_folder+'test.csv', index_col=0)\n",
    "# y_test = test['correct']\n",
    "# X_test = test.drop(columns=['name', 'firstChar', 'group', 'correct'])\n",
    "#\n",
    "# valid = pd.read_csv(dataset_folder+'valid.csv', index_col=0)\n",
    "# y_valid = valid['correct']\n",
    "# X_valid = valid.drop(columns=['name', 'firstChar', 'group', 'correct'])"
   ],
   "metadata": {
    "collapsed": false,
    "pycharm": {
     "name": "#%%\n"
    }
   }
  },
  {
   "cell_type": "code",
   "execution_count": 15,
   "outputs": [],
   "source": [
    "# clf_bern = MultinomialNB().fit(X_train, y_train)"
   ],
   "metadata": {
    "collapsed": false,
    "pycharm": {
     "name": "#%%\n"
    }
   }
  },
  {
   "cell_type": "code",
   "execution_count": 16,
   "outputs": [],
   "source": [
    "# show_rank_metrics(\n",
    "#     df_group=pd.DataFrame(data=test['group'].tolist(), columns=['group']),\n",
    "#     df_proba=pd.DataFrame(data=clf_bern.predict_proba(X_test)[:,1].tolist(), columns=['proba']),\n",
    "#     df_true=pd.DataFrame(data=y_test.tolist(), columns=['correct']),\n",
    "#     label='test'\n",
    "# )\n",
    "# show_rank_metrics(\n",
    "#     df_group=pd.DataFrame(data=valid['group'].tolist(), columns=['group']),\n",
    "#     df_proba=pd.DataFrame(data=clf_bern.predict_proba(X_valid)[:,1].tolist(), columns=['proba']),\n",
    "#     df_true=pd.DataFrame(data=y_valid.tolist(), columns=['correct']),\n",
    "#     label='valid'\n",
    "# )"
   ],
   "metadata": {
    "collapsed": false,
    "pycharm": {
     "name": "#%%\n"
    }
   }
  },
  {
   "cell_type": "code",
   "execution_count": 16,
   "outputs": [],
   "source": [],
   "metadata": {
    "collapsed": false,
    "pycharm": {
     "name": "#%%\n"
    }
   }
  }
 ],
 "metadata": {
  "kernelspec": {
   "display_name": "Python 3",
   "language": "python",
   "name": "python3"
  },
  "language_info": {
   "codemirror_mode": {
    "name": "ipython",
    "version": 2
   },
   "file_extension": ".py",
   "mimetype": "text/x-python",
   "name": "python",
   "nbconvert_exporter": "python",
   "pygments_lexer": "ipython2",
   "version": "2.7.6"
  }
 },
 "nbformat": 4,
 "nbformat_minor": 0
}