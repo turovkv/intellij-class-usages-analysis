{
 "cells": [
  {
   "cell_type": "code",
   "execution_count": 1,
   "metadata": {
    "collapsed": true,
    "pycharm": {
     "name": "#%%\n"
    }
   },
   "outputs": [],
   "source": [
    "import numpy as np\n",
    "import pandas as pd\n",
    "from sklearn import metrics\n",
    "from sklearn.linear_model import ARDRegression, RidgeClassifier\n",
    "from sklearn.svm import LinearSVR\n",
    "from sklearn.calibration import CalibratedClassifierCV\n",
    "from sklearn.svm import LinearSVC\n",
    "from utils import show_rank_metrics\n",
    "from sklearn.naive_bayes import MultinomialNB, ComplementNB, BernoulliNB\n",
    "from joblib import dump, load\n",
    "dataset_folder='./../dataset/saved/'"
   ]
  },
  {
   "cell_type": "code",
   "execution_count": 2,
   "outputs": [],
   "source": [
    "# clf_ridge = CalibratedClassifierCV(RidgeClassifier())\n",
    "# clf_ridge.fit(xs, ys)"
   ],
   "metadata": {
    "collapsed": false,
    "pycharm": {
     "name": "#%%\n"
    }
   }
  },
  {
   "cell_type": "code",
   "execution_count": 3,
   "outputs": [],
   "source": [
    "# show_rank_metrics(\n",
    "#     df_group=pd.DataFrame(data=test['group'].tolist(), columns=['group']),\n",
    "#     df_proba=pd.DataFrame(data=clf_ridge.predict_proba(X_test)[:,1].tolist(), columns=['proba']),\n",
    "#     df_true=pd.DataFrame(data=y_test.tolist(), columns=['correct'])\n",
    "# )"
   ],
   "metadata": {
    "collapsed": false,
    "pycharm": {
     "name": "#%%\n"
    }
   }
  },
  {
   "cell_type": "code",
   "execution_count": 4,
   "outputs": [
    {
     "name": "stdout",
     "output_type": "stream",
     "text": [
      "#########################################################\n"
     ]
    }
   ],
   "source": [
    "print('#########################################################')"
   ],
   "metadata": {
    "collapsed": false,
    "pycharm": {
     "name": "#%%\n"
    }
   }
  },
  {
   "cell_type": "code",
   "execution_count": 5,
   "outputs": [],
   "source": [
    "train = pd.read_pickle(dataset_folder+'train_ohe401_intr2_2k')\n",
    "y_train = train['correct']\n",
    "X_train = train.drop(columns=['group', 'correct'])\n",
    "\n",
    "test = pd.read_pickle(dataset_folder+'test_ohe401_intr2_2k')\n",
    "y_test = test['correct']\n",
    "X_test = test.drop(columns=['group', 'correct'])\n",
    "\n",
    "valid = pd.read_pickle(dataset_folder+'valid_ohe401_intr2_2k')\n",
    "y_valid = valid['correct']\n",
    "X_valid = valid.drop(columns=['group', 'correct'])"
   ],
   "metadata": {
    "collapsed": false,
    "pycharm": {
     "name": "#%%\n"
    }
   }
  },
  {
   "cell_type": "code",
   "execution_count": 6,
   "outputs": [],
   "source": [
    "# xs = X_train.iloc[:10 ** 5, :]\n",
    "# ys = y_train.iloc[:10 ** 5]"
   ],
   "metadata": {
    "collapsed": false,
    "pycharm": {
     "name": "#%%\n"
    }
   }
  },
  {
   "cell_type": "code",
   "execution_count": 7,
   "outputs": [],
   "source": [
    "clf_bayes_mnl = MultinomialNB().fit(X_train, y_train)"
   ],
   "metadata": {
    "collapsed": false,
    "pycharm": {
     "name": "#%%\n"
    }
   }
  },
  {
   "cell_type": "code",
   "execution_count": 8,
   "outputs": [
    {
     "name": "stdout",
     "output_type": "stream",
     "text": [
      "\n",
      "------train-------\n",
      "(327760, 3)\n",
      "\n",
      "mean = 2.206767146692702  median=1.0, zerosCountMean=0.0, groupSizeMean=10.999725408835733\n",
      "\n",
      "top0 = 0.0\n",
      "top1 = 0.6068159628996826\n",
      "top2 = 0.7337381010495484\n",
      "top3 = 0.8096473029045643\n",
      "top4 = 0.8627349279960947\n",
      "top5 = 0.9042592140590676\n",
      "top6 = 0.9362033195020747\n",
      "top7 = 0.9632352941176471\n",
      "top8 = 0.9828533072980229\n",
      "top9 = 0.9937454234805956\n",
      "top10 = 1.0\n",
      "\n",
      "\n",
      "------test-------\n",
      "(197715, 3)\n",
      "\n",
      "mean = 4.236537440254913  median=2.0, zerosCountMean=0.0, groupSizeMean=21.99787573021774\n",
      "\n",
      "top0 = 0.0\n",
      "top1 = 0.45778013807753587\n",
      "top2 = 0.5686670207116303\n",
      "top3 = 0.6412108337758895\n",
      "top4 = 0.691343600637281\n",
      "top5 = 0.7365905469994689\n",
      "top6 = 0.7697291556027616\n",
      "top7 = 0.8006372809346787\n",
      "top8 = 0.8264471587891662\n",
      "top9 = 0.8491768454593733\n",
      "top10 = 0.8713754646840148\n",
      "top11 = 0.8920870950610728\n",
      "top12 = 0.9105682421667551\n",
      "top13 = 0.9284121083377589\n",
      "top14 = 0.9438130642591609\n",
      "top15 = 0.9573021773765268\n",
      "top16 = 0.9687732342007435\n",
      "stop 16\n",
      "\n",
      "\n",
      "------valid-------\n",
      "(134354, 3)\n",
      "\n",
      "mean = 133.85148514851485  median=43.5, zerosCountMean=0.0, groupSizeMean=663.1089108910891\n",
      "\n",
      "top0 = 0.0\n",
      "top1 = 0.11386138613861387\n",
      "top2 = 0.12871287128712872\n",
      "top3 = 0.14356435643564355\n",
      "top4 = 0.16831683168316833\n",
      "top5 = 0.1782178217821782\n",
      "top6 = 0.2079207920792079\n",
      "top7 = 0.21782178217821782\n",
      "top8 = 0.22772277227722773\n",
      "top9 = 0.24257425742574257\n",
      "top10 = 0.24752475247524752\n",
      "top11 = 0.24752475247524752\n",
      "top12 = 0.25742574257425743\n",
      "top13 = 0.26732673267326734\n",
      "top14 = 0.2871287128712871\n",
      "top15 = 0.30198019801980197\n",
      "top16 = 0.3069306930693069\n",
      "stop 16\n",
      "\n"
     ]
    }
   ],
   "source": [
    "show_rank_metrics(\n",
    "    df_group=pd.DataFrame(data=train['group'].tolist(), columns=['group']),\n",
    "    df_proba=pd.DataFrame(data=clf_bayes_mnl.predict_proba(X_train)[:,1].tolist(), columns=['proba']),\n",
    "    df_true=pd.DataFrame(data=y_train.tolist(), columns=['correct']),\n",
    "    label='train'\n",
    ")\n",
    "show_rank_metrics(\n",
    "    df_group=pd.DataFrame(data=test['group'].tolist(), columns=['group']),\n",
    "    df_proba=pd.DataFrame(data=clf_bayes_mnl.predict_proba(X_test)[:,1].tolist(), columns=['proba']),\n",
    "    df_true=pd.DataFrame(data=y_test.tolist(), columns=['correct']),\n",
    "    label='test'\n",
    ")\n",
    "show_rank_metrics(\n",
    "    df_group=pd.DataFrame(data=valid['group'].tolist(), columns=['group']),\n",
    "    df_proba=pd.DataFrame(data=clf_bayes_mnl.predict_proba(X_valid)[:,1].tolist(), columns=['proba']),\n",
    "    df_true=pd.DataFrame(data=y_valid.tolist(), columns=['correct']),\n",
    "    label='valid'\n",
    ")"
   ],
   "metadata": {
    "collapsed": false,
    "pycharm": {
     "name": "#%%\n"
    }
   }
  },
  {
   "cell_type": "code",
   "execution_count": 9,
   "outputs": [
    {
     "data": {
      "text/plain": "['saved/clf_bayes_mnl']"
     },
     "execution_count": 9,
     "metadata": {},
     "output_type": "execute_result"
    }
   ],
   "source": [
    "dump(clf_bayes_mnl, 'saved/clf_bayes_mnl')\n",
    "# 51 kb (for 1000 features)"
   ],
   "metadata": {
    "collapsed": false,
    "pycharm": {
     "name": "#%%\n"
    }
   }
  },
  {
   "cell_type": "code",
   "execution_count": 9,
   "outputs": [],
   "source": [],
   "metadata": {
    "collapsed": false,
    "pycharm": {
     "name": "#%%\n"
    }
   }
  },
  {
   "cell_type": "code",
   "execution_count": 10,
   "outputs": [],
   "source": [
    "\n",
    "\n",
    "clf_bayes_cmp = ComplementNB().fit(X_train, y_train)"
   ],
   "metadata": {
    "collapsed": false,
    "pycharm": {
     "name": "#%%\n"
    }
   }
  },
  {
   "cell_type": "code",
   "execution_count": 11,
   "outputs": [
    {
     "name": "stdout",
     "output_type": "stream",
     "text": [
      "\n",
      "------train-------\n",
      "(327760, 3)\n",
      "\n",
      "mean = 2.206767146692702  median=1.0, zerosCountMean=0.0, groupSizeMean=10.999725408835733\n",
      "\n",
      "top0 = 0.0\n",
      "top1 = 0.6068159628996826\n",
      "top2 = 0.7337381010495484\n",
      "top3 = 0.8096473029045643\n",
      "top4 = 0.8627349279960947\n",
      "top5 = 0.9042592140590676\n",
      "top6 = 0.9362033195020747\n",
      "top7 = 0.9632352941176471\n",
      "top8 = 0.9828533072980229\n",
      "top9 = 0.9937454234805956\n",
      "top10 = 1.0\n",
      "\n",
      "\n",
      "------test-------\n",
      "(197715, 3)\n",
      "\n",
      "mean = 4.236537440254913  median=2.0, zerosCountMean=0.0, groupSizeMean=21.99787573021774\n",
      "\n",
      "top0 = 0.0\n",
      "top1 = 0.45778013807753587\n",
      "top2 = 0.5686670207116303\n",
      "top3 = 0.6412108337758895\n",
      "top4 = 0.691343600637281\n",
      "top5 = 0.7365905469994689\n",
      "top6 = 0.7697291556027616\n",
      "top7 = 0.8006372809346787\n",
      "top8 = 0.8264471587891662\n",
      "top9 = 0.8491768454593733\n",
      "top10 = 0.8713754646840148\n",
      "top11 = 0.8920870950610728\n",
      "top12 = 0.9105682421667551\n",
      "top13 = 0.9284121083377589\n",
      "top14 = 0.9438130642591609\n",
      "top15 = 0.9573021773765268\n",
      "top16 = 0.9687732342007435\n",
      "stop 16\n",
      "\n",
      "\n",
      "------valid-------\n",
      "(134354, 3)\n",
      "\n",
      "mean = 133.85148514851485  median=43.5, zerosCountMean=0.0, groupSizeMean=663.1089108910891\n",
      "\n",
      "top0 = 0.0\n",
      "top1 = 0.11386138613861387\n",
      "top2 = 0.12871287128712872\n",
      "top3 = 0.14356435643564355\n",
      "top4 = 0.16831683168316833\n",
      "top5 = 0.1782178217821782\n",
      "top6 = 0.2079207920792079\n",
      "top7 = 0.21782178217821782\n",
      "top8 = 0.22772277227722773\n",
      "top9 = 0.24257425742574257\n",
      "top10 = 0.24752475247524752\n",
      "top11 = 0.24752475247524752\n",
      "top12 = 0.25742574257425743\n",
      "top13 = 0.26732673267326734\n",
      "top14 = 0.2871287128712871\n",
      "top15 = 0.30198019801980197\n",
      "top16 = 0.3069306930693069\n",
      "stop 16\n",
      "\n"
     ]
    }
   ],
   "source": [
    "show_rank_metrics(\n",
    "    df_group=pd.DataFrame(data=train['group'].tolist(), columns=['group']),\n",
    "    df_proba=pd.DataFrame(data=clf_bayes_mnl.predict_proba(X_train)[:,1].tolist(), columns=['proba']),\n",
    "    df_true=pd.DataFrame(data=y_train.tolist(), columns=['correct']),\n",
    "    label='train'\n",
    ")\n",
    "show_rank_metrics(\n",
    "    df_group=pd.DataFrame(data=test['group'].tolist(), columns=['group']),\n",
    "    df_proba=pd.DataFrame(data=clf_bayes_mnl.predict_proba(X_test)[:,1].tolist(), columns=['proba']),\n",
    "    df_true=pd.DataFrame(data=y_test.tolist(), columns=['correct']),\n",
    "    label='test'\n",
    ")\n",
    "show_rank_metrics(\n",
    "    df_group=pd.DataFrame(data=valid['group'].tolist(), columns=['group']),\n",
    "    df_proba=pd.DataFrame(data=clf_bayes_mnl.predict_proba(X_valid)[:,1].tolist(), columns=['proba']),\n",
    "    df_true=pd.DataFrame(data=y_valid.tolist(), columns=['correct']),\n",
    "    label='valid'\n",
    ")"
   ],
   "metadata": {
    "collapsed": false,
    "pycharm": {
     "name": "#%%\n"
    }
   }
  },
  {
   "cell_type": "code",
   "execution_count": 12,
   "outputs": [],
   "source": [
    "clf_bayes_brn = BernoulliNB().fit(X_train, y_train)"
   ],
   "metadata": {
    "collapsed": false,
    "pycharm": {
     "name": "#%%\n"
    }
   }
  },
  {
   "cell_type": "code",
   "execution_count": 13,
   "outputs": [
    {
     "name": "stdout",
     "output_type": "stream",
     "text": [
      "\n",
      "------train-------\n",
      "(327760, 3)\n",
      "\n",
      "mean = 2.4148157188186476  median=1.0, zerosCountMean=0.0, groupSizeMean=10.999725408835733\n",
      "\n",
      "top0 = 0.0\n",
      "top1 = 0.5704478886990481\n",
      "top2 = 0.6934037100317305\n",
      "top3 = 0.7710824993897974\n",
      "top4 = 0.8295093971198438\n",
      "top5 = 0.8776848913839395\n",
      "top6 = 0.9189040761532828\n",
      "top7 = 0.9533195020746889\n",
      "top8 = 0.9777581156944105\n",
      "top9 = 0.9930742006346107\n",
      "top10 = 1.0\n",
      "\n",
      "\n",
      "------test-------\n",
      "(197715, 3)\n",
      "\n",
      "mean = 4.716834838024429  median=2.0, zerosCountMean=0.0, groupSizeMean=21.99787573021774\n",
      "\n",
      "top0 = 0.0\n",
      "top1 = 0.4318640467339352\n",
      "top2 = 0.5291556027615507\n",
      "top3 = 0.5979819437068508\n",
      "top4 = 0.6514073287307488\n",
      "top5 = 0.697716409984068\n",
      "top6 = 0.7323420074349443\n",
      "top7 = 0.7643122676579925\n",
      "top8 = 0.7941582580987785\n",
      "top9 = 0.81805629314923\n",
      "top10 = 0.8403611258629846\n",
      "top11 = 0.8643653744025491\n",
      "top12 = 0.8851832182687202\n",
      "top13 = 0.9048327137546468\n",
      "top14 = 0.9269251194901752\n",
      "top15 = 0.9450876261285184\n",
      "top16 = 0.9607010090281466\n",
      "stop 16\n",
      "\n",
      "\n",
      "------valid-------\n",
      "(134354, 3)\n",
      "\n",
      "mean = 104.03465346534654  median=42.5, zerosCountMean=0.0, groupSizeMean=663.1089108910891\n",
      "\n",
      "top0 = 0.0\n",
      "top1 = 0.07920792079207921\n",
      "top2 = 0.10396039603960396\n",
      "top3 = 0.10891089108910891\n",
      "top4 = 0.13366336633663367\n",
      "top5 = 0.16336633663366337\n",
      "top6 = 0.18316831683168316\n",
      "top7 = 0.19306930693069307\n",
      "top8 = 0.20297029702970298\n",
      "top9 = 0.22277227722772278\n",
      "top10 = 0.2376237623762376\n",
      "top11 = 0.24752475247524752\n",
      "top12 = 0.2623762376237624\n",
      "top13 = 0.297029702970297\n",
      "top14 = 0.3118811881188119\n",
      "top15 = 0.31683168316831684\n",
      "top16 = 0.33663366336633666\n",
      "stop 16\n",
      "\n"
     ]
    }
   ],
   "source": [
    "show_rank_metrics(\n",
    "    df_group=pd.DataFrame(data=train['group'].tolist(), columns=['group']),\n",
    "    df_proba=pd.DataFrame(data=clf_bayes_brn.predict_proba(X_train)[:,1].tolist(), columns=['proba']),\n",
    "    df_true=pd.DataFrame(data=y_train.tolist(), columns=['correct']),\n",
    "    label='train'\n",
    ")\n",
    "show_rank_metrics(\n",
    "    df_group=pd.DataFrame(data=test['group'].tolist(), columns=['group']),\n",
    "    df_proba=pd.DataFrame(data=clf_bayes_brn.predict_proba(X_test)[:,1].tolist(), columns=['proba']),\n",
    "    df_true=pd.DataFrame(data=y_test.tolist(), columns=['correct']),\n",
    "    label='test'\n",
    ")\n",
    "show_rank_metrics(\n",
    "    df_group=pd.DataFrame(data=valid['group'].tolist(), columns=['group']),\n",
    "    df_proba=pd.DataFrame(data=clf_bayes_brn.predict_proba(X_valid)[:,1].tolist(), columns=['proba']),\n",
    "    df_true=pd.DataFrame(data=y_valid.tolist(), columns=['correct']),\n",
    "    label='valid'\n",
    ")"
   ],
   "metadata": {
    "collapsed": false,
    "pycharm": {
     "name": "#%%\n"
    }
   }
  },
  {
   "cell_type": "code",
   "execution_count": 14,
   "outputs": [],
   "source": [
    "# train = pd.read_csv(dataset_folder+'train.csv', index_col=0).sample(frac=1)\n",
    "# y_train = train['correct']\n",
    "# X_train = train.drop(columns=['name', 'firstChar', 'group', 'correct'])\n",
    "#\n",
    "# test = pd.read_csv(dataset_folder+'test.csv', index_col=0)\n",
    "# y_test = test['correct']\n",
    "# X_test = test.drop(columns=['name', 'firstChar', 'group', 'correct'])\n",
    "#\n",
    "# valid = pd.read_csv(dataset_folder+'valid.csv', index_col=0)\n",
    "# y_valid = valid['correct']\n",
    "# X_valid = valid.drop(columns=['name', 'firstChar', 'group', 'correct'])"
   ],
   "metadata": {
    "collapsed": false,
    "pycharm": {
     "name": "#%%\n"
    }
   }
  },
  {
   "cell_type": "code",
   "execution_count": 15,
   "outputs": [],
   "source": [
    "# clf_bern = MultinomialNB().fit(X_train, y_train)"
   ],
   "metadata": {
    "collapsed": false,
    "pycharm": {
     "name": "#%%\n"
    }
   }
  },
  {
   "cell_type": "code",
   "execution_count": 16,
   "outputs": [],
   "source": [
    "# show_rank_metrics(\n",
    "#     df_group=pd.DataFrame(data=test['group'].tolist(), columns=['group']),\n",
    "#     df_proba=pd.DataFrame(data=clf_bern.predict_proba(X_test)[:,1].tolist(), columns=['proba']),\n",
    "#     df_true=pd.DataFrame(data=y_test.tolist(), columns=['correct']),\n",
    "#     label='test'\n",
    "# )\n",
    "# show_rank_metrics(\n",
    "#     df_group=pd.DataFrame(data=valid['group'].tolist(), columns=['group']),\n",
    "#     df_proba=pd.DataFrame(data=clf_bern.predict_proba(X_valid)[:,1].tolist(), columns=['proba']),\n",
    "#     df_true=pd.DataFrame(data=y_valid.tolist(), columns=['correct']),\n",
    "#     label='valid'\n",
    "# )"
   ],
   "metadata": {
    "collapsed": false,
    "pycharm": {
     "name": "#%%\n"
    }
   }
  },
  {
   "cell_type": "code",
   "execution_count": 16,
   "outputs": [],
   "source": [],
   "metadata": {
    "collapsed": false,
    "pycharm": {
     "name": "#%%\n"
    }
   }
  }
 ],
 "metadata": {
  "kernelspec": {
   "display_name": "Python 3",
   "language": "python",
   "name": "python3"
  },
  "language_info": {
   "codemirror_mode": {
    "name": "ipython",
    "version": 2
   },
   "file_extension": ".py",
   "mimetype": "text/x-python",
   "name": "python",
   "nbconvert_exporter": "python",
   "pygments_lexer": "ipython2",
   "version": "2.7.6"
  }
 },
 "nbformat": 4,
 "nbformat_minor": 0
}