{
 "cells": [
  {
   "cell_type": "code",
   "execution_count": 1,
   "metadata": {
    "collapsed": true,
    "pycharm": {
     "name": "#%%\n"
    }
   },
   "outputs": [],
   "source": [
    "import numpy as np\n",
    "import pandas as pd\n",
    "from sklearn import metrics\n",
    "from sklearn.linear_model import ARDRegression, RidgeClassifier\n",
    "from sklearn.svm import LinearSVR\n",
    "from sklearn.calibration import CalibratedClassifierCV\n",
    "from sklearn.svm import LinearSVC\n",
    "from utils import show_rank_metrics\n",
    "from sklearn.naive_bayes import MultinomialNB, ComplementNB, BernoulliNB\n",
    "from joblib import dump, load\n",
    "dataset_folder='./../dataset/saved/'"
   ]
  },
  {
   "cell_type": "code",
   "execution_count": 2,
   "outputs": [],
   "source": [
    "# clf_ridge = CalibratedClassifierCV(RidgeClassifier())\n",
    "# clf_ridge.fit(xs, ys)"
   ],
   "metadata": {
    "collapsed": false,
    "pycharm": {
     "name": "#%%\n"
    }
   }
  },
  {
   "cell_type": "code",
   "execution_count": 3,
   "outputs": [],
   "source": [
    "# show_rank_metrics(\n",
    "#     df_group=pd.DataFrame(data=test['group'].tolist(), columns=['group']),\n",
    "#     df_proba=pd.DataFrame(data=clf_ridge.predict_proba(X_test)[:,1].tolist(), columns=['proba']),\n",
    "#     df_true=pd.DataFrame(data=y_test.tolist(), columns=['correct'])\n",
    "# )"
   ],
   "metadata": {
    "collapsed": false,
    "pycharm": {
     "name": "#%%\n"
    }
   }
  },
  {
   "cell_type": "code",
   "execution_count": 4,
   "outputs": [
    {
     "name": "stdout",
     "output_type": "stream",
     "text": [
      "#########################################################\n"
     ]
    }
   ],
   "source": [
    "print('#########################################################')"
   ],
   "metadata": {
    "collapsed": false,
    "pycharm": {
     "name": "#%%\n"
    }
   }
  },
  {
   "cell_type": "code",
   "execution_count": 5,
   "outputs": [],
   "source": [
    "train = pd.read_pickle(dataset_folder+'train_ohe401_intr2_2k')\n",
    "y_train = train['correct']\n",
    "X_train = train.drop(columns=['group', 'correct'])\n",
    "\n",
    "test = pd.read_pickle(dataset_folder+'test_ohe401_intr2_2k')\n",
    "y_test = test['correct']\n",
    "X_test = test.drop(columns=['group', 'correct'])\n",
    "\n",
    "valid = pd.read_pickle(dataset_folder+'valid_ohe401_intr2_2k')\n",
    "y_valid = valid['correct']\n",
    "X_valid = valid.drop(columns=['group', 'correct'])"
   ],
   "metadata": {
    "collapsed": false,
    "pycharm": {
     "name": "#%%\n"
    }
   }
  },
  {
   "cell_type": "code",
   "execution_count": 6,
   "outputs": [],
   "source": [
    "# xs = X_train.iloc[:10 ** 5, :]\n",
    "# ys = y_train.iloc[:10 ** 5]"
   ],
   "metadata": {
    "collapsed": false,
    "pycharm": {
     "name": "#%%\n"
    }
   }
  },
  {
   "cell_type": "code",
   "execution_count": 7,
   "outputs": [],
   "source": [
    "clf_bayes_mnl = MultinomialNB().fit(X_train, y_train)"
   ],
   "metadata": {
    "collapsed": false,
    "pycharm": {
     "name": "#%%\n"
    }
   }
  },
  {
   "cell_type": "code",
   "execution_count": 8,
   "outputs": [
    {
     "name": "stdout",
     "output_type": "stream",
     "text": [
      "\n",
      "------train-------\n",
      "(332180, 3)\n",
      "\n",
      "mean = 2.698356312842435\n",
      "\n",
      "top0 = 0.0\n",
      "top1 = 0.5191161418508038\n",
      "top2 = 0.64407851165031\n",
      "top3 = 0.7230718285267024\n",
      "top4 = 0.7878258775362755\n",
      "top5 = 0.8456860738154013\n",
      "top6 = 0.894515021976037\n",
      "top7 = 0.9358781383587211\n",
      "top8 = 0.9656511529893431\n",
      "top9 = 0.9858209404539707\n",
      "top10 = 1.0\n",
      "\n",
      "\n",
      "------test-------\n",
      "(193326, 3)\n",
      "\n",
      "mean = 5.390506191614165\n",
      "\n",
      "top0 = 0.0\n",
      "top1 = 0.37975233543341297\n",
      "top2 = 0.4868563980013035\n",
      "top3 = 0.5507277862263741\n",
      "top4 = 0.5963502063871389\n",
      "top5 = 0.6402346295893983\n",
      "top6 = 0.6769498153378232\n",
      "top7 = 0.7097545079296111\n",
      "top8 = 0.7395177058440148\n",
      "top9 = 0.7668911579404736\n",
      "top10 = 0.7976319791440365\n",
      "top11 = 0.8268520530089072\n",
      "top12 = 0.856072126873778\n",
      "top13 = 0.8833369541603302\n",
      "top14 = 0.9102759070171628\n",
      "top15 = 0.9301542472300673\n",
      "top16 = 0.9480773408646535\n",
      "stop 16\n",
      "\n",
      "\n",
      "------valid-------\n",
      "(134146, 3)\n",
      "\n",
      "mean = 224.8118811881188\n",
      "\n",
      "top0 = 0.0\n",
      "top1 = 0.0594059405940594\n",
      "top2 = 0.1188118811881188\n",
      "top3 = 0.13861386138613863\n",
      "top4 = 0.15841584158415842\n",
      "top5 = 0.16831683168316833\n",
      "top6 = 0.1782178217821782\n",
      "top7 = 0.18811881188118812\n",
      "top8 = 0.20297029702970298\n",
      "top9 = 0.2079207920792079\n",
      "top10 = 0.2079207920792079\n",
      "top11 = 0.21782178217821782\n",
      "top12 = 0.22277227722772278\n",
      "top13 = 0.22772277227722773\n",
      "top14 = 0.23267326732673269\n",
      "top15 = 0.23267326732673269\n",
      "top16 = 0.2376237623762376\n",
      "stop 16\n",
      "\n"
     ]
    }
   ],
   "source": [
    "show_rank_metrics(\n",
    "    df_group=pd.DataFrame(data=train['group'].tolist(), columns=['group']),\n",
    "    df_proba=pd.DataFrame(data=clf_bayes_mnl.predict_proba(X_train)[:,1].tolist(), columns=['proba']),\n",
    "    df_true=pd.DataFrame(data=y_train.tolist(), columns=['correct']),\n",
    "    label='train'\n",
    ")\n",
    "show_rank_metrics(\n",
    "    df_group=pd.DataFrame(data=test['group'].tolist(), columns=['group']),\n",
    "    df_proba=pd.DataFrame(data=clf_bayes_mnl.predict_proba(X_test)[:,1].tolist(), columns=['proba']),\n",
    "    df_true=pd.DataFrame(data=y_test.tolist(), columns=['correct']),\n",
    "    label='test'\n",
    ")\n",
    "show_rank_metrics(\n",
    "    df_group=pd.DataFrame(data=valid['group'].tolist(), columns=['group']),\n",
    "    df_proba=pd.DataFrame(data=clf_bayes_mnl.predict_proba(X_valid)[:,1].tolist(), columns=['proba']),\n",
    "    df_true=pd.DataFrame(data=y_valid.tolist(), columns=['correct']),\n",
    "    label='valid'\n",
    ")"
   ],
   "metadata": {
    "collapsed": false,
    "pycharm": {
     "name": "#%%\n"
    }
   }
  },
  {
   "cell_type": "code",
   "execution_count": 9,
   "outputs": [
    {
     "data": {
      "text/plain": "['saved/clf_bayes_mnl']"
     },
     "execution_count": 9,
     "metadata": {},
     "output_type": "execute_result"
    }
   ],
   "source": [
    "dump(clf_bayes_mnl, 'saved/clf_bayes_mnl')\n",
    "# 51 kb (for 1000 features)"
   ],
   "metadata": {
    "collapsed": false,
    "pycharm": {
     "name": "#%%\n"
    }
   }
  },
  {
   "cell_type": "code",
   "execution_count": 9,
   "outputs": [],
   "source": [],
   "metadata": {
    "collapsed": false,
    "pycharm": {
     "name": "#%%\n"
    }
   }
  },
  {
   "cell_type": "code",
   "execution_count": 10,
   "outputs": [],
   "source": [
    "\n",
    "\n",
    "clf_bayes_cmp = ComplementNB().fit(X_train, y_train)"
   ],
   "metadata": {
    "collapsed": false,
    "pycharm": {
     "name": "#%%\n"
    }
   }
  },
  {
   "cell_type": "code",
   "execution_count": 11,
   "outputs": [
    {
     "name": "stdout",
     "output_type": "stream",
     "text": [
      "\n",
      "------train-------\n",
      "(332180, 3)\n",
      "\n",
      "mean = 2.698356312842435\n",
      "\n",
      "top0 = 0.0\n",
      "top1 = 0.5191161418508038\n",
      "top2 = 0.64407851165031\n",
      "top3 = 0.7230718285267024\n",
      "top4 = 0.7878258775362755\n",
      "top5 = 0.8456860738154013\n",
      "top6 = 0.894515021976037\n",
      "top7 = 0.9358781383587211\n",
      "top8 = 0.9656511529893431\n",
      "top9 = 0.9858209404539707\n",
      "top10 = 1.0\n",
      "\n",
      "\n",
      "------test-------\n",
      "(193326, 3)\n",
      "\n",
      "mean = 5.390506191614165\n",
      "\n",
      "top0 = 0.0\n",
      "top1 = 0.37975233543341297\n",
      "top2 = 0.4868563980013035\n",
      "top3 = 0.5507277862263741\n",
      "top4 = 0.5963502063871389\n",
      "top5 = 0.6402346295893983\n",
      "top6 = 0.6769498153378232\n",
      "top7 = 0.7097545079296111\n",
      "top8 = 0.7395177058440148\n",
      "top9 = 0.7668911579404736\n",
      "top10 = 0.7976319791440365\n",
      "top11 = 0.8268520530089072\n",
      "top12 = 0.856072126873778\n",
      "top13 = 0.8833369541603302\n",
      "top14 = 0.9102759070171628\n",
      "top15 = 0.9301542472300673\n",
      "top16 = 0.9480773408646535\n",
      "stop 16\n",
      "\n",
      "\n",
      "------valid-------\n",
      "(134146, 3)\n",
      "\n",
      "mean = 224.8118811881188\n",
      "\n",
      "top0 = 0.0\n",
      "top1 = 0.0594059405940594\n",
      "top2 = 0.1188118811881188\n",
      "top3 = 0.13861386138613863\n",
      "top4 = 0.15841584158415842\n",
      "top5 = 0.16831683168316833\n",
      "top6 = 0.1782178217821782\n",
      "top7 = 0.18811881188118812\n",
      "top8 = 0.20297029702970298\n",
      "top9 = 0.2079207920792079\n",
      "top10 = 0.2079207920792079\n",
      "top11 = 0.21782178217821782\n",
      "top12 = 0.22277227722772278\n",
      "top13 = 0.22772277227722773\n",
      "top14 = 0.23267326732673269\n",
      "top15 = 0.23267326732673269\n",
      "top16 = 0.2376237623762376\n",
      "stop 16\n",
      "\n"
     ]
    }
   ],
   "source": [
    "show_rank_metrics(\n",
    "    df_group=pd.DataFrame(data=train['group'].tolist(), columns=['group']),\n",
    "    df_proba=pd.DataFrame(data=clf_bayes_mnl.predict_proba(X_train)[:,1].tolist(), columns=['proba']),\n",
    "    df_true=pd.DataFrame(data=y_train.tolist(), columns=['correct']),\n",
    "    label='train'\n",
    ")\n",
    "show_rank_metrics(\n",
    "    df_group=pd.DataFrame(data=test['group'].tolist(), columns=['group']),\n",
    "    df_proba=pd.DataFrame(data=clf_bayes_mnl.predict_proba(X_test)[:,1].tolist(), columns=['proba']),\n",
    "    df_true=pd.DataFrame(data=y_test.tolist(), columns=['correct']),\n",
    "    label='test'\n",
    ")\n",
    "show_rank_metrics(\n",
    "    df_group=pd.DataFrame(data=valid['group'].tolist(), columns=['group']),\n",
    "    df_proba=pd.DataFrame(data=clf_bayes_mnl.predict_proba(X_valid)[:,1].tolist(), columns=['proba']),\n",
    "    df_true=pd.DataFrame(data=y_valid.tolist(), columns=['correct']),\n",
    "    label='valid'\n",
    ")"
   ],
   "metadata": {
    "collapsed": false,
    "pycharm": {
     "name": "#%%\n"
    }
   }
  },
  {
   "cell_type": "code",
   "execution_count": 12,
   "outputs": [],
   "source": [
    "clf_bayes_brn = BernoulliNB().fit(X_train, y_train)"
   ],
   "metadata": {
    "collapsed": false,
    "pycharm": {
     "name": "#%%\n"
    }
   }
  },
  {
   "cell_type": "code",
   "execution_count": 13,
   "outputs": [
    {
     "name": "stdout",
     "output_type": "stream",
     "text": [
      "\n",
      "------train-------\n",
      "(332180, 3)\n",
      "\n",
      "mean = 2.763712445059907\n",
      "\n",
      "top0 = 0.0\n",
      "top1 = 0.5074658317779517\n",
      "top2 = 0.6320067433319285\n",
      "top3 = 0.7117827683785899\n",
      "top4 = 0.776566921548558\n",
      "top5 = 0.8367451381780963\n",
      "top6 = 0.8884038774158589\n",
      "top7 = 0.9325064723944849\n",
      "top8 = 0.964868444819074\n",
      "top9 = 0.9859413570955506\n",
      "top10 = 1.0\n",
      "\n",
      "\n",
      "------test-------\n",
      "(193326, 3)\n",
      "\n",
      "mean = 5.4864218987616775\n",
      "\n",
      "top0 = 0.0\n",
      "top1 = 0.37736258961546815\n",
      "top2 = 0.48044753421681513\n",
      "top3 = 0.5471431674994569\n",
      "top4 = 0.5917879643710624\n",
      "top5 = 0.6342602650445361\n",
      "top6 = 0.6696719530740821\n",
      "top7 = 0.7010645231370846\n",
      "top8 = 0.7314794699109276\n",
      "top9 = 0.7611340430154248\n",
      "top10 = 0.7907886161199218\n",
      "top11 = 0.8181620682163806\n",
      "top12 = 0.847490766891158\n",
      "top13 = 0.8752987182272431\n",
      "top14 = 0.902129046274169\n",
      "top15 = 0.925809254833804\n",
      "top16 = 0.9457962198566152\n",
      "stop 16\n",
      "\n",
      "\n",
      "------valid-------\n",
      "(134146, 3)\n",
      "\n",
      "mean = 209.19306930693068\n",
      "\n",
      "top0 = 0.0\n",
      "top1 = 0.04950495049504951\n",
      "top2 = 0.1188118811881188\n",
      "top3 = 0.13861386138613863\n",
      "top4 = 0.16831683168316833\n",
      "top5 = 0.17326732673267325\n",
      "top6 = 0.1782178217821782\n",
      "top7 = 0.18316831683168316\n",
      "top8 = 0.19801980198019803\n",
      "top9 = 0.21782178217821782\n",
      "top10 = 0.22772277227722773\n",
      "top11 = 0.22772277227722773\n",
      "top12 = 0.23267326732673269\n",
      "top13 = 0.23267326732673269\n",
      "top14 = 0.24257425742574257\n",
      "top15 = 0.24257425742574257\n",
      "top16 = 0.2524752475247525\n",
      "stop 16\n",
      "\n"
     ]
    }
   ],
   "source": [
    "show_rank_metrics(\n",
    "    df_group=pd.DataFrame(data=train['group'].tolist(), columns=['group']),\n",
    "    df_proba=pd.DataFrame(data=clf_bayes_brn.predict_proba(X_train)[:,1].tolist(), columns=['proba']),\n",
    "    df_true=pd.DataFrame(data=y_train.tolist(), columns=['correct']),\n",
    "    label='train'\n",
    ")\n",
    "show_rank_metrics(\n",
    "    df_group=pd.DataFrame(data=test['group'].tolist(), columns=['group']),\n",
    "    df_proba=pd.DataFrame(data=clf_bayes_brn.predict_proba(X_test)[:,1].tolist(), columns=['proba']),\n",
    "    df_true=pd.DataFrame(data=y_test.tolist(), columns=['correct']),\n",
    "    label='test'\n",
    ")\n",
    "show_rank_metrics(\n",
    "    df_group=pd.DataFrame(data=valid['group'].tolist(), columns=['group']),\n",
    "    df_proba=pd.DataFrame(data=clf_bayes_brn.predict_proba(X_valid)[:,1].tolist(), columns=['proba']),\n",
    "    df_true=pd.DataFrame(data=y_valid.tolist(), columns=['correct']),\n",
    "    label='valid'\n",
    ")"
   ],
   "metadata": {
    "collapsed": false,
    "pycharm": {
     "name": "#%%\n"
    }
   }
  },
  {
   "cell_type": "code",
   "execution_count": 14,
   "outputs": [],
   "source": [
    "# train = pd.read_csv(dataset_folder+'train.csv', index_col=0).sample(frac=1)\n",
    "# y_train = train['correct']\n",
    "# X_train = train.drop(columns=['name', 'firstChar', 'group', 'correct'])\n",
    "#\n",
    "# test = pd.read_csv(dataset_folder+'test.csv', index_col=0)\n",
    "# y_test = test['correct']\n",
    "# X_test = test.drop(columns=['name', 'firstChar', 'group', 'correct'])\n",
    "#\n",
    "# valid = pd.read_csv(dataset_folder+'valid.csv', index_col=0)\n",
    "# y_valid = valid['correct']\n",
    "# X_valid = valid.drop(columns=['name', 'firstChar', 'group', 'correct'])"
   ],
   "metadata": {
    "collapsed": false,
    "pycharm": {
     "name": "#%%\n"
    }
   }
  },
  {
   "cell_type": "code",
   "execution_count": 15,
   "outputs": [],
   "source": [
    "# clf_bern = MultinomialNB().fit(X_train, y_train)"
   ],
   "metadata": {
    "collapsed": false,
    "pycharm": {
     "name": "#%%\n"
    }
   }
  },
  {
   "cell_type": "code",
   "execution_count": 16,
   "outputs": [],
   "source": [
    "# show_rank_metrics(\n",
    "#     df_group=pd.DataFrame(data=test['group'].tolist(), columns=['group']),\n",
    "#     df_proba=pd.DataFrame(data=clf_bern.predict_proba(X_test)[:,1].tolist(), columns=['proba']),\n",
    "#     df_true=pd.DataFrame(data=y_test.tolist(), columns=['correct']),\n",
    "#     label='test'\n",
    "# )\n",
    "# show_rank_metrics(\n",
    "#     df_group=pd.DataFrame(data=valid['group'].tolist(), columns=['group']),\n",
    "#     df_proba=pd.DataFrame(data=clf_bern.predict_proba(X_valid)[:,1].tolist(), columns=['proba']),\n",
    "#     df_true=pd.DataFrame(data=y_valid.tolist(), columns=['correct']),\n",
    "#     label='valid'\n",
    "# )"
   ],
   "metadata": {
    "collapsed": false,
    "pycharm": {
     "name": "#%%\n"
    }
   }
  },
  {
   "cell_type": "code",
   "execution_count": 16,
   "outputs": [],
   "source": [],
   "metadata": {
    "collapsed": false,
    "pycharm": {
     "name": "#%%\n"
    }
   }
  }
 ],
 "metadata": {
  "kernelspec": {
   "display_name": "Python 3",
   "language": "python",
   "name": "python3"
  },
  "language_info": {
   "codemirror_mode": {
    "name": "ipython",
    "version": 2
   },
   "file_extension": ".py",
   "mimetype": "text/x-python",
   "name": "python",
   "nbconvert_exporter": "python",
   "pygments_lexer": "ipython2",
   "version": "2.7.6"
  }
 },
 "nbformat": 4,
 "nbformat_minor": 0
}