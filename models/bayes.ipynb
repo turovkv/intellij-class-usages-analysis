{
 "cells": [
  {
   "cell_type": "code",
   "execution_count": 1,
   "metadata": {
    "collapsed": true,
    "pycharm": {
     "name": "#%%\n"
    }
   },
   "outputs": [],
   "source": [
    "import numpy as np\n",
    "import pandas as pd\n",
    "from sklearn import metrics\n",
    "from sklearn.linear_model import ARDRegression, RidgeClassifier\n",
    "from sklearn.svm import LinearSVR\n",
    "from sklearn.calibration import CalibratedClassifierCV\n",
    "from sklearn.svm import LinearSVC\n",
    "from utils import show_rank_metrics\n",
    "from sklearn.naive_bayes import MultinomialNB, ComplementNB, BernoulliNB\n",
    "from joblib import dump, load\n",
    "dataset_folder='./../dataset/saved/'"
   ]
  },
  {
   "cell_type": "code",
   "execution_count": 2,
   "outputs": [],
   "source": [
    "# clf_ridge = CalibratedClassifierCV(RidgeClassifier())\n",
    "# clf_ridge.fit(xs, ys)"
   ],
   "metadata": {
    "collapsed": false,
    "pycharm": {
     "name": "#%%\n"
    }
   }
  },
  {
   "cell_type": "code",
   "execution_count": 3,
   "outputs": [],
   "source": [
    "# show_rank_metrics(\n",
    "#     df_group=pd.DataFrame(data=test['group'].tolist(), columns=['group']),\n",
    "#     df_proba=pd.DataFrame(data=clf_ridge.predict_proba(X_test)[:,1].tolist(), columns=['proba']),\n",
    "#     df_true=pd.DataFrame(data=y_test.tolist(), columns=['correct'])\n",
    "# )"
   ],
   "metadata": {
    "collapsed": false,
    "pycharm": {
     "name": "#%%\n"
    }
   }
  },
  {
   "cell_type": "code",
   "execution_count": 4,
   "outputs": [
    {
     "name": "stdout",
     "output_type": "stream",
     "text": [
      "#########################################################\n"
     ]
    }
   ],
   "source": [
    "print('#########################################################')"
   ],
   "metadata": {
    "collapsed": false,
    "pycharm": {
     "name": "#%%\n"
    }
   }
  },
  {
   "cell_type": "code",
   "execution_count": 5,
   "outputs": [],
   "source": [
    "train = pd.read_pickle(dataset_folder+'train_ohe401_intr2_2k')\n",
    "y_train = train['correct']\n",
    "X_train = train.drop(columns=['group', 'correct'])\n",
    "\n",
    "test = pd.read_pickle(dataset_folder+'test_ohe401_intr2_2k')\n",
    "y_test = test['correct']\n",
    "X_test = test.drop(columns=['group', 'correct'])\n",
    "\n",
    "valid = pd.read_pickle(dataset_folder+'valid_ohe401_intr2_2k')\n",
    "y_valid = valid['correct']\n",
    "X_valid = valid.drop(columns=['group', 'correct'])"
   ],
   "metadata": {
    "collapsed": false,
    "pycharm": {
     "name": "#%%\n"
    }
   }
  },
  {
   "cell_type": "code",
   "execution_count": 6,
   "outputs": [],
   "source": [
    "# xs = X_train.iloc[:10 ** 5, :]\n",
    "# ys = y_train.iloc[:10 ** 5]"
   ],
   "metadata": {
    "collapsed": false,
    "pycharm": {
     "name": "#%%\n"
    }
   }
  },
  {
   "cell_type": "code",
   "execution_count": 7,
   "outputs": [],
   "source": [
    "clf_bayes_mnl = MultinomialNB().fit(X_train, y_train)"
   ],
   "metadata": {
    "collapsed": false,
    "pycharm": {
     "name": "#%%\n"
    }
   }
  },
  {
   "cell_type": "code",
   "execution_count": 8,
   "outputs": [
    {
     "name": "stdout",
     "output_type": "stream",
     "text": [
      "\n",
      "------train-------\n",
      "(230346, 3)\n",
      "\n",
      "mean = 2.5992420098460576\n",
      "\n",
      "top0 = 0.0\n",
      "top1 = 0.4980073454715949\n",
      "top2 = 0.6390560287567398\n",
      "top3 = 0.7277486910994765\n",
      "top4 = 0.8015550519653044\n",
      "top5 = 0.8664921465968587\n",
      "top6 = 0.9209189653825115\n",
      "top7 = 0.9607329842931938\n",
      "top8 = 0.9862467765882629\n",
      "top9 = 1.0\n",
      "\n",
      "\n",
      "------test-------\n",
      "(170300, 3)\n",
      "\n",
      "mean = 6.339083969465649\n",
      "\n",
      "top0 = 0.0\n",
      "top1 = 0.34519083969465647\n",
      "top2 = 0.45755725190839697\n",
      "top3 = 0.518473282442748\n",
      "top4 = 0.5659541984732824\n",
      "top5 = 0.6054961832061069\n",
      "top6 = 0.6358778625954199\n",
      "top7 = 0.6677862595419848\n",
      "top8 = 0.6972519083969466\n",
      "top9 = 0.7282442748091603\n",
      "top10 = 0.7540458015267175\n",
      "top11 = 0.7774045801526718\n",
      "top12 = 0.8036641221374046\n",
      "top13 = 0.8282442748091603\n",
      "top14 = 0.8512977099236642\n",
      "top15 = 0.8726717557251908\n",
      "top16 = 0.8929770992366413\n",
      "top17 = 0.9122137404580153\n",
      "top18 = 0.9300763358778626\n",
      "top19 = 0.9454961832061068\n",
      "top20 = 0.9564885496183206\n",
      "top21 = 0.9671755725190839\n",
      "top22 = 0.9760305343511451\n",
      "top23 = 0.9848854961832061\n",
      "top24 = 0.9905343511450382\n",
      "top25 = 0.9958778625954199\n",
      "top26 = 1.0\n",
      "\n",
      "\n",
      "------valid-------\n",
      "(117468, 3)\n",
      "\n",
      "mean = 6.609119079238601\n",
      "\n",
      "top0 = 0.0\n",
      "top1 = 0.3003541389995573\n",
      "top2 = 0.3988490482514387\n",
      "top3 = 0.4785303231518371\n",
      "top4 = 0.5367419212040726\n",
      "top5 = 0.5803452855245684\n",
      "top6 = 0.6212926073483842\n",
      "top7 = 0.6604692341744135\n",
      "top8 = 0.6890216910137229\n",
      "top9 = 0.7217795484727756\n",
      "top10 = 0.749667994687915\n",
      "top11 = 0.7753430721558212\n",
      "top12 = 0.8023461708720673\n",
      "top13 = 0.8271359008410801\n",
      "top14 = 0.8459495351925631\n",
      "top15 = 0.8689685701637893\n",
      "top16 = 0.8891102257636122\n",
      "top17 = 0.9110225763612217\n",
      "top18 = 0.9262948207171314\n",
      "top19 = 0.9400177069499779\n",
      "top20 = 0.9537405931828242\n",
      "top21 = 0.965692784417884\n",
      "top22 = 0.9763169544046038\n",
      "top23 = 0.9858344400177069\n",
      "top24 = 0.9911465250110668\n",
      "top25 = 0.9949092518813635\n",
      "top26 = 1.0\n",
      "\n"
     ]
    }
   ],
   "source": [
    "show_rank_metrics(\n",
    "    df_group=pd.DataFrame(data=train['group'].tolist(), columns=['group']),\n",
    "    df_proba=pd.DataFrame(data=clf_bayes_mnl.predict_proba(X_train)[:,1].tolist(), columns=['proba']),\n",
    "    df_true=pd.DataFrame(data=y_train.tolist(), columns=['correct']),\n",
    "    label='train'\n",
    ")\n",
    "show_rank_metrics(\n",
    "    df_group=pd.DataFrame(data=test['group'].tolist(), columns=['group']),\n",
    "    df_proba=pd.DataFrame(data=clf_bayes_mnl.predict_proba(X_test)[:,1].tolist(), columns=['proba']),\n",
    "    df_true=pd.DataFrame(data=y_test.tolist(), columns=['correct']),\n",
    "    label='test'\n",
    ")\n",
    "show_rank_metrics(\n",
    "    df_group=pd.DataFrame(data=valid['group'].tolist(), columns=['group']),\n",
    "    df_proba=pd.DataFrame(data=clf_bayes_mnl.predict_proba(X_valid)[:,1].tolist(), columns=['proba']),\n",
    "    df_true=pd.DataFrame(data=y_valid.tolist(), columns=['correct']),\n",
    "    label='valid'\n",
    ")"
   ],
   "metadata": {
    "collapsed": false,
    "pycharm": {
     "name": "#%%\n"
    }
   }
  },
  {
   "cell_type": "code",
   "execution_count": 9,
   "outputs": [
    {
     "data": {
      "text/plain": "['saved/clf_bayes_mnl']"
     },
     "execution_count": 9,
     "metadata": {},
     "output_type": "execute_result"
    }
   ],
   "source": [
    "dump(clf_bayes_mnl, 'saved/clf_bayes_mnl')\n",
    "# 51 kb (for 1000 features)"
   ],
   "metadata": {
    "collapsed": false,
    "pycharm": {
     "name": "#%%\n"
    }
   }
  },
  {
   "cell_type": "code",
   "execution_count": 9,
   "outputs": [],
   "source": [],
   "metadata": {
    "collapsed": false,
    "pycharm": {
     "name": "#%%\n"
    }
   }
  },
  {
   "cell_type": "code",
   "execution_count": 10,
   "outputs": [],
   "source": [
    "\n",
    "\n",
    "clf_bayes_cmp = ComplementNB().fit(X_train, y_train)"
   ],
   "metadata": {
    "collapsed": false,
    "pycharm": {
     "name": "#%%\n"
    }
   }
  },
  {
   "cell_type": "code",
   "execution_count": 11,
   "outputs": [
    {
     "name": "stdout",
     "output_type": "stream",
     "text": [
      "\n",
      "------train-------\n",
      "(230346, 3)\n",
      "\n",
      "mean = 2.5992420098460576\n",
      "\n",
      "top0 = 0.0\n",
      "top1 = 0.4980073454715949\n",
      "top2 = 0.6390560287567398\n",
      "top3 = 0.7277486910994765\n",
      "top4 = 0.8015550519653044\n",
      "top5 = 0.8664921465968587\n",
      "top6 = 0.9209189653825115\n",
      "top7 = 0.9607329842931938\n",
      "top8 = 0.9862467765882629\n",
      "top9 = 1.0\n",
      "\n",
      "\n",
      "------test-------\n",
      "(170300, 3)\n",
      "\n",
      "mean = 6.339083969465649\n",
      "\n",
      "top0 = 0.0\n",
      "top1 = 0.34519083969465647\n",
      "top2 = 0.45755725190839697\n",
      "top3 = 0.518473282442748\n",
      "top4 = 0.5659541984732824\n",
      "top5 = 0.6054961832061069\n",
      "top6 = 0.6358778625954199\n",
      "top7 = 0.6677862595419848\n",
      "top8 = 0.6972519083969466\n",
      "top9 = 0.7282442748091603\n",
      "top10 = 0.7540458015267175\n",
      "top11 = 0.7774045801526718\n",
      "top12 = 0.8036641221374046\n",
      "top13 = 0.8282442748091603\n",
      "top14 = 0.8512977099236642\n",
      "top15 = 0.8726717557251908\n",
      "top16 = 0.8929770992366413\n",
      "top17 = 0.9122137404580153\n",
      "top18 = 0.9300763358778626\n",
      "top19 = 0.9454961832061068\n",
      "top20 = 0.9564885496183206\n",
      "top21 = 0.9671755725190839\n",
      "top22 = 0.9760305343511451\n",
      "top23 = 0.9848854961832061\n",
      "top24 = 0.9905343511450382\n",
      "top25 = 0.9958778625954199\n",
      "top26 = 1.0\n",
      "\n",
      "\n",
      "------valid-------\n",
      "(117468, 3)\n",
      "\n",
      "mean = 6.609119079238601\n",
      "\n",
      "top0 = 0.0\n",
      "top1 = 0.3003541389995573\n",
      "top2 = 0.3988490482514387\n",
      "top3 = 0.4785303231518371\n",
      "top4 = 0.5367419212040726\n",
      "top5 = 0.5803452855245684\n",
      "top6 = 0.6212926073483842\n",
      "top7 = 0.6604692341744135\n",
      "top8 = 0.6890216910137229\n",
      "top9 = 0.7217795484727756\n",
      "top10 = 0.749667994687915\n",
      "top11 = 0.7753430721558212\n",
      "top12 = 0.8023461708720673\n",
      "top13 = 0.8271359008410801\n",
      "top14 = 0.8459495351925631\n",
      "top15 = 0.8689685701637893\n",
      "top16 = 0.8891102257636122\n",
      "top17 = 0.9110225763612217\n",
      "top18 = 0.9262948207171314\n",
      "top19 = 0.9400177069499779\n",
      "top20 = 0.9537405931828242\n",
      "top21 = 0.965692784417884\n",
      "top22 = 0.9763169544046038\n",
      "top23 = 0.9858344400177069\n",
      "top24 = 0.9911465250110668\n",
      "top25 = 0.9949092518813635\n",
      "top26 = 1.0\n",
      "\n"
     ]
    }
   ],
   "source": [
    "show_rank_metrics(\n",
    "    df_group=pd.DataFrame(data=train['group'].tolist(), columns=['group']),\n",
    "    df_proba=pd.DataFrame(data=clf_bayes_mnl.predict_proba(X_train)[:,1].tolist(), columns=['proba']),\n",
    "    df_true=pd.DataFrame(data=y_train.tolist(), columns=['correct']),\n",
    "    label='train'\n",
    ")\n",
    "show_rank_metrics(\n",
    "    df_group=pd.DataFrame(data=test['group'].tolist(), columns=['group']),\n",
    "    df_proba=pd.DataFrame(data=clf_bayes_mnl.predict_proba(X_test)[:,1].tolist(), columns=['proba']),\n",
    "    df_true=pd.DataFrame(data=y_test.tolist(), columns=['correct']),\n",
    "    label='test'\n",
    ")\n",
    "show_rank_metrics(\n",
    "    df_group=pd.DataFrame(data=valid['group'].tolist(), columns=['group']),\n",
    "    df_proba=pd.DataFrame(data=clf_bayes_mnl.predict_proba(X_valid)[:,1].tolist(), columns=['proba']),\n",
    "    df_true=pd.DataFrame(data=y_valid.tolist(), columns=['correct']),\n",
    "    label='valid'\n",
    ")"
   ],
   "metadata": {
    "collapsed": false,
    "pycharm": {
     "name": "#%%\n"
    }
   }
  },
  {
   "cell_type": "code",
   "execution_count": 12,
   "outputs": [],
   "source": [
    "clf_bayes_brn = BernoulliNB().fit(X_train, y_train)"
   ],
   "metadata": {
    "collapsed": false,
    "pycharm": {
     "name": "#%%\n"
    }
   }
  },
  {
   "cell_type": "code",
   "execution_count": 13,
   "outputs": [
    {
     "name": "stdout",
     "output_type": "stream",
     "text": [
      "\n",
      "------train-------\n",
      "(230346, 3)\n",
      "\n",
      "mean = 2.6300304758927875\n",
      "\n",
      "top0 = 0.0\n",
      "top1 = 0.49312338829413144\n",
      "top2 = 0.6355395795889661\n",
      "top3 = 0.7242322419317028\n",
      "top4 = 0.797999531140111\n",
      "top5 = 0.8603578963819645\n",
      "top6 = 0.9150191451121357\n",
      "top7 = 0.9578026099867156\n",
      "top8 = 0.9858951316714855\n",
      "top9 = 1.0\n",
      "\n",
      "\n",
      "------test-------\n",
      "(170300, 3)\n",
      "\n",
      "mean = 6.383511450381679\n",
      "\n",
      "top0 = 0.0\n",
      "top1 = 0.33587786259541985\n",
      "top2 = 0.44671755725190837\n",
      "top3 = 0.5126717557251909\n",
      "top4 = 0.5610687022900763\n",
      "top5 = 0.6013740458015268\n",
      "top6 = 0.6361832061068702\n",
      "top7 = 0.6705343511450381\n",
      "top8 = 0.7003053435114504\n",
      "top9 = 0.73206106870229\n",
      "top10 = 0.7584732824427481\n",
      "top11 = 0.7822900763358779\n",
      "top12 = 0.8051908396946564\n",
      "top13 = 0.823206106870229\n",
      "top14 = 0.8461068702290077\n",
      "top15 = 0.8683969465648855\n",
      "top16 = 0.8893129770992366\n",
      "top17 = 0.9087022900763359\n",
      "top18 = 0.9270229007633588\n",
      "top19 = 0.9416793893129771\n",
      "top20 = 0.9554198473282443\n",
      "top21 = 0.9662595419847329\n",
      "top22 = 0.9763358778625955\n",
      "top23 = 0.9847328244274809\n",
      "top24 = 0.9905343511450382\n",
      "top25 = 0.9960305343511451\n",
      "top26 = 1.0\n",
      "\n",
      "\n",
      "------valid-------\n",
      "(117468, 3)\n",
      "\n",
      "mean = 6.683045595396193\n",
      "\n",
      "top0 = 0.0\n",
      "top1 = 0.2932713590084108\n",
      "top2 = 0.39641434262948205\n",
      "top3 = 0.4710048694112439\n",
      "top4 = 0.5303231518370961\n",
      "top5 = 0.5765825586542718\n",
      "top6 = 0.6173085436033643\n",
      "top7 = 0.650730411686587\n",
      "top8 = 0.6888003541389995\n",
      "top9 = 0.7235502434705622\n",
      "top10 = 0.751660026560425\n",
      "top11 = 0.7766710934041612\n",
      "top12 = 0.8007968127490039\n",
      "top13 = 0.8233731739707836\n",
      "top14 = 0.8448428508189464\n",
      "top15 = 0.8640991589198761\n",
      "top16 = 0.8824701195219123\n",
      "top17 = 0.900398406374502\n",
      "top18 = 0.9214254094732183\n",
      "top19 = 0.9384683488269145\n",
      "top20 = 0.9519698981850376\n",
      "top21 = 0.9645861000442674\n",
      "top22 = 0.9754316069057105\n",
      "top23 = 0.9851704293935369\n",
      "top24 = 0.9922532093846835\n",
      "top25 = 0.9953519256308101\n",
      "top26 = 1.0\n",
      "\n"
     ]
    }
   ],
   "source": [
    "show_rank_metrics(\n",
    "    df_group=pd.DataFrame(data=train['group'].tolist(), columns=['group']),\n",
    "    df_proba=pd.DataFrame(data=clf_bayes_brn.predict_proba(X_train)[:,1].tolist(), columns=['proba']),\n",
    "    df_true=pd.DataFrame(data=y_train.tolist(), columns=['correct']),\n",
    "    label='train'\n",
    ")\n",
    "show_rank_metrics(\n",
    "    df_group=pd.DataFrame(data=test['group'].tolist(), columns=['group']),\n",
    "    df_proba=pd.DataFrame(data=clf_bayes_brn.predict_proba(X_test)[:,1].tolist(), columns=['proba']),\n",
    "    df_true=pd.DataFrame(data=y_test.tolist(), columns=['correct']),\n",
    "    label='test'\n",
    ")\n",
    "show_rank_metrics(\n",
    "    df_group=pd.DataFrame(data=valid['group'].tolist(), columns=['group']),\n",
    "    df_proba=pd.DataFrame(data=clf_bayes_brn.predict_proba(X_valid)[:,1].tolist(), columns=['proba']),\n",
    "    df_true=pd.DataFrame(data=y_valid.tolist(), columns=['correct']),\n",
    "    label='valid'\n",
    ")"
   ],
   "metadata": {
    "collapsed": false,
    "pycharm": {
     "name": "#%%\n"
    }
   }
  },
  {
   "cell_type": "code",
   "execution_count": 14,
   "outputs": [],
   "source": [
    "# train = pd.read_csv(dataset_folder+'train.csv', index_col=0).sample(frac=1)\n",
    "# y_train = train['correct']\n",
    "# X_train = train.drop(columns=['name', 'firstChar', 'group', 'correct'])\n",
    "#\n",
    "# test = pd.read_csv(dataset_folder+'test.csv', index_col=0)\n",
    "# y_test = test['correct']\n",
    "# X_test = test.drop(columns=['name', 'firstChar', 'group', 'correct'])\n",
    "#\n",
    "# valid = pd.read_csv(dataset_folder+'valid.csv', index_col=0)\n",
    "# y_valid = valid['correct']\n",
    "# X_valid = valid.drop(columns=['name', 'firstChar', 'group', 'correct'])"
   ],
   "metadata": {
    "collapsed": false,
    "pycharm": {
     "name": "#%%\n"
    }
   }
  },
  {
   "cell_type": "code",
   "execution_count": 15,
   "outputs": [],
   "source": [
    "# clf_bern = MultinomialNB().fit(X_train, y_train)"
   ],
   "metadata": {
    "collapsed": false,
    "pycharm": {
     "name": "#%%\n"
    }
   }
  },
  {
   "cell_type": "code",
   "execution_count": 16,
   "outputs": [],
   "source": [
    "# show_rank_metrics(\n",
    "#     df_group=pd.DataFrame(data=test['group'].tolist(), columns=['group']),\n",
    "#     df_proba=pd.DataFrame(data=clf_bern.predict_proba(X_test)[:,1].tolist(), columns=['proba']),\n",
    "#     df_true=pd.DataFrame(data=y_test.tolist(), columns=['correct']),\n",
    "#     label='test'\n",
    "# )\n",
    "# show_rank_metrics(\n",
    "#     df_group=pd.DataFrame(data=valid['group'].tolist(), columns=['group']),\n",
    "#     df_proba=pd.DataFrame(data=clf_bern.predict_proba(X_valid)[:,1].tolist(), columns=['proba']),\n",
    "#     df_true=pd.DataFrame(data=y_valid.tolist(), columns=['correct']),\n",
    "#     label='valid'\n",
    "# )"
   ],
   "metadata": {
    "collapsed": false,
    "pycharm": {
     "name": "#%%\n"
    }
   }
  },
  {
   "cell_type": "code",
   "execution_count": 16,
   "outputs": [],
   "source": [],
   "metadata": {
    "collapsed": false,
    "pycharm": {
     "name": "#%%\n"
    }
   }
  }
 ],
 "metadata": {
  "kernelspec": {
   "display_name": "Python 3",
   "language": "python",
   "name": "python3"
  },
  "language_info": {
   "codemirror_mode": {
    "name": "ipython",
    "version": 2
   },
   "file_extension": ".py",
   "mimetype": "text/x-python",
   "name": "python",
   "nbconvert_exporter": "python",
   "pygments_lexer": "ipython2",
   "version": "2.7.6"
  }
 },
 "nbformat": 4,
 "nbformat_minor": 0
}