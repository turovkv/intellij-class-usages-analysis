{
 "cells": [
  {
   "cell_type": "code",
   "execution_count": 1,
   "metadata": {
    "collapsed": true,
    "pycharm": {
     "name": "#%%\n"
    }
   },
   "outputs": [],
   "source": [
    "import numpy as np\n",
    "import pandas as pd\n",
    "from sklearn import metrics\n",
    "from sklearn.linear_model import ARDRegression, RidgeClassifier\n",
    "from sklearn.svm import LinearSVR\n",
    "from sklearn.calibration import CalibratedClassifierCV\n",
    "from sklearn.svm import LinearSVC\n",
    "from utils import show_rank_metrics\n",
    "from sklearn.naive_bayes import MultinomialNB, ComplementNB, BernoulliNB\n",
    "from joblib import dump, load\n",
    "dataset_folder='./../dataset/saved/'"
   ]
  },
  {
   "cell_type": "code",
   "execution_count": 2,
   "outputs": [],
   "source": [
    "# clf_ridge = CalibratedClassifierCV(RidgeClassifier())\n",
    "# clf_ridge.fit(xs, ys)"
   ],
   "metadata": {
    "collapsed": false,
    "pycharm": {
     "name": "#%%\n"
    }
   }
  },
  {
   "cell_type": "code",
   "execution_count": 3,
   "outputs": [],
   "source": [
    "# show_rank_metrics(\n",
    "#     df_group=pd.DataFrame(data=test['group'].tolist(), columns=['group']),\n",
    "#     df_proba=pd.DataFrame(data=clf_ridge.predict_proba(X_test)[:,1].tolist(), columns=['proba']),\n",
    "#     df_true=pd.DataFrame(data=y_test.tolist(), columns=['correct'])\n",
    "# )"
   ],
   "metadata": {
    "collapsed": false,
    "pycharm": {
     "name": "#%%\n"
    }
   }
  },
  {
   "cell_type": "code",
   "execution_count": 4,
   "outputs": [
    {
     "name": "stdout",
     "output_type": "stream",
     "text": [
      "#########################################################\n"
     ]
    }
   ],
   "source": [
    "print('#########################################################')"
   ],
   "metadata": {
    "collapsed": false,
    "pycharm": {
     "name": "#%%\n"
    }
   }
  },
  {
   "cell_type": "code",
   "execution_count": 5,
   "outputs": [],
   "source": [
    "train = pd.read_pickle(dataset_folder+'train_ohe401_intr2_2k')\n",
    "y_train = train['correct']\n",
    "X_train = train.drop(columns=['group', 'correct'])\n",
    "\n",
    "test = pd.read_pickle(dataset_folder+'test_ohe401_intr2_2k')\n",
    "y_test = test['correct']\n",
    "X_test = test.drop(columns=['group', 'correct'])\n",
    "\n",
    "valid = pd.read_pickle(dataset_folder+'valid_ohe401_intr2_2k')\n",
    "y_valid = valid['correct']\n",
    "X_valid = valid.drop(columns=['group', 'correct'])"
   ],
   "metadata": {
    "collapsed": false,
    "pycharm": {
     "name": "#%%\n"
    }
   }
  },
  {
   "cell_type": "code",
   "execution_count": 6,
   "outputs": [],
   "source": [
    "# xs = X_train.iloc[:10 ** 5, :]\n",
    "# ys = y_train.iloc[:10 ** 5]"
   ],
   "metadata": {
    "collapsed": false,
    "pycharm": {
     "name": "#%%\n"
    }
   }
  },
  {
   "cell_type": "code",
   "execution_count": 7,
   "outputs": [],
   "source": [
    "clf_bayes_mnl = MultinomialNB().fit(X_train, y_train)"
   ],
   "metadata": {
    "collapsed": false,
    "pycharm": {
     "name": "#%%\n"
    }
   }
  },
  {
   "cell_type": "code",
   "execution_count": 8,
   "outputs": [
    {
     "name": "stdout",
     "output_type": "stream",
     "text": [
      "\n",
      "------train-------\n",
      "(1023403, 3)\n",
      "\n",
      "mean = 6.977554296792173\n",
      "\n",
      "top0 = 0.0\n",
      "top1 = 0.3722472965195529\n",
      "top2 = 0.46636173628570565\n",
      "top3 = 0.5238542392390876\n",
      "top4 = 0.5639899433556478\n",
      "top5 = 0.5974616060339866\n",
      "top6 = 0.6299336624965922\n",
      "top7 = 0.6571350680035137\n",
      "top8 = 0.682216096689183\n",
      "top9 = 0.7048132553842426\n",
      "top10 = 0.7284403113924818\n",
      "top11 = 0.7509163056977555\n",
      "top12 = 0.7701511525762579\n",
      "top13 = 0.7902644412807076\n",
      "top14 = 0.8104080210826038\n",
      "top15 = 0.8304607275921607\n",
      "top16 = 0.8498773210553419\n",
      "stop 16\n",
      "\n",
      "\n",
      "------test-------\n",
      "(287060, 3)\n",
      "\n",
      "mean = 7.682505399568035\n",
      "\n",
      "top0 = 0.0\n",
      "top1 = 0.33034557235421164\n",
      "top2 = 0.4222462203023758\n",
      "top3 = 0.48056155507559395\n",
      "top4 = 0.5258099352051836\n",
      "top5 = 0.562634989200864\n",
      "top6 = 0.5958963282937365\n",
      "top7 = 0.6247300215982722\n",
      "top8 = 0.6506479481641468\n",
      "top9 = 0.6739740820734341\n",
      "top10 = 0.6957883369330453\n",
      "top11 = 0.7178185745140389\n",
      "top12 = 0.7389848812095032\n",
      "top13 = 0.7599352051835853\n",
      "top14 = 0.7825053995680346\n",
      "top15 = 0.8016198704103672\n",
      "top16 = 0.8233261339092872\n",
      "stop 16\n",
      "\n",
      "\n",
      "------valid-------\n",
      "(134354, 3)\n",
      "\n",
      "mean = 224.1881188118812\n",
      "\n",
      "top0 = 0.0\n",
      "top1 = 0.0\n",
      "top2 = 0.06930693069306931\n",
      "top3 = 0.1188118811881188\n",
      "top4 = 0.13366336633663367\n",
      "top5 = 0.13861386138613863\n",
      "top6 = 0.16336633663366337\n",
      "top7 = 0.16831683168316833\n",
      "top8 = 0.18316831683168316\n",
      "top9 = 0.20297029702970298\n",
      "top10 = 0.2079207920792079\n",
      "top11 = 0.21287128712871287\n",
      "top12 = 0.21287128712871287\n",
      "top13 = 0.22772277227722773\n",
      "top14 = 0.23267326732673269\n",
      "top15 = 0.24257425742574257\n",
      "top16 = 0.24257425742574257\n",
      "stop 16\n",
      "\n"
     ]
    }
   ],
   "source": [
    "show_rank_metrics(\n",
    "    df_group=pd.DataFrame(data=train['group'].tolist(), columns=['group']),\n",
    "    df_proba=pd.DataFrame(data=clf_bayes_mnl.predict_proba(X_train)[:,1].tolist(), columns=['proba']),\n",
    "    df_true=pd.DataFrame(data=y_train.tolist(), columns=['correct']),\n",
    "    label='train'\n",
    ")\n",
    "show_rank_metrics(\n",
    "    df_group=pd.DataFrame(data=test['group'].tolist(), columns=['group']),\n",
    "    df_proba=pd.DataFrame(data=clf_bayes_mnl.predict_proba(X_test)[:,1].tolist(), columns=['proba']),\n",
    "    df_true=pd.DataFrame(data=y_test.tolist(), columns=['correct']),\n",
    "    label='test'\n",
    ")\n",
    "show_rank_metrics(\n",
    "    df_group=pd.DataFrame(data=valid['group'].tolist(), columns=['group']),\n",
    "    df_proba=pd.DataFrame(data=clf_bayes_mnl.predict_proba(X_valid)[:,1].tolist(), columns=['proba']),\n",
    "    df_true=pd.DataFrame(data=y_valid.tolist(), columns=['correct']),\n",
    "    label='valid'\n",
    ")"
   ],
   "metadata": {
    "collapsed": false,
    "pycharm": {
     "name": "#%%\n"
    }
   }
  },
  {
   "cell_type": "code",
   "execution_count": 9,
   "outputs": [
    {
     "data": {
      "text/plain": "['saved/clf_bayes_mnl']"
     },
     "execution_count": 9,
     "metadata": {},
     "output_type": "execute_result"
    }
   ],
   "source": [
    "dump(clf_bayes_mnl, 'saved/clf_bayes_mnl')\n",
    "# 51 kb (for 1000 features)"
   ],
   "metadata": {
    "collapsed": false,
    "pycharm": {
     "name": "#%%\n"
    }
   }
  },
  {
   "cell_type": "code",
   "execution_count": 9,
   "outputs": [],
   "source": [],
   "metadata": {
    "collapsed": false,
    "pycharm": {
     "name": "#%%\n"
    }
   }
  },
  {
   "cell_type": "code",
   "execution_count": 10,
   "outputs": [],
   "source": [
    "\n",
    "\n",
    "clf_bayes_cmp = ComplementNB().fit(X_train, y_train)"
   ],
   "metadata": {
    "collapsed": false,
    "pycharm": {
     "name": "#%%\n"
    }
   }
  },
  {
   "cell_type": "code",
   "execution_count": 11,
   "outputs": [
    {
     "name": "stdout",
     "output_type": "stream",
     "text": [
      "\n",
      "------train-------\n",
      "(1023403, 3)\n",
      "\n",
      "mean = 6.977554296792173\n",
      "\n",
      "top0 = 0.0\n",
      "top1 = 0.3722472965195529\n",
      "top2 = 0.46636173628570565\n",
      "top3 = 0.5238542392390876\n",
      "top4 = 0.5639899433556478\n",
      "top5 = 0.5974616060339866\n",
      "top6 = 0.6299336624965922\n",
      "top7 = 0.6571350680035137\n",
      "top8 = 0.682216096689183\n",
      "top9 = 0.7048132553842426\n",
      "top10 = 0.7284403113924818\n",
      "top11 = 0.7509163056977555\n",
      "top12 = 0.7701511525762579\n",
      "top13 = 0.7902644412807076\n",
      "top14 = 0.8104080210826038\n",
      "top15 = 0.8304607275921607\n",
      "top16 = 0.8498773210553419\n",
      "stop 16\n",
      "\n",
      "\n",
      "------test-------\n",
      "(287060, 3)\n",
      "\n",
      "mean = 7.682505399568035\n",
      "\n",
      "top0 = 0.0\n",
      "top1 = 0.33034557235421164\n",
      "top2 = 0.4222462203023758\n",
      "top3 = 0.48056155507559395\n",
      "top4 = 0.5258099352051836\n",
      "top5 = 0.562634989200864\n",
      "top6 = 0.5958963282937365\n",
      "top7 = 0.6247300215982722\n",
      "top8 = 0.6506479481641468\n",
      "top9 = 0.6739740820734341\n",
      "top10 = 0.6957883369330453\n",
      "top11 = 0.7178185745140389\n",
      "top12 = 0.7389848812095032\n",
      "top13 = 0.7599352051835853\n",
      "top14 = 0.7825053995680346\n",
      "top15 = 0.8016198704103672\n",
      "top16 = 0.8233261339092872\n",
      "stop 16\n",
      "\n",
      "\n",
      "------valid-------\n",
      "(134354, 3)\n",
      "\n",
      "mean = 224.1881188118812\n",
      "\n",
      "top0 = 0.0\n",
      "top1 = 0.0\n",
      "top2 = 0.06930693069306931\n",
      "top3 = 0.1188118811881188\n",
      "top4 = 0.13366336633663367\n",
      "top5 = 0.13861386138613863\n",
      "top6 = 0.16336633663366337\n",
      "top7 = 0.16831683168316833\n",
      "top8 = 0.18316831683168316\n",
      "top9 = 0.20297029702970298\n",
      "top10 = 0.2079207920792079\n",
      "top11 = 0.21287128712871287\n",
      "top12 = 0.21287128712871287\n",
      "top13 = 0.22772277227722773\n",
      "top14 = 0.23267326732673269\n",
      "top15 = 0.24257425742574257\n",
      "top16 = 0.24257425742574257\n",
      "stop 16\n",
      "\n"
     ]
    }
   ],
   "source": [
    "show_rank_metrics(\n",
    "    df_group=pd.DataFrame(data=train['group'].tolist(), columns=['group']),\n",
    "    df_proba=pd.DataFrame(data=clf_bayes_mnl.predict_proba(X_train)[:,1].tolist(), columns=['proba']),\n",
    "    df_true=pd.DataFrame(data=y_train.tolist(), columns=['correct']),\n",
    "    label='train'\n",
    ")\n",
    "show_rank_metrics(\n",
    "    df_group=pd.DataFrame(data=test['group'].tolist(), columns=['group']),\n",
    "    df_proba=pd.DataFrame(data=clf_bayes_mnl.predict_proba(X_test)[:,1].tolist(), columns=['proba']),\n",
    "    df_true=pd.DataFrame(data=y_test.tolist(), columns=['correct']),\n",
    "    label='test'\n",
    ")\n",
    "show_rank_metrics(\n",
    "    df_group=pd.DataFrame(data=valid['group'].tolist(), columns=['group']),\n",
    "    df_proba=pd.DataFrame(data=clf_bayes_mnl.predict_proba(X_valid)[:,1].tolist(), columns=['proba']),\n",
    "    df_true=pd.DataFrame(data=y_valid.tolist(), columns=['correct']),\n",
    "    label='valid'\n",
    ")"
   ],
   "metadata": {
    "collapsed": false,
    "pycharm": {
     "name": "#%%\n"
    }
   }
  },
  {
   "cell_type": "code",
   "execution_count": 12,
   "outputs": [],
   "source": [
    "clf_bayes_brn = BernoulliNB().fit(X_train, y_train)"
   ],
   "metadata": {
    "collapsed": false,
    "pycharm": {
     "name": "#%%\n"
    }
   }
  },
  {
   "cell_type": "code",
   "execution_count": 13,
   "outputs": [
    {
     "name": "stdout",
     "output_type": "stream",
     "text": [
      "\n",
      "------train-------\n",
      "(1023403, 3)\n",
      "\n",
      "mean = 7.121649047344985\n",
      "\n",
      "top0 = 0.0\n",
      "top1 = 0.36306909399327536\n",
      "top2 = 0.4555781055947657\n",
      "top3 = 0.5127676975736831\n",
      "top4 = 0.5563868778965861\n",
      "top5 = 0.5919183352012843\n",
      "top6 = 0.6261169842183383\n",
      "top7 = 0.6547723624026899\n",
      "top8 = 0.6806712507194136\n",
      "top9 = 0.701814436737043\n",
      "top10 = 0.7240178111652985\n",
      "top11 = 0.7453124526701602\n",
      "top12 = 0.7657589434465211\n",
      "top13 = 0.7852361191045951\n",
      "top14 = 0.8041377639111865\n",
      "top15 = 0.8226456244509739\n",
      "top16 = 0.841668433647351\n",
      "stop 16\n",
      "\n",
      "\n",
      "------test-------\n",
      "(287060, 3)\n",
      "\n",
      "mean = 7.821922246220303\n",
      "\n",
      "top0 = 0.0\n",
      "top1 = 0.3199784017278618\n",
      "top2 = 0.408207343412527\n",
      "top3 = 0.4718142548596112\n",
      "top4 = 0.5186825053995681\n",
      "top5 = 0.5575593952483802\n",
      "top6 = 0.5912526997840173\n",
      "top7 = 0.6223542116630669\n",
      "top8 = 0.6503239740820734\n",
      "top9 = 0.6739740820734341\n",
      "top10 = 0.6949244060475162\n",
      "top11 = 0.7163066954643629\n",
      "top12 = 0.7369330453563715\n",
      "top13 = 0.7570194384449244\n",
      "top14 = 0.7772138228941685\n",
      "top15 = 0.7960043196544276\n",
      "top16 = 0.8144708423326134\n",
      "stop 16\n",
      "\n",
      "\n",
      "------valid-------\n",
      "(134354, 3)\n",
      "\n",
      "mean = 200.64851485148515\n",
      "\n",
      "top0 = 0.0\n",
      "top1 = 0.0\n",
      "top2 = 0.06930693069306931\n",
      "top3 = 0.10891089108910891\n",
      "top4 = 0.13861386138613863\n",
      "top5 = 0.14356435643564355\n",
      "top6 = 0.16336633663366337\n",
      "top7 = 0.18316831683168316\n",
      "top8 = 0.19801980198019803\n",
      "top9 = 0.21782178217821782\n",
      "top10 = 0.22277227722772278\n",
      "top11 = 0.22277227722772278\n",
      "top12 = 0.23267326732673269\n",
      "top13 = 0.2376237623762376\n",
      "top14 = 0.24752475247524752\n",
      "top15 = 0.24752475247524752\n",
      "top16 = 0.24752475247524752\n",
      "stop 16\n",
      "\n"
     ]
    }
   ],
   "source": [
    "show_rank_metrics(\n",
    "    df_group=pd.DataFrame(data=train['group'].tolist(), columns=['group']),\n",
    "    df_proba=pd.DataFrame(data=clf_bayes_brn.predict_proba(X_train)[:,1].tolist(), columns=['proba']),\n",
    "    df_true=pd.DataFrame(data=y_train.tolist(), columns=['correct']),\n",
    "    label='train'\n",
    ")\n",
    "show_rank_metrics(\n",
    "    df_group=pd.DataFrame(data=test['group'].tolist(), columns=['group']),\n",
    "    df_proba=pd.DataFrame(data=clf_bayes_brn.predict_proba(X_test)[:,1].tolist(), columns=['proba']),\n",
    "    df_true=pd.DataFrame(data=y_test.tolist(), columns=['correct']),\n",
    "    label='test'\n",
    ")\n",
    "show_rank_metrics(\n",
    "    df_group=pd.DataFrame(data=valid['group'].tolist(), columns=['group']),\n",
    "    df_proba=pd.DataFrame(data=clf_bayes_brn.predict_proba(X_valid)[:,1].tolist(), columns=['proba']),\n",
    "    df_true=pd.DataFrame(data=y_valid.tolist(), columns=['correct']),\n",
    "    label='valid'\n",
    ")"
   ],
   "metadata": {
    "collapsed": false,
    "pycharm": {
     "name": "#%%\n"
    }
   }
  },
  {
   "cell_type": "code",
   "execution_count": 14,
   "outputs": [],
   "source": [
    "# train = pd.read_csv(dataset_folder+'train.csv', index_col=0).sample(frac=1)\n",
    "# y_train = train['correct']\n",
    "# X_train = train.drop(columns=['name', 'firstChar', 'group', 'correct'])\n",
    "#\n",
    "# test = pd.read_csv(dataset_folder+'test.csv', index_col=0)\n",
    "# y_test = test['correct']\n",
    "# X_test = test.drop(columns=['name', 'firstChar', 'group', 'correct'])\n",
    "#\n",
    "# valid = pd.read_csv(dataset_folder+'valid.csv', index_col=0)\n",
    "# y_valid = valid['correct']\n",
    "# X_valid = valid.drop(columns=['name', 'firstChar', 'group', 'correct'])"
   ],
   "metadata": {
    "collapsed": false,
    "pycharm": {
     "name": "#%%\n"
    }
   }
  },
  {
   "cell_type": "code",
   "execution_count": 15,
   "outputs": [],
   "source": [
    "# clf_bern = MultinomialNB().fit(X_train, y_train)"
   ],
   "metadata": {
    "collapsed": false,
    "pycharm": {
     "name": "#%%\n"
    }
   }
  },
  {
   "cell_type": "code",
   "execution_count": 16,
   "outputs": [],
   "source": [
    "# show_rank_metrics(\n",
    "#     df_group=pd.DataFrame(data=test['group'].tolist(), columns=['group']),\n",
    "#     df_proba=pd.DataFrame(data=clf_bern.predict_proba(X_test)[:,1].tolist(), columns=['proba']),\n",
    "#     df_true=pd.DataFrame(data=y_test.tolist(), columns=['correct']),\n",
    "#     label='test'\n",
    "# )\n",
    "# show_rank_metrics(\n",
    "#     df_group=pd.DataFrame(data=valid['group'].tolist(), columns=['group']),\n",
    "#     df_proba=pd.DataFrame(data=clf_bern.predict_proba(X_valid)[:,1].tolist(), columns=['proba']),\n",
    "#     df_true=pd.DataFrame(data=y_valid.tolist(), columns=['correct']),\n",
    "#     label='valid'\n",
    "# )"
   ],
   "metadata": {
    "collapsed": false,
    "pycharm": {
     "name": "#%%\n"
    }
   }
  },
  {
   "cell_type": "code",
   "execution_count": 16,
   "outputs": [],
   "source": [],
   "metadata": {
    "collapsed": false,
    "pycharm": {
     "name": "#%%\n"
    }
   }
  }
 ],
 "metadata": {
  "kernelspec": {
   "display_name": "Python 3",
   "language": "python",
   "name": "python3"
  },
  "language_info": {
   "codemirror_mode": {
    "name": "ipython",
    "version": 2
   },
   "file_extension": ".py",
   "mimetype": "text/x-python",
   "name": "python",
   "nbconvert_exporter": "python",
   "pygments_lexer": "ipython2",
   "version": "2.7.6"
  }
 },
 "nbformat": 4,
 "nbformat_minor": 0
}