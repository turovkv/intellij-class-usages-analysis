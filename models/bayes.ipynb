{
 "cells": [
  {
   "cell_type": "code",
   "execution_count": 1,
   "metadata": {
    "collapsed": true,
    "pycharm": {
     "name": "#%%\n"
    }
   },
   "outputs": [],
   "source": [
    "import numpy as np\n",
    "import pandas as pd\n",
    "from sklearn import metrics\n",
    "from sklearn.linear_model import ARDRegression, RidgeClassifier\n",
    "from sklearn.svm import LinearSVR\n",
    "from sklearn.calibration import CalibratedClassifierCV\n",
    "from sklearn.svm import LinearSVC\n",
    "from utils import show_rank_metrics\n",
    "from sklearn.naive_bayes import MultinomialNB, ComplementNB, BernoulliNB\n",
    "from joblib import dump, load\n",
    "dataset_folder='./../dataset/saved/'"
   ]
  },
  {
   "cell_type": "code",
   "execution_count": 2,
   "outputs": [],
   "source": [
    "# clf_ridge = CalibratedClassifierCV(RidgeClassifier())\n",
    "# clf_ridge.fit(xs, ys)"
   ],
   "metadata": {
    "collapsed": false,
    "pycharm": {
     "name": "#%%\n"
    }
   }
  },
  {
   "cell_type": "code",
   "execution_count": 3,
   "outputs": [],
   "source": [
    "# show_rank_metrics(\n",
    "#     df_group=pd.DataFrame(data=test['group'].tolist(), columns=['group']),\n",
    "#     df_proba=pd.DataFrame(data=clf_ridge.predict_proba(X_test)[:,1].tolist(), columns=['proba']),\n",
    "#     df_true=pd.DataFrame(data=y_test.tolist(), columns=['correct'])\n",
    "# )"
   ],
   "metadata": {
    "collapsed": false,
    "pycharm": {
     "name": "#%%\n"
    }
   }
  },
  {
   "cell_type": "code",
   "execution_count": 4,
   "outputs": [
    {
     "name": "stdout",
     "output_type": "stream",
     "text": [
      "#########################################################\n"
     ]
    }
   ],
   "source": [
    "print('#########################################################')"
   ],
   "metadata": {
    "collapsed": false,
    "pycharm": {
     "name": "#%%\n"
    }
   }
  },
  {
   "cell_type": "code",
   "execution_count": 5,
   "outputs": [],
   "source": [
    "train = pd.read_pickle(dataset_folder+'train_ohe401_intr2_2k')\n",
    "y_train = train['correct']\n",
    "X_train = train.drop(columns=['group', 'correct'])\n",
    "\n",
    "test = pd.read_pickle(dataset_folder+'test_ohe401_intr2_2k')\n",
    "y_test = test['correct']\n",
    "X_test = test.drop(columns=['group', 'correct'])\n",
    "\n",
    "valid = pd.read_pickle(dataset_folder+'valid_ohe401_intr2_2k')\n",
    "y_valid = valid['correct']\n",
    "X_valid = valid.drop(columns=['group', 'correct'])"
   ],
   "metadata": {
    "collapsed": false,
    "pycharm": {
     "name": "#%%\n"
    }
   }
  },
  {
   "cell_type": "code",
   "execution_count": 6,
   "outputs": [],
   "source": [
    "# xs = X_train.iloc[:10 ** 5, :]\n",
    "# ys = y_train.iloc[:10 ** 5]"
   ],
   "metadata": {
    "collapsed": false,
    "pycharm": {
     "name": "#%%\n"
    }
   }
  },
  {
   "cell_type": "code",
   "execution_count": 7,
   "outputs": [],
   "source": [
    "clf_bayes_mnl = MultinomialNB().fit(X_train, y_train)"
   ],
   "metadata": {
    "collapsed": false,
    "pycharm": {
     "name": "#%%\n"
    }
   }
  },
  {
   "cell_type": "code",
   "execution_count": 8,
   "outputs": [
    {
     "name": "stdout",
     "output_type": "stream",
     "text": [
      "\n",
      "------train-------\n",
      "(334350, 3)\n",
      "\n",
      "mean = 2.3359952145954836  median=1.0, zerosCountMean=2.990877822640945e-05, groupSizeMean=10.999730820995962\n",
      "\n",
      "top0 = 0.0\n",
      "top1 = 0.5836997158666068\n",
      "top2 = 0.7093464931957529\n",
      "top3 = 0.786271870794078\n",
      "top4 = 0.8451323463436519\n",
      "top5 = 0.8896366083445492\n",
      "top6 = 0.925856138776731\n",
      "top7 = 0.9550770151039331\n",
      "top8 = 0.9772394197697024\n",
      "top9 = 0.9917451772095109\n",
      "top10 = 1.0\n",
      "\n"
     ]
    },
    {
     "name": "stderr",
     "output_type": "stream",
     "text": [
      "/home/kirill/Documents/1.Projects/class-ranking/intellij-class-usages-analysis/venv/lib/python3.8/site-packages/sklearn/base.py:493: FutureWarning: The feature names should match those that were passed during fit. Starting version 1.2, an error will be raised.\n",
      "Feature names unseen at fit time:\n",
      "- intr_100\n",
      "- intr_10001\n",
      "- intr_10032\n",
      "- intr_10038\n",
      "- intr_10043\n",
      "- ...\n",
      "Feature names seen at fit time, yet now missing:\n",
      "- intr_1000\n",
      "- intr_10002\n",
      "- intr_10003\n",
      "- intr_10006\n",
      "- intr_10009\n",
      "- ...\n",
      "\n",
      "  warnings.warn(message, FutureWarning)\n"
     ]
    },
    {
     "name": "stdout",
     "output_type": "stream",
     "text": [
      "\n",
      "------test-------\n",
      "(197715, 3)\n",
      "\n",
      "mean = 10.069676048858206  median=10.0, zerosCountMean=0.0, groupSizeMean=21.99787573021774\n",
      "\n",
      "top0 = 0.0\n",
      "top1 = 0.12118959107806691\n",
      "top2 = 0.18438661710037174\n",
      "top3 = 0.23579394583112057\n",
      "top4 = 0.2826340945300053\n",
      "top5 = 0.33170472650026556\n",
      "top6 = 0.3718534253850239\n",
      "top7 = 0.41253319171534786\n",
      "top8 = 0.4511949017525226\n",
      "top9 = 0.4899628252788104\n",
      "top10 = 0.526712692511949\n",
      "top11 = 0.5631439192777483\n",
      "top12 = 0.6011683483802442\n",
      "top13 = 0.6403611258629845\n",
      "top14 = 0.6872012745618693\n",
      "top15 = 0.7337227827934147\n",
      "top16 = 0.7803505045140733\n",
      "stop 16\n",
      "\n",
      "\n",
      "------valid-------\n",
      "(134354, 3)\n",
      "\n",
      "mean = 174.52475247524754  median=113.0, zerosCountMean=0.0, groupSizeMean=663.1089108910891\n",
      "\n",
      "top0 = 0.0\n",
      "top1 = 0.14356435643564355\n",
      "top2 = 0.15841584158415842\n",
      "top3 = 0.16336633663366337\n",
      "top4 = 0.16831683168316833\n",
      "top5 = 0.16831683168316833\n",
      "top6 = 0.17326732673267325\n",
      "top7 = 0.18316831683168316\n",
      "top8 = 0.19306930693069307\n",
      "top9 = 0.20297029702970298\n",
      "top10 = 0.21287128712871287\n",
      "top11 = 0.22277227722772278\n",
      "top12 = 0.23267326732673269\n",
      "top13 = 0.2524752475247525\n",
      "top14 = 0.2524752475247525\n",
      "top15 = 0.2524752475247525\n",
      "top16 = 0.2623762376237624\n",
      "stop 16\n",
      "\n"
     ]
    }
   ],
   "source": [
    "show_rank_metrics(\n",
    "    df_group=pd.DataFrame(data=train['group'].tolist(), columns=['group']),\n",
    "    df_proba=pd.DataFrame(data=clf_bayes_mnl.predict_proba(X_train)[:,1].tolist(), columns=['proba']),\n",
    "    df_true=pd.DataFrame(data=y_train.tolist(), columns=['correct']),\n",
    "    label='train'\n",
    ")\n",
    "show_rank_metrics(\n",
    "    df_group=pd.DataFrame(data=test['group'].tolist(), columns=['group']),\n",
    "    df_proba=pd.DataFrame(data=clf_bayes_mnl.predict_proba(X_test)[:,1].tolist(), columns=['proba']),\n",
    "    df_true=pd.DataFrame(data=y_test.tolist(), columns=['correct']),\n",
    "    label='test'\n",
    ")\n",
    "show_rank_metrics(\n",
    "    df_group=pd.DataFrame(data=valid['group'].tolist(), columns=['group']),\n",
    "    df_proba=pd.DataFrame(data=clf_bayes_mnl.predict_proba(X_valid)[:,1].tolist(), columns=['proba']),\n",
    "    df_true=pd.DataFrame(data=y_valid.tolist(), columns=['correct']),\n",
    "    label='valid'\n",
    ")"
   ],
   "metadata": {
    "collapsed": false,
    "pycharm": {
     "name": "#%%\n"
    }
   }
  },
  {
   "cell_type": "code",
   "execution_count": 9,
   "outputs": [
    {
     "data": {
      "text/plain": "['saved/clf_bayes_mnl']"
     },
     "execution_count": 9,
     "metadata": {},
     "output_type": "execute_result"
    }
   ],
   "source": [
    "dump(clf_bayes_mnl, 'saved/clf_bayes_mnl')\n",
    "# 51 kb (for 1000 features)"
   ],
   "metadata": {
    "collapsed": false,
    "pycharm": {
     "name": "#%%\n"
    }
   }
  },
  {
   "cell_type": "code",
   "execution_count": 9,
   "outputs": [],
   "source": [],
   "metadata": {
    "collapsed": false,
    "pycharm": {
     "name": "#%%\n"
    }
   }
  },
  {
   "cell_type": "code",
   "execution_count": 10,
   "outputs": [],
   "source": [
    "\n",
    "\n",
    "clf_bayes_cmp = ComplementNB().fit(X_train, y_train)"
   ],
   "metadata": {
    "collapsed": false,
    "pycharm": {
     "name": "#%%\n"
    }
   }
  },
  {
   "cell_type": "code",
   "execution_count": 11,
   "outputs": [
    {
     "name": "stdout",
     "output_type": "stream",
     "text": [
      "\n",
      "------train-------\n",
      "(334350, 3)\n",
      "\n",
      "mean = 2.3359952145954836  median=1.0, zerosCountMean=2.990877822640945e-05, groupSizeMean=10.999730820995962\n",
      "\n",
      "top0 = 0.0\n",
      "top1 = 0.5836997158666068\n",
      "top2 = 0.7093464931957529\n",
      "top3 = 0.786271870794078\n",
      "top4 = 0.8451323463436519\n",
      "top5 = 0.8896366083445492\n",
      "top6 = 0.925856138776731\n",
      "top7 = 0.9550770151039331\n",
      "top8 = 0.9772394197697024\n",
      "top9 = 0.9917451772095109\n",
      "top10 = 1.0\n",
      "\n"
     ]
    },
    {
     "name": "stderr",
     "output_type": "stream",
     "text": [
      "/home/kirill/Documents/1.Projects/class-ranking/intellij-class-usages-analysis/venv/lib/python3.8/site-packages/sklearn/base.py:493: FutureWarning: The feature names should match those that were passed during fit. Starting version 1.2, an error will be raised.\n",
      "Feature names unseen at fit time:\n",
      "- intr_100\n",
      "- intr_10001\n",
      "- intr_10032\n",
      "- intr_10038\n",
      "- intr_10043\n",
      "- ...\n",
      "Feature names seen at fit time, yet now missing:\n",
      "- intr_1000\n",
      "- intr_10002\n",
      "- intr_10003\n",
      "- intr_10006\n",
      "- intr_10009\n",
      "- ...\n",
      "\n",
      "  warnings.warn(message, FutureWarning)\n"
     ]
    },
    {
     "name": "stdout",
     "output_type": "stream",
     "text": [
      "\n",
      "------test-------\n",
      "(197715, 3)\n",
      "\n",
      "mean = 10.069676048858206  median=10.0, zerosCountMean=0.0, groupSizeMean=21.99787573021774\n",
      "\n",
      "top0 = 0.0\n",
      "top1 = 0.12118959107806691\n",
      "top2 = 0.18438661710037174\n",
      "top3 = 0.23579394583112057\n",
      "top4 = 0.2826340945300053\n",
      "top5 = 0.33170472650026556\n",
      "top6 = 0.3718534253850239\n",
      "top7 = 0.41253319171534786\n",
      "top8 = 0.4511949017525226\n",
      "top9 = 0.4899628252788104\n",
      "top10 = 0.526712692511949\n",
      "top11 = 0.5631439192777483\n",
      "top12 = 0.6011683483802442\n",
      "top13 = 0.6403611258629845\n",
      "top14 = 0.6872012745618693\n",
      "top15 = 0.7337227827934147\n",
      "top16 = 0.7803505045140733\n",
      "stop 16\n",
      "\n",
      "\n",
      "------valid-------\n",
      "(134354, 3)\n",
      "\n",
      "mean = 174.52475247524754  median=113.0, zerosCountMean=0.0, groupSizeMean=663.1089108910891\n",
      "\n",
      "top0 = 0.0\n",
      "top1 = 0.14356435643564355\n",
      "top2 = 0.15841584158415842\n",
      "top3 = 0.16336633663366337\n",
      "top4 = 0.16831683168316833\n",
      "top5 = 0.16831683168316833\n",
      "top6 = 0.17326732673267325\n",
      "top7 = 0.18316831683168316\n",
      "top8 = 0.19306930693069307\n",
      "top9 = 0.20297029702970298\n",
      "top10 = 0.21287128712871287\n",
      "top11 = 0.22277227722772278\n",
      "top12 = 0.23267326732673269\n",
      "top13 = 0.2524752475247525\n",
      "top14 = 0.2524752475247525\n",
      "top15 = 0.2524752475247525\n",
      "top16 = 0.2623762376237624\n",
      "stop 16\n",
      "\n"
     ]
    }
   ],
   "source": [
    "show_rank_metrics(\n",
    "    df_group=pd.DataFrame(data=train['group'].tolist(), columns=['group']),\n",
    "    df_proba=pd.DataFrame(data=clf_bayes_mnl.predict_proba(X_train)[:,1].tolist(), columns=['proba']),\n",
    "    df_true=pd.DataFrame(data=y_train.tolist(), columns=['correct']),\n",
    "    label='train'\n",
    ")\n",
    "show_rank_metrics(\n",
    "    df_group=pd.DataFrame(data=test['group'].tolist(), columns=['group']),\n",
    "    df_proba=pd.DataFrame(data=clf_bayes_mnl.predict_proba(X_test)[:,1].tolist(), columns=['proba']),\n",
    "    df_true=pd.DataFrame(data=y_test.tolist(), columns=['correct']),\n",
    "    label='test'\n",
    ")\n",
    "show_rank_metrics(\n",
    "    df_group=pd.DataFrame(data=valid['group'].tolist(), columns=['group']),\n",
    "    df_proba=pd.DataFrame(data=clf_bayes_mnl.predict_proba(X_valid)[:,1].tolist(), columns=['proba']),\n",
    "    df_true=pd.DataFrame(data=y_valid.tolist(), columns=['correct']),\n",
    "    label='valid'\n",
    ")"
   ],
   "metadata": {
    "collapsed": false,
    "pycharm": {
     "name": "#%%\n"
    }
   }
  },
  {
   "cell_type": "code",
   "execution_count": 12,
   "outputs": [],
   "source": [
    "clf_bayes_brn = BernoulliNB().fit(X_train, y_train)"
   ],
   "metadata": {
    "collapsed": false,
    "pycharm": {
     "name": "#%%\n"
    }
   }
  },
  {
   "cell_type": "code",
   "execution_count": 13,
   "outputs": [
    {
     "name": "stdout",
     "output_type": "stream",
     "text": [
      "\n",
      "------train-------\n",
      "(334350, 3)\n",
      "\n",
      "mean = 2.409690444145357  median=1.0, zerosCountMean=0.0, groupSizeMean=10.999730820995962\n",
      "\n",
      "top0 = 0.0\n",
      "top1 = 0.5648870943621953\n",
      "top2 = 0.6917900403768507\n",
      "top3 = 0.772603559144609\n",
      "top4 = 0.833168835053088\n",
      "top5 = 0.8821295050097203\n",
      "top6 = 0.9208613728129206\n",
      "top7 = 0.9548676536563482\n",
      "top8 = 0.977717960221325\n",
      "top9 = 0.9922835352175864\n",
      "top10 = 1.0\n",
      "\n"
     ]
    },
    {
     "name": "stderr",
     "output_type": "stream",
     "text": [
      "/home/kirill/Documents/1.Projects/class-ranking/intellij-class-usages-analysis/venv/lib/python3.8/site-packages/sklearn/base.py:493: FutureWarning: The feature names should match those that were passed during fit. Starting version 1.2, an error will be raised.\n",
      "Feature names unseen at fit time:\n",
      "- intr_100\n",
      "- intr_10001\n",
      "- intr_10032\n",
      "- intr_10038\n",
      "- intr_10043\n",
      "- ...\n",
      "Feature names seen at fit time, yet now missing:\n",
      "- intr_1000\n",
      "- intr_10002\n",
      "- intr_10003\n",
      "- intr_10006\n",
      "- intr_10009\n",
      "- ...\n",
      "\n",
      "  warnings.warn(message, FutureWarning)\n"
     ]
    },
    {
     "name": "stdout",
     "output_type": "stream",
     "text": [
      "\n",
      "------test-------\n",
      "(197715, 3)\n",
      "\n",
      "mean = 9.936378120021242  median=10.0, zerosCountMean=0.0, groupSizeMean=21.99787573021774\n",
      "\n",
      "top0 = 0.0\n",
      "top1 = 0.12278279341476367\n",
      "top2 = 0.18863515666489644\n",
      "top3 = 0.24078597981943706\n",
      "top4 = 0.28858204992033987\n",
      "top5 = 0.33223579394583114\n",
      "top6 = 0.37376526818906003\n",
      "top7 = 0.41242697822623475\n",
      "top8 = 0.4507700477960701\n",
      "top9 = 0.48709506107275624\n",
      "top10 = 0.523951141795008\n",
      "top11 = 0.562931492299522\n",
      "top12 = 0.6049920339883165\n",
      "top13 = 0.6525756771109931\n",
      "top14 = 0.6979288369622942\n",
      "top15 = 0.7475305363781201\n",
      "top16 = 0.7979819437068507\n",
      "stop 16\n",
      "\n",
      "\n",
      "------valid-------\n",
      "(134354, 3)\n",
      "\n",
      "mean = 116.08415841584159  median=54.5, zerosCountMean=0.0, groupSizeMean=663.1089108910891\n",
      "\n",
      "top0 = 0.0\n",
      "top1 = 0.09405940594059406\n",
      "top2 = 0.1188118811881188\n",
      "top3 = 0.13861386138613863\n",
      "top4 = 0.15346534653465346\n",
      "top5 = 0.15346534653465346\n",
      "top6 = 0.16831683168316833\n",
      "top7 = 0.17326732673267325\n",
      "top8 = 0.18316831683168316\n",
      "top9 = 0.2079207920792079\n",
      "top10 = 0.21782178217821782\n",
      "top11 = 0.23267326732673269\n",
      "top12 = 0.24752475247524752\n",
      "top13 = 0.2623762376237624\n",
      "top14 = 0.29207920792079206\n",
      "top15 = 0.29207920792079206\n",
      "top16 = 0.30198019801980197\n",
      "stop 16\n",
      "\n"
     ]
    }
   ],
   "source": [
    "show_rank_metrics(\n",
    "    df_group=pd.DataFrame(data=train['group'].tolist(), columns=['group']),\n",
    "    df_proba=pd.DataFrame(data=clf_bayes_brn.predict_proba(X_train)[:,1].tolist(), columns=['proba']),\n",
    "    df_true=pd.DataFrame(data=y_train.tolist(), columns=['correct']),\n",
    "    label='train'\n",
    ")\n",
    "show_rank_metrics(\n",
    "    df_group=pd.DataFrame(data=test['group'].tolist(), columns=['group']),\n",
    "    df_proba=pd.DataFrame(data=clf_bayes_brn.predict_proba(X_test)[:,1].tolist(), columns=['proba']),\n",
    "    df_true=pd.DataFrame(data=y_test.tolist(), columns=['correct']),\n",
    "    label='test'\n",
    ")\n",
    "show_rank_metrics(\n",
    "    df_group=pd.DataFrame(data=valid['group'].tolist(), columns=['group']),\n",
    "    df_proba=pd.DataFrame(data=clf_bayes_brn.predict_proba(X_valid)[:,1].tolist(), columns=['proba']),\n",
    "    df_true=pd.DataFrame(data=y_valid.tolist(), columns=['correct']),\n",
    "    label='valid'\n",
    ")"
   ],
   "metadata": {
    "collapsed": false,
    "pycharm": {
     "name": "#%%\n"
    }
   }
  },
  {
   "cell_type": "code",
   "execution_count": 14,
   "outputs": [],
   "source": [
    "# train = pd.read_csv(dataset_folder+'train.csv', index_col=0).sample(frac=1)\n",
    "# y_train = train['correct']\n",
    "# X_train = train.drop(columns=['name', 'firstChar', 'group', 'correct'])\n",
    "#\n",
    "# test = pd.read_csv(dataset_folder+'test.csv', index_col=0)\n",
    "# y_test = test['correct']\n",
    "# X_test = test.drop(columns=['name', 'firstChar', 'group', 'correct'])\n",
    "#\n",
    "# valid = pd.read_csv(dataset_folder+'valid.csv', index_col=0)\n",
    "# y_valid = valid['correct']\n",
    "# X_valid = valid.drop(columns=['name', 'firstChar', 'group', 'correct'])"
   ],
   "metadata": {
    "collapsed": false,
    "pycharm": {
     "name": "#%%\n"
    }
   }
  },
  {
   "cell_type": "code",
   "execution_count": 15,
   "outputs": [],
   "source": [
    "# clf_bern = MultinomialNB().fit(X_train, y_train)"
   ],
   "metadata": {
    "collapsed": false,
    "pycharm": {
     "name": "#%%\n"
    }
   }
  },
  {
   "cell_type": "code",
   "execution_count": 16,
   "outputs": [],
   "source": [
    "# show_rank_metrics(\n",
    "#     df_group=pd.DataFrame(data=test['group'].tolist(), columns=['group']),\n",
    "#     df_proba=pd.DataFrame(data=clf_bern.predict_proba(X_test)[:,1].tolist(), columns=['proba']),\n",
    "#     df_true=pd.DataFrame(data=y_test.tolist(), columns=['correct']),\n",
    "#     label='test'\n",
    "# )\n",
    "# show_rank_metrics(\n",
    "#     df_group=pd.DataFrame(data=valid['group'].tolist(), columns=['group']),\n",
    "#     df_proba=pd.DataFrame(data=clf_bern.predict_proba(X_valid)[:,1].tolist(), columns=['proba']),\n",
    "#     df_true=pd.DataFrame(data=y_valid.tolist(), columns=['correct']),\n",
    "#     label='valid'\n",
    "# )"
   ],
   "metadata": {
    "collapsed": false,
    "pycharm": {
     "name": "#%%\n"
    }
   }
  },
  {
   "cell_type": "code",
   "execution_count": 16,
   "outputs": [],
   "source": [],
   "metadata": {
    "collapsed": false,
    "pycharm": {
     "name": "#%%\n"
    }
   }
  }
 ],
 "metadata": {
  "kernelspec": {
   "display_name": "Python 3",
   "language": "python",
   "name": "python3"
  },
  "language_info": {
   "codemirror_mode": {
    "name": "ipython",
    "version": 2
   },
   "file_extension": ".py",
   "mimetype": "text/x-python",
   "name": "python",
   "nbconvert_exporter": "python",
   "pygments_lexer": "ipython2",
   "version": "2.7.6"
  }
 },
 "nbformat": 4,
 "nbformat_minor": 0
}