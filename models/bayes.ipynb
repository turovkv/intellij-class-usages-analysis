{
 "cells": [
  {
   "cell_type": "code",
   "execution_count": 1,
   "metadata": {
    "collapsed": true,
    "pycharm": {
     "name": "#%%\n"
    }
   },
   "outputs": [],
   "source": [
    "import numpy as np\n",
    "import pandas as pd\n",
    "from sklearn import metrics\n",
    "from sklearn.linear_model import ARDRegression, RidgeClassifier\n",
    "from sklearn.svm import LinearSVR\n",
    "from sklearn.calibration import CalibratedClassifierCV\n",
    "from sklearn.svm import LinearSVC\n",
    "from utils import show_rank_metrics\n",
    "from sklearn.naive_bayes import MultinomialNB, ComplementNB, BernoulliNB\n",
    "from joblib import dump, load\n",
    "dataset_folder='./../dataset/saved/'"
   ]
  },
  {
   "cell_type": "code",
   "execution_count": 2,
   "outputs": [],
   "source": [
    "# clf_ridge = CalibratedClassifierCV(RidgeClassifier())\n",
    "# clf_ridge.fit(xs, ys)"
   ],
   "metadata": {
    "collapsed": false,
    "pycharm": {
     "name": "#%%\n"
    }
   }
  },
  {
   "cell_type": "code",
   "execution_count": 3,
   "outputs": [],
   "source": [
    "# show_rank_metrics(\n",
    "#     df_group=pd.DataFrame(data=test['group'].tolist(), columns=['group']),\n",
    "#     df_proba=pd.DataFrame(data=clf_ridge.predict_proba(X_test)[:,1].tolist(), columns=['proba']),\n",
    "#     df_true=pd.DataFrame(data=y_test.tolist(), columns=['correct'])\n",
    "# )"
   ],
   "metadata": {
    "collapsed": false,
    "pycharm": {
     "name": "#%%\n"
    }
   }
  },
  {
   "cell_type": "code",
   "execution_count": 4,
   "outputs": [
    {
     "name": "stdout",
     "output_type": "stream",
     "text": [
      "#########################################################\n"
     ]
    }
   ],
   "source": [
    "print('#########################################################')"
   ],
   "metadata": {
    "collapsed": false,
    "pycharm": {
     "name": "#%%\n"
    }
   }
  },
  {
   "cell_type": "code",
   "execution_count": 5,
   "outputs": [],
   "source": [
    "train = pd.read_pickle(dataset_folder+'train_ohe401_intr2_2k')\n",
    "y_train = train['correct']\n",
    "X_train = train.drop(columns=['group', 'correct'])\n",
    "\n",
    "test = pd.read_pickle(dataset_folder+'test_ohe401_intr2_2k')\n",
    "y_test = test['correct']\n",
    "X_test = test.drop(columns=['group', 'correct'])\n",
    "\n",
    "valid = pd.read_pickle(dataset_folder+'valid_ohe401_intr2_2k')\n",
    "y_valid = valid['correct']\n",
    "X_valid = valid.drop(columns=['group', 'correct'])"
   ],
   "metadata": {
    "collapsed": false,
    "pycharm": {
     "name": "#%%\n"
    }
   }
  },
  {
   "cell_type": "code",
   "execution_count": 6,
   "outputs": [],
   "source": [
    "# xs = X_train.iloc[:10 ** 5, :]\n",
    "# ys = y_train.iloc[:10 ** 5]"
   ],
   "metadata": {
    "collapsed": false,
    "pycharm": {
     "name": "#%%\n"
    }
   }
  },
  {
   "cell_type": "code",
   "execution_count": 7,
   "outputs": [],
   "source": [
    "clf_bayes_mnl = MultinomialNB().fit(X_train, y_train)"
   ],
   "metadata": {
    "collapsed": false,
    "pycharm": {
     "name": "#%%\n"
    }
   }
  },
  {
   "cell_type": "code",
   "execution_count": 8,
   "outputs": [
    {
     "name": "stdout",
     "output_type": "stream",
     "text": [
      "\n",
      "------train-------\n",
      "(299961, 3)\n",
      "\n",
      "mean = 2.599477932131177\n",
      "\n",
      "top0 = 0.0\n",
      "top1 = 0.5045455909268205\n",
      "top2 = 0.6379729364817426\n",
      "top3 = 0.7281646614059828\n",
      "top4 = 0.801554202046266\n",
      "top5 = 0.8660625881364578\n",
      "top6 = 0.9201596207506976\n",
      "top7 = 0.9582645743946713\n",
      "top8 = 0.9837978937261844\n",
      "top9 = 1.0\n",
      "\n",
      "\n",
      "------test-------\n",
      "(240110, 3)\n",
      "\n",
      "mean = 6.570330265295073\n",
      "\n",
      "top0 = 0.0\n",
      "top1 = 0.3498646453708717\n",
      "top2 = 0.4441797509474824\n",
      "top3 = 0.4995127233351381\n",
      "top4 = 0.5462912831618841\n",
      "top5 = 0.5881970763400108\n",
      "top6 = 0.6241472658364916\n",
      "top7 = 0.6529507309149973\n",
      "top8 = 0.6822956145100162\n",
      "top9 = 0.7109907958852193\n",
      "top10 = 0.7352463454250135\n",
      "top11 = 0.7640498105035192\n",
      "top12 = 0.7924201407688143\n",
      "top13 = 0.8176502436383324\n",
      "top14 = 0.8402815376285869\n",
      "top15 = 0.8621548456957228\n",
      "top16 = 0.8854358419057932\n",
      "stop 16\n",
      "\n",
      "\n",
      "------valid-------\n",
      "(134354, 3)\n",
      "\n",
      "mean = 224.08415841584159\n",
      "\n",
      "top0 = 0.0\n",
      "top1 = 0.0\n",
      "top2 = 0.09405940594059406\n",
      "top3 = 0.13861386138613863\n",
      "top4 = 0.15346534653465346\n",
      "top5 = 0.16336633663366337\n",
      "top6 = 0.18316831683168316\n",
      "top7 = 0.19306930693069307\n",
      "top8 = 0.21287128712871287\n",
      "top9 = 0.22772277227722773\n",
      "top10 = 0.2376237623762376\n",
      "top11 = 0.24257425742574257\n",
      "top12 = 0.24752475247524752\n",
      "top13 = 0.25742574257425743\n",
      "top14 = 0.25742574257425743\n",
      "top15 = 0.26732673267326734\n",
      "top16 = 0.2722772277227723\n",
      "stop 16\n",
      "\n"
     ]
    }
   ],
   "source": [
    "show_rank_metrics(\n",
    "    df_group=pd.DataFrame(data=train['group'].tolist(), columns=['group']),\n",
    "    df_proba=pd.DataFrame(data=clf_bayes_mnl.predict_proba(X_train)[:,1].tolist(), columns=['proba']),\n",
    "    df_true=pd.DataFrame(data=y_train.tolist(), columns=['correct']),\n",
    "    label='train'\n",
    ")\n",
    "show_rank_metrics(\n",
    "    df_group=pd.DataFrame(data=test['group'].tolist(), columns=['group']),\n",
    "    df_proba=pd.DataFrame(data=clf_bayes_mnl.predict_proba(X_test)[:,1].tolist(), columns=['proba']),\n",
    "    df_true=pd.DataFrame(data=y_test.tolist(), columns=['correct']),\n",
    "    label='test'\n",
    ")\n",
    "show_rank_metrics(\n",
    "    df_group=pd.DataFrame(data=valid['group'].tolist(), columns=['group']),\n",
    "    df_proba=pd.DataFrame(data=clf_bayes_mnl.predict_proba(X_valid)[:,1].tolist(), columns=['proba']),\n",
    "    df_true=pd.DataFrame(data=y_valid.tolist(), columns=['correct']),\n",
    "    label='valid'\n",
    ")"
   ],
   "metadata": {
    "collapsed": false,
    "pycharm": {
     "name": "#%%\n"
    }
   }
  },
  {
   "cell_type": "code",
   "execution_count": 9,
   "outputs": [
    {
     "data": {
      "text/plain": "['saved/clf_bayes_mnl']"
     },
     "execution_count": 9,
     "metadata": {},
     "output_type": "execute_result"
    }
   ],
   "source": [
    "dump(clf_bayes_mnl, 'saved/clf_bayes_mnl')\n",
    "# 51 kb (for 1000 features)"
   ],
   "metadata": {
    "collapsed": false,
    "pycharm": {
     "name": "#%%\n"
    }
   }
  },
  {
   "cell_type": "code",
   "execution_count": 9,
   "outputs": [],
   "source": [],
   "metadata": {
    "collapsed": false,
    "pycharm": {
     "name": "#%%\n"
    }
   }
  },
  {
   "cell_type": "code",
   "execution_count": 10,
   "outputs": [],
   "source": [
    "\n",
    "\n",
    "clf_bayes_cmp = ComplementNB().fit(X_train, y_train)"
   ],
   "metadata": {
    "collapsed": false,
    "pycharm": {
     "name": "#%%\n"
    }
   }
  },
  {
   "cell_type": "code",
   "execution_count": 11,
   "outputs": [
    {
     "name": "stdout",
     "output_type": "stream",
     "text": [
      "\n",
      "------train-------\n",
      "(299961, 3)\n",
      "\n",
      "mean = 2.599477932131177\n",
      "\n",
      "top0 = 0.0\n",
      "top1 = 0.5045455909268205\n",
      "top2 = 0.6379729364817426\n",
      "top3 = 0.7281646614059828\n",
      "top4 = 0.801554202046266\n",
      "top5 = 0.8660625881364578\n",
      "top6 = 0.9201596207506976\n",
      "top7 = 0.9582645743946713\n",
      "top8 = 0.9837978937261844\n",
      "top9 = 1.0\n",
      "\n",
      "\n",
      "------test-------\n",
      "(240110, 3)\n",
      "\n",
      "mean = 6.570330265295073\n",
      "\n",
      "top0 = 0.0\n",
      "top1 = 0.3498646453708717\n",
      "top2 = 0.4441797509474824\n",
      "top3 = 0.4995127233351381\n",
      "top4 = 0.5462912831618841\n",
      "top5 = 0.5881970763400108\n",
      "top6 = 0.6241472658364916\n",
      "top7 = 0.6529507309149973\n",
      "top8 = 0.6822956145100162\n",
      "top9 = 0.7109907958852193\n",
      "top10 = 0.7352463454250135\n",
      "top11 = 0.7640498105035192\n",
      "top12 = 0.7924201407688143\n",
      "top13 = 0.8176502436383324\n",
      "top14 = 0.8402815376285869\n",
      "top15 = 0.8621548456957228\n",
      "top16 = 0.8854358419057932\n",
      "stop 16\n",
      "\n",
      "\n",
      "------valid-------\n",
      "(134354, 3)\n",
      "\n",
      "mean = 224.08415841584159\n",
      "\n",
      "top0 = 0.0\n",
      "top1 = 0.0\n",
      "top2 = 0.09405940594059406\n",
      "top3 = 0.13861386138613863\n",
      "top4 = 0.15346534653465346\n",
      "top5 = 0.16336633663366337\n",
      "top6 = 0.18316831683168316\n",
      "top7 = 0.19306930693069307\n",
      "top8 = 0.21287128712871287\n",
      "top9 = 0.22772277227722773\n",
      "top10 = 0.2376237623762376\n",
      "top11 = 0.24257425742574257\n",
      "top12 = 0.24752475247524752\n",
      "top13 = 0.25742574257425743\n",
      "top14 = 0.25742574257425743\n",
      "top15 = 0.26732673267326734\n",
      "top16 = 0.2722772277227723\n",
      "stop 16\n",
      "\n"
     ]
    }
   ],
   "source": [
    "show_rank_metrics(\n",
    "    df_group=pd.DataFrame(data=train['group'].tolist(), columns=['group']),\n",
    "    df_proba=pd.DataFrame(data=clf_bayes_mnl.predict_proba(X_train)[:,1].tolist(), columns=['proba']),\n",
    "    df_true=pd.DataFrame(data=y_train.tolist(), columns=['correct']),\n",
    "    label='train'\n",
    ")\n",
    "show_rank_metrics(\n",
    "    df_group=pd.DataFrame(data=test['group'].tolist(), columns=['group']),\n",
    "    df_proba=pd.DataFrame(data=clf_bayes_mnl.predict_proba(X_test)[:,1].tolist(), columns=['proba']),\n",
    "    df_true=pd.DataFrame(data=y_test.tolist(), columns=['correct']),\n",
    "    label='test'\n",
    ")\n",
    "show_rank_metrics(\n",
    "    df_group=pd.DataFrame(data=valid['group'].tolist(), columns=['group']),\n",
    "    df_proba=pd.DataFrame(data=clf_bayes_mnl.predict_proba(X_valid)[:,1].tolist(), columns=['proba']),\n",
    "    df_true=pd.DataFrame(data=y_valid.tolist(), columns=['correct']),\n",
    "    label='valid'\n",
    ")"
   ],
   "metadata": {
    "collapsed": false,
    "pycharm": {
     "name": "#%%\n"
    }
   }
  },
  {
   "cell_type": "code",
   "execution_count": 12,
   "outputs": [],
   "source": [
    "clf_bayes_brn = BernoulliNB().fit(X_train, y_train)"
   ],
   "metadata": {
    "collapsed": false,
    "pycharm": {
     "name": "#%%\n"
    }
   }
  },
  {
   "cell_type": "code",
   "execution_count": 13,
   "outputs": [
    {
     "name": "stdout",
     "output_type": "stream",
     "text": [
      "\n",
      "------train-------\n",
      "(299961, 3)\n",
      "\n",
      "mean = 2.624891235860662\n",
      "\n",
      "top0 = 0.0\n",
      "top1 = 0.5008251072639444\n",
      "top2 = 0.6350625581325572\n",
      "top3 = 0.724144138738036\n",
      "top4 = 0.7965735545620931\n",
      "top5 = 0.8610819406522848\n",
      "top6 = 0.9168591916949204\n",
      "top7 = 0.9569744066728675\n",
      "top8 = 0.983587866422635\n",
      "top9 = 1.0\n",
      "\n",
      "\n",
      "------test-------\n",
      "(240110, 3)\n",
      "\n",
      "mean = 6.653817000541419\n",
      "\n",
      "top0 = 0.0\n",
      "top1 = 0.34434217650243637\n",
      "top2 = 0.4399566865186789\n",
      "top3 = 0.4996210070384407\n",
      "top4 = 0.5469409853817001\n",
      "top5 = 0.5889550622631294\n",
      "top6 = 0.625879805089334\n",
      "top7 = 0.6536004331348132\n",
      "top8 = 0.6825121819166216\n",
      "top9 = 0.7065511640498106\n",
      "top10 = 0.7311315646995127\n",
      "top11 = 0.7554953979426097\n",
      "top12 = 0.7811586356253384\n",
      "top13 = 0.8071467244179751\n",
      "top14 = 0.8305360043313481\n",
      "top15 = 0.8544667027612345\n",
      "top16 = 0.8777476989713048\n",
      "stop 16\n",
      "\n",
      "\n",
      "------valid-------\n",
      "(134354, 3)\n",
      "\n",
      "mean = 203.17326732673268\n",
      "\n",
      "top0 = 0.0\n",
      "top1 = 0.0\n",
      "top2 = 0.0891089108910891\n",
      "top3 = 0.12871287128712872\n",
      "top4 = 0.15346534653465346\n",
      "top5 = 0.16336633663366337\n",
      "top6 = 0.1782178217821782\n",
      "top7 = 0.19801980198019803\n",
      "top8 = 0.22772277227722773\n",
      "top9 = 0.23267326732673269\n",
      "top10 = 0.24257425742574257\n",
      "top11 = 0.2524752475247525\n",
      "top12 = 0.25742574257425743\n",
      "top13 = 0.25742574257425743\n",
      "top14 = 0.26732673267326734\n",
      "top15 = 0.27722772277227725\n",
      "top16 = 0.2871287128712871\n",
      "stop 16\n",
      "\n"
     ]
    }
   ],
   "source": [
    "show_rank_metrics(\n",
    "    df_group=pd.DataFrame(data=train['group'].tolist(), columns=['group']),\n",
    "    df_proba=pd.DataFrame(data=clf_bayes_brn.predict_proba(X_train)[:,1].tolist(), columns=['proba']),\n",
    "    df_true=pd.DataFrame(data=y_train.tolist(), columns=['correct']),\n",
    "    label='train'\n",
    ")\n",
    "show_rank_metrics(\n",
    "    df_group=pd.DataFrame(data=test['group'].tolist(), columns=['group']),\n",
    "    df_proba=pd.DataFrame(data=clf_bayes_brn.predict_proba(X_test)[:,1].tolist(), columns=['proba']),\n",
    "    df_true=pd.DataFrame(data=y_test.tolist(), columns=['correct']),\n",
    "    label='test'\n",
    ")\n",
    "show_rank_metrics(\n",
    "    df_group=pd.DataFrame(data=valid['group'].tolist(), columns=['group']),\n",
    "    df_proba=pd.DataFrame(data=clf_bayes_brn.predict_proba(X_valid)[:,1].tolist(), columns=['proba']),\n",
    "    df_true=pd.DataFrame(data=y_valid.tolist(), columns=['correct']),\n",
    "    label='valid'\n",
    ")"
   ],
   "metadata": {
    "collapsed": false,
    "pycharm": {
     "name": "#%%\n"
    }
   }
  },
  {
   "cell_type": "code",
   "execution_count": 14,
   "outputs": [],
   "source": [
    "# train = pd.read_csv(dataset_folder+'train.csv', index_col=0).sample(frac=1)\n",
    "# y_train = train['correct']\n",
    "# X_train = train.drop(columns=['name', 'firstChar', 'group', 'correct'])\n",
    "#\n",
    "# test = pd.read_csv(dataset_folder+'test.csv', index_col=0)\n",
    "# y_test = test['correct']\n",
    "# X_test = test.drop(columns=['name', 'firstChar', 'group', 'correct'])\n",
    "#\n",
    "# valid = pd.read_csv(dataset_folder+'valid.csv', index_col=0)\n",
    "# y_valid = valid['correct']\n",
    "# X_valid = valid.drop(columns=['name', 'firstChar', 'group', 'correct'])"
   ],
   "metadata": {
    "collapsed": false,
    "pycharm": {
     "name": "#%%\n"
    }
   }
  },
  {
   "cell_type": "code",
   "execution_count": 15,
   "outputs": [],
   "source": [
    "# clf_bern = MultinomialNB().fit(X_train, y_train)"
   ],
   "metadata": {
    "collapsed": false,
    "pycharm": {
     "name": "#%%\n"
    }
   }
  },
  {
   "cell_type": "code",
   "execution_count": 16,
   "outputs": [],
   "source": [
    "# show_rank_metrics(\n",
    "#     df_group=pd.DataFrame(data=test['group'].tolist(), columns=['group']),\n",
    "#     df_proba=pd.DataFrame(data=clf_bern.predict_proba(X_test)[:,1].tolist(), columns=['proba']),\n",
    "#     df_true=pd.DataFrame(data=y_test.tolist(), columns=['correct']),\n",
    "#     label='test'\n",
    "# )\n",
    "# show_rank_metrics(\n",
    "#     df_group=pd.DataFrame(data=valid['group'].tolist(), columns=['group']),\n",
    "#     df_proba=pd.DataFrame(data=clf_bern.predict_proba(X_valid)[:,1].tolist(), columns=['proba']),\n",
    "#     df_true=pd.DataFrame(data=y_valid.tolist(), columns=['correct']),\n",
    "#     label='valid'\n",
    "# )"
   ],
   "metadata": {
    "collapsed": false,
    "pycharm": {
     "name": "#%%\n"
    }
   }
  },
  {
   "cell_type": "code",
   "execution_count": 16,
   "outputs": [],
   "source": [],
   "metadata": {
    "collapsed": false,
    "pycharm": {
     "name": "#%%\n"
    }
   }
  }
 ],
 "metadata": {
  "kernelspec": {
   "display_name": "Python 3",
   "language": "python",
   "name": "python3"
  },
  "language_info": {
   "codemirror_mode": {
    "name": "ipython",
    "version": 2
   },
   "file_extension": ".py",
   "mimetype": "text/x-python",
   "name": "python",
   "nbconvert_exporter": "python",
   "pygments_lexer": "ipython2",
   "version": "2.7.6"
  }
 },
 "nbformat": 4,
 "nbformat_minor": 0
}