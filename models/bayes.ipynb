{
 "cells": [
  {
   "cell_type": "code",
   "execution_count": 1,
   "metadata": {
    "collapsed": true,
    "pycharm": {
     "name": "#%%\n"
    }
   },
   "outputs": [],
   "source": [
    "import numpy as np\n",
    "import pandas as pd\n",
    "from sklearn import metrics\n",
    "from sklearn.linear_model import ARDRegression, RidgeClassifier\n",
    "from sklearn.svm import LinearSVR\n",
    "from sklearn.calibration import CalibratedClassifierCV\n",
    "from sklearn.svm import LinearSVC\n",
    "from utils import show_rank_metrics\n",
    "from sklearn.naive_bayes import MultinomialNB\n",
    "from joblib import dump, load\n",
    "dataset_folder='./../dataset/saved/'"
   ]
  },
  {
   "cell_type": "code",
   "execution_count": 2,
   "outputs": [],
   "source": [
    "train = pd.read_csv('train.csv', index_col=0).sample(frac=1)\n",
    "y_train = train['correct']\n",
    "X_train = train.drop(columns=['name', 'firstChar', 'group', 'correct'])\n",
    "\n",
    "test = pd.read_csv('test.csv', index_col=0)\n",
    "y_test = test['correct']\n",
    "X_test = test.drop(columns=['name', 'firstChar', 'group', 'correct'])\n",
    "\n",
    "valid = pd.read_csv('valid.csv', index_col=0)\n",
    "y_valid = valid['correct']\n",
    "X_valid = valid.drop(columns=['name', 'firstChar', 'group', 'correct'])"
   ],
   "metadata": {
    "collapsed": false,
    "pycharm": {
     "name": "#%%\n"
    }
   }
  },
  {
   "cell_type": "code",
   "execution_count": 3,
   "outputs": [],
   "source": [
    "s_tr = X_train.sum()\n",
    "s_te = X_test.sum()"
   ],
   "metadata": {
    "collapsed": false,
    "pycharm": {
     "name": "#%%\n"
    }
   }
  },
  {
   "cell_type": "code",
   "execution_count": 4,
   "outputs": [
    {
     "name": "stdout",
     "output_type": "stream",
     "text": [
      "train median 1.039040675887443 %\n",
      "test median 0.9542356377799415 %\n"
     ]
    }
   ],
   "source": [
    "print(f'train median {s_tr.median() / X_train.shape[0] * 100} %')\n",
    "print(f'test median {s_te.median() / X_test.shape[0] * 100} %')"
   ],
   "metadata": {
    "collapsed": false,
    "pycharm": {
     "name": "#%%\n"
    }
   }
  },
  {
   "cell_type": "code",
   "execution_count": 5,
   "outputs": [],
   "source": [
    "xs = X_train.iloc[:10 ** 5, :]\n",
    "ys = y_train.iloc[:10 ** 5]"
   ],
   "metadata": {
    "collapsed": false,
    "pycharm": {
     "name": "#%%\n"
    }
   }
  },
  {
   "cell_type": "code",
   "execution_count": 6,
   "outputs": [],
   "source": [
    "clf = ARDRegression(n_iter=10 ** 3).fit(xs, ys)"
   ],
   "metadata": {
    "collapsed": false,
    "pycharm": {
     "name": "#%%\n"
    }
   }
  },
  {
   "cell_type": "code",
   "execution_count": 7,
   "outputs": [],
   "source": [
    "#clf.predict(xs)"
   ],
   "metadata": {
    "collapsed": false,
    "pycharm": {
     "name": "#%%\n"
    }
   }
  },
  {
   "cell_type": "code",
   "execution_count": 8,
   "outputs": [],
   "source": [
    "#metrics.plot_roc_curve(clf, X_test, y_test)"
   ],
   "metadata": {
    "collapsed": false,
    "pycharm": {
     "name": "#%%\n"
    }
   }
  },
  {
   "cell_type": "code",
   "execution_count": 9,
   "outputs": [],
   "source": [
    "#metrics.plot_roc_curve(clf, xs, ys)"
   ],
   "metadata": {
    "collapsed": false,
    "pycharm": {
     "name": "#%%\n"
    }
   }
  },
  {
   "cell_type": "code",
   "execution_count": 10,
   "outputs": [
    {
     "name": "stdout",
     "output_type": "stream",
     "text": [
      "(100000, 3)\n",
      "\n",
      "mean = 2.947962778932153\n",
      "\n",
      "top0 = 0.0\n",
      "top1 = 0.28195862318185927\n",
      "top2 = 0.42759056825368147\n",
      "top3 = 0.6190261089529316\n",
      "top4 = 0.8109133616406179\n",
      "top5 = 0.9323335441322612\n",
      "top6 = 0.9836480260186106\n",
      "top7 = 0.9967476736832596\n",
      "top8 = 0.9998193152046255\n",
      "top9 = 1.0\n"
     ]
    }
   ],
   "source": [
    "show_rank_metrics(\n",
    "    df_group=pd.DataFrame(data=train['group'].iloc[:10 ** 5].tolist(), columns=['group']),\n",
    "    df_proba=pd.DataFrame(data=clf.predict(xs), columns=['proba']),\n",
    "    df_true=pd.DataFrame(data=ys.tolist(), columns=['correct'])\n",
    ")"
   ],
   "metadata": {
    "collapsed": false,
    "pycharm": {
     "name": "#%%\n"
    }
   }
  },
  {
   "cell_type": "code",
   "execution_count": 11,
   "outputs": [
    {
     "name": "stdout",
     "output_type": "stream",
     "text": [
      "(236210, 3)\n",
      "\n",
      "mean = 17.548816730875068\n",
      "\n",
      "top0 = 0.0\n",
      "top1 = 0.14980737479361586\n",
      "top2 = 0.18425976884975234\n",
      "top3 = 0.2042927903137039\n",
      "top4 = 0.22168409466153\n",
      "top5 = 0.2341221794166208\n",
      "top6 = 0.24358833241607045\n",
      "top7 = 0.2526141992294992\n",
      "top8 = 0.26340121078701156\n",
      "top9 = 0.2746285085305449\n",
      "top10 = 0.2847550908090259\n",
      "top11 = 0.2929003852504128\n",
      "top12 = 0.3003852504127683\n",
      "top13 = 0.30434782608695654\n",
      "top14 = 0.30787011557512384\n",
      "top15 = 0.31161254815630157\n",
      "top16 = 0.3157952669235003\n",
      "top17 = 0.3200880572372042\n",
      "top18 = 0.33010456796918\n",
      "top19 = 0.3477160154100165\n",
      "top20 = 0.3767749036873968\n",
      "top21 = 0.4133186571271326\n",
      "top22 = 0.472757292239956\n",
      "top23 = 0.554210236653825\n",
      "top24 = 0.6736378646119978\n",
      "top25 = 0.8165107319757843\n",
      "top26 = 1.0\n"
     ]
    }
   ],
   "source": [
    "show_rank_metrics(\n",
    "    df_group=pd.DataFrame(data=test['group'].tolist(), columns=['group']),\n",
    "    df_proba=pd.DataFrame(data=clf.predict(X_test), columns=['proba']),\n",
    "    df_true=pd.DataFrame(data=y_test.tolist(), columns=['correct'])\n",
    ")"
   ],
   "metadata": {
    "collapsed": false,
    "pycharm": {
     "name": "#%%\n"
    }
   }
  },
  {
   "cell_type": "code",
   "execution_count": 12,
   "outputs": [
    {
     "name": "stdout",
     "output_type": "stream",
     "text": [
      "##########################################################\n"
     ]
    }
   ],
   "source": [
    "print('##########################################################')"
   ],
   "metadata": {
    "collapsed": false,
    "pycharm": {
     "name": "#%%\n"
    }
   }
  },
  {
   "cell_type": "code",
   "execution_count": 12,
   "outputs": [
    {
     "data": {
      "text/plain": "CalibratedClassifierCV(base_estimator=RidgeClassifier())"
     },
     "execution_count": 12,
     "metadata": {},
     "output_type": "execute_result"
    }
   ],
   "source": [
    "clf_ridge = CalibratedClassifierCV(RidgeClassifier())\n",
    "clf_ridge.fit(xs, ys)"
   ],
   "metadata": {
    "collapsed": false,
    "pycharm": {
     "name": "#%%\n"
    }
   }
  },
  {
   "cell_type": "code",
   "execution_count": 13,
   "outputs": [
    {
     "name": "stdout",
     "output_type": "stream",
     "text": [
      "(236210, 3)\n",
      "\n",
      "mean = 13.090809025866813\n",
      "\n",
      "top0 = 0.0\n",
      "top1 = 0.1717116125481563\n",
      "top2 = 0.21177765547605945\n",
      "top3 = 0.23929554210236653\n",
      "top4 = 0.2572372041827188\n",
      "top5 = 0.2774903687396808\n",
      "top6 = 0.29862410566868464\n",
      "top7 = 0.31964777105118325\n",
      "top8 = 0.3403412217941662\n",
      "top9 = 0.3649972482113374\n",
      "top10 = 0.39020363236103467\n",
      "top11 = 0.41563015960374244\n",
      "top12 = 0.4434782608695652\n",
      "top13 = 0.4745184369840396\n",
      "top14 = 0.5079801871216291\n",
      "top15 = 0.5404512933406714\n",
      "top16 = 0.5771051183269125\n",
      "top17 = 0.6165107319757842\n",
      "top18 = 0.6595487066593285\n",
      "top19 = 0.7025866813428728\n",
      "top20 = 0.7476059438635113\n",
      "top21 = 0.7910842047330765\n",
      "top22 = 0.8309301045679692\n",
      "top23 = 0.8728673637864612\n",
      "top24 = 0.9093010456796918\n",
      "top25 = 0.9482663731425427\n",
      "top26 = 1.0\n"
     ]
    }
   ],
   "source": [
    "show_rank_metrics(\n",
    "    df_group=pd.DataFrame(data=test['group'].tolist(), columns=['group']),\n",
    "    df_proba=pd.DataFrame(data=clf_ridge.predict_proba(X_test)[:,1].tolist(), columns=['proba']),\n",
    "    df_true=pd.DataFrame(data=y_test.tolist(), columns=['correct'])\n",
    ")"
   ],
   "metadata": {
    "collapsed": false,
    "pycharm": {
     "name": "#%%\n"
    }
   }
  },
  {
   "cell_type": "code",
   "execution_count": 15,
   "outputs": [
    {
     "name": "stdout",
     "output_type": "stream",
     "text": [
      "#########################################################\n"
     ]
    }
   ],
   "source": [
    "print('#########################################################')"
   ],
   "metadata": {
    "collapsed": false,
    "pycharm": {
     "name": "#%%\n"
    }
   }
  },
  {
   "cell_type": "code",
   "execution_count": 2,
   "outputs": [],
   "source": [
    "train = pd.read_pickle(dataset_folder+'df_train_intr_s')\n",
    "y_train = train['correct']\n",
    "X_train = train.drop(columns=['group', 'correct'])\n",
    "\n",
    "test = pd.read_pickle(dataset_folder+'df_test_intr_s')\n",
    "y_test = test['correct']\n",
    "X_test = test.drop(columns=['group', 'correct'])\n",
    "\n",
    "valid = pd.read_pickle(dataset_folder+'df_valid_intr_s')\n",
    "y_valid = valid['correct']\n",
    "X_valid = valid.drop(columns=['group', 'correct'])"
   ],
   "metadata": {
    "collapsed": false,
    "pycharm": {
     "name": "#%%\n"
    }
   }
  },
  {
   "cell_type": "code",
   "execution_count": 3,
   "outputs": [],
   "source": [
    "xs = X_train.iloc[:10 ** 5, :]\n",
    "ys = y_train.iloc[:10 ** 5]"
   ],
   "metadata": {
    "collapsed": false,
    "pycharm": {
     "name": "#%%\n"
    }
   }
  },
  {
   "cell_type": "code",
   "execution_count": 4,
   "outputs": [],
   "source": [
    "clf_bern = MultinomialNB().fit(X_train, y_train)"
   ],
   "metadata": {
    "collapsed": false,
    "pycharm": {
     "name": "#%%\n"
    }
   }
  },
  {
   "cell_type": "code",
   "execution_count": 5,
   "outputs": [
    {
     "name": "stdout",
     "output_type": "stream",
     "text": [
      "\n",
      "------test-------\n",
      "(227344, 3)\n",
      "\n",
      "mean = 7.147072278133577\n",
      "\n",
      "top0 = 0.0\n",
      "top1 = 0.34297804208600186\n",
      "top2 = 0.42554894784995423\n",
      "top3 = 0.4839890210430009\n",
      "top4 = 0.532708142726441\n",
      "top5 = 0.5713632204940531\n",
      "top6 = 0.6039569990850869\n",
      "top7 = 0.6364364135407137\n",
      "top8 = 0.660224153705398\n",
      "top9 = 0.6841262580054894\n",
      "top10 = 0.7079139981701739\n",
      "top11 = 0.7303293687099726\n",
      "top12 = 0.752516010978957\n",
      "top13 = 0.7766468435498628\n",
      "top14 = 0.7981473010064044\n",
      "top15 = 0.8231930466605673\n",
      "top16 = 0.848124428179323\n",
      "top17 = 0.8720265324794144\n",
      "top18 = 0.8922689844464776\n",
      "top19 = 0.9143412625800549\n",
      "top20 = 0.9317246111619396\n",
      "top21 = 0.9479643183897529\n",
      "top22 = 0.9615736505032022\n",
      "top23 = 0.9757548032936871\n",
      "top24 = 0.985704483074108\n",
      "top25 = 0.9933668801463861\n",
      "top26 = 1.0\n",
      "\n",
      "\n",
      "------valid-------\n",
      "(121316, 3)\n",
      "\n",
      "mean = 7.439777111015859\n",
      "\n",
      "top0 = 0.0\n",
      "top1 = 0.3154736390912988\n",
      "top2 = 0.3964852121731676\n",
      "top3 = 0.4498499785683669\n",
      "top4 = 0.5015002143163309\n",
      "top5 = 0.543934847835405\n",
      "top6 = 0.5799399914273468\n",
      "top7 = 0.6133733390484355\n",
      "top8 = 0.6433776253750536\n",
      "top9 = 0.6693099014144878\n",
      "top10 = 0.6954564937848264\n",
      "top11 = 0.7175310758679811\n",
      "top12 = 0.7423917702528933\n",
      "top13 = 0.7678954136305186\n",
      "top14 = 0.7921131590227175\n",
      "top15 = 0.8210458636948136\n",
      "top16 = 0.8459065580797257\n",
      "top17 = 0.8724817831118731\n",
      "top18 = 0.8954136305186455\n",
      "top19 = 0.9114873553364766\n",
      "top20 = 0.9288469781397343\n",
      "top21 = 0.9477068152593228\n",
      "top22 = 0.9616373767681097\n",
      "top23 = 0.9729961423060437\n",
      "top24 = 0.9834976425203601\n",
      "top25 = 0.9905700814402058\n",
      "top26 = 1.0\n",
      "\n"
     ]
    }
   ],
   "source": [
    "show_rank_metrics(\n",
    "    df_group=pd.DataFrame(data=test['group'].tolist(), columns=['group']),\n",
    "    df_proba=pd.DataFrame(data=clf_bern.predict_proba(X_test)[:,1].tolist(), columns=['proba']),\n",
    "    df_true=pd.DataFrame(data=y_test.tolist(), columns=['correct']),\n",
    "    label='test'\n",
    ")\n",
    "show_rank_metrics(\n",
    "    df_group=pd.DataFrame(data=valid['group'].tolist(), columns=['group']),\n",
    "    df_proba=pd.DataFrame(data=clf_bern.predict_proba(X_valid)[:,1].tolist(), columns=['proba']),\n",
    "    df_true=pd.DataFrame(data=y_valid.tolist(), columns=['correct']),\n",
    "    label='valid'\n",
    ")"
   ],
   "metadata": {
    "collapsed": false,
    "pycharm": {
     "name": "#%%\n"
    }
   }
  },
  {
   "cell_type": "code",
   "execution_count": 7,
   "outputs": [
    {
     "data": {
      "text/plain": "['clf_bern.dump']"
     },
     "execution_count": 7,
     "metadata": {},
     "output_type": "execute_result"
    }
   ],
   "source": [
    "dump(clf_bern, 'clf_bern.dump')\n",
    "# 51 kb (for 1000 features)"
   ],
   "metadata": {
    "collapsed": false,
    "pycharm": {
     "name": "#%%\n"
    }
   }
  },
  {
   "cell_type": "code",
   "execution_count": null,
   "outputs": [],
   "source": [],
   "metadata": {
    "collapsed": false,
    "pycharm": {
     "name": "#%%\n"
    }
   }
  }
 ],
 "metadata": {
  "kernelspec": {
   "display_name": "Python 3",
   "language": "python",
   "name": "python3"
  },
  "language_info": {
   "codemirror_mode": {
    "name": "ipython",
    "version": 2
   },
   "file_extension": ".py",
   "mimetype": "text/x-python",
   "name": "python",
   "nbconvert_exporter": "python",
   "pygments_lexer": "ipython2",
   "version": "2.7.6"
  }
 },
 "nbformat": 4,
 "nbformat_minor": 0
}