{
 "cells": [
  {
   "cell_type": "code",
   "execution_count": 1,
   "metadata": {
    "collapsed": true,
    "pycharm": {
     "name": "#%%\n"
    }
   },
   "outputs": [],
   "source": [
    "import numpy as np\n",
    "import pandas as pd\n",
    "from sklearn import metrics\n",
    "from sklearn.linear_model import ARDRegression, RidgeClassifier\n",
    "from sklearn.svm import LinearSVR\n",
    "from sklearn.calibration import CalibratedClassifierCV\n",
    "from sklearn.svm import LinearSVC\n",
    "from utils import show_rank_metrics\n",
    "from sklearn.naive_bayes import MultinomialNB, ComplementNB, BernoulliNB\n",
    "from joblib import dump, load\n",
    "from sklearn.linear_model import SGDClassifier\n",
    "dataset_folder='./../dataset/saved/'"
   ]
  },
  {
   "cell_type": "code",
   "execution_count": 2,
   "outputs": [],
   "source": [
    "train = pd.read_pickle(dataset_folder+'train_ohe401_intr2_2k')\n",
    "y_train = train['correct']\n",
    "X_train = train.drop(columns=['group', 'correct'])\n",
    "\n",
    "test = pd.read_pickle(dataset_folder+'test_ohe401_intr2_2k')\n",
    "y_test = test['correct']\n",
    "X_test = test.drop(columns=['group', 'correct'])\n",
    "\n",
    "valid = pd.read_pickle(dataset_folder+'valid_ohe401_intr2_2k')\n",
    "y_valid = valid['correct']\n",
    "X_valid = valid.drop(columns=['group', 'correct'])"
   ],
   "metadata": {
    "collapsed": false,
    "pycharm": {
     "name": "#%%\n"
    }
   }
  },
  {
   "cell_type": "code",
   "execution_count": 3,
   "outputs": [],
   "source": [
    "clf_sgd = SGDClassifier(random_state=0, max_iter=10**5, penalty='elasticnet', n_jobs=4, loss='modified_huber').fit(X_train, y_train)"
   ],
   "metadata": {
    "collapsed": false,
    "pycharm": {
     "name": "#%%\n"
    }
   }
  },
  {
   "cell_type": "code",
   "execution_count": 4,
   "outputs": [
    {
     "name": "stdout",
     "output_type": "stream",
     "text": [
      "\n",
      "------train-------\n",
      "(1023403, 3)\n",
      "\n",
      "mean = 6.687486747644868\n",
      "\n",
      "top0 = 0.0\n",
      "top1 = 0.40602187017235636\n",
      "top2 = 0.5057704540635507\n",
      "top3 = 0.5650804228637204\n",
      "top4 = 0.6098809559870354\n",
      "top5 = 0.6424741768394269\n",
      "top6 = 0.6711901372186714\n",
      "top7 = 0.696816405658377\n",
      "top8 = 0.7195953109381152\n",
      "top9 = 0.7386181201344925\n",
      "top10 = 0.7551570593402599\n",
      "top11 = 0.7718171629358132\n",
      "top12 = 0.7885378487262593\n",
      "top13 = 0.8058946475630812\n",
      "top14 = 0.8235543573743677\n",
      "top15 = 0.8404567897494927\n",
      "top16 = 0.8579953351709932\n",
      "stop 16\n",
      "\n",
      "\n",
      "------test-------\n",
      "(287060, 3)\n",
      "\n",
      "mean = 7.504211663066955\n",
      "\n",
      "top0 = 0.0\n",
      "top1 = 0.3640388768898488\n",
      "top2 = 0.4628509719222462\n",
      "top3 = 0.5241900647948164\n",
      "top4 = 0.5676025917926566\n",
      "top5 = 0.603671706263499\n",
      "top6 = 0.6349892008639308\n",
      "top7 = 0.6603671706263499\n",
      "top8 = 0.6842332613390929\n",
      "top9 = 0.7034557235421166\n",
      "top10 = 0.7230021598272138\n",
      "top11 = 0.7414686825053995\n",
      "top12 = 0.757451403887689\n",
      "top13 = 0.7737580993520519\n",
      "top14 = 0.7938444924406047\n",
      "top15 = 0.8110151187904968\n",
      "top16 = 0.8285097192224622\n",
      "stop 16\n",
      "\n",
      "\n",
      "------valid-------\n",
      "(134354, 3)\n",
      "\n",
      "mean = 197.43069306930693\n",
      "\n",
      "top0 = 0.0\n",
      "top1 = 0.0\n",
      "top2 = 0.06435643564356436\n",
      "top3 = 0.11386138613861387\n",
      "top4 = 0.1782178217821782\n",
      "top5 = 0.1782178217821782\n",
      "top6 = 0.18811881188118812\n",
      "top7 = 0.22277227722772278\n",
      "top8 = 0.23267326732673269\n",
      "top9 = 0.2524752475247525\n",
      "top10 = 0.26732673267326734\n",
      "top11 = 0.27722772277227725\n",
      "top12 = 0.28217821782178215\n",
      "top13 = 0.29207920792079206\n",
      "top14 = 0.297029702970297\n",
      "top15 = 0.30198019801980197\n",
      "top16 = 0.3069306930693069\n",
      "stop 16\n",
      "\n"
     ]
    }
   ],
   "source": [
    "show_rank_metrics(\n",
    "    df_group=pd.DataFrame(data=train['group'].tolist(), columns=['group']),\n",
    "    df_proba=pd.DataFrame(data=clf_sgd.predict_proba(X_train)[:,1].tolist(), columns=['proba']),\n",
    "    df_true=pd.DataFrame(data=y_train.tolist(), columns=['correct']),\n",
    "    label='train'\n",
    ")\n",
    "show_rank_metrics(\n",
    "    df_group=pd.DataFrame(data=test['group'].tolist(), columns=['group']),\n",
    "    df_proba=pd.DataFrame(data=clf_sgd.predict_proba(X_test)[:,1].tolist(), columns=['proba']),\n",
    "    df_true=pd.DataFrame(data=y_test.tolist(), columns=['correct']),\n",
    "    label='test'\n",
    ")\n",
    "show_rank_metrics(\n",
    "    df_group=pd.DataFrame(data=valid['group'].tolist(), columns=['group']),\n",
    "    df_proba=pd.DataFrame(data=clf_sgd.predict_proba(X_valid)[:,1].tolist(), columns=['proba']),\n",
    "    df_true=pd.DataFrame(data=y_valid.tolist(), columns=['correct']),\n",
    "    label='valid'\n",
    ")"
   ],
   "metadata": {
    "collapsed": false,
    "pycharm": {
     "name": "#%%\n"
    }
   }
  },
  {
   "cell_type": "code",
   "execution_count": 5,
   "outputs": [
    {
     "data": {
      "text/plain": "['saved/clf_sgd']"
     },
     "execution_count": 5,
     "metadata": {},
     "output_type": "execute_result"
    }
   ],
   "source": [
    "dump(clf_sgd, 'saved/clf_sgd')\n",
    "# 82"
   ],
   "metadata": {
    "collapsed": false,
    "pycharm": {
     "name": "#%%\n"
    }
   }
  },
  {
   "cell_type": "code",
   "execution_count": 5,
   "outputs": [],
   "source": [],
   "metadata": {
    "collapsed": false,
    "pycharm": {
     "name": "#%%\n"
    }
   }
  },
  {
   "cell_type": "code",
   "execution_count": 5,
   "outputs": [],
   "source": [],
   "metadata": {
    "collapsed": false,
    "pycharm": {
     "name": "#%%\n"
    }
   }
  }
 ],
 "metadata": {
  "kernelspec": {
   "display_name": "Python 3",
   "language": "python",
   "name": "python3"
  },
  "language_info": {
   "codemirror_mode": {
    "name": "ipython",
    "version": 2
   },
   "file_extension": ".py",
   "mimetype": "text/x-python",
   "name": "python",
   "nbconvert_exporter": "python",
   "pygments_lexer": "ipython2",
   "version": "2.7.6"
  }
 },
 "nbformat": 4,
 "nbformat_minor": 0
}