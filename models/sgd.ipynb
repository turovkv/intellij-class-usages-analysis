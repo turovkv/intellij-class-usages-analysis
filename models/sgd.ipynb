{
 "cells": [
  {
   "cell_type": "code",
   "execution_count": 1,
   "metadata": {
    "collapsed": true,
    "pycharm": {
     "name": "#%%\n"
    }
   },
   "outputs": [],
   "source": [
    "import numpy as np\n",
    "import pandas as pd\n",
    "from sklearn import metrics\n",
    "from sklearn.linear_model import ARDRegression, RidgeClassifier\n",
    "from sklearn.svm import LinearSVR\n",
    "from sklearn.calibration import CalibratedClassifierCV\n",
    "from sklearn.svm import LinearSVC\n",
    "from utils import show_rank_metrics\n",
    "from sklearn.naive_bayes import MultinomialNB, ComplementNB, BernoulliNB\n",
    "from joblib import dump, load\n",
    "from sklearn.linear_model import SGDClassifier\n",
    "dataset_folder='./../dataset/saved/'"
   ]
  },
  {
   "cell_type": "code",
   "execution_count": 2,
   "outputs": [],
   "source": [
    "train = pd.read_pickle(dataset_folder+'train_ohe401_intr2_2k')\n",
    "y_train = train['correct']\n",
    "X_train = train.drop(columns=['group', 'correct'])\n",
    "\n",
    "test = pd.read_pickle(dataset_folder+'test_ohe401_intr2_2k')\n",
    "y_test = test['correct']\n",
    "X_test = test.drop(columns=['group', 'correct'])\n",
    "\n",
    "valid = pd.read_pickle(dataset_folder+'valid_ohe401_intr2_2k')\n",
    "y_valid = valid['correct']\n",
    "X_valid = valid.drop(columns=['group', 'correct'])"
   ],
   "metadata": {
    "collapsed": false,
    "pycharm": {
     "name": "#%%\n"
    }
   }
  },
  {
   "cell_type": "code",
   "execution_count": 18,
   "outputs": [],
   "source": [
    "clf_sgd = SGDClassifier(random_state=0, max_iter=10**5, penalty='elasticnet', n_jobs=4, loss='modified_huber').fit(X_train, y_train)"
   ],
   "metadata": {
    "collapsed": false,
    "pycharm": {
     "name": "#%%\n"
    }
   }
  },
  {
   "cell_type": "code",
   "execution_count": 19,
   "outputs": [
    {
     "name": "stdout",
     "output_type": "stream",
     "text": [
      "\n",
      "------train-------\n",
      "(269316, 3)\n",
      "\n",
      "mean = 3.27730249966582\n",
      "\n",
      "top0 = 0.0\n",
      "top1 = 0.480517310519984\n",
      "top2 = 0.5838123245555407\n",
      "top3 = 0.642561154925812\n",
      "top4 = 0.6915853495521989\n",
      "top5 = 0.7397072583879161\n",
      "top6 = 0.7968520251303302\n",
      "top7 = 0.8610814062291138\n",
      "top8 = 0.9265806710332843\n",
      "top9 = 1.0\n",
      "\n",
      "\n",
      "------test-------\n",
      "(221754, 3)\n",
      "\n",
      "mean = 8.805604408488685\n",
      "\n",
      "top0 = 0.0\n",
      "top1 = 0.34071989682260523\n",
      "top2 = 0.4234963067182554\n",
      "top3 = 0.47696095673584243\n",
      "top4 = 0.5137765271426896\n",
      "top5 = 0.5419158166256302\n",
      "top6 = 0.5612615781451519\n",
      "top7 = 0.580841833743698\n",
      "top8 = 0.5988978778285848\n",
      "top9 = 0.6161331926368859\n",
      "top10 = 0.6318442959315277\n",
      "top11 = 0.6479071403447063\n",
      "top12 = 0.6626802673232501\n",
      "top13 = 0.6812052995661859\n",
      "top14 = 0.7003165670066831\n",
      "top15 = 0.7186071051705945\n",
      "top16 = 0.7379528666901161\n",
      "top17 = 0.7614022745925665\n",
      "top18 = 0.7855551647320905\n",
      "top19 = 0.8107632782272247\n",
      "top20 = 0.8370266150779693\n",
      "top21 = 0.8630554578496893\n",
      "top22 = 0.8894360417399461\n",
      "top23 = 0.9147614022745926\n",
      "top24 = 0.9376245749794818\n",
      "top25 = 0.9602532536053464\n",
      "top26 = 1.0\n",
      "\n",
      "\n",
      "------valid-------\n",
      "(117338, 3)\n",
      "\n",
      "mean = 8.295368934190117\n",
      "\n",
      "top0 = 0.0\n",
      "top1 = 0.35719033902060715\n",
      "top2 = 0.4431641923332595\n",
      "top3 = 0.4925769997784179\n",
      "top4 = 0.533791269665411\n",
      "top5 = 0.5641480168402393\n",
      "top6 = 0.5896299578994018\n",
      "top7 = 0.6122313317083979\n",
      "top8 = 0.6284068247285619\n",
      "top9 = 0.6483492133835586\n",
      "top10 = 0.6638599601152226\n",
      "top11 = 0.6795922889430533\n",
      "top12 = 0.6920008863283846\n",
      "top13 = 0.7052958120983824\n",
      "top14 = 0.7208065588300465\n",
      "top15 = 0.7376467981387104\n",
      "top16 = 0.7584755151783736\n",
      "top17 = 0.7812984710835364\n",
      "top18 = 0.8043430090848659\n",
      "top19 = 0.8293817859516951\n",
      "top20 = 0.8528694881453579\n",
      "top21 = 0.876135608242854\n",
      "top22 = 0.9018391313981831\n",
      "top23 = 0.9248836693995125\n",
      "top24 = 0.9446044759583425\n",
      "top25 = 0.9621094615555064\n",
      "top26 = 1.0\n",
      "\n"
     ]
    }
   ],
   "source": [
    "show_rank_metrics(\n",
    "    df_group=pd.DataFrame(data=train['group'].tolist(), columns=['group']),\n",
    "    df_proba=pd.DataFrame(data=clf_sgd.predict_proba(X_train)[:,1].tolist(), columns=['proba']),\n",
    "    df_true=pd.DataFrame(data=y_train.tolist(), columns=['correct']),\n",
    "    label='train'\n",
    ")\n",
    "show_rank_metrics(\n",
    "    df_group=pd.DataFrame(data=test['group'].tolist(), columns=['group']),\n",
    "    df_proba=pd.DataFrame(data=clf_sgd.predict_proba(X_test)[:,1].tolist(), columns=['proba']),\n",
    "    df_true=pd.DataFrame(data=y_test.tolist(), columns=['correct']),\n",
    "    label='test'\n",
    ")\n",
    "show_rank_metrics(\n",
    "    df_group=pd.DataFrame(data=valid['group'].tolist(), columns=['group']),\n",
    "    df_proba=pd.DataFrame(data=clf_sgd.predict_proba(X_valid)[:,1].tolist(), columns=['proba']),\n",
    "    df_true=pd.DataFrame(data=y_valid.tolist(), columns=['correct']),\n",
    "    label='valid'\n",
    ")"
   ],
   "metadata": {
    "collapsed": false,
    "pycharm": {
     "name": "#%%\n"
    }
   }
  },
  {
   "cell_type": "code",
   "execution_count": 20,
   "outputs": [
    {
     "data": {
      "text/plain": "['saved/clf_sgd']"
     },
     "execution_count": 20,
     "metadata": {},
     "output_type": "execute_result"
    }
   ],
   "source": [
    "dump(clf_sgd, 'saved/clf_sgd')\n",
    "# 82"
   ],
   "metadata": {
    "collapsed": false,
    "pycharm": {
     "name": "#%%\n"
    }
   }
  },
  {
   "cell_type": "code",
   "execution_count": 12,
   "outputs": [],
   "source": [],
   "metadata": {
    "collapsed": false,
    "pycharm": {
     "name": "#%%\n"
    }
   }
  },
  {
   "cell_type": "code",
   "execution_count": null,
   "outputs": [],
   "source": [],
   "metadata": {
    "collapsed": false,
    "pycharm": {
     "name": "#%%\n"
    }
   }
  }
 ],
 "metadata": {
  "kernelspec": {
   "display_name": "Python 3",
   "language": "python",
   "name": "python3"
  },
  "language_info": {
   "codemirror_mode": {
    "name": "ipython",
    "version": 2
   },
   "file_extension": ".py",
   "mimetype": "text/x-python",
   "name": "python",
   "nbconvert_exporter": "python",
   "pygments_lexer": "ipython2",
   "version": "2.7.6"
  }
 },
 "nbformat": 4,
 "nbformat_minor": 0
}