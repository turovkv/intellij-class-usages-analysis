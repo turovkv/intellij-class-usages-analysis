{
 "cells": [
  {
   "cell_type": "code",
   "execution_count": 1,
   "outputs": [],
   "source": [
    "from catboost import CatBoostClassifier\n",
    "import numpy as np\n",
    "import pandas as pd\n",
    "from sklearn import metrics\n",
    "from sklearn.linear_model import LogisticRegression\n",
    "from sklearn.linear_model import LogisticRegressionCV\n"
   ],
   "metadata": {
    "collapsed": false,
    "pycharm": {
     "name": "#%%\n"
    }
   }
  },
  {
   "cell_type": "code",
   "execution_count": 2,
   "outputs": [],
   "source": [
    "train = pd.read_csv('train.csv', index_col=0).sample(frac=1)\n",
    "y_train = train['correct']\n",
    "X_train = train.drop(columns=['name', 'firstChar', 'group', 'correct'])\n",
    "\n",
    "test = pd.read_csv('test.csv', index_col=0).sample(frac=1)\n",
    "y_test = test['correct']\n",
    "X_test = test.drop(columns=['name', 'firstChar', 'group', 'correct'])"
   ],
   "metadata": {
    "collapsed": false,
    "pycharm": {
     "name": "#%%\n"
    }
   }
  },
  {
   "cell_type": "code",
   "execution_count": 3,
   "outputs": [],
   "source": [
    "def show_rank_metrics(df_group: pd.DataFrame, df_proba: pd.DataFrame, df_true: pd.DataFrame):\n",
    "    df_metric = pd.concat([df_group, df_proba, df_true], axis=1)\n",
    "    df_metric = df_metric.sort_values(by=['group', 'proba', 'correct'], ascending=[True, False, True])\n",
    "    print(df_metric.shape)\n",
    "    positions = []\n",
    "    cur_group = -1\n",
    "    cur_pos = 1\n",
    "    for row in df_metric.itertuples():\n",
    "        cur_pos += 1\n",
    "        if row.group != cur_group:\n",
    "            cur_pos = 1\n",
    "            cur_group = row.group\n",
    "        if row.correct == 1:\n",
    "            positions.append(cur_pos)\n",
    "    print(f'\\nmean = {np.mean(positions)}\\n')\n",
    "\n",
    "    count = [0] * (max(positions) + 1)\n",
    "    for p in positions:\n",
    "        count[p] += 1\n",
    "    acc = 0\n",
    "    sum_all = sum(count)\n",
    "    for i, c in enumerate(count):\n",
    "        acc += c\n",
    "        print(f'top{i} = {acc / sum_all}')"
   ],
   "metadata": {
    "collapsed": false,
    "pycharm": {
     "name": "#%%\n"
    }
   }
  },
  {
   "cell_type": "code",
   "execution_count": 4,
   "outputs": [
    {
     "data": {
      "text/plain": "<catboost.core.CatBoostClassifier at 0x7ff5eef8dd00>"
     },
     "execution_count": 4,
     "metadata": {},
     "output_type": "execute_result"
    }
   ],
   "source": [
    "# Initialize CatBoostClassifier\n",
    "model = CatBoostClassifier(verbose=False, random_seed=0)\n",
    "model.fit(X_train, y_train)"
   ],
   "metadata": {
    "collapsed": false,
    "pycharm": {
     "name": "#%%\n"
    }
   }
  },
  {
   "cell_type": "code",
   "execution_count": 5,
   "outputs": [],
   "source": [
    "#model.predict_proba(X_test)"
   ],
   "metadata": {
    "collapsed": false,
    "pycharm": {
     "name": "#%%\n"
    }
   }
  },
  {
   "cell_type": "code",
   "execution_count": 9,
   "outputs": [
    {
     "name": "stdout",
     "output_type": "stream",
     "text": [
      "(271557, 3)\n",
      "\n",
      "mean = 1.9128691213999272\n",
      "\n",
      "top0 = 0.0\n",
      "top1 = 0.6564809597984953\n",
      "top2 = 0.7733072614589203\n",
      "top3 = 0.8503960494481821\n",
      "top4 = 0.9056772611274981\n",
      "top5 = 0.945017068239817\n",
      "top6 = 0.971928545388261\n",
      "top7 = 0.987803665528784\n",
      "top8 = 0.996520067610115\n",
      "top9 = 1.0\n"
     ]
    }
   ],
   "source": [
    "show_rank_metrics(\n",
    "    df_group=pd.DataFrame(data=train['group'].tolist(), columns=['group']),\n",
    "    df_proba=pd.DataFrame(data=model.predict_proba(X_train)[:,1], columns=['proba']),\n",
    "    df_true=pd.DataFrame(data=y_train.tolist(), columns=['correct'])\n",
    ")"
   ],
   "metadata": {
    "collapsed": false,
    "pycharm": {
     "name": "#%%\n"
    }
   }
  },
  {
   "cell_type": "code",
   "execution_count": 6,
   "outputs": [
    {
     "name": "stdout",
     "output_type": "stream",
     "text": [
      "(218764, 3)\n",
      "\n",
      "mean = 4.780841454718327\n",
      "\n",
      "top0 = 0.0\n",
      "top1 = 0.4518659377228429\n",
      "top2 = 0.5508676016163537\n",
      "top3 = 0.6082719277394818\n",
      "top4 = 0.6486807701449965\n",
      "top5 = 0.6914666032802472\n",
      "top6 = 0.7262895174708819\n",
      "top7 = 0.7599239362966485\n",
      "top8 = 0.7899928690278107\n",
      "top9 = 0.8163774661278821\n",
      "top10 = 0.8406227715711909\n",
      "top11 = 0.8645115284050392\n",
      "top12 = 0.885072498217257\n",
      "top13 = 0.9032564772997386\n",
      "top14 = 0.9204896600903256\n",
      "top15 = 0.9364154979795579\n",
      "top16 = 0.9506774423579748\n",
      "top17 = 0.9619681483242215\n",
      "top18 = 0.9711195626337057\n",
      "top19 = 0.9792013311148087\n",
      "top20 = 0.9853815070121227\n",
      "top21 = 0.990729736154029\n",
      "top22 = 0.993225576420252\n",
      "top23 = 0.9953648680770145\n",
      "top24 = 0.998098407416211\n",
      "top25 = 0.9992869027810791\n",
      "top26 = 1.0\n"
     ]
    }
   ],
   "source": [
    "show_rank_metrics(\n",
    "    df_group=pd.DataFrame(data=test['group'].tolist(), columns=['group']),\n",
    "    df_proba=pd.DataFrame(data=model.predict_proba(X_test)[:,1], columns=['proba']),\n",
    "    df_true=pd.DataFrame(data=y_test.tolist(), columns=['correct'])\n",
    ")"
   ],
   "metadata": {
    "collapsed": false,
    "pycharm": {
     "name": "#%%\n"
    }
   }
  },
  {
   "cell_type": "code",
   "execution_count": null,
   "outputs": [],
   "source": [],
   "metadata": {
    "collapsed": false,
    "pycharm": {
     "name": "#%%\n"
    }
   }
  },
  {
   "cell_type": "code",
   "execution_count": 12,
   "outputs": [
    {
     "data": {
      "text/plain": "                        Feature Id  Importances\n0                       name_Event     9.254786\n1         referenceType_REFERENCE_     7.239060\n2                        name_Keys     7.038075\n3                        name_Util     6.866616\n4               referenceType_TYPE     5.247700\n..                             ...          ...\n407        insideStatement1_switch     0.000000\n408  insideStatement1_ternary_else     0.000000\n409  insideStatement1_ternary_then     0.000000\n410    insideStatement1_while_body     0.000000\n411  insideStatement2_if_condition     0.000000\n\n[412 rows x 2 columns]",
      "text/html": "<div>\n<style scoped>\n    .dataframe tbody tr th:only-of-type {\n        vertical-align: middle;\n    }\n\n    .dataframe tbody tr th {\n        vertical-align: top;\n    }\n\n    .dataframe thead th {\n        text-align: right;\n    }\n</style>\n<table border=\"1\" class=\"dataframe\">\n  <thead>\n    <tr style=\"text-align: right;\">\n      <th></th>\n      <th>Feature Id</th>\n      <th>Importances</th>\n    </tr>\n  </thead>\n  <tbody>\n    <tr>\n      <th>0</th>\n      <td>name_Event</td>\n      <td>9.254786</td>\n    </tr>\n    <tr>\n      <th>1</th>\n      <td>referenceType_REFERENCE_</td>\n      <td>7.239060</td>\n    </tr>\n    <tr>\n      <th>2</th>\n      <td>name_Keys</td>\n      <td>7.038075</td>\n    </tr>\n    <tr>\n      <th>3</th>\n      <td>name_Util</td>\n      <td>6.866616</td>\n    </tr>\n    <tr>\n      <th>4</th>\n      <td>referenceType_TYPE</td>\n      <td>5.247700</td>\n    </tr>\n    <tr>\n      <th>...</th>\n      <td>...</td>\n      <td>...</td>\n    </tr>\n    <tr>\n      <th>407</th>\n      <td>insideStatement1_switch</td>\n      <td>0.000000</td>\n    </tr>\n    <tr>\n      <th>408</th>\n      <td>insideStatement1_ternary_else</td>\n      <td>0.000000</td>\n    </tr>\n    <tr>\n      <th>409</th>\n      <td>insideStatement1_ternary_then</td>\n      <td>0.000000</td>\n    </tr>\n    <tr>\n      <th>410</th>\n      <td>insideStatement1_while_body</td>\n      <td>0.000000</td>\n    </tr>\n    <tr>\n      <th>411</th>\n      <td>insideStatement2_if_condition</td>\n      <td>0.000000</td>\n    </tr>\n  </tbody>\n</table>\n<p>412 rows × 2 columns</p>\n</div>"
     },
     "execution_count": 12,
     "metadata": {},
     "output_type": "execute_result"
    }
   ],
   "source": [
    "model.get_feature_importance(prettified=True)"
   ],
   "metadata": {
    "collapsed": false,
    "pycharm": {
     "name": "#%%\n"
    }
   }
  },
  {
   "cell_type": "code",
   "execution_count": 8,
   "outputs": [],
   "source": [
    "model.save_model(\"kek\")"
   ],
   "metadata": {
    "collapsed": false,
    "pycharm": {
     "name": "#%%\n"
    }
   }
  },
  {
   "cell_type": "code",
   "execution_count": 8,
   "outputs": [],
   "source": [],
   "metadata": {
    "collapsed": false,
    "pycharm": {
     "name": "#%%\n"
    }
   }
  }
 ],
 "metadata": {
  "kernelspec": {
   "display_name": "Python 3",
   "language": "python",
   "name": "python3"
  },
  "language_info": {
   "codemirror_mode": {
    "name": "ipython",
    "version": 2
   },
   "file_extension": ".py",
   "mimetype": "text/x-python",
   "name": "python",
   "nbconvert_exporter": "python",
   "pygments_lexer": "ipython2",
   "version": "2.7.6"
  }
 },
 "nbformat": 4,
 "nbformat_minor": 0
}