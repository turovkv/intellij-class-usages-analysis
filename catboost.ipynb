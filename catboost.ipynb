{
 "cells": [
  {
   "cell_type": "code",
   "execution_count": 1,
   "outputs": [],
   "source": [
    "from catboost import CatBoostClassifier\n",
    "import numpy as np\n",
    "import pandas as pd\n",
    "from sklearn import metrics\n",
    "from sklearn.linear_model import LogisticRegression\n",
    "from sklearn.linear_model import LogisticRegressionCV\n"
   ],
   "metadata": {
    "collapsed": false,
    "pycharm": {
     "name": "#%%\n"
    }
   }
  },
  {
   "cell_type": "code",
   "execution_count": 2,
   "outputs": [],
   "source": [
    "train = pd.read_csv('train.csv', index_col=0).sample(frac=1)\n",
    "y_train = train['correct']\n",
    "X_train = train.drop(columns=['name', 'firstChar', 'group', 'correct'])\n",
    "\n",
    "test = pd.read_csv('test.csv', index_col=0).sample(frac=1)\n",
    "y_test = test['correct']\n",
    "X_test = test.drop(columns=['name', 'firstChar', 'group', 'correct'])"
   ],
   "metadata": {
    "collapsed": false,
    "pycharm": {
     "name": "#%%\n"
    }
   }
  },
  {
   "cell_type": "code",
   "execution_count": 3,
   "outputs": [],
   "source": [
    "def show_rank_metrics(df_group: pd.DataFrame, df_proba: pd.DataFrame, df_true: pd.DataFrame):\n",
    "    df_metric = pd.concat([df_group, df_proba, df_true], axis=1)\n",
    "    df_metric = df_metric.sort_values(by=['group', 'proba', 'correct'], ascending=[True, False, True])\n",
    "    print(df_metric.shape)\n",
    "    positions = []\n",
    "    cur_group = -1\n",
    "    cur_pos = 1\n",
    "    for row in df_metric.itertuples():\n",
    "        cur_pos += 1\n",
    "        if row.group != cur_group:\n",
    "            cur_pos = 1\n",
    "            cur_group = row.group\n",
    "        if row.correct == 1:\n",
    "            positions.append(cur_pos)\n",
    "    print(f'\\nmean = {np.mean(positions)}\\n')\n",
    "\n",
    "    count = [0] * 9\n",
    "    for p in positions:\n",
    "        count[p] += 1\n",
    "    acc = 0\n",
    "    sum_all = sum(count)\n",
    "    for i, c in enumerate(count):\n",
    "        acc += c\n",
    "        print(f'top{i} = {acc / sum_all}')"
   ],
   "metadata": {
    "collapsed": false,
    "pycharm": {
     "name": "#%%\n"
    }
   }
  },
  {
   "cell_type": "code",
   "execution_count": 4,
   "outputs": [
    {
     "data": {
      "text/plain": "<catboost.core.CatBoostClassifier at 0x7fb7d56a2280>"
     },
     "execution_count": 4,
     "metadata": {},
     "output_type": "execute_result"
    }
   ],
   "source": [
    "# Initialize CatBoostClassifier\n",
    "model = CatBoostClassifier(verbose=False)\n",
    "model.fit(X_train, y_train)"
   ],
   "metadata": {
    "collapsed": false,
    "pycharm": {
     "name": "#%%\n"
    }
   }
  },
  {
   "cell_type": "code",
   "execution_count": 5,
   "outputs": [
    {
     "data": {
      "text/plain": "array([[0.98704528, 0.01295472],\n       [0.99221775, 0.00778225],\n       [0.90575396, 0.09424604],\n       ...,\n       [0.87940448, 0.12059552],\n       [0.97178878, 0.02821122],\n       [0.81845443, 0.18154557]])"
     },
     "execution_count": 5,
     "metadata": {},
     "output_type": "execute_result"
    }
   ],
   "source": [
    "model.predict_proba(X_test)"
   ],
   "metadata": {
    "collapsed": false,
    "pycharm": {
     "name": "#%%\n"
    }
   }
  },
  {
   "cell_type": "code",
   "execution_count": 6,
   "outputs": [
    {
     "name": "stdout",
     "output_type": "stream",
     "text": [
      "(107568, 3)\n",
      "\n",
      "mean = 2.051836977539789\n",
      "\n",
      "top0 = 0.0\n",
      "top1 = 0.5980217164956121\n",
      "top2 = 0.7339729287520452\n",
      "top3 = 0.8222519708463484\n",
      "top4 = 0.8908969210174029\n",
      "top5 = 0.9384947196192176\n",
      "top6 = 0.9729287520452179\n",
      "top7 = 0.9915960136843671\n",
      "top8 = 1.0\n"
     ]
    }
   ],
   "source": [
    "show_rank_metrics(\n",
    "    df_group=pd.DataFrame(data=test['group'].tolist(), columns=['group']),\n",
    "    df_proba=pd.DataFrame(data=model.predict_proba(X_test)[:,1], columns=['proba']),\n",
    "    df_true=pd.DataFrame(data=y_test.tolist(), columns=['correct'])\n",
    ")"
   ],
   "metadata": {
    "collapsed": false,
    "pycharm": {
     "name": "#%%\n"
    }
   }
  },
  {
   "cell_type": "code",
   "execution_count": 7,
   "outputs": [],
   "source": [
    "model.save_model(\"kek\")"
   ],
   "metadata": {
    "collapsed": false,
    "pycharm": {
     "name": "#%%\n"
    }
   }
  },
  {
   "cell_type": "code",
   "execution_count": null,
   "outputs": [],
   "source": [],
   "metadata": {
    "collapsed": false,
    "pycharm": {
     "name": "#%%\n"
    }
   }
  }
 ],
 "metadata": {
  "kernelspec": {
   "display_name": "Python 3",
   "language": "python",
   "name": "python3"
  },
  "language_info": {
   "codemirror_mode": {
    "name": "ipython",
    "version": 2
   },
   "file_extension": ".py",
   "mimetype": "text/x-python",
   "name": "python",
   "nbconvert_exporter": "python",
   "pygments_lexer": "ipython2",
   "version": "2.7.6"
  }
 },
 "nbformat": 4,
 "nbformat_minor": 0
}