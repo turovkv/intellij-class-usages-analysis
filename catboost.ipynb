{
 "cells": [
  {
   "cell_type": "code",
   "execution_count": 1,
   "outputs": [],
   "source": [
    "from catboost import CatBoostClassifier\n",
    "import numpy as np\n",
    "import pandas as pd\n",
    "from sklearn import metrics\n",
    "from sklearn.linear_model import LogisticRegression\n",
    "from sklearn.linear_model import LogisticRegressionCV\n",
    "from utils import show_rank_metrics\n"
   ],
   "metadata": {
    "collapsed": false,
    "pycharm": {
     "name": "#%%\n"
    }
   }
  },
  {
   "cell_type": "code",
   "execution_count": 2,
   "outputs": [],
   "source": [
    "train = pd.read_csv('train.csv', index_col=0).sample(frac=1)\n",
    "y_train = train['correct']\n",
    "X_train = train.drop(columns=['name', 'firstChar', 'group', 'correct'])\n",
    "\n",
    "test = pd.read_csv('test.csv', index_col=0).sample(frac=1)\n",
    "y_test = test['correct']\n",
    "X_test = test.drop(columns=['name', 'firstChar', 'group', 'correct'])"
   ],
   "metadata": {
    "collapsed": false,
    "pycharm": {
     "name": "#%%\n"
    }
   }
  },
  {
   "cell_type": "code",
   "execution_count": 3,
   "outputs": [
    {
     "data": {
      "text/plain": "<catboost.core.CatBoostClassifier at 0x7f623be2b520>"
     },
     "execution_count": 3,
     "metadata": {},
     "output_type": "execute_result"
    }
   ],
   "source": [
    "# Initialize CatBoostClassifier\n",
    "model = CatBoostClassifier(verbose=False, random_seed=0)\n",
    "model.fit(X_train, y_train)"
   ],
   "metadata": {
    "collapsed": false,
    "pycharm": {
     "name": "#%%\n"
    }
   }
  },
  {
   "cell_type": "code",
   "execution_count": 4,
   "outputs": [],
   "source": [
    "#model.predict_proba(X_test)"
   ],
   "metadata": {
    "collapsed": false,
    "pycharm": {
     "name": "#%%\n"
    }
   }
  },
  {
   "cell_type": "code",
   "execution_count": 5,
   "outputs": [
    {
     "name": "stdout",
     "output_type": "stream",
     "text": [
      "(271557, 3)\n",
      "\n",
      "mean = 1.9084943492526432\n",
      "\n",
      "top0 = 0.0\n",
      "top1 = 0.6577403639015014\n",
      "top2 = 0.7753289364663772\n",
      "top3 = 0.8515560269114771\n",
      "top4 = 0.9061081098995791\n",
      "top5 = 0.944917641600106\n",
      "top6 = 0.9719948298147351\n",
      "top7 = 0.98740595896994\n",
      "top8 = 0.996453783183641\n",
      "top9 = 1.0\n"
     ]
    }
   ],
   "source": [
    "show_rank_metrics(\n",
    "    df_group=pd.DataFrame(data=train['group'].tolist(), columns=['group']),\n",
    "    df_proba=pd.DataFrame(data=model.predict_proba(X_train)[:,1], columns=['proba']),\n",
    "    df_true=pd.DataFrame(data=y_train.tolist(), columns=['correct'])\n",
    ")"
   ],
   "metadata": {
    "collapsed": false,
    "pycharm": {
     "name": "#%%\n"
    }
   }
  },
  {
   "cell_type": "code",
   "execution_count": 6,
   "outputs": [
    {
     "name": "stdout",
     "output_type": "stream",
     "text": [
      "(218764, 3)\n",
      "\n",
      "mean = 4.749702876158783\n",
      "\n",
      "top0 = 0.0\n",
      "top1 = 0.4544806275255526\n",
      "top2 = 0.5533634418825767\n",
      "top3 = 0.6107677680057048\n",
      "top4 = 0.6521274067031139\n",
      "top5 = 0.693487045400523\n",
      "top6 = 0.7279534109816972\n",
      "top7 = 0.7636082719277395\n",
      "top8 = 0.7918944616115997\n",
      "top9 = 0.8191110054670787\n",
      "top10 = 0.8446636558117423\n",
      "top11 = 0.867126218207749\n",
      "top12 = 0.8870929403375327\n",
      "top13 = 0.9038507249821726\n",
      "top14 = 0.9219158545281674\n",
      "top15 = 0.9364154979795579\n",
      "top16 = 0.9491323983836463\n",
      "top17 = 0.9620869978607084\n",
      "top18 = 0.9708818635607321\n",
      "top19 = 0.978963632041835\n",
      "top20 = 0.9840741621107678\n",
      "top21 = 0.9897789398621345\n",
      "top22 = 0.9934632754932256\n",
      "top23 = 0.9965533634418826\n",
      "top24 = 0.9983361064891847\n",
      "top25 = 0.9991680532445923\n",
      "top26 = 1.0\n"
     ]
    }
   ],
   "source": [
    "show_rank_metrics(\n",
    "    df_group=pd.DataFrame(data=test['group'].tolist(), columns=['group']),\n",
    "    df_proba=pd.DataFrame(data=model.predict_proba(X_test)[:,1], columns=['proba']),\n",
    "    df_true=pd.DataFrame(data=y_test.tolist(), columns=['correct'])\n",
    ")"
   ],
   "metadata": {
    "collapsed": false,
    "pycharm": {
     "name": "#%%\n"
    }
   }
  },
  {
   "cell_type": "code",
   "execution_count": 6,
   "outputs": [],
   "source": [],
   "metadata": {
    "collapsed": false,
    "pycharm": {
     "name": "#%%\n"
    }
   }
  },
  {
   "cell_type": "code",
   "execution_count": 7,
   "outputs": [
    {
     "data": {
      "text/plain": "                        Feature Id  Importances\n0                       name_Event     9.299591\n1         referenceType_REFERENCE_     7.451422\n2                        name_Util     7.045586\n3                        name_Keys     6.760485\n4               referenceType_TYPE     6.164894\n..                             ...          ...\n407        insideStatement1_return     0.000000\n408  insideStatement1_ternary_else     0.000000\n409    insideStatement1_while_body     0.000000\n410  insideStatement2_if_condition     0.000000\n411  insideStatement2_if_else_body     0.000000\n\n[412 rows x 2 columns]",
      "text/html": "<div>\n<style scoped>\n    .dataframe tbody tr th:only-of-type {\n        vertical-align: middle;\n    }\n\n    .dataframe tbody tr th {\n        vertical-align: top;\n    }\n\n    .dataframe thead th {\n        text-align: right;\n    }\n</style>\n<table border=\"1\" class=\"dataframe\">\n  <thead>\n    <tr style=\"text-align: right;\">\n      <th></th>\n      <th>Feature Id</th>\n      <th>Importances</th>\n    </tr>\n  </thead>\n  <tbody>\n    <tr>\n      <th>0</th>\n      <td>name_Event</td>\n      <td>9.299591</td>\n    </tr>\n    <tr>\n      <th>1</th>\n      <td>referenceType_REFERENCE_</td>\n      <td>7.451422</td>\n    </tr>\n    <tr>\n      <th>2</th>\n      <td>name_Util</td>\n      <td>7.045586</td>\n    </tr>\n    <tr>\n      <th>3</th>\n      <td>name_Keys</td>\n      <td>6.760485</td>\n    </tr>\n    <tr>\n      <th>4</th>\n      <td>referenceType_TYPE</td>\n      <td>6.164894</td>\n    </tr>\n    <tr>\n      <th>...</th>\n      <td>...</td>\n      <td>...</td>\n    </tr>\n    <tr>\n      <th>407</th>\n      <td>insideStatement1_return</td>\n      <td>0.000000</td>\n    </tr>\n    <tr>\n      <th>408</th>\n      <td>insideStatement1_ternary_else</td>\n      <td>0.000000</td>\n    </tr>\n    <tr>\n      <th>409</th>\n      <td>insideStatement1_while_body</td>\n      <td>0.000000</td>\n    </tr>\n    <tr>\n      <th>410</th>\n      <td>insideStatement2_if_condition</td>\n      <td>0.000000</td>\n    </tr>\n    <tr>\n      <th>411</th>\n      <td>insideStatement2_if_else_body</td>\n      <td>0.000000</td>\n    </tr>\n  </tbody>\n</table>\n<p>412 rows × 2 columns</p>\n</div>"
     },
     "execution_count": 7,
     "metadata": {},
     "output_type": "execute_result"
    }
   ],
   "source": [
    "model.get_feature_importance(prettified=True)"
   ],
   "metadata": {
    "collapsed": false,
    "pycharm": {
     "name": "#%%\n"
    }
   }
  },
  {
   "cell_type": "code",
   "execution_count": 8,
   "outputs": [],
   "source": [
    "model.save_model(\"kek\")"
   ],
   "metadata": {
    "collapsed": false,
    "pycharm": {
     "name": "#%%\n"
    }
   }
  },
  {
   "cell_type": "code",
   "execution_count": 8,
   "outputs": [],
   "source": [],
   "metadata": {
    "collapsed": false,
    "pycharm": {
     "name": "#%%\n"
    }
   }
  }
 ],
 "metadata": {
  "kernelspec": {
   "display_name": "Python 3",
   "language": "python",
   "name": "python3"
  },
  "language_info": {
   "codemirror_mode": {
    "name": "ipython",
    "version": 2
   },
   "file_extension": ".py",
   "mimetype": "text/x-python",
   "name": "python",
   "nbconvert_exporter": "python",
   "pygments_lexer": "ipython2",
   "version": "2.7.6"
  }
 },
 "nbformat": 4,
 "nbformat_minor": 0
}