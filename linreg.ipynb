{
 "cells": [
  {
   "cell_type": "code",
   "execution_count": 1,
   "metadata": {
    "collapsed": true,
    "pycharm": {
     "name": "#%%\n"
    }
   },
   "outputs": [],
   "source": [
    "import numpy as np\n",
    "import pandas as pd\n",
    "from sklearn import metrics\n",
    "from sklearn.linear_model import LogisticRegression\n",
    "from sklearn.linear_model import LogisticRegressionCV\n"
   ]
  },
  {
   "cell_type": "code",
   "execution_count": 2,
   "outputs": [],
   "source": [
    "train = pd.read_csv('train.csv', index_col=0).sample(frac=1)\n",
    "y_train = train['correct']\n",
    "X_train = train.drop(columns=['name', 'firstChar', 'group', 'correct'])\n",
    "\n",
    "test = pd.read_csv('test.csv', index_col=0).sample(frac=1)\n",
    "y_test = test['correct']\n",
    "X_test = test.drop(columns=['name', 'firstChar', 'group', 'correct'])"
   ],
   "metadata": {
    "collapsed": false,
    "pycharm": {
     "name": "#%%\n"
    }
   }
  },
  {
   "cell_type": "code",
   "execution_count": 3,
   "outputs": [],
   "source": [
    "def show_rank_metrics(df_group: pd.DataFrame, df_proba: pd.DataFrame, df_true: pd.DataFrame):\n",
    "    df_metric = pd.concat([df_group, df_proba, df_true], axis=1)\n",
    "    df_metric = df_metric.sort_values(by=['group', 'proba', 'correct'], ascending=[True, False, True])\n",
    "    print(df_metric.shape)\n",
    "    positions = []\n",
    "    cur_group = -1\n",
    "    cur_pos = 1\n",
    "    for row in df_metric.itertuples():\n",
    "        cur_pos += 1\n",
    "        if row.group != cur_group:\n",
    "            cur_pos = 1\n",
    "            cur_group = row.group\n",
    "        if row.correct == 1:\n",
    "            positions.append(cur_pos)\n",
    "    print(f'\\nmean = {np.mean(positions)}\\n')\n",
    "\n",
    "    count = [0] * 9\n",
    "    for p in positions:\n",
    "        count[p] += 1\n",
    "    acc = 0\n",
    "    sum_all = sum(count)\n",
    "    for i, c in enumerate(count):\n",
    "        acc += c\n",
    "        print(f'top{i} = {acc / sum_all}')"
   ],
   "metadata": {
    "collapsed": false,
    "pycharm": {
     "name": "#%%\n"
    }
   }
  },
  {
   "cell_type": "code",
   "execution_count": 4,
   "outputs": [],
   "source": [
    "s_tr = X_train.sum()\n",
    "s_te = X_test.sum()"
   ],
   "metadata": {
    "collapsed": false,
    "pycharm": {
     "name": "#%%\n"
    }
   }
  },
  {
   "cell_type": "code",
   "execution_count": 5,
   "outputs": [
    {
     "name": "stdout",
     "output_type": "stream",
     "text": [
      "train median 1.029810298102981 %\n",
      "test median 1.0040160642570282 %\n"
     ]
    }
   ],
   "source": [
    "print(f'train median {s_tr.median() / X_train.shape[0] * 100} %')\n",
    "print(f'test median {s_te.median() / X_test.shape[0] * 100} %')"
   ],
   "metadata": {
    "collapsed": false,
    "pycharm": {
     "name": "#%%\n"
    }
   }
  },
  {
   "cell_type": "code",
   "execution_count": 6,
   "outputs": [],
   "source": [
    "xs = X_train.iloc[:4 * 10 ** 4, :]\n",
    "ys = y_train.iloc[:4 * 10 ** 4]"
   ],
   "metadata": {
    "collapsed": false,
    "pycharm": {
     "name": "#%%\n"
    }
   }
  },
  {
   "cell_type": "code",
   "execution_count": 7,
   "outputs": [],
   "source": [
    "clf = LogisticRegression(random_state=0, C=1e-3, solver='saga', max_iter=10 ** 3, n_jobs=4).fit(xs, ys)"
   ],
   "metadata": {
    "collapsed": false,
    "pycharm": {
     "name": "#%%\n"
    }
   }
  },
  {
   "cell_type": "code",
   "execution_count": 8,
   "outputs": [],
   "source": [
    "#clf.predict_proba(xs)"
   ],
   "metadata": {
    "collapsed": false,
    "pycharm": {
     "name": "#%%\n"
    }
   }
  },
  {
   "cell_type": "code",
   "execution_count": 9,
   "outputs": [],
   "source": [
    "#metrics.plot_roc_curve(clf, X_test, y_test)"
   ],
   "metadata": {
    "collapsed": false,
    "pycharm": {
     "name": "#%%\n"
    }
   }
  },
  {
   "cell_type": "code",
   "execution_count": 10,
   "outputs": [],
   "source": [
    "#metrics.plot_roc_curve(clf, xs, ys)"
   ],
   "metadata": {
    "collapsed": false,
    "pycharm": {
     "name": "#%%\n"
    }
   }
  },
  {
   "cell_type": "code",
   "execution_count": 11,
   "outputs": [
    {
     "name": "stdout",
     "output_type": "stream",
     "text": [
      "(40000, 3)\n",
      "\n",
      "mean = 1.5411908646003263\n",
      "\n",
      "top0 = 0.0\n",
      "top1 = 0.6194942903752039\n",
      "top2 = 0.8696982055464927\n",
      "top3 = 0.9724714518760196\n",
      "top4 = 0.9971451876019576\n",
      "top5 = 1.0\n",
      "top6 = 1.0\n",
      "top7 = 1.0\n",
      "top8 = 1.0\n"
     ]
    }
   ],
   "source": [
    "show_rank_metrics(\n",
    "    df_group=pd.DataFrame(data=train['group'].iloc[:4 * 10 ** 4].tolist(), columns=['group']),\n",
    "    df_proba=pd.DataFrame(data=clf.predict_proba(xs)[:,1], columns=['proba']),\n",
    "    df_true=pd.DataFrame(data=ys.tolist(), columns=['correct'])\n",
    ")"
   ],
   "metadata": {
    "collapsed": false,
    "pycharm": {
     "name": "#%%\n"
    }
   }
  },
  {
   "cell_type": "code",
   "execution_count": 12,
   "outputs": [
    {
     "name": "stdout",
     "output_type": "stream",
     "text": [
      "(107568, 3)\n",
      "\n",
      "mean = 4.395656700877584\n",
      "\n",
      "top0 = 0.0\n",
      "top1 = 0.24029451137884872\n",
      "top2 = 0.3179384203480589\n",
      "top3 = 0.3946154990331697\n",
      "top4 = 0.4865387475829243\n",
      "top5 = 0.596236799048044\n",
      "top6 = 0.7187267588874015\n",
      "top7 = 0.8499925628439685\n",
      "top8 = 1.0\n"
     ]
    }
   ],
   "source": [
    "show_rank_metrics(\n",
    "    df_group=pd.DataFrame(data=test['group'].tolist(), columns=['group']),\n",
    "    df_proba=pd.DataFrame(data=clf.predict_proba(X_test)[:,1], columns=['proba']),\n",
    "    df_true=pd.DataFrame(data=y_test.tolist(), columns=['correct'])\n",
    ")"
   ],
   "metadata": {
    "collapsed": false,
    "pycharm": {
     "name": "#%%\n"
    }
   }
  },
  {
   "cell_type": "code",
   "execution_count": 13,
   "outputs": [],
   "source": [
    "clf = LogisticRegression(random_state=0, C=1e-1, max_iter=10 ** 3, n_jobs=4).fit(xs, ys)"
   ],
   "metadata": {
    "collapsed": false,
    "pycharm": {
     "name": "#%%\n"
    }
   }
  },
  {
   "cell_type": "code",
   "execution_count": 14,
   "outputs": [
    {
     "name": "stdout",
     "output_type": "stream",
     "text": [
      "lin reg lbfgs\n",
      "\n",
      "(107568, 3)\n",
      "\n",
      "mean = 4.40450691655511\n",
      "\n",
      "top0 = 0.0\n",
      "top1 = 0.24133571322326342\n",
      "top2 = 0.32165699836382566\n",
      "top3 = 0.39736724676483715\n",
      "top4 = 0.48750557786702364\n",
      "top5 = 0.5933363081957459\n",
      "top6 = 0.7104715156923992\n",
      "top7 = 0.8438197233377956\n",
      "top8 = 1.0\n"
     ]
    }
   ],
   "source": [
    "print(\"lin reg lbfgs\\n\")\n",
    "show_rank_metrics(\n",
    "    df_group=pd.DataFrame(data=test['group'].tolist(), columns=['group']),\n",
    "    df_proba=pd.DataFrame(data=clf.predict_proba(X_test)[:,1], columns=['proba']),\n",
    "    df_true=pd.DataFrame(data=y_test.tolist(), columns=['correct'])\n",
    ")"
   ],
   "metadata": {
    "collapsed": false,
    "pycharm": {
     "name": "#%%\n"
    }
   }
  },
  {
   "cell_type": "code",
   "execution_count": 15,
   "outputs": [
    {
     "name": "stdout",
     "output_type": "stream",
     "text": [
      "(107568, 3)\n",
      "\n",
      "mean = 5.414398334077049\n",
      "\n",
      "top0 = 0.0\n",
      "top1 = 0.20422430462591104\n",
      "top2 = 0.24564926372155288\n",
      "top3 = 0.2788933511825078\n",
      "top4 = 0.3158560166592295\n",
      "top5 = 0.3716346868957311\n",
      "top6 = 0.4811096236799048\n",
      "top7 = 0.6882344191581139\n",
      "top8 = 1.0\n"
     ]
    }
   ],
   "source": [
    "clf = LogisticRegression(random_state=0, C=1e-1, max_iter=10 ** 3, n_jobs=4, penalty='l1', solver='saga').fit(xs, ys)\n",
    "show_rank_metrics(\n",
    "    df_group=pd.DataFrame(data=test['group'].tolist(), columns=['group']),\n",
    "    df_proba=pd.DataFrame(data=clf.predict_proba(X_test)[:,1], columns=['proba']),\n",
    "    df_true=pd.DataFrame(data=y_test.tolist(), columns=['correct'])\n",
    ")"
   ],
   "metadata": {
    "collapsed": false,
    "pycharm": {
     "name": "#%%\n"
    }
   }
  },
  {
   "cell_type": "code",
   "execution_count": 15,
   "outputs": [],
   "source": [],
   "metadata": {
    "collapsed": false,
    "pycharm": {
     "name": "#%%\n"
    }
   }
  }
 ],
 "metadata": {
  "kernelspec": {
   "display_name": "Python 3",
   "language": "python",
   "name": "python3"
  },
  "language_info": {
   "codemirror_mode": {
    "name": "ipython",
    "version": 2
   },
   "file_extension": ".py",
   "mimetype": "text/x-python",
   "name": "python",
   "nbconvert_exporter": "python",
   "pygments_lexer": "ipython2",
   "version": "2.7.6"
  }
 },
 "nbformat": 4,
 "nbformat_minor": 0
}