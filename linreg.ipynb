{
 "cells": [
  {
   "cell_type": "code",
   "execution_count": 1,
   "metadata": {
    "collapsed": true,
    "pycharm": {
     "name": "#%%\n"
    }
   },
   "outputs": [],
   "source": [
    "import numpy as np\n",
    "import pandas as pd\n",
    "from sklearn import metrics\n",
    "from sklearn.linear_model import LogisticRegression\n",
    "from sklearn.linear_model import LogisticRegressionCV\n",
    "from utils import show_rank_metrics"
   ]
  },
  {
   "cell_type": "code",
   "execution_count": 2,
   "outputs": [],
   "source": [
    "train = pd.read_csv('train.csv', index_col=0).sample(frac=1)\n",
    "y_train = train['correct']\n",
    "X_train = train.drop(columns=['name', 'firstChar', 'group', 'correct'])\n",
    "\n",
    "test = pd.read_csv('test.csv', index_col=0).sample(frac=1)\n",
    "y_test = test['correct']\n",
    "X_test = test.drop(columns=['name', 'firstChar', 'group', 'correct'])"
   ],
   "metadata": {
    "collapsed": false,
    "pycharm": {
     "name": "#%%\n"
    }
   }
  },
  {
   "cell_type": "code",
   "execution_count": 3,
   "outputs": [],
   "source": [
    "s_tr = X_train.sum()\n",
    "s_te = X_test.sum()"
   ],
   "metadata": {
    "collapsed": false,
    "pycharm": {
     "name": "#%%\n"
    }
   }
  },
  {
   "cell_type": "code",
   "execution_count": 4,
   "outputs": [
    {
     "name": "stdout",
     "output_type": "stream",
     "text": [
      "train median 1.01838656341026 %\n",
      "test median 0.9055420453091002 %\n"
     ]
    }
   ],
   "source": [
    "print(f'train median {s_tr.median() / X_train.shape[0] * 100} %')\n",
    "print(f'test median {s_te.median() / X_test.shape[0] * 100} %')"
   ],
   "metadata": {
    "collapsed": false,
    "pycharm": {
     "name": "#%%\n"
    }
   }
  },
  {
   "cell_type": "code",
   "execution_count": 5,
   "outputs": [],
   "source": [
    "xs = X_train.iloc[:4 * 10 ** 4, :]\n",
    "ys = y_train.iloc[:4 * 10 ** 4]"
   ],
   "metadata": {
    "collapsed": false,
    "pycharm": {
     "name": "#%%\n"
    }
   }
  },
  {
   "cell_type": "code",
   "execution_count": 6,
   "outputs": [],
   "source": [
    "clf = LogisticRegression(random_state=0, C=1e-3, solver='saga', max_iter=10 ** 3, n_jobs=5).fit(xs, ys)"
   ],
   "metadata": {
    "collapsed": false,
    "pycharm": {
     "name": "#%%\n"
    }
   }
  },
  {
   "cell_type": "code",
   "execution_count": 7,
   "outputs": [],
   "source": [
    "#clf.predict_proba(xs)"
   ],
   "metadata": {
    "collapsed": false,
    "pycharm": {
     "name": "#%%\n"
    }
   }
  },
  {
   "cell_type": "code",
   "execution_count": 8,
   "outputs": [],
   "source": [
    "#metrics.plot_roc_curve(clf, X_test, y_test)"
   ],
   "metadata": {
    "collapsed": false,
    "pycharm": {
     "name": "#%%\n"
    }
   }
  },
  {
   "cell_type": "code",
   "execution_count": 9,
   "outputs": [],
   "source": [
    "#metrics.plot_roc_curve(clf, xs, ys)"
   ],
   "metadata": {
    "collapsed": false,
    "pycharm": {
     "name": "#%%\n"
    }
   }
  },
  {
   "cell_type": "code",
   "execution_count": 10,
   "outputs": [
    {
     "name": "stdout",
     "output_type": "stream",
     "text": [
      "(40000, 3)\n",
      "\n",
      "mean = 1.5373482726423904\n",
      "\n",
      "top0 = 0.0\n",
      "top1 = 0.6157796451914099\n",
      "top2 = 0.8744164332399627\n",
      "top3 = 0.976657329598506\n",
      "top4 = 0.9964985994397759\n",
      "top5 = 0.9992997198879552\n",
      "top6 = 1.0\n"
     ]
    }
   ],
   "source": [
    "show_rank_metrics(\n",
    "    df_group=pd.DataFrame(data=train['group'].iloc[:4 * 10 ** 4].tolist(), columns=['group']),\n",
    "    df_proba=pd.DataFrame(data=clf.predict_proba(xs)[:,1], columns=['proba']),\n",
    "    df_true=pd.DataFrame(data=ys.tolist(), columns=['correct'])\n",
    ")"
   ],
   "metadata": {
    "collapsed": false,
    "pycharm": {
     "name": "#%%\n"
    }
   }
  },
  {
   "cell_type": "code",
   "execution_count": 11,
   "outputs": [
    {
     "name": "stdout",
     "output_type": "stream",
     "text": [
      "(218764, 3)\n",
      "\n",
      "mean = 13.173282624197766\n",
      "\n",
      "top0 = 0.0\n",
      "top1 = 0.1649631566436891\n",
      "top2 = 0.2037081055383884\n",
      "top3 = 0.23080579985738056\n",
      "top4 = 0.24815783218445447\n",
      "top5 = 0.268837651533159\n",
      "top6 = 0.28892322319942954\n",
      "top7 = 0.31281198003327787\n",
      "top8 = 0.33705728547658664\n",
      "top9 = 0.36344188257665794\n",
      "top10 = 0.3845971000713097\n",
      "top11 = 0.4121701925362491\n",
      "top12 = 0.43807939149037317\n",
      "top13 = 0.4676729260755883\n",
      "top14 = 0.5034466365581174\n",
      "top15 = 0.5424292845257903\n",
      "top16 = 0.5842643213691466\n",
      "top17 = 0.6284763489422391\n",
      "top18 = 0.6697171381031614\n",
      "top19 = 0.7054908485856906\n",
      "top20 = 0.7481578321844545\n",
      "top21 = 0.7901117185642976\n",
      "top22 = 0.8261231281198004\n",
      "top23 = 0.8633230330401711\n",
      "top24 = 0.90171143332541\n",
      "top25 = 0.9422391252674115\n",
      "top26 = 1.0\n"
     ]
    }
   ],
   "source": [
    "show_rank_metrics(\n",
    "    df_group=pd.DataFrame(data=test['group'].tolist(), columns=['group']),\n",
    "    df_proba=pd.DataFrame(data=clf.predict_proba(X_test)[:,1], columns=['proba']),\n",
    "    df_true=pd.DataFrame(data=y_test.tolist(), columns=['correct'])\n",
    ")"
   ],
   "metadata": {
    "collapsed": false,
    "pycharm": {
     "name": "#%%\n"
    }
   }
  },
  {
   "cell_type": "code",
   "execution_count": 12,
   "outputs": [],
   "source": [
    "clf = LogisticRegression(random_state=0, C=1e-1, max_iter=10 ** 3, n_jobs=4).fit(xs, ys)"
   ],
   "metadata": {
    "collapsed": false,
    "pycharm": {
     "name": "#%%\n"
    }
   }
  },
  {
   "cell_type": "code",
   "execution_count": 13,
   "outputs": [
    {
     "name": "stdout",
     "output_type": "stream",
     "text": [
      "lin reg lbfgs\n",
      "\n",
      "(218764, 3)\n",
      "\n",
      "mean = 13.225814119324935\n",
      "\n",
      "top0 = 0.0\n",
      "top1 = 0.1743522700261469\n",
      "top2 = 0.213216068457333\n",
      "top3 = 0.23829332065604944\n",
      "top4 = 0.25802234371285954\n",
      "top5 = 0.277513667696696\n",
      "top6 = 0.29676729260755885\n",
      "top7 = 0.315188970763014\n",
      "top8 = 0.3376515331590207\n",
      "top9 = 0.3594009983361065\n",
      "top10 = 0.38233895887806035\n",
      "top11 = 0.40860470644164487\n",
      "top12 = 0.43903018778226766\n",
      "top13 = 0.4688614214404564\n",
      "top14 = 0.5009507962918944\n",
      "top15 = 0.5388637984311861\n",
      "top16 = 0.5739244116947944\n",
      "top17 = 0.6158782980746375\n",
      "top18 = 0.6560494414071785\n",
      "top19 = 0.6947943903018778\n",
      "top20 = 0.7334204896600903\n",
      "top21 = 0.7753743760399334\n",
      "top22 = 0.8144758735440932\n",
      "top23 = 0.8563109103874494\n",
      "top24 = 0.9011171856429759\n",
      "top25 = 0.9437841692417399\n",
      "top26 = 1.0\n"
     ]
    }
   ],
   "source": [
    "print(\"lin reg lbfgs\\n\")\n",
    "show_rank_metrics(\n",
    "    df_group=pd.DataFrame(data=test['group'].tolist(), columns=['group']),\n",
    "    df_proba=pd.DataFrame(data=clf.predict_proba(X_test)[:,1], columns=['proba']),\n",
    "    df_true=pd.DataFrame(data=y_test.tolist(), columns=['correct'])\n",
    ")"
   ],
   "metadata": {
    "collapsed": false,
    "pycharm": {
     "name": "#%%\n"
    }
   }
  },
  {
   "cell_type": "code",
   "execution_count": 14,
   "outputs": [
    {
     "name": "stdout",
     "output_type": "stream",
     "text": [
      "(218764, 3)\n",
      "\n",
      "mean = 16.35512241502258\n",
      "\n",
      "top0 = 0.0\n",
      "top1 = 0.14761112431661516\n",
      "top2 = 0.16936058949370097\n",
      "top3 = 0.18302828618968386\n",
      "top4 = 0.19063465652483955\n",
      "top5 = 0.1945566912289042\n",
      "top6 = 0.19931067268837652\n",
      "top7 = 0.20335155692892798\n",
      "top8 = 0.20881863560732114\n",
      "top9 = 0.2144045638222011\n",
      "top10 = 0.22165438554789638\n",
      "top11 = 0.23080579985738056\n",
      "top12 = 0.24494889469931067\n",
      "top13 = 0.26337057285476584\n",
      "top14 = 0.29153791300213927\n",
      "top15 = 0.3277870216306156\n",
      "top16 = 0.37722842880912766\n",
      "top17 = 0.425837889232232\n",
      "top18 = 0.48336106489184694\n",
      "top19 = 0.5399334442595674\n",
      "top20 = 0.59828856667459\n",
      "top21 = 0.6608034228666508\n",
      "top22 = 0.7224863323033041\n",
      "top23 = 0.7869027810791538\n",
      "top24 = 0.846684097932018\n",
      "top25 = 0.9121701925362491\n",
      "top26 = 1.0\n"
     ]
    }
   ],
   "source": [
    "clf = LogisticRegression(random_state=0, C=1e-1, max_iter=10 ** 3, n_jobs=4, penalty='l1', solver='saga').fit(xs, ys)\n",
    "show_rank_metrics(\n",
    "    df_group=pd.DataFrame(data=test['group'].tolist(), columns=['group']),\n",
    "    df_proba=pd.DataFrame(data=clf.predict_proba(X_test)[:,1], columns=['proba']),\n",
    "    df_true=pd.DataFrame(data=y_test.tolist(), columns=['correct'])\n",
    ")"
   ],
   "metadata": {
    "collapsed": false,
    "pycharm": {
     "name": "#%%\n"
    }
   }
  },
  {
   "cell_type": "code",
   "execution_count": 14,
   "outputs": [],
   "source": [],
   "metadata": {
    "collapsed": false,
    "pycharm": {
     "name": "#%%\n"
    }
   }
  }
 ],
 "metadata": {
  "kernelspec": {
   "display_name": "Python 3",
   "language": "python",
   "name": "python3"
  },
  "language_info": {
   "codemirror_mode": {
    "name": "ipython",
    "version": 2
   },
   "file_extension": ".py",
   "mimetype": "text/x-python",
   "name": "python",
   "nbconvert_exporter": "python",
   "pygments_lexer": "ipython2",
   "version": "2.7.6"
  }
 },
 "nbformat": 4,
 "nbformat_minor": 0
}