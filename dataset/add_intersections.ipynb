{
 "cells": [
  {
   "cell_type": "code",
   "execution_count": 1,
   "metadata": {
    "collapsed": true,
    "pycharm": {
     "name": "#%%\n"
    }
   },
   "outputs": [],
   "source": [
    "import copy\n",
    "import glob\n",
    "import json\n",
    "import os\n",
    "import random\n",
    "import re\n",
    "from collections import Counter\n",
    "from random import shuffle\n",
    "\n",
    "import pandas as pd\n",
    "from sklearn.feature_extraction.text import CountVectorizer\n",
    "from sklearn.model_selection import train_test_split\n",
    "from sklearn.preprocessing import PolynomialFeatures\n",
    "import fastparquet\n",
    "import numpy as np\n",
    "from matplotlib import pyplot as plt\n",
    "from sklearn.feature_selection import SelectKBest\n",
    "from sklearn.feature_selection import chi2\n",
    "dataset_folder='./../dataset/saved/'"
   ]
  },
  {
   "cell_type": "code",
   "execution_count": 2,
   "outputs": [],
   "source": [
    "df_train = pd.read_pickle(dataset_folder+'train_2_ohe401')\n",
    "df_test = pd.read_pickle(dataset_folder+'test_2_ohe401')\n",
    "df_valid = pd.read_pickle(dataset_folder+'valid_2_ohe401')"
   ],
   "metadata": {
    "collapsed": false,
    "pycharm": {
     "name": "#%%\n"
    }
   }
  },
  {
   "cell_type": "code",
   "execution_count": 3,
   "outputs": [],
   "source": [
    "df_train_meta, df_train_num = df_train[['correct', 'group']], df_train.drop(columns=['correct', 'group', 'name', 'firstChar'])\n",
    "del df_train\n",
    "df_test_meta, df_test_num = df_test[['correct', 'group']], df_test.drop(columns=['correct', 'group', 'name', 'firstChar'])\n",
    "del df_test\n",
    "df_valid_meta, df_valid_num = df_valid[['correct', 'group']], df_valid.drop(columns=['correct', 'group', 'name', 'firstChar'])\n",
    "del df_valid"
   ],
   "metadata": {
    "collapsed": false,
    "pycharm": {
     "name": "#%%\n"
    }
   }
  },
  {
   "cell_type": "code",
   "execution_count": 4,
   "outputs": [
    {
     "name": "stdout",
     "output_type": "stream",
     "text": [
      "name_Abstract                     Sparse[int64, 0]\n",
      "name_Action                       Sparse[int64, 0]\n",
      "name_Actions                      Sparse[int64, 0]\n",
      "name_All                          Sparse[int64, 0]\n",
      "name_An                           Sparse[int64, 0]\n",
      "                                        ...       \n",
      "insideStatement2_return           Sparse[int64, 0]\n",
      "insideStatement2_switch_branch    Sparse[int64, 0]\n",
      "insideStatement2_ternary_else     Sparse[int64, 0]\n",
      "insideStatement2_try              Sparse[int64, 0]\n",
      "insideStatement2_while_body       Sparse[int64, 0]\n",
      "Length: 740, dtype: object\n",
      "(334350, 740)\n",
      "--------\n",
      "correct    int64\n",
      "group      int64\n",
      "dtype: object\n",
      "(334350, 2)\n"
     ]
    }
   ],
   "source": [
    "print(df_train_num.dtypes)\n",
    "print(df_train_num.shape)\n",
    "print('--------')\n",
    "print(df_train_meta.dtypes)\n",
    "print(df_train_meta.shape)"
   ],
   "metadata": {
    "collapsed": false,
    "pycharm": {
     "name": "#%%\n"
    }
   }
  },
  {
   "cell_type": "code",
   "execution_count": null,
   "outputs": [
    {
     "name": "stdout",
     "output_type": "stream",
     "text": [
      "go\n"
     ]
    }
   ],
   "source": [
    "poly = PolynomialFeatures(interaction_only=True, include_bias=False, degree=2)\n",
    "print('go')\n",
    "train_intr = poly.fit_transform(df_train_num)\n",
    "del df_train_num\n",
    "print('1')\n",
    "test_intr = poly.fit_transform(df_test_num)\n",
    "del df_test_num\n",
    "print('2')\n",
    "valid_intr = poly.fit_transform(df_valid_num)\n",
    "del df_valid_num\n",
    "print('3')"
   ],
   "metadata": {
    "collapsed": false,
    "pycharm": {
     "name": "#%%\n",
     "is_executing": true
    }
   }
  },
  {
   "cell_type": "code",
   "execution_count": null,
   "outputs": [],
   "source": [
    "print(f'train ########## ------> : {train_intr.shape}')\n",
    "# print(f'test ########## ------> : {test_intr.shape}')\n",
    "print(f'valid ########## ------> : {valid_intr.shape}')"
   ],
   "metadata": {
    "collapsed": false,
    "pycharm": {
     "name": "#%%\n",
     "is_executing": true
    }
   }
  },
  {
   "cell_type": "code",
   "execution_count": null,
   "outputs": [],
   "source": [
    "#train_cols = df_train_num.columns.tolist()\n",
    "train_cols = []\n",
    "train_cols = train_cols + [f'intr_{i}' for i in range(train_intr.shape[1] - len(train_cols))]\n",
    "\n",
    "#test_cols = df_test_num.columns.tolist()\n",
    "test_cols = []\n",
    "test_cols = test_cols + [f'intr_{i}' for i in range(test_intr.shape[1] - len(test_cols))]\n",
    "\n",
    "#valid_cols = df_valid_num.columns.tolist()\n",
    "valid_cols = []\n",
    "valid_cols = valid_cols + [f'intr_{i}' for i in range(valid_intr.shape[1] - len(valid_cols))]\n",
    "\n",
    "print(train_cols)\n",
    "#valid_cols\n"
   ],
   "metadata": {
    "collapsed": false,
    "pycharm": {
     "name": "#%%\n",
     "is_executing": true
    }
   }
  },
  {
   "cell_type": "code",
   "execution_count": null,
   "outputs": [],
   "source": [
    "df_train_num_intr = pd.DataFrame.sparse.from_spmatrix(train_intr, columns=train_cols)\n",
    "del train_intr\n",
    "df_test_num_intr = pd.DataFrame.sparse.from_spmatrix(test_intr, columns=test_cols)\n",
    "del test_intr\n",
    "df_valid_num_intr = pd.DataFrame.sparse.from_spmatrix(valid_intr, columns=valid_cols)\n",
    "del valid_intr"
   ],
   "metadata": {
    "collapsed": false,
    "pycharm": {
     "name": "#%%\n",
     "is_executing": true
    }
   }
  },
  {
   "cell_type": "code",
   "execution_count": null,
   "outputs": [],
   "source": [
    "df_train_num_intr.dtypes\n",
    "#df_valid_num_intr.dtypes"
   ],
   "metadata": {
    "collapsed": false,
    "pycharm": {
     "name": "#%%\n",
     "is_executing": true
    }
   }
  },
  {
   "cell_type": "code",
   "execution_count": null,
   "outputs": [],
   "source": [
    "df_train_intr = pd.concat([df_train_meta, df_train_num_intr], axis=1)\n",
    "del df_train_num_intr\n",
    "df_test_intr = pd.concat([df_test_meta, df_test_num_intr], axis=1)\n",
    "del df_test_num_intr\n",
    "df_valid_intr = pd.concat([df_valid_meta, df_valid_num_intr], axis=1)\n",
    "del df_valid_num_intr"
   ],
   "metadata": {
    "collapsed": false,
    "pycharm": {
     "name": "#%%\n",
     "is_executing": true
    }
   }
  },
  {
   "cell_type": "code",
   "execution_count": null,
   "outputs": [],
   "source": [
    "s_tr_intr = df_train_intr.drop(columns=['group']).sum().div(df_train_intr.shape[0]).mul(100)\n",
    "#s_tr_intr = df_valid_intr.drop(columns=['group']).sum().div(df_valid_intr.shape[0]).mul(100)"
   ],
   "metadata": {
    "collapsed": false,
    "pycharm": {
     "name": "#%%\n",
     "is_executing": true
    }
   }
  },
  {
   "cell_type": "code",
   "execution_count": null,
   "outputs": [],
   "source": [
    "s_tr_intr.sort_values(ascending=[False])"
   ],
   "metadata": {
    "collapsed": false,
    "pycharm": {
     "name": "#%%\n",
     "is_executing": true
    }
   }
  },
  {
   "cell_type": "code",
   "execution_count": null,
   "outputs": [],
   "source": [
    "plt.figure(figsize=(20, 10))\n",
    "plt.plot(np.arange(s_tr_intr.shape[0]), s_tr_intr.sort_values(ascending=[False]).to_list())\n",
    "plt.yscale('log')\n",
    "plt.show()"
   ],
   "metadata": {
    "collapsed": false,
    "pycharm": {
     "name": "#%%\n",
     "is_executing": true
    }
   }
  },
  {
   "cell_type": "code",
   "execution_count": null,
   "outputs": [],
   "source": [
    "selector = SelectKBest(score_func=chi2, k=6*10**3)\n",
    "selector.fit(df_train_intr.drop(columns=['correct', 'group']), df_train_intr['correct'])"
   ],
   "metadata": {
    "collapsed": false,
    "pycharm": {
     "name": "#%%\n",
     "is_executing": true
    }
   }
  },
  {
   "cell_type": "code",
   "execution_count": null,
   "outputs": [],
   "source": [
    "cols = list(selector.get_feature_names_out()) + ['correct', 'group']\n",
    "df_train_intr_s = df_train_intr[cols]\n",
    "del df_train_intr\n",
    "df_test_intr_s = df_test_intr[cols]\n",
    "del df_test_intr\n",
    "df_valid_intr_s = df_valid_intr[cols]\n",
    "del df_valid_intr\n",
    "\n",
    "del selector"
   ],
   "metadata": {
    "collapsed": false,
    "pycharm": {
     "name": "#%%\n",
     "is_executing": true
    }
   }
  },
  {
   "cell_type": "code",
   "execution_count": null,
   "outputs": [],
   "source": [
    "df_train_intr_s.dtypes"
   ],
   "metadata": {
    "collapsed": false,
    "pycharm": {
     "name": "#%%\n",
     "is_executing": true
    }
   }
  },
  {
   "cell_type": "code",
   "execution_count": null,
   "outputs": [],
   "source": [
    "s_tr_intr_s = df_train_intr_s.drop(columns=['group']).sum().div(df_train_intr_s.shape[0]).mul(100)"
   ],
   "metadata": {
    "collapsed": false,
    "pycharm": {
     "name": "#%%\n",
     "is_executing": true
    }
   }
  },
  {
   "cell_type": "code",
   "execution_count": null,
   "outputs": [],
   "source": [
    "plt.figure(figsize=(20, 10))\n",
    "plt.plot(np.arange(s_tr_intr_s.shape[0]), s_tr_intr_s.sort_values(ascending=[False]).to_list())\n",
    "plt.yscale('log')\n",
    "plt.show()\n",
    "\n",
    "plt.figure(figsize=(20, 10))\n",
    "plt.plot(np.arange(s_tr_intr_s.shape[0]), s_tr_intr_s.to_list())\n",
    "plt.yscale('log')\n",
    "plt.show()"
   ],
   "metadata": {
    "collapsed": false,
    "pycharm": {
     "name": "#%%\n",
     "is_executing": true
    }
   }
  },
  {
   "cell_type": "code",
   "execution_count": null,
   "outputs": [],
   "source": [
    "df_train_intr_s.to_pickle(dataset_folder+'train_ohe401_intr2_2k')\n",
    "df_test_intr_s.to_pickle(dataset_folder+'test_ohe401_intr2_2k')\n",
    "df_valid_intr_s.to_pickle(dataset_folder+'valid_ohe401_intr2_2k')"
   ],
   "metadata": {
    "collapsed": false,
    "pycharm": {
     "name": "#%%\n",
     "is_executing": true
    }
   }
  },
  {
   "cell_type": "code",
   "execution_count": null,
   "outputs": [],
   "source": [],
   "metadata": {
    "collapsed": false,
    "pycharm": {
     "name": "#%%\n",
     "is_executing": true
    }
   }
  },
  {
   "cell_type": "code",
   "execution_count": null,
   "outputs": [],
   "source": [],
   "metadata": {
    "collapsed": false,
    "pycharm": {
     "name": "#%%\n",
     "is_executing": true
    }
   }
  },
  {
   "cell_type": "code",
   "execution_count": null,
   "outputs": [],
   "source": [],
   "metadata": {
    "collapsed": false,
    "pycharm": {
     "name": "#%%\n",
     "is_executing": true
    }
   }
  }
 ],
 "metadata": {
  "kernelspec": {
   "display_name": "Python 3",
   "language": "python",
   "name": "python3"
  },
  "language_info": {
   "codemirror_mode": {
    "name": "ipython",
    "version": 2
   },
   "file_extension": ".py",
   "mimetype": "text/x-python",
   "name": "python",
   "nbconvert_exporter": "python",
   "pygments_lexer": "ipython2",
   "version": "2.7.6"
  }
 },
 "nbformat": 4,
 "nbformat_minor": 0
}