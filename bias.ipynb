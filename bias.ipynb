{
 "cells": [
  {
   "cell_type": "code",
   "execution_count": 25,
   "metadata": {
    "collapsed": true,
    "pycharm": {
     "name": "#%%\n"
    }
   },
   "outputs": [],
   "source": [
    "import numpy as np\n",
    "import pandas as pd\n",
    "from sklearn import metrics\n",
    "from sklearn.linear_model import ARDRegression, RidgeClassifier\n",
    "from sklearn.svm import LinearSVR\n",
    "\n"
   ]
  },
  {
   "cell_type": "code",
   "execution_count": 2,
   "outputs": [],
   "source": [
    "train = pd.read_csv('train.csv', index_col=0).sample(frac=1)\n",
    "y_train = train['correct']\n",
    "X_train = train.drop(columns=['name', 'firstChar', 'group', 'correct'])\n",
    "\n",
    "test = pd.read_csv('test.csv', index_col=0).sample(frac=1)\n",
    "y_test = test['correct']\n",
    "X_test = test.drop(columns=['name', 'firstChar', 'group', 'correct'])"
   ],
   "metadata": {
    "collapsed": false,
    "pycharm": {
     "name": "#%%\n"
    }
   }
  },
  {
   "cell_type": "code",
   "execution_count": 3,
   "outputs": [],
   "source": [
    "def show_rank_metrics(df_group: pd.DataFrame, df_proba: pd.DataFrame, df_true: pd.DataFrame):\n",
    "    df_metric = pd.concat([df_group, df_proba, df_true], axis=1)\n",
    "    df_metric = df_metric.sort_values(by=['group', 'proba', 'correct'], ascending=[True, False, True])\n",
    "    print(df_metric.shape)\n",
    "    positions = []\n",
    "    cur_group = -1\n",
    "    cur_pos = 1\n",
    "    for row in df_metric.itertuples():\n",
    "        cur_pos += 1\n",
    "        if row.group != cur_group:\n",
    "            cur_pos = 1\n",
    "            cur_group = row.group\n",
    "        if row.correct == 1:\n",
    "            positions.append(cur_pos)\n",
    "    print(f'\\nmean = {np.mean(positions)}\\n')\n",
    "\n",
    "    count = [0] * 9\n",
    "    for p in positions:\n",
    "        count[p] += 1\n",
    "    acc = 0\n",
    "    sum_all = sum(count)\n",
    "    for i, c in enumerate(count):\n",
    "        acc += c\n",
    "        print(f'top{i} = {acc / sum_all}')"
   ],
   "metadata": {
    "collapsed": false,
    "pycharm": {
     "name": "#%%\n"
    }
   }
  },
  {
   "cell_type": "code",
   "execution_count": 4,
   "outputs": [],
   "source": [
    "s_tr = X_train.sum()\n",
    "s_te = X_test.sum()"
   ],
   "metadata": {
    "collapsed": false,
    "pycharm": {
     "name": "#%%\n"
    }
   }
  },
  {
   "cell_type": "code",
   "execution_count": 5,
   "outputs": [
    {
     "name": "stdout",
     "output_type": "stream",
     "text": [
      "train median 1.0424971210913279 %\n",
      "test median 0.978129464776349 %\n"
     ]
    }
   ],
   "source": [
    "print(f'train median {s_tr.median() / X_train.shape[0] * 100} %')\n",
    "print(f'test median {s_te.median() / X_test.shape[0] * 100} %')"
   ],
   "metadata": {
    "collapsed": false,
    "pycharm": {
     "name": "#%%\n"
    }
   }
  },
  {
   "cell_type": "code",
   "execution_count": 14,
   "outputs": [],
   "source": [
    "xs = X_train.iloc[:10 ** 5, :]\n",
    "ys = y_train.iloc[:10 ** 5]"
   ],
   "metadata": {
    "collapsed": false,
    "pycharm": {
     "name": "#%%\n"
    }
   }
  },
  {
   "cell_type": "code",
   "execution_count": 15,
   "outputs": [],
   "source": [
    "clf = ARDRegression(n_iter=10 ** 3).fit(xs, ys)"
   ],
   "metadata": {
    "collapsed": false,
    "pycharm": {
     "name": "#%%\n"
    }
   }
  },
  {
   "cell_type": "code",
   "execution_count": 16,
   "outputs": [
    {
     "data": {
      "text/plain": "array([0.11698988, 0.13773321, 0.11698988, ..., 0.10375774, 0.11698988,\n       0.11698988])"
     },
     "execution_count": 16,
     "metadata": {},
     "output_type": "execute_result"
    }
   ],
   "source": [
    "clf.predict(xs)"
   ],
   "metadata": {
    "collapsed": false,
    "pycharm": {
     "name": "#%%\n"
    }
   }
  },
  {
   "cell_type": "code",
   "execution_count": 17,
   "outputs": [],
   "source": [
    "#metrics.plot_roc_curve(clf, X_test, y_test)"
   ],
   "metadata": {
    "collapsed": false,
    "pycharm": {
     "name": "#%%\n"
    }
   }
  },
  {
   "cell_type": "code",
   "execution_count": 18,
   "outputs": [],
   "source": [
    "#metrics.plot_roc_curve(clf, xs, ys)"
   ],
   "metadata": {
    "collapsed": false,
    "pycharm": {
     "name": "#%%\n"
    }
   }
  },
  {
   "cell_type": "code",
   "execution_count": 19,
   "outputs": [
    {
     "name": "stdout",
     "output_type": "stream",
     "text": [
      "(100000, 3)\n",
      "\n",
      "mean = 2.6605284227381905\n",
      "\n",
      "top0 = 0.0\n",
      "top1 = 0.2945556445156125\n",
      "top2 = 0.48895116092874297\n",
      "top3 = 0.7103282626100881\n",
      "top4 = 0.8831865492393915\n",
      "top5 = 0.9685348278622898\n",
      "top6 = 0.9944755804643715\n",
      "top7 = 0.999439551641313\n",
      "top8 = 1.0\n"
     ]
    }
   ],
   "source": [
    "show_rank_metrics(\n",
    "    df_group=pd.DataFrame(data=train['group'].iloc[:10 ** 5].tolist(), columns=['group']),\n",
    "    df_proba=pd.DataFrame(data=clf.predict(xs), columns=['proba']),\n",
    "    df_true=pd.DataFrame(data=ys.tolist(), columns=['correct'])\n",
    ")"
   ],
   "metadata": {
    "collapsed": false,
    "pycharm": {
     "name": "#%%\n"
    }
   }
  },
  {
   "cell_type": "code",
   "execution_count": 20,
   "outputs": [
    {
     "name": "stdout",
     "output_type": "stream",
     "text": [
      "(72792, 3)\n",
      "\n",
      "mean = 5.737223870755028\n",
      "\n",
      "top0 = 0.0\n",
      "top1 = 0.18056929332893726\n",
      "top2 = 0.2239806572150786\n",
      "top3 = 0.2534344433454226\n",
      "top4 = 0.2821189141663919\n",
      "top5 = 0.32124409275744586\n",
      "top6 = 0.4010330805583031\n",
      "top7 = 0.6003956478733927\n",
      "top8 = 1.0\n"
     ]
    }
   ],
   "source": [
    "show_rank_metrics(\n",
    "    df_group=pd.DataFrame(data=test['group'].tolist(), columns=['group']),\n",
    "    df_proba=pd.DataFrame(data=clf.predict(X_test), columns=['proba']),\n",
    "    df_true=pd.DataFrame(data=y_test.tolist(), columns=['correct'])\n",
    ")"
   ],
   "metadata": {
    "collapsed": false,
    "pycharm": {
     "name": "#%%\n"
    }
   }
  },
  {
   "cell_type": "code",
   "execution_count": null,
   "outputs": [],
   "source": [
    "print('##########################################################')"
   ],
   "metadata": {
    "collapsed": false,
    "pycharm": {
     "name": "#%%\n"
    }
   }
  },
  {
   "cell_type": "code",
   "execution_count": 23,
   "outputs": [],
   "source": [
    "clf = RidgeClassifier().fit(xs, ys)"
   ],
   "metadata": {
    "collapsed": false,
    "pycharm": {
     "name": "#%%\n"
    }
   }
  },
  {
   "cell_type": "code",
   "execution_count": 26,
   "outputs": [
    {
     "data": {
      "text/plain": "array([0, 0, 0, ..., 0, 0, 0])"
     },
     "execution_count": 26,
     "metadata": {},
     "output_type": "execute_result"
    }
   ],
   "source": [
    "clf.predict(xs)"
   ],
   "metadata": {
    "collapsed": false,
    "pycharm": {
     "name": "#%%\n"
    }
   }
  },
  {
   "cell_type": "code",
   "execution_count": 27,
   "outputs": [
    {
     "data": {
      "text/plain": "array([-3.13309596e-07,  1.41723083e-08,  3.64635371e-08, ...,\n        3.05629395e-07, -2.26621427e-08,  5.18936703e-09])"
     },
     "execution_count": 27,
     "metadata": {},
     "output_type": "execute_result"
    }
   ],
   "source": [
    "clf = LinearSVR().fit(xs, ys)\n",
    "clf.predict(xs)"
   ],
   "metadata": {
    "collapsed": false,
    "pycharm": {
     "name": "#%%\n"
    }
   }
  },
  {
   "cell_type": "code",
   "execution_count": null,
   "outputs": [],
   "source": [],
   "metadata": {
    "collapsed": false,
    "pycharm": {
     "name": "#%%\n"
    }
   }
  }
 ],
 "metadata": {
  "kernelspec": {
   "display_name": "Python 3",
   "language": "python",
   "name": "python3"
  },
  "language_info": {
   "codemirror_mode": {
    "name": "ipython",
    "version": 2
   },
   "file_extension": ".py",
   "mimetype": "text/x-python",
   "name": "python",
   "nbconvert_exporter": "python",
   "pygments_lexer": "ipython2",
   "version": "2.7.6"
  }
 },
 "nbformat": 4,
 "nbformat_minor": 0
}