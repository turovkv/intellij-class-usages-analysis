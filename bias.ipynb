{
 "cells": [
  {
   "cell_type": "code",
   "execution_count": 1,
   "metadata": {
    "collapsed": true,
    "pycharm": {
     "name": "#%%\n"
    }
   },
   "outputs": [],
   "source": [
    "import numpy as np\n",
    "import pandas as pd\n",
    "from sklearn import metrics\n",
    "from sklearn.linear_model import ARDRegression, RidgeClassifier\n",
    "from sklearn.svm import LinearSVR\n",
    "from sklearn.calibration import CalibratedClassifierCV\n",
    "from sklearn.svm import LinearSVC\n",
    "from utils import show_rank_metrics\n"
   ]
  },
  {
   "cell_type": "code",
   "execution_count": 2,
   "outputs": [],
   "source": [
    "train = pd.read_csv('train.csv', index_col=0).sample(frac=1)\n",
    "y_train = train['correct']\n",
    "X_train = train.drop(columns=['name', 'firstChar', 'group', 'correct'])\n",
    "\n",
    "test = pd.read_csv('test.csv', index_col=0).sample(frac=1)\n",
    "y_test = test['correct']\n",
    "X_test = test.drop(columns=['name', 'firstChar', 'group', 'correct'])"
   ],
   "metadata": {
    "collapsed": false,
    "pycharm": {
     "name": "#%%\n"
    }
   }
  },
  {
   "cell_type": "code",
   "execution_count": 3,
   "outputs": [],
   "source": [
    "s_tr = X_train.sum()\n",
    "s_te = X_test.sum()"
   ],
   "metadata": {
    "collapsed": false,
    "pycharm": {
     "name": "#%%\n"
    }
   }
  },
  {
   "cell_type": "code",
   "execution_count": 4,
   "outputs": [
    {
     "name": "stdout",
     "output_type": "stream",
     "text": [
      "train median 1.01838656341026 %\n",
      "test median 0.9055420453091002 %\n"
     ]
    }
   ],
   "source": [
    "print(f'train median {s_tr.median() / X_train.shape[0] * 100} %')\n",
    "print(f'test median {s_te.median() / X_test.shape[0] * 100} %')"
   ],
   "metadata": {
    "collapsed": false,
    "pycharm": {
     "name": "#%%\n"
    }
   }
  },
  {
   "cell_type": "code",
   "execution_count": 5,
   "outputs": [],
   "source": [
    "xs = X_train.iloc[:10 ** 5, :]\n",
    "ys = y_train.iloc[:10 ** 5]"
   ],
   "metadata": {
    "collapsed": false,
    "pycharm": {
     "name": "#%%\n"
    }
   }
  },
  {
   "cell_type": "code",
   "execution_count": 6,
   "outputs": [],
   "source": [
    "clf = ARDRegression(n_iter=10 ** 3).fit(xs, ys)"
   ],
   "metadata": {
    "collapsed": false,
    "pycharm": {
     "name": "#%%\n"
    }
   }
  },
  {
   "cell_type": "code",
   "execution_count": 7,
   "outputs": [
    {
     "data": {
      "text/plain": "array([0.10837171, 0.10837171, 0.11683745, ..., 0.10837171, 0.10837171,\n       0.10837171])"
     },
     "execution_count": 7,
     "metadata": {},
     "output_type": "execute_result"
    }
   ],
   "source": [
    "clf.predict(xs)"
   ],
   "metadata": {
    "collapsed": false,
    "pycharm": {
     "name": "#%%\n"
    }
   }
  },
  {
   "cell_type": "code",
   "execution_count": 8,
   "outputs": [],
   "source": [
    "#metrics.plot_roc_curve(clf, X_test, y_test)"
   ],
   "metadata": {
    "collapsed": false,
    "pycharm": {
     "name": "#%%\n"
    }
   }
  },
  {
   "cell_type": "code",
   "execution_count": 9,
   "outputs": [],
   "source": [
    "#metrics.plot_roc_curve(clf, xs, ys)"
   ],
   "metadata": {
    "collapsed": false,
    "pycharm": {
     "name": "#%%\n"
    }
   }
  },
  {
   "cell_type": "code",
   "execution_count": 10,
   "outputs": [
    {
     "name": "stdout",
     "output_type": "stream",
     "text": [
      "(100000, 3)\n",
      "\n",
      "mean = 2.9508778152154638\n",
      "\n",
      "top0 = 0.0\n",
      "top1 = 0.2619258733818053\n",
      "top2 = 0.41948927114736656\n",
      "top3 = 0.6228941301649229\n",
      "top4 = 0.8203582195424721\n",
      "top5 = 0.9404149671927646\n",
      "top6 = 0.9863450966483419\n",
      "top7 = 0.9976946267068629\n",
      "top8 = 1.0\n"
     ]
    }
   ],
   "source": [
    "show_rank_metrics(\n",
    "    df_group=pd.DataFrame(data=train['group'].iloc[:10 ** 5].tolist(), columns=['group']),\n",
    "    df_proba=pd.DataFrame(data=clf.predict(xs), columns=['proba']),\n",
    "    df_true=pd.DataFrame(data=ys.tolist(), columns=['correct'])\n",
    ")"
   ],
   "metadata": {
    "collapsed": false,
    "pycharm": {
     "name": "#%%\n"
    }
   }
  },
  {
   "cell_type": "code",
   "execution_count": 11,
   "outputs": [
    {
     "name": "stdout",
     "output_type": "stream",
     "text": [
      "(218764, 3)\n",
      "\n",
      "mean = 18.162110767768006\n",
      "\n",
      "top0 = 0.0\n",
      "top1 = 0.1389351081530782\n",
      "top2 = 0.16627050154504397\n",
      "top3 = 0.18552412645590682\n",
      "top4 = 0.20073686712621822\n",
      "top5 = 0.21190872355597812\n",
      "top6 = 0.21951509389113383\n",
      "top7 = 0.224982172569527\n",
      "top8 = 0.22926075588305206\n",
      "top9 = 0.23330164012360352\n",
      "top10 = 0.23698597575469454\n",
      "top11 = 0.23948181602091753\n",
      "top12 = 0.2426907535060613\n",
      "top13 = 0.24578084145471832\n",
      "top14 = 0.24887092940337532\n",
      "top15 = 0.25386260993582127\n",
      "top16 = 0.25968623722367484\n",
      "top17 = 0.2696695982885667\n",
      "top18 = 0.28512003803185165\n",
      "top19 = 0.3117423342048966\n",
      "top20 = 0.35167577846446396\n",
      "top21 = 0.4108628476348942\n",
      "top22 = 0.49346327549322555\n",
      "top23 = 0.5967435227002614\n",
      "top24 = 0.7224863323033041\n",
      "top25 = 0.8583313525077252\n",
      "top26 = 1.0\n"
     ]
    }
   ],
   "source": [
    "show_rank_metrics(\n",
    "    df_group=pd.DataFrame(data=test['group'].tolist(), columns=['group']),\n",
    "    df_proba=pd.DataFrame(data=clf.predict(X_test), columns=['proba']),\n",
    "    df_true=pd.DataFrame(data=y_test.tolist(), columns=['correct'])\n",
    ")"
   ],
   "metadata": {
    "collapsed": false,
    "pycharm": {
     "name": "#%%\n"
    }
   }
  },
  {
   "cell_type": "code",
   "execution_count": 12,
   "outputs": [
    {
     "name": "stdout",
     "output_type": "stream",
     "text": [
      "##########################################################\n"
     ]
    }
   ],
   "source": [
    "print('##########################################################')"
   ],
   "metadata": {
    "collapsed": false,
    "pycharm": {
     "name": "#%%\n"
    }
   }
  },
  {
   "cell_type": "code",
   "execution_count": 13,
   "outputs": [
    {
     "data": {
      "text/plain": "CalibratedClassifierCV(base_estimator=RidgeClassifier())"
     },
     "execution_count": 13,
     "metadata": {},
     "output_type": "execute_result"
    }
   ],
   "source": [
    "clf_ridge = CalibratedClassifierCV(RidgeClassifier())\n",
    "clf_ridge.fit(xs, ys)"
   ],
   "metadata": {
    "collapsed": false,
    "pycharm": {
     "name": "#%%\n"
    }
   }
  },
  {
   "cell_type": "code",
   "execution_count": 14,
   "outputs": [
    {
     "name": "stdout",
     "output_type": "stream",
     "text": [
      "(218764, 3)\n",
      "\n",
      "mean = 13.469693368195864\n",
      "\n",
      "top0 = 0.0\n",
      "top1 = 0.17149988115046352\n",
      "top2 = 0.20929403375326835\n",
      "top3 = 0.23520323270739243\n",
      "top4 = 0.2516044687425719\n",
      "top5 = 0.2700261468980271\n",
      "top6 = 0.28725932968861423\n",
      "top7 = 0.30425481340622773\n",
      "top8 = 0.32505348229141906\n",
      "top9 = 0.34359400998336104\n",
      "top10 = 0.3655811742334205\n",
      "top11 = 0.3920846208699786\n",
      "top12 = 0.42464939386736394\n",
      "top13 = 0.45947230805799855\n",
      "top14 = 0.49275017827430473\n",
      "top15 = 0.5276919420014262\n",
      "top16 = 0.5626337057285477\n",
      "top17 = 0.6045875921083907\n",
      "top18 = 0.642738293320656\n",
      "top19 = 0.6824340385072498\n",
      "top20 = 0.7210601378654623\n",
      "top21 = 0.7662229617304492\n",
      "top22 = 0.8069883527454242\n",
      "top23 = 0.8515569289279772\n",
      "top24 = 0.8938673639172807\n",
      "top25 = 0.93819824102686\n",
      "top26 = 1.0\n"
     ]
    }
   ],
   "source": [
    "show_rank_metrics(\n",
    "    df_group=pd.DataFrame(data=test['group'].tolist(), columns=['group']),\n",
    "    df_proba=pd.DataFrame(data=clf_ridge.predict_proba(X_test)[:,1].tolist(), columns=['proba']),\n",
    "    df_true=pd.DataFrame(data=y_test.tolist(), columns=['correct'])\n",
    ")"
   ],
   "metadata": {
    "collapsed": false,
    "pycharm": {
     "name": "#%%\n"
    }
   }
  },
  {
   "cell_type": "code",
   "execution_count": 15,
   "outputs": [
    {
     "name": "stdout",
     "output_type": "stream",
     "text": [
      "#########################################################\n"
     ]
    }
   ],
   "source": [
    "print('#########################################################')"
   ],
   "metadata": {
    "collapsed": false,
    "pycharm": {
     "name": "#%%\n"
    }
   }
  },
  {
   "cell_type": "code",
   "execution_count": 16,
   "outputs": [],
   "source": [
    "xs = X_train.iloc[:3*10 ** 4, :]\n",
    "ys = y_train.iloc[:3*10 ** 4]"
   ],
   "metadata": {
    "collapsed": false,
    "pycharm": {
     "name": "#%%\n"
    }
   }
  },
  {
   "cell_type": "code",
   "execution_count": 17,
   "outputs": [
    {
     "data": {
      "text/plain": "CalibratedClassifierCV(base_estimator=LinearSVC(max_iter=10000))"
     },
     "execution_count": 17,
     "metadata": {},
     "output_type": "execute_result"
    }
   ],
   "source": [
    "svm = LinearSVC(max_iter=10**4)\n",
    "clf_svm = CalibratedClassifierCV(svm)\n",
    "clf_svm.fit(xs, ys)"
   ],
   "metadata": {
    "collapsed": false,
    "pycharm": {
     "name": "#%%\n"
    }
   }
  },
  {
   "cell_type": "code",
   "execution_count": 18,
   "outputs": [
    {
     "name": "stdout",
     "output_type": "stream",
     "text": [
      "(30000, 3)\n",
      "\n",
      "mean = 1.3836347465164542\n",
      "\n",
      "top0 = 0.0\n",
      "top1 = 0.6952268010672992\n",
      "top2 = 0.9335902757189446\n",
      "top3 = 0.9884375926474949\n",
      "top4 = 0.9991105840498073\n",
      "top5 = 1.0\n"
     ]
    }
   ],
   "source": [
    "show_rank_metrics(\n",
    "    df_group=pd.DataFrame(data=train.iloc[:3*10 ** 4, :]['group'].tolist(), columns=['group']),\n",
    "    df_proba=pd.DataFrame(data=clf_svm.predict_proba(xs)[:,1].tolist(), columns=['proba']),\n",
    "    df_true=pd.DataFrame(data=ys.tolist(), columns=['correct'])\n",
    ")"
   ],
   "metadata": {
    "collapsed": false,
    "pycharm": {
     "name": "#%%\n"
    }
   }
  },
  {
   "cell_type": "code",
   "execution_count": 19,
   "outputs": [
    {
     "name": "stdout",
     "output_type": "stream",
     "text": [
      "(218764, 3)\n",
      "\n",
      "mean = 13.358687901117186\n",
      "\n",
      "top0 = 0.0\n",
      "top1 = 0.15379130021392917\n",
      "top2 = 0.20168766341811267\n",
      "top3 = 0.23864986926550985\n",
      "top4 = 0.2653910149750416\n",
      "top5 = 0.2823864986926551\n",
      "top6 = 0.29985738055621586\n",
      "top7 = 0.3194675540765391\n",
      "top8 = 0.33895887806037556\n",
      "top9 = 0.36047064416448776\n",
      "top10 = 0.38019966722129783\n",
      "top11 = 0.4032564772997385\n",
      "top12 = 0.4308295697646779\n",
      "top13 = 0.45792726408367007\n",
      "top14 = 0.488233895887806\n",
      "top15 = 0.5230568100784407\n",
      "top16 = 0.5591870691704303\n",
      "top17 = 0.5993582125029713\n",
      "top18 = 0.6414309484193012\n",
      "top19 = 0.6845733301640123\n",
      "top20 = 0.7283099595911576\n",
      "top21 = 0.7722842880912765\n",
      "top22 = 0.8147135726170668\n",
      "top23 = 0.857261706679344\n",
      "top24 = 0.8981459472308058\n",
      "top25 = 0.941882576657951\n",
      "top26 = 1.0\n"
     ]
    }
   ],
   "source": [
    "show_rank_metrics(\n",
    "    df_group=pd.DataFrame(data=test['group'].tolist(), columns=['group']),\n",
    "    df_proba=pd.DataFrame(data=clf_svm.predict_proba(X_test)[:,1].tolist(), columns=['proba']),\n",
    "    df_true=pd.DataFrame(data=y_test.tolist(), columns=['correct'])\n",
    ")"
   ],
   "metadata": {
    "collapsed": false,
    "pycharm": {
     "name": "#%%\n"
    }
   }
  },
  {
   "cell_type": "code",
   "execution_count": 19,
   "outputs": [],
   "source": [],
   "metadata": {
    "collapsed": false,
    "pycharm": {
     "name": "#%%\n"
    }
   }
  }
 ],
 "metadata": {
  "kernelspec": {
   "display_name": "Python 3",
   "language": "python",
   "name": "python3"
  },
  "language_info": {
   "codemirror_mode": {
    "name": "ipython",
    "version": 2
   },
   "file_extension": ".py",
   "mimetype": "text/x-python",
   "name": "python",
   "nbconvert_exporter": "python",
   "pygments_lexer": "ipython2",
   "version": "2.7.6"
  }
 },
 "nbformat": 4,
 "nbformat_minor": 0
}