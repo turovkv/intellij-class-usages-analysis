{
 "cells": [
  {
   "cell_type": "code",
   "execution_count": 1,
   "metadata": {
    "collapsed": true,
    "pycharm": {
     "name": "#%%\n"
    }
   },
   "outputs": [],
   "source": [
    "import numpy as np\n",
    "import pandas as pd\n",
    "from sklearn import metrics\n",
    "from sklearn.linear_model import ARDRegression, RidgeClassifier\n",
    "from sklearn.svm import LinearSVR\n",
    "from sklearn.calibration import CalibratedClassifierCV\n",
    "from sklearn.svm import LinearSVC\n"
   ]
  },
  {
   "cell_type": "code",
   "execution_count": 2,
   "outputs": [],
   "source": [
    "train = pd.read_csv('train.csv', index_col=0).sample(frac=1)\n",
    "y_train = train['correct']\n",
    "X_train = train.drop(columns=['name', 'firstChar', 'group', 'correct'])\n",
    "\n",
    "test = pd.read_csv('test.csv', index_col=0).sample(frac=1)\n",
    "y_test = test['correct']\n",
    "X_test = test.drop(columns=['name', 'firstChar', 'group', 'correct'])"
   ],
   "metadata": {
    "collapsed": false,
    "pycharm": {
     "name": "#%%\n"
    }
   }
  },
  {
   "cell_type": "code",
   "execution_count": 3,
   "outputs": [],
   "source": [
    "def show_rank_metrics(df_group: pd.DataFrame, df_proba: pd.DataFrame, df_true: pd.DataFrame):\n",
    "    df_metric = pd.concat([df_group, df_proba, df_true], axis=1)\n",
    "    df_metric = df_metric.sort_values(by=['group', 'proba', 'correct'], ascending=[True, False, True])\n",
    "    print(df_metric.shape)\n",
    "    positions = []\n",
    "    cur_group = -1\n",
    "    cur_pos = 1\n",
    "    for row in df_metric.itertuples():\n",
    "        cur_pos += 1\n",
    "        if row.group != cur_group:\n",
    "            cur_pos = 1\n",
    "            cur_group = row.group\n",
    "        if row.correct == 1:\n",
    "            positions.append(cur_pos)\n",
    "    print(f'\\nmean = {np.mean(positions)}\\n')\n",
    "\n",
    "    count = [0] * 9\n",
    "    for p in positions:\n",
    "        count[p] += 1\n",
    "    acc = 0\n",
    "    sum_all = sum(count)\n",
    "    for i, c in enumerate(count):\n",
    "        acc += c\n",
    "        print(f'top{i} = {acc / sum_all}')"
   ],
   "metadata": {
    "collapsed": false,
    "pycharm": {
     "name": "#%%\n"
    }
   }
  },
  {
   "cell_type": "code",
   "execution_count": 4,
   "outputs": [],
   "source": [
    "s_tr = X_train.sum()\n",
    "s_te = X_test.sum()"
   ],
   "metadata": {
    "collapsed": false,
    "pycharm": {
     "name": "#%%\n"
    }
   }
  },
  {
   "cell_type": "code",
   "execution_count": 5,
   "outputs": [
    {
     "name": "stdout",
     "output_type": "stream",
     "text": [
      "train median 1.029810298102981 %\n",
      "test median 1.0040160642570282 %\n"
     ]
    }
   ],
   "source": [
    "print(f'train median {s_tr.median() / X_train.shape[0] * 100} %')\n",
    "print(f'test median {s_te.median() / X_test.shape[0] * 100} %')"
   ],
   "metadata": {
    "collapsed": false,
    "pycharm": {
     "name": "#%%\n"
    }
   }
  },
  {
   "cell_type": "code",
   "execution_count": 6,
   "outputs": [],
   "source": [
    "xs = X_train.iloc[:10 ** 5, :]\n",
    "ys = y_train.iloc[:10 ** 5]"
   ],
   "metadata": {
    "collapsed": false,
    "pycharm": {
     "name": "#%%\n"
    }
   }
  },
  {
   "cell_type": "code",
   "execution_count": 7,
   "outputs": [],
   "source": [
    "clf = ARDRegression(n_iter=10 ** 3).fit(xs, ys)"
   ],
   "metadata": {
    "collapsed": false,
    "pycharm": {
     "name": "#%%\n"
    }
   }
  },
  {
   "cell_type": "code",
   "execution_count": 8,
   "outputs": [
    {
     "data": {
      "text/plain": "array([0.11955742, 0.12917517, 0.11955742, ..., 0.11955742, 0.11955742,\n       0.11955742])"
     },
     "execution_count": 8,
     "metadata": {},
     "output_type": "execute_result"
    }
   ],
   "source": [
    "clf.predict(xs)"
   ],
   "metadata": {
    "collapsed": false,
    "pycharm": {
     "name": "#%%\n"
    }
   }
  },
  {
   "cell_type": "code",
   "execution_count": 9,
   "outputs": [],
   "source": [
    "#metrics.plot_roc_curve(clf, X_test, y_test)"
   ],
   "metadata": {
    "collapsed": false,
    "pycharm": {
     "name": "#%%\n"
    }
   }
  },
  {
   "cell_type": "code",
   "execution_count": 10,
   "outputs": [],
   "source": [
    "#metrics.plot_roc_curve(clf, xs, ys)"
   ],
   "metadata": {
    "collapsed": false,
    "pycharm": {
     "name": "#%%\n"
    }
   }
  },
  {
   "cell_type": "code",
   "execution_count": 11,
   "outputs": [
    {
     "name": "stdout",
     "output_type": "stream",
     "text": [
      "(100000, 3)\n",
      "\n",
      "mean = 2.9092154019655228\n",
      "\n",
      "top0 = 0.0\n",
      "top1 = 0.27597873368777187\n",
      "top2 = 0.42798453359110683\n",
      "top3 = 0.6273562107298212\n",
      "top4 = 0.8260834541646528\n",
      "top5 = 0.9450620267439988\n",
      "top6 = 0.9889640728210085\n",
      "top7 = 0.9993555662961173\n",
      "top8 = 1.0\n"
     ]
    }
   ],
   "source": [
    "show_rank_metrics(\n",
    "    df_group=pd.DataFrame(data=train['group'].iloc[:10 ** 5].tolist(), columns=['group']),\n",
    "    df_proba=pd.DataFrame(data=clf.predict(xs), columns=['proba']),\n",
    "    df_true=pd.DataFrame(data=ys.tolist(), columns=['correct'])\n",
    ")"
   ],
   "metadata": {
    "collapsed": false,
    "pycharm": {
     "name": "#%%\n"
    }
   }
  },
  {
   "cell_type": "code",
   "execution_count": 12,
   "outputs": [
    {
     "name": "stdout",
     "output_type": "stream",
     "text": [
      "(107568, 3)\n",
      "\n",
      "mean = 5.649189349992563\n",
      "\n",
      "top0 = 0.0\n",
      "top1 = 0.19076305220883535\n",
      "top2 = 0.24624423620407557\n",
      "top3 = 0.2771828052952551\n",
      "top4 = 0.3017997917596311\n",
      "top5 = 0.33526699390153203\n",
      "top6 = 0.4069611780455154\n",
      "top7 = 0.5925925925925926\n",
      "top8 = 1.0\n"
     ]
    }
   ],
   "source": [
    "show_rank_metrics(\n",
    "    df_group=pd.DataFrame(data=test['group'].tolist(), columns=['group']),\n",
    "    df_proba=pd.DataFrame(data=clf.predict(X_test), columns=['proba']),\n",
    "    df_true=pd.DataFrame(data=y_test.tolist(), columns=['correct'])\n",
    ")"
   ],
   "metadata": {
    "collapsed": false,
    "pycharm": {
     "name": "#%%\n"
    }
   }
  },
  {
   "cell_type": "code",
   "execution_count": 13,
   "outputs": [
    {
     "name": "stdout",
     "output_type": "stream",
     "text": [
      "##########################################################\n"
     ]
    }
   ],
   "source": [
    "print('##########################################################')"
   ],
   "metadata": {
    "collapsed": false,
    "pycharm": {
     "name": "#%%\n"
    }
   }
  },
  {
   "cell_type": "code",
   "execution_count": 14,
   "outputs": [],
   "source": [
    "clf = RidgeClassifier().fit(xs, ys)"
   ],
   "metadata": {
    "collapsed": false,
    "pycharm": {
     "name": "#%%\n"
    }
   }
  },
  {
   "cell_type": "code",
   "execution_count": 15,
   "outputs": [
    {
     "data": {
      "text/plain": "array([0, 0, 0, ..., 0, 0, 0])"
     },
     "execution_count": 15,
     "metadata": {},
     "output_type": "execute_result"
    }
   ],
   "source": [
    "clf.predict(xs)"
   ],
   "metadata": {
    "collapsed": false,
    "pycharm": {
     "name": "#%%\n"
    }
   }
  },
  {
   "cell_type": "code",
   "execution_count": 16,
   "outputs": [
    {
     "data": {
      "text/plain": "array([-4.38046265e-07, -6.60178538e-07, -3.97882084e-07, ...,\n       -1.51166801e-06, -4.26576138e-07, -5.22718748e-07])"
     },
     "execution_count": 16,
     "metadata": {},
     "output_type": "execute_result"
    }
   ],
   "source": [
    "clf = LinearSVR().fit(xs, ys)\n",
    "clf.predict(xs)"
   ],
   "metadata": {
    "collapsed": false,
    "pycharm": {
     "name": "#%%\n"
    }
   }
  },
  {
   "cell_type": "code",
   "execution_count": 16,
   "outputs": [],
   "source": [
    "print('#########################################################')"
   ],
   "metadata": {
    "collapsed": false,
    "pycharm": {
     "name": "#%%\n"
    }
   }
  },
  {
   "cell_type": "code",
   "execution_count": 38,
   "outputs": [],
   "source": [
    "xs = X_train.iloc[:3*10 ** 4, :]\n",
    "ys = y_train.iloc[:3*10 ** 4]"
   ],
   "metadata": {
    "collapsed": false,
    "pycharm": {
     "name": "#%%\n"
    }
   }
  },
  {
   "cell_type": "code",
   "execution_count": 39,
   "outputs": [
    {
     "data": {
      "text/plain": "CalibratedClassifierCV(base_estimator=LinearSVC(max_iter=10000))"
     },
     "execution_count": 39,
     "metadata": {},
     "output_type": "execute_result"
    }
   ],
   "source": [
    "svm = LinearSVC(max_iter=10**4)\n",
    "clf = CalibratedClassifierCV(svm)\n",
    "clf.fit(xs, ys)"
   ],
   "metadata": {
    "collapsed": false,
    "pycharm": {
     "name": "#%%\n"
    }
   }
  },
  {
   "cell_type": "code",
   "execution_count": 40,
   "outputs": [
    {
     "name": "stdout",
     "output_type": "stream",
     "text": [
      "(30000, 3)\n",
      "\n",
      "mean = 1.4007411328745367\n",
      "\n",
      "top0 = 0.0\n",
      "top1 = 0.6966649020645844\n",
      "top2 = 0.9176813128639492\n",
      "top3 = 0.9870301746956062\n",
      "top4 = 0.9978824775013234\n",
      "top5 = 1.0\n",
      "top6 = 1.0\n",
      "top7 = 1.0\n",
      "top8 = 1.0\n"
     ]
    }
   ],
   "source": [
    "show_rank_metrics(\n",
    "    df_group=pd.DataFrame(data=train.iloc[:3*10 ** 4, :]['group'].tolist(), columns=['group']),\n",
    "    df_proba=pd.DataFrame(data=clf.predict_proba(xs)[:,1].tolist(), columns=['proba']),\n",
    "    df_true=pd.DataFrame(data=ys.tolist(), columns=['correct'])\n",
    ")"
   ],
   "metadata": {
    "collapsed": false,
    "pycharm": {
     "name": "#%%\n"
    }
   }
  },
  {
   "cell_type": "code",
   "execution_count": 41,
   "outputs": [
    {
     "name": "stdout",
     "output_type": "stream",
     "text": [
      "(107568, 3)\n",
      "\n",
      "mean = 4.419604343299122\n",
      "\n",
      "top0 = 0.0\n",
      "top1 = 0.22817194704744906\n",
      "top2 = 0.3151866726163915\n",
      "top3 = 0.3958054439982151\n",
      "top4 = 0.48876989439238433\n",
      "top5 = 0.594898110962368\n",
      "top6 = 0.714190093708166\n",
      "top7 = 0.8433734939759037\n",
      "top8 = 1.0\n"
     ]
    }
   ],
   "source": [
    "show_rank_metrics(\n",
    "    df_group=pd.DataFrame(data=test['group'].tolist(), columns=['group']),\n",
    "    df_proba=pd.DataFrame(data=clf.predict_proba(X_test)[:,1].tolist(), columns=['proba']),\n",
    "    df_true=pd.DataFrame(data=y_test.tolist(), columns=['correct'])\n",
    ")"
   ],
   "metadata": {
    "collapsed": false,
    "pycharm": {
     "name": "#%%\n"
    }
   }
  },
  {
   "cell_type": "code",
   "execution_count": null,
   "outputs": [],
   "source": [],
   "metadata": {
    "collapsed": false,
    "pycharm": {
     "name": "#%%\n"
    }
   }
  }
 ],
 "metadata": {
  "kernelspec": {
   "display_name": "Python 3",
   "language": "python",
   "name": "python3"
  },
  "language_info": {
   "codemirror_mode": {
    "name": "ipython",
    "version": 2
   },
   "file_extension": ".py",
   "mimetype": "text/x-python",
   "name": "python",
   "nbconvert_exporter": "python",
   "pygments_lexer": "ipython2",
   "version": "2.7.6"
  }
 },
 "nbformat": 4,
 "nbformat_minor": 0
}