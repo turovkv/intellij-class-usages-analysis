{
 "cells": [
  {
   "cell_type": "code",
   "execution_count": 1,
   "metadata": {
    "collapsed": true,
    "pycharm": {
     "name": "#%%\n"
    }
   },
   "outputs": [],
   "source": [
    "import numpy as np\n",
    "import pandas as pd\n",
    "from sklearn import metrics\n",
    "from sklearn.linear_model import ARDRegression, RidgeClassifier\n",
    "from sklearn.svm import LinearSVR\n",
    "from sklearn.calibration import CalibratedClassifierCV\n",
    "from sklearn.svm import LinearSVC\n",
    "from utils import show_rank_metrics\n",
    "from sklearn.naive_bayes import MultinomialNB\n"
   ]
  },
  {
   "cell_type": "code",
   "execution_count": 2,
   "outputs": [],
   "source": [
    "train = pd.read_csv('train.csv', index_col=0).sample(frac=1)\n",
    "y_train = train['correct']\n",
    "X_train = train.drop(columns=['name', 'firstChar', 'group', 'correct'])\n",
    "\n",
    "test = pd.read_csv('test.csv', index_col=0)\n",
    "y_test = test['correct']\n",
    "X_test = test.drop(columns=['name', 'firstChar', 'group', 'correct'])\n",
    "\n",
    "valid = pd.read_csv('valid.csv', index_col=0)\n",
    "y_valid = valid['correct']\n",
    "X_valid = valid.drop(columns=['name', 'firstChar', 'group', 'correct'])"
   ],
   "metadata": {
    "collapsed": false,
    "pycharm": {
     "name": "#%%\n"
    }
   }
  },
  {
   "cell_type": "code",
   "execution_count": 3,
   "outputs": [],
   "source": [
    "s_tr = X_train.sum()\n",
    "s_te = X_test.sum()"
   ],
   "metadata": {
    "collapsed": false,
    "pycharm": {
     "name": "#%%\n"
    }
   }
  },
  {
   "cell_type": "code",
   "execution_count": 4,
   "outputs": [
    {
     "name": "stdout",
     "output_type": "stream",
     "text": [
      "train median 1.039040675887443 %\n",
      "test median 0.9542356377799415 %\n"
     ]
    }
   ],
   "source": [
    "print(f'train median {s_tr.median() / X_train.shape[0] * 100} %')\n",
    "print(f'test median {s_te.median() / X_test.shape[0] * 100} %')"
   ],
   "metadata": {
    "collapsed": false,
    "pycharm": {
     "name": "#%%\n"
    }
   }
  },
  {
   "cell_type": "code",
   "execution_count": 5,
   "outputs": [],
   "source": [
    "xs = X_train.iloc[:10 ** 5, :]\n",
    "ys = y_train.iloc[:10 ** 5]"
   ],
   "metadata": {
    "collapsed": false,
    "pycharm": {
     "name": "#%%\n"
    }
   }
  },
  {
   "cell_type": "code",
   "execution_count": 6,
   "outputs": [],
   "source": [
    "clf = ARDRegression(n_iter=10 ** 3).fit(xs, ys)"
   ],
   "metadata": {
    "collapsed": false,
    "pycharm": {
     "name": "#%%\n"
    }
   }
  },
  {
   "cell_type": "code",
   "execution_count": 7,
   "outputs": [],
   "source": [
    "#clf.predict(xs)"
   ],
   "metadata": {
    "collapsed": false,
    "pycharm": {
     "name": "#%%\n"
    }
   }
  },
  {
   "cell_type": "code",
   "execution_count": 8,
   "outputs": [],
   "source": [
    "#metrics.plot_roc_curve(clf, X_test, y_test)"
   ],
   "metadata": {
    "collapsed": false,
    "pycharm": {
     "name": "#%%\n"
    }
   }
  },
  {
   "cell_type": "code",
   "execution_count": 9,
   "outputs": [],
   "source": [
    "#metrics.plot_roc_curve(clf, xs, ys)"
   ],
   "metadata": {
    "collapsed": false,
    "pycharm": {
     "name": "#%%\n"
    }
   }
  },
  {
   "cell_type": "code",
   "execution_count": 10,
   "outputs": [
    {
     "name": "stdout",
     "output_type": "stream",
     "text": [
      "(100000, 3)\n",
      "\n",
      "mean = 2.947962778932153\n",
      "\n",
      "top0 = 0.0\n",
      "top1 = 0.28195862318185927\n",
      "top2 = 0.42759056825368147\n",
      "top3 = 0.6190261089529316\n",
      "top4 = 0.8109133616406179\n",
      "top5 = 0.9323335441322612\n",
      "top6 = 0.9836480260186106\n",
      "top7 = 0.9967476736832596\n",
      "top8 = 0.9998193152046255\n",
      "top9 = 1.0\n"
     ]
    }
   ],
   "source": [
    "show_rank_metrics(\n",
    "    df_group=pd.DataFrame(data=train['group'].iloc[:10 ** 5].tolist(), columns=['group']),\n",
    "    df_proba=pd.DataFrame(data=clf.predict(xs), columns=['proba']),\n",
    "    df_true=pd.DataFrame(data=ys.tolist(), columns=['correct'])\n",
    ")"
   ],
   "metadata": {
    "collapsed": false,
    "pycharm": {
     "name": "#%%\n"
    }
   }
  },
  {
   "cell_type": "code",
   "execution_count": 11,
   "outputs": [
    {
     "name": "stdout",
     "output_type": "stream",
     "text": [
      "(236210, 3)\n",
      "\n",
      "mean = 17.548816730875068\n",
      "\n",
      "top0 = 0.0\n",
      "top1 = 0.14980737479361586\n",
      "top2 = 0.18425976884975234\n",
      "top3 = 0.2042927903137039\n",
      "top4 = 0.22168409466153\n",
      "top5 = 0.2341221794166208\n",
      "top6 = 0.24358833241607045\n",
      "top7 = 0.2526141992294992\n",
      "top8 = 0.26340121078701156\n",
      "top9 = 0.2746285085305449\n",
      "top10 = 0.2847550908090259\n",
      "top11 = 0.2929003852504128\n",
      "top12 = 0.3003852504127683\n",
      "top13 = 0.30434782608695654\n",
      "top14 = 0.30787011557512384\n",
      "top15 = 0.31161254815630157\n",
      "top16 = 0.3157952669235003\n",
      "top17 = 0.3200880572372042\n",
      "top18 = 0.33010456796918\n",
      "top19 = 0.3477160154100165\n",
      "top20 = 0.3767749036873968\n",
      "top21 = 0.4133186571271326\n",
      "top22 = 0.472757292239956\n",
      "top23 = 0.554210236653825\n",
      "top24 = 0.6736378646119978\n",
      "top25 = 0.8165107319757843\n",
      "top26 = 1.0\n"
     ]
    }
   ],
   "source": [
    "show_rank_metrics(\n",
    "    df_group=pd.DataFrame(data=test['group'].tolist(), columns=['group']),\n",
    "    df_proba=pd.DataFrame(data=clf.predict(X_test), columns=['proba']),\n",
    "    df_true=pd.DataFrame(data=y_test.tolist(), columns=['correct'])\n",
    ")"
   ],
   "metadata": {
    "collapsed": false,
    "pycharm": {
     "name": "#%%\n"
    }
   }
  },
  {
   "cell_type": "code",
   "execution_count": 12,
   "outputs": [
    {
     "name": "stdout",
     "output_type": "stream",
     "text": [
      "##########################################################\n"
     ]
    }
   ],
   "source": [
    "print('##########################################################')"
   ],
   "metadata": {
    "collapsed": false,
    "pycharm": {
     "name": "#%%\n"
    }
   }
  },
  {
   "cell_type": "code",
   "execution_count": 12,
   "outputs": [
    {
     "data": {
      "text/plain": "CalibratedClassifierCV(base_estimator=RidgeClassifier())"
     },
     "execution_count": 12,
     "metadata": {},
     "output_type": "execute_result"
    }
   ],
   "source": [
    "clf_ridge = CalibratedClassifierCV(RidgeClassifier())\n",
    "clf_ridge.fit(xs, ys)"
   ],
   "metadata": {
    "collapsed": false,
    "pycharm": {
     "name": "#%%\n"
    }
   }
  },
  {
   "cell_type": "code",
   "execution_count": 13,
   "outputs": [
    {
     "name": "stdout",
     "output_type": "stream",
     "text": [
      "(236210, 3)\n",
      "\n",
      "mean = 13.090809025866813\n",
      "\n",
      "top0 = 0.0\n",
      "top1 = 0.1717116125481563\n",
      "top2 = 0.21177765547605945\n",
      "top3 = 0.23929554210236653\n",
      "top4 = 0.2572372041827188\n",
      "top5 = 0.2774903687396808\n",
      "top6 = 0.29862410566868464\n",
      "top7 = 0.31964777105118325\n",
      "top8 = 0.3403412217941662\n",
      "top9 = 0.3649972482113374\n",
      "top10 = 0.39020363236103467\n",
      "top11 = 0.41563015960374244\n",
      "top12 = 0.4434782608695652\n",
      "top13 = 0.4745184369840396\n",
      "top14 = 0.5079801871216291\n",
      "top15 = 0.5404512933406714\n",
      "top16 = 0.5771051183269125\n",
      "top17 = 0.6165107319757842\n",
      "top18 = 0.6595487066593285\n",
      "top19 = 0.7025866813428728\n",
      "top20 = 0.7476059438635113\n",
      "top21 = 0.7910842047330765\n",
      "top22 = 0.8309301045679692\n",
      "top23 = 0.8728673637864612\n",
      "top24 = 0.9093010456796918\n",
      "top25 = 0.9482663731425427\n",
      "top26 = 1.0\n"
     ]
    }
   ],
   "source": [
    "show_rank_metrics(\n",
    "    df_group=pd.DataFrame(data=test['group'].tolist(), columns=['group']),\n",
    "    df_proba=pd.DataFrame(data=clf_ridge.predict_proba(X_test)[:,1].tolist(), columns=['proba']),\n",
    "    df_true=pd.DataFrame(data=y_test.tolist(), columns=['correct'])\n",
    ")"
   ],
   "metadata": {
    "collapsed": false,
    "pycharm": {
     "name": "#%%\n"
    }
   }
  },
  {
   "cell_type": "code",
   "execution_count": 15,
   "outputs": [
    {
     "name": "stdout",
     "output_type": "stream",
     "text": [
      "#########################################################\n"
     ]
    }
   ],
   "source": [
    "print('#########################################################')"
   ],
   "metadata": {
    "collapsed": false,
    "pycharm": {
     "name": "#%%\n"
    }
   }
  },
  {
   "cell_type": "code",
   "execution_count": 2,
   "outputs": [],
   "source": [
    "train = pd.read_pickle('df_train_intr_s')\n",
    "y_train = train['correct']\n",
    "X_train = train.drop(columns=['group', 'correct'])\n",
    "\n",
    "test = pd.read_pickle('df_test_intr_s')\n",
    "y_test = test['correct']\n",
    "X_test = test.drop(columns=['group', 'correct'])\n",
    "\n",
    "valid = pd.read_pickle('df_valid_intr_s')\n",
    "y_valid = valid['correct']\n",
    "X_valid = valid.drop(columns=['group', 'correct'])"
   ],
   "metadata": {
    "collapsed": false,
    "pycharm": {
     "name": "#%%\n"
    }
   }
  },
  {
   "cell_type": "code",
   "execution_count": 6,
   "outputs": [],
   "source": [
    "xs = X_train.iloc[:10 ** 5, :]\n",
    "ys = y_train.iloc[:10 ** 5]"
   ],
   "metadata": {
    "collapsed": false,
    "pycharm": {
     "name": "#%%\n"
    }
   }
  },
  {
   "cell_type": "code",
   "execution_count": 3,
   "outputs": [],
   "source": [
    "clf_bern = MultinomialNB().fit(X_train, y_train)"
   ],
   "metadata": {
    "collapsed": false,
    "pycharm": {
     "name": "#%%\n"
    }
   }
  },
  {
   "cell_type": "code",
   "execution_count": 4,
   "outputs": [
    {
     "name": "stdout",
     "output_type": "stream",
     "text": [
      "test\n",
      "(227344, 3)\n",
      "\n",
      "mean = 6.1282021957914\n",
      "\n",
      "top0 = 0.0\n",
      "top1 = 0.38311985361390666\n",
      "top2 = 0.4782708142726441\n",
      "top3 = 0.5385407136322049\n",
      "top4 = 0.5870311070448307\n",
      "top5 = 0.6248856358645929\n",
      "top6 = 0.6579368709972553\n",
      "top7 = 0.6852698993595608\n",
      "top8 = 0.7089432753888381\n",
      "top9 = 0.7333028362305581\n",
      "top10 = 0.7596065873741995\n",
      "top11 = 0.7855672461116194\n",
      "top12 = 0.8084400731930467\n",
      "top13 = 0.8309698078682525\n",
      "top14 = 0.8532708142726441\n",
      "top15 = 0.8777447392497713\n",
      "top16 = 0.8955855443732845\n",
      "top17 = 0.9115965233302836\n",
      "top18 = 0.9298947849954254\n",
      "top19 = 0.9469350411710887\n",
      "top20 = 0.9586001829826166\n",
      "top21 = 0.9693504117108874\n",
      "top22 = 0.9776989935956084\n",
      "top23 = 0.9852470265324794\n",
      "top24 = 0.9898215919487648\n",
      "top25 = 0.994167429094236\n",
      "top26 = 1.0\n",
      "valid\n",
      "(121316, 3)\n",
      "\n",
      "mean = 6.345906558079726\n",
      "\n",
      "top0 = 0.0\n",
      "top1 = 0.356408058294042\n",
      "top2 = 0.454564937848264\n",
      "top3 = 0.5124303471924561\n",
      "top4 = 0.5593656236605229\n",
      "top5 = 0.5968709815687956\n",
      "top6 = 0.6343763394770682\n",
      "top7 = 0.6660951564509215\n",
      "top8 = 0.6948135447921132\n",
      "top9 = 0.7218174024860694\n",
      "top10 = 0.7528932704672096\n",
      "top11 = 0.7786112301757394\n",
      "top12 = 0.8039005572224603\n",
      "top13 = 0.8253321903129018\n",
      "top14 = 0.8489069867123875\n",
      "top15 = 0.8750535790827261\n",
      "top16 = 0.8971281611658808\n",
      "top17 = 0.9166309472781826\n",
      "top18 = 0.9318474067723961\n",
      "top19 = 0.9434204886412345\n",
      "top20 = 0.9592798971281612\n",
      "top21 = 0.9714959279897128\n",
      "top22 = 0.9804972138876983\n",
      "top23 = 0.9862837548221175\n",
      "top24 = 0.9907843977711102\n",
      "top25 = 0.9952850407201028\n",
      "top26 = 1.0\n"
     ]
    }
   ],
   "source": [
    "show_rank_metrics(\n",
    "    df_group=pd.DataFrame(data=test['group'].tolist(), columns=['group']),\n",
    "    df_proba=pd.DataFrame(data=clf_bern.predict_proba(X_test)[:,1].tolist(), columns=['proba']),\n",
    "    df_true=pd.DataFrame(data=y_test.tolist(), columns=['correct']),\n",
    "    label='test'\n",
    ")\n",
    "show_rank_metrics(\n",
    "    df_group=pd.DataFrame(data=valid['group'].tolist(), columns=['group']),\n",
    "    df_proba=pd.DataFrame(data=clf_bern.predict_proba(X_valid)[:,1].tolist(), columns=['proba']),\n",
    "    df_true=pd.DataFrame(data=y_valid.tolist(), columns=['correct']),\n",
    "    label='valid'\n",
    ")"
   ],
   "metadata": {
    "collapsed": false,
    "pycharm": {
     "name": "#%%\n"
    }
   }
  },
  {
   "cell_type": "code",
   "execution_count": null,
   "outputs": [],
   "source": [],
   "metadata": {
    "collapsed": false,
    "pycharm": {
     "name": "#%%\n"
    }
   }
  }
 ],
 "metadata": {
  "kernelspec": {
   "display_name": "Python 3",
   "language": "python",
   "name": "python3"
  },
  "language_info": {
   "codemirror_mode": {
    "name": "ipython",
    "version": 2
   },
   "file_extension": ".py",
   "mimetype": "text/x-python",
   "name": "python",
   "nbconvert_exporter": "python",
   "pygments_lexer": "ipython2",
   "version": "2.7.6"
  }
 },
 "nbformat": 4,
 "nbformat_minor": 0
}