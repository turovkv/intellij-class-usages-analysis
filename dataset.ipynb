{
 "cells": [
  {
   "cell_type": "code",
   "execution_count": 2,
   "metadata": {
    "collapsed": true,
    "pycharm": {
     "name": "#%%\n"
    }
   },
   "outputs": [],
   "source": [
    "import copy\n",
    "import glob\n",
    "import json\n",
    "import os\n",
    "import random\n",
    "import re\n",
    "from collections import Counter\n",
    "from random import shuffle\n",
    "\n",
    "import pandas as pd\n",
    "from sklearn.feature_extraction.text import CountVectorizer\n",
    "from sklearn.model_selection import train_test_split\n",
    "from sklearn.preprocessing import PolynomialFeatures\n",
    "import fastparquet"
   ]
  },
  {
   "cell_type": "code",
   "execution_count": 3,
   "outputs": [],
   "source": [
    "random.seed(0)"
   ],
   "metadata": {
    "collapsed": false,
    "pycharm": {
     "name": "#%%\n"
    }
   }
  },
  {
   "cell_type": "code",
   "execution_count": 4,
   "outputs": [
    {
     "name": "stdout",
     "output_type": "stream",
     "text": [
      "load files, build a graph, count indevidual usages \n",
      "10000 files loaded, for current file: direct_usages = 6 | direct_children = 0 \n",
      "20000 files loaded, for current file: direct_usages = 10 | direct_children = 0 \n",
      "30000 files loaded, for current file: direct_usages = 2 | direct_children = 0 \n",
      "40000 files loaded, for current file: direct_usages = 5 | direct_children = 0 \n",
      "50000 files loaded, for current file: direct_usages = 2 | direct_children = 0 \n",
      "53265 files processed \n"
     ]
    }
   ],
   "source": [
    "root_dir = \"/home/kirill/Documents/1.Projects/\" \\\n",
    "           \"class-ranking/intellij-community/\" \\\n",
    "           \"project-processing-results/processing/\" \\\n",
    "           \"java/classes/processing/0.0.1/\"\n",
    "\n",
    "cnt = 0\n",
    "individualUsages = {}  # {className -> {className -> count}}\n",
    "graph = {}  #{className -> [parentNames]}\n",
    "\n",
    "def good(usage) -> bool:\n",
    "    # {'TYPE', 'THIS_EXPRESSION', 'EXTENDS_LIST', 'IMPLEMENTS_LIST', 'METHOD_REF_EXPRESSION', 'EXPRESSION_LIST', 'NEW_EXPRESSION', 'CONDITIONAL_EXPRESSION', 'FIELD', 'ANNOTATION', 'THROWS_LIST', 'SUPER_EXPRESSION', 'JAVA_CODE_REFERENCE', 'REFERENCE_EXPRESSION', 'DOC_REFERENCE_HOLDER'}\n",
    "    if usage[\"features\"][\"referenceType\"] == \"ANNOTATION\":\n",
    "        return False\n",
    "    if usage[\"features\"][\"referenceType\"] == \"DOC_REFERENCE_HOLDER\":\n",
    "        return False\n",
    "    return True\n",
    "\n",
    "def addToUsages(data, individualUsages):\n",
    "    enclosingName = data[\"keyInfo\"][\"name\"]\n",
    "    c = Counter()\n",
    "    for usage in data['usages']:\n",
    "        if good(usage):\n",
    "            c.update([usage['name']])\n",
    "    individualUsages[enclosingName] = c\n",
    "\n",
    "def addToGraph(data, graph):\n",
    "    enclosingName = data[\"keyInfo\"][\"name\"]\n",
    "    extends = data[\"keyInfo\"][\"additionalInfo\"][\"enclosingClassExtendsList\"]\n",
    "    impls = data[\"keyInfo\"][\"additionalInfo\"][\"enclosingClassImplementsList\"]\n",
    "    if enclosingName not in graph:\n",
    "        graph[enclosingName] = set()\n",
    "    for par in (extends + impls):\n",
    "        if par not in graph:\n",
    "            graph[par] = set()\n",
    "        graph[par].update({enclosingName})\n",
    "\n",
    "\n",
    "print(f'load files, build a graph, count indevidual usages ')\n",
    "for filename in glob.glob(root_dir + '**/*.json', recursive=True):\n",
    "    #print(f'name {filename}')\n",
    "    with open(os.path.join(os.getcwd(), filename), 'r') as f:\n",
    "        data = json.load(f)\n",
    "        addToUsages(data, individualUsages)\n",
    "        addToGraph(data, graph)\n",
    "        cnt += 1\n",
    "        if cnt % 10**4 == 0:\n",
    "            print(f'{cnt} files loaded, for current file: direct_usages = {len(individualUsages[data[\"keyInfo\"][\"name\"]])} | direct_children = {len(graph[data[\"keyInfo\"][\"name\"]])} ')\n",
    "print(f'{cnt} files processed ')"
   ],
   "metadata": {
    "collapsed": false,
    "pycharm": {
     "name": "#%%\n"
    }
   }
  },
  {
   "cell_type": "code",
   "execution_count": 5,
   "outputs": [
    {
     "name": "stdout",
     "output_type": "stream",
     "text": [
      "10000 vertexes evalueted | in com.intellij.openapi.externalSystem.model.execution.ExternalSystemTaskExecutionSettings used 6 classes, 1 children\n",
      "20000 vertexes evalueted | in com.intellij.codeInspection.SimplifyCollectorInspection used 10 classes, 1 children\n",
      "30000 vertexes evalueted | in com.intellij.refactoring.changeSignature.ChangeSignatureParameterUsageInfo used 2 classes, 1 children\n",
      "40000 vertexes evalueted | in com.intellij.structuralsearch.impl.matcher.MatchResultImpl used 5 classes, 1 children\n",
      "50000 vertexes evalueted | in com.intellij.execution.actions.ChooseDebugConfigurationPopupAction used 2 classes, 1 children\n"
     ]
    }
   ],
   "source": [
    "familyUsages = {} # className -> usages in all children (className -> number)\n",
    "family = {} # className -> self and all children set(className)\n",
    "parent = {} # className -> className\n",
    "def dfs(v):\n",
    "    cur_usages = copy.deepcopy(individualUsages[v])\n",
    "    cur_family_set = {v}\n",
    "    for u in graph[v]:\n",
    "        if u not in family:\n",
    "            parent[u] = v\n",
    "            dfs(u)\n",
    "\n",
    "        u_usages, u_child_set = familyUsages[u], family[u]\n",
    "        cur_usages.update(u_usages)\n",
    "        cur_family_set.update(u_child_set)\n",
    "    familyUsages[v], family[v] = cur_usages, cur_family_set\n",
    "\n",
    "\n",
    "v_count = 0\n",
    "for v in individualUsages:\n",
    "    if v not in familyUsages:\n",
    "        dfs(v)\n",
    "    v_count += 1\n",
    "    if v_count % 10**4 == 0:\n",
    "        print(f'{v_count} vertexes evalueted | in {v} used {len(familyUsages[v])} classes, {len(family[v])} children')"
   ],
   "metadata": {
    "collapsed": false,
    "pycharm": {
     "name": "#%%\n"
    }
   }
  },
  {
   "cell_type": "code",
   "execution_count": 6,
   "outputs": [],
   "source": [
    "ROOT_CLASS = \"com.intellij.openapi.actionSystem.AnAction\"\n",
    "#print(familyUsages[ROOT_CLASS].most_common())"
   ],
   "metadata": {
    "collapsed": false,
    "pycharm": {
     "name": "#%%\n"
    }
   }
  },
  {
   "cell_type": "code",
   "execution_count": 7,
   "outputs": [],
   "source": [
    "train_test_classes = family[ROOT_CLASS]\n",
    "train_list, test_list = train_test_split(list(train_test_classes), train_size=0.7, random_state=0)\n",
    "test_list, valid_list = train_test_split(test_list, train_size=0.65, random_state=0)\n",
    "trainClasses = set(train_list)\n",
    "testClasses = set(test_list)\n",
    "validClasses = set(valid_list)"
   ],
   "metadata": {
    "collapsed": false,
    "pycharm": {
     "name": "#%%\n"
    }
   }
  },
  {
   "cell_type": "code",
   "execution_count": 8,
   "outputs": [],
   "source": [
    "train_usages = set()\n",
    "for c in trainClasses:\n",
    "    train_usages.update(individualUsages[c].keys())"
   ],
   "metadata": {
    "collapsed": false,
    "pycharm": {
     "name": "#%%\n"
    }
   }
  },
  {
   "cell_type": "code",
   "execution_count": 9,
   "outputs": [],
   "source": [
    "firstCharToNameList = {}\n",
    "for k, v in familyUsages[ROOT_CLASS].most_common():\n",
    "    if k not in train_usages:\n",
    "        continue\n",
    "    first_char = k.rpartition('.')[2][0]\n",
    "    if first_char not in firstCharToNameList:\n",
    "        firstCharToNameList[first_char] = []\n",
    "    firstCharToNameList[first_char].append(k)\n",
    "\n",
    "with open('FirstCharToNameList.txt', 'w') as convert_file:\n",
    "     convert_file.write(json.dumps(firstCharToNameList))\n",
    "\n",
    "# for k in firstCharToNameList:\n",
    "#     print(f'{k} {len(firstCharToNameList[k])}')"
   ],
   "metadata": {
    "collapsed": false,
    "pycharm": {
     "name": "#%%\n"
    }
   }
  },
  {
   "cell_type": "code",
   "execution_count": 10,
   "outputs": [],
   "source": [
    "firstCharToNameListSampling = {}\n",
    "for k, v in familyUsages[ROOT_CLASS].most_common():\n",
    "    if k not in train_usages:\n",
    "        continue\n",
    "    first_char = k.rpartition('.')[2][0]\n",
    "    if first_char not in firstCharToNameListSampling:\n",
    "        firstCharToNameListSampling[first_char] = []\n",
    "    firstCharToNameListSampling[first_char] += [k] * v\n",
    "\n",
    "for k in firstCharToNameListSampling:\n",
    "    shuffle(firstCharToNameListSampling[k])\n",
    "\n",
    "with open('FirstCharToNameListSampling.txt', 'w') as convert_file:\n",
    "     convert_file.write(json.dumps(firstCharToNameListSampling))"
   ],
   "metadata": {
    "collapsed": false,
    "pycharm": {
     "name": "#%%\n"
    }
   }
  },
  {
   "cell_type": "code",
   "execution_count": 11,
   "outputs": [],
   "source": [
    "def listToStr(df, col):\n",
    "    tmp = df[col].isnull(), col\n",
    "    df.loc[tmp] = df.loc[tmp].apply(lambda x: [])\n",
    "    df[col] = df[col].apply(lambda x: \" \".join(x) )"
   ],
   "metadata": {
    "collapsed": false,
    "pycharm": {
     "name": "#%%\n"
    }
   }
  },
  {
   "cell_type": "code",
   "execution_count": 12,
   "outputs": [
    {
     "name": "stdout",
     "output_type": "stream",
     "text": [
      "2810 files loaded, 618098 usages\n",
      "test shape (236210, 12)\n",
      "train shape (264186, 12)\n",
      "valid shape (117702, 12)\n"
     ]
    },
    {
     "data": {
      "text/plain": "name                              object\ncorrect                            int64\nfirstChar                         object\ngroup                              int64\nfeatures.referenceType            object\nfeatures.scopeKind                object\nfeatures.enclosingScopeName       object\nfeatures.enclosingClassName       object\nfeatures.variablesTypesInScope    object\nfeatures.insideStatement_0        object\nfeatures.insideStatement_1        object\nfeatures.insideStatement_2        object\ndtype: object"
     },
     "execution_count": 12,
     "metadata": {},
     "output_type": "execute_result"
    }
   ],
   "source": [
    "\n",
    "\n",
    "cnt = 0\n",
    "cntu = 0\n",
    "list_of_dfs_train = []\n",
    "list_of_dfs_test = []\n",
    "list_of_dfs_valid = []\n",
    "group_id = 0\n",
    "for filename in glob.glob(root_dir + '**/*.json', recursive=True):\n",
    "    enclosingClassName = filename.rpartition('/')[0].rpartition('/')[2]\n",
    "    if enclosingClassName not in train_test_classes:\n",
    "            continue\n",
    "    with open(os.path.join(os.getcwd(), filename), 'r') as f:\n",
    "        data = json.load(f)\n",
    "        data_usages = []\n",
    "        for usage in data[\"usages\"]:\n",
    "            if not good(usage):\n",
    "                continue\n",
    "            usage['correct'] = 1\n",
    "            usage['firstChar'] = usage['name'].rpartition('.')[2][0]\n",
    "            usage['group'] = group_id\n",
    "            group_id += 1\n",
    "            data_usages.append(usage)\n",
    "\n",
    "            if enclosingClassName in trainClasses:\n",
    "                negatives = 8\n",
    "            else:\n",
    "                negatives = 25\n",
    "\n",
    "            for i in range(negatives):\n",
    "                usage_negative = copy.deepcopy(usage)\n",
    "                while True:\n",
    "                    new_name = random.choice(firstCharToNameListSampling[usage['firstChar']]) #?\n",
    "                    if usage['name'] != new_name:\n",
    "                        usage_negative['name'] = new_name\n",
    "                        usage_negative['correct'] = 0\n",
    "                        break\n",
    "                data_usages.append(usage_negative)\n",
    "\n",
    "        df = pd.json_normalize(data_usages)\n",
    "        df['features.enclosingClassName'] = enclosingClassName\n",
    "\n",
    "        df = df.drop(columns=['filePath', 'textOffset', 'features.lineInFile'])\n",
    "        if enclosingClassName in trainClasses:\n",
    "            list_of_dfs_train.append(df)\n",
    "        if enclosingClassName in testClasses:\n",
    "            list_of_dfs_test.append(df)\n",
    "        if enclosingClassName in validClasses:\n",
    "            list_of_dfs_valid.append(df)\n",
    "        cntu += len(data_usages)\n",
    "        cnt += 1\n",
    "\n",
    "df_train_raw = pd.concat(list_of_dfs_train, axis=0, ignore_index=True)\n",
    "df_test_raw = pd.concat(list_of_dfs_test, axis=0, ignore_index=True)\n",
    "df_valid_raw = pd.concat(list_of_dfs_valid, axis=0, ignore_index=True)\n",
    "\n",
    "listToStr(df_train_raw, 'features.variablesTypesInScope')\n",
    "listToStr(df_test_raw, 'features.variablesTypesInScope')\n",
    "listToStr(df_valid_raw, 'features.variablesTypesInScope')\n",
    "df_train_raw.fillna('', inplace=True)\n",
    "df_test_raw.fillna('', inplace=True)\n",
    "df_valid_raw.fillna('', inplace=True)\n",
    "\n",
    "print(f'{cnt} files loaded, {cntu} usages')\n",
    "\n",
    "print(f'test shape {df_test_raw.shape}')\n",
    "print(f'train shape {df_train_raw.shape}')\n",
    "print(f'valid shape {df_valid_raw.shape}')\n",
    "df_train_raw.dtypes\n",
    "\n",
    "# will we know referenceType irl ?"
   ],
   "metadata": {
    "collapsed": false,
    "pycharm": {
     "name": "#%%\n"
    }
   }
  },
  {
   "cell_type": "code",
   "execution_count": 13,
   "outputs": [],
   "source": [
    "def splitCamelCase(name: str):\n",
    "    res = []\n",
    "    for rname in name.split(' '):\n",
    "        rname = rname.strip('.')\n",
    "        if '.' in rname:\n",
    "            rname = rname.rpartition('.')[2]\n",
    "        res += re.sub('([A-Z][a-z]+)', r' \\1', re.sub('([A-Z]+)', r' \\1', rname)).split()\n",
    "        #res += [rname]\n",
    "    return res"
   ],
   "metadata": {
    "collapsed": false,
    "pycharm": {
     "name": "#%%\n"
    }
   }
  },
  {
   "cell_type": "code",
   "execution_count": 14,
   "outputs": [],
   "source": [
    "def str_to_OHE_feature(df_train, df_test, df_valid, col, pref, max_features=85, replace_columns=True):\n",
    "    vectorizer_train = CountVectorizer(tokenizer=splitCamelCase, lowercase=False, max_features=max_features)\n",
    "    term_doc_matrix_train = vectorizer_train.fit_transform(df_train[col].values.astype('str'))\n",
    "\n",
    "    vectorizer_test_valid = CountVectorizer(tokenizer=splitCamelCase, lowercase=False, vocabulary=vectorizer_train.vocabulary_)\n",
    "    term_doc_matrix_test = vectorizer_test_valid.fit_transform(df_test[col].values.astype('str'))\n",
    "    term_doc_matrix_valid = vectorizer_test_valid.fit_transform(df_valid[col].values.astype('str'))\n",
    "\n",
    "    df_train_bow = pd.DataFrame(term_doc_matrix_train.toarray(), columns=vectorizer_train.get_feature_names_out())\n",
    "    df_test_bow = pd.DataFrame(term_doc_matrix_test.toarray(), columns=vectorizer_test_valid.get_feature_names_out())\n",
    "    df_valid_bow = pd.DataFrame(term_doc_matrix_valid.toarray(), columns=vectorizer_test_valid.get_feature_names_out())\n",
    "\n",
    "    df_train_bow = df_train_bow.astype(pd.SparseDtype(int, fill_value=0))\n",
    "    df_test_bow = df_test_bow.astype(pd.SparseDtype(int, fill_value=0))\n",
    "    df_valid_bow = df_valid_bow.astype(pd.SparseDtype(int, fill_value=0))\n",
    "\n",
    "    # df_train_bow = pd.DataFrame()\n",
    "    # for i, col in enumerate(vectorizer_train.get_feature_names_out()):\n",
    "    #     df_train_bow[col] = pd.SparseSeries(term_doc_matrix_train[:, i].toarray().ravel(), fill_value=0)\n",
    "    #\n",
    "    # df_test_bow = pd.DataFrame()\n",
    "    # for i, col in enumerate(vectorizer_test_valid.get_feature_names_out()):\n",
    "    #     df_test_bow[col] = pd.SparseSeries(term_doc_matrix_test[:, i].toarray().ravel(), fill_value=0)\n",
    "    #\n",
    "    # df_valid_bow = pd.DataFrame()\n",
    "    # for i, col in enumerate(vectorizer_test_valid.get_feature_names_out()):\n",
    "    #     df_valid_bow[col] = pd.SparseSeries(term_doc_matrix_test[:, i].toarray().ravel(), fill_value=0)\n",
    "\n",
    "\n",
    "    df_train_bow = df_train_bow.add_prefix(pref)\n",
    "    df_test_bow = df_test_bow.add_prefix(pref)\n",
    "    df_valid_bow = df_valid_bow.add_prefix(pref)\n",
    "\n",
    "    df_train = pd.concat([df_train, df_train_bow], axis=1)\n",
    "    df_test = pd.concat([df_test, df_test_bow], axis=1)\n",
    "    df_valid = pd.concat([df_valid, df_valid_bow], axis=1)\n",
    "\n",
    "    if replace_columns:\n",
    "        df_train = df_train.drop(columns=[col])\n",
    "        df_test = df_test.drop(columns=[col])\n",
    "        df_valid = df_valid.drop(columns=[col])\n",
    "\n",
    "    return df_train, df_test, df_valid"
   ],
   "metadata": {
    "collapsed": false,
    "pycharm": {
     "name": "#%%\n"
    }
   }
  },
  {
   "cell_type": "code",
   "execution_count": 15,
   "outputs": [
    {
     "name": "stdout",
     "output_type": "stream",
     "text": [
      "train0 ########## ------> :\n",
      "                                               name  correct firstChar  group  \\\n",
      "10  com.intellij.psi.impl.source.xml.XmlContentDFA        0         X      1   \n",
      "\n",
      "   features.referenceType features.scopeKind   features.enclosingScopeName  \\\n",
      "10                   TYPE             Method  startComputingSourcePosition   \n",
      "\n",
      "                          features.enclosingClassName  \\\n",
      "10  com.intellij.xdebugger.impl.ui.tree.actions.XJ...   \n",
      "\n",
      "   features.variablesTypesInScope features.insideStatement_0  \\\n",
      "10                                                             \n",
      "\n",
      "   features.insideStatement_1 features.insideStatement_2  \n",
      "10                                                        \n",
      "test0  ########## ------> :\n",
      "                                                  name  correct firstChar  \\\n",
      "10  com.intellij.codeInsight.documentation.Documen...        0         D   \n",
      "\n",
      "    group features.referenceType features.scopeKind  \\\n",
      "10    149           EXTENDS_LIST                      \n",
      "\n",
      "   features.enclosingScopeName features.variablesTypesInScope  \\\n",
      "10                                                              \n",
      "\n",
      "   features.insideStatement_0  \\\n",
      "10                              \n",
      "\n",
      "                          features.enclosingClassName  \\\n",
      "10  com.intellij.ide.lightEdit.actions.LightEditSa...   \n",
      "\n",
      "   features.insideStatement_1 features.insideStatement_2  \n",
      "10                                                        \n",
      "valid0  ########## ------> :\n",
      "                                                name  correct firstChar  group  \\\n",
      "10  com.intellij.openapi.actionSystem.AnActionEvent        0         A     24   \n",
      "\n",
      "   features.referenceType features.scopeKind features.enclosingScopeName  \\\n",
      "10           EXTENDS_LIST                                                  \n",
      "\n",
      "                          features.enclosingClassName  \\\n",
      "10  com.intellij.ide.palette.impl.PaletteWindow.Cl...   \n",
      "\n",
      "   features.variablesTypesInScope features.insideStatement_0  \\\n",
      "10                                                             \n",
      "\n",
      "   features.insideStatement_1 features.insideStatement_2  \n",
      "10                                                        \n",
      "train1 ########## ------> :\n",
      "                                               name  correct firstChar  group  \\\n",
      "10  com.intellij.psi.impl.source.xml.XmlContentDFA        0         X      1   \n",
      "\n",
      "    name_Abstract  name_Action  name_Actions  name_All  name_An  \\\n",
      "10              0            0             0         0        0   \n",
      "\n",
      "    name_Application  ...  insideStatement1_while_body  \\\n",
      "10                 0  ...                            0   \n",
      "\n",
      "    insideStatement2_finally  insideStatement2_for_body  \\\n",
      "10                         0                          0   \n",
      "\n",
      "    insideStatement2_foreach_body  insideStatement2_if_else_body  \\\n",
      "10                              0                              0   \n",
      "\n",
      "    insideStatement2_if_then_body  insideStatement2_return  \\\n",
      "10                              0                        0   \n",
      "\n",
      "    insideStatement2_ternary_else  insideStatement2_try  \\\n",
      "10                              0                     0   \n",
      "\n",
      "    insideStatement2_while_body  \n",
      "10                            0  \n",
      "\n",
      "[1 rows x 416 columns]\n",
      "test1  ########## ------> :\n",
      "                                                  name  correct firstChar  \\\n",
      "10  com.intellij.codeInsight.documentation.Documen...        0         D   \n",
      "\n",
      "    group  name_Abstract  name_Action  name_Actions  name_All  name_An  \\\n",
      "10    149              0            0             0         0        0   \n",
      "\n",
      "    name_Application  ...  insideStatement1_while_body  \\\n",
      "10                 0  ...                            0   \n",
      "\n",
      "    insideStatement2_finally  insideStatement2_for_body  \\\n",
      "10                         0                          0   \n",
      "\n",
      "    insideStatement2_foreach_body  insideStatement2_if_else_body  \\\n",
      "10                              0                              0   \n",
      "\n",
      "    insideStatement2_if_then_body  insideStatement2_return  \\\n",
      "10                              0                        0   \n",
      "\n",
      "    insideStatement2_ternary_else  insideStatement2_try  \\\n",
      "10                              0                     0   \n",
      "\n",
      "    insideStatement2_while_body  \n",
      "10                            0  \n",
      "\n",
      "[1 rows x 416 columns]\n",
      "valid1  ########## ------> :\n",
      "                                                name  correct firstChar  group  \\\n",
      "10  com.intellij.openapi.actionSystem.AnActionEvent        0         A     24   \n",
      "\n",
      "    name_Abstract  name_Action  name_Actions  name_All  name_An  \\\n",
      "10              0            1             0         0        1   \n",
      "\n",
      "    name_Application  ...  insideStatement1_while_body  \\\n",
      "10                 0  ...                            0   \n",
      "\n",
      "    insideStatement2_finally  insideStatement2_for_body  \\\n",
      "10                         0                          0   \n",
      "\n",
      "    insideStatement2_foreach_body  insideStatement2_if_else_body  \\\n",
      "10                              0                              0   \n",
      "\n",
      "    insideStatement2_if_then_body  insideStatement2_return  \\\n",
      "10                              0                        0   \n",
      "\n",
      "    insideStatement2_ternary_else  insideStatement2_try  \\\n",
      "10                              0                     0   \n",
      "\n",
      "    insideStatement2_while_body  \n",
      "10                            0  \n",
      "\n",
      "[1 rows x 416 columns]\n"
     ]
    }
   ],
   "source": [
    "df_train, df_test, df_valid = df_train_raw, df_test_raw, df_valid_raw\n",
    "print(f'train0 ########## ------> :\\n {df_train.loc[[10]]}')\n",
    "print(f'test0  ########## ------> :\\n {df_test.loc[[10]]}')\n",
    "print(f'valid0  ########## ------> :\\n {df_valid.loc[[10]]}')\n",
    "df_train, df_test, df_valid = str_to_OHE_feature(df_train, df_test, df_valid, 'name', pref='name_', max_features=100, replace_columns=False)\n",
    "df_train, df_test, df_valid = str_to_OHE_feature(df_train, df_test, df_valid, 'features.enclosingScopeName', pref='enclosingScopeName_')\n",
    "df_train, df_test, df_valid = str_to_OHE_feature(df_train, df_test, df_valid, 'features.enclosingClassName', pref='enclosingClassName_')\n",
    "df_train, df_test, df_valid = str_to_OHE_feature(df_train, df_test, df_valid, 'features.variablesTypesInScope', pref='variablesTypesInScope_')\n",
    "df_train, df_test, df_valid = str_to_OHE_feature(df_train, df_test, df_valid, 'features.referenceType', pref='referenceType_') # ?????????????????????????????????????????????????/\n",
    "df_train, df_test, df_valid = str_to_OHE_feature(df_train, df_test, df_valid, 'features.scopeKind', pref='scopeKind_')\n",
    "df_train, df_test, df_valid = str_to_OHE_feature(df_train, df_test, df_valid, 'features.insideStatement_0', pref='insideStatement0_')\n",
    "df_train, df_test, df_valid = str_to_OHE_feature(df_train, df_test, df_valid, 'features.insideStatement_1', pref='insideStatement1_')\n",
    "df_train, df_test, df_valid = str_to_OHE_feature(df_train, df_test, df_valid, 'features.insideStatement_2', pref='insideStatement2_')\n",
    "\n",
    "\n",
    "#firstChar,features.referenceType,features.scopeKind,features.insideStatement_0,features.insideStatement_1,features.insideStatement_2\n",
    "\n",
    "print(f'train1 ########## ------> :\\n {df_train.loc[[10]]}')\n",
    "print(f'test1  ########## ------> :\\n {df_test.loc[[10]]}')\n",
    "print(f'valid1  ########## ------> :\\n {df_valid.loc[[10]]}')\n"
   ],
   "metadata": {
    "collapsed": false,
    "pycharm": {
     "name": "#%%\n"
    }
   }
  },
  {
   "cell_type": "code",
   "execution_count": 16,
   "outputs": [],
   "source": [
    "df_train.to_csv('train.csv')\n",
    "df_train_raw.to_csv('train_raw.csv')\n",
    "\n",
    "df_test.to_csv('test.csv')\n",
    "df_test_raw.to_csv('test_raw.csv')\n",
    "\n",
    "df_valid.to_csv('valid.csv')\n",
    "df_valid_raw.to_csv('valid_raw.csv')"
   ],
   "metadata": {
    "collapsed": false,
    "pycharm": {
     "name": "#%%\n"
    }
   }
  },
  {
   "cell_type": "code",
   "execution_count": 17,
   "outputs": [
    {
     "name": "stdout",
     "output_type": "stream",
     "text": [
      "train ########## ------> : (264186, 416)\n",
      "test ########## ------> : (236210, 416)\n",
      "valid ########## ------> : (117702, 416)\n"
     ]
    }
   ],
   "source": [
    "print(f'train ########## ------> : {df_train.shape}')\n",
    "print(f'test ########## ------> : {df_test.shape}')\n",
    "print(f'valid ########## ------> : {df_valid.shape}')"
   ],
   "metadata": {
    "collapsed": false,
    "pycharm": {
     "name": "#%%\n"
    }
   }
  },
  {
   "cell_type": "code",
   "execution_count": 18,
   "outputs": [],
   "source": [
    "s_tr = df_train.drop(columns=['name', 'firstChar', 'group']).sum().div(df_train.shape[0]).mul(100)\n",
    "s_te = df_test.drop(columns=['name', 'firstChar', 'group']).sum().div(df_test.shape[0]).mul(100)\n",
    "\n"
   ],
   "metadata": {
    "collapsed": false,
    "pycharm": {
     "name": "#%%\n"
    }
   }
  },
  {
   "cell_type": "code",
   "execution_count": 20,
   "outputs": [
    {
     "data": {
      "text/plain": "2.707155368100214"
     },
     "execution_count": 20,
     "metadata": {},
     "output_type": "execute_result"
    }
   ],
   "source": [
    "s_tr.sort_values(ascending=[False]).sum() / df_test.shape[1]"
   ],
   "metadata": {
    "collapsed": false,
    "pycharm": {
     "name": "#%%\n"
    }
   }
  },
  {
   "cell_type": "code",
   "execution_count": 21,
   "outputs": [
    {
     "data": {
      "text/plain": "<Figure size 1440x720 with 1 Axes>",
      "image/png": "[encoded data removed]"
     },
     "metadata": {
      "needs_background": "light"
     },
     "output_type": "display_data"
    }
   ],
   "source": [
    "import numpy as np\n",
    "from matplotlib import pyplot as plt\n",
    "\n",
    "plt.figure(figsize=(20, 10))\n",
    "plt.plot(np.arange(s_tr.shape[0]), s_tr.sort_values(ascending=[False]).to_list())\n",
    "plt.yscale('log')\n",
    "plt.show()"
   ],
   "metadata": {
    "collapsed": false,
    "pycharm": {
     "name": "#%%\n"
    }
   }
  },
  {
   "cell_type": "code",
   "execution_count": null,
   "outputs": [],
   "source": [
    "print(\"Build dataset with feature interaction\")\n",
    "assert False"
   ],
   "metadata": {
    "collapsed": false,
    "pycharm": {
     "name": "#%%\n"
    }
   }
  },
  {
   "cell_type": "code",
   "execution_count": 28,
   "outputs": [
    {
     "name": "stdout",
     "output_type": "stream",
     "text": [
      "name_Abstract                    Sparse[int64, 0]\n",
      "name_Action                      Sparse[int64, 0]\n",
      "name_Actions                     Sparse[int64, 0]\n",
      "name_All                         Sparse[int64, 0]\n",
      "name_An                          Sparse[int64, 0]\n",
      "                                       ...       \n",
      "insideStatement2_if_then_body    Sparse[int64, 0]\n",
      "insideStatement2_return          Sparse[int64, 0]\n",
      "insideStatement2_ternary_else    Sparse[int64, 0]\n",
      "insideStatement2_try             Sparse[int64, 0]\n",
      "insideStatement2_while_body      Sparse[int64, 0]\n",
      "Length: 412, dtype: object\n",
      "name_Abstract                    Sparse[int64, 0]\n",
      "name_Action                      Sparse[int64, 0]\n",
      "name_Actions                     Sparse[int64, 0]\n",
      "name_All                         Sparse[int64, 0]\n",
      "name_An                          Sparse[int64, 0]\n",
      "                                       ...       \n",
      "insideStatement2_if_then_body    Sparse[int64, 0]\n",
      "insideStatement2_return          Sparse[int64, 0]\n",
      "insideStatement2_ternary_else    Sparse[int64, 0]\n",
      "insideStatement2_try             Sparse[int64, 0]\n",
      "insideStatement2_while_body      Sparse[int64, 0]\n",
      "Length: 412, dtype: object\n",
      "--------\n",
      "correct    int64\n",
      "group      int64\n",
      "dtype: object\n"
     ]
    }
   ],
   "source": [
    "print(df_train.dtypes)\n",
    "#df_train.to_pickle('train_sparse.prq')\n",
    "\n",
    "# df_train_meta, df_train = df_train[['correct', 'group']], df_train.drop(columns=['correct', 'group', 'name', 'firstChar'])\n",
    "# df_test_meta, df_test = df_test[['correct', 'group']], df_test.drop(columns=['correct', 'group', 'name', 'firstChar'])\n",
    "# df_valid_meta, df_valid = df_valid[['correct', 'group']], df_valid.drop(columns=['correct', 'group', 'name', 'firstChar'])\n",
    "\n",
    "print(df_train.dtypes)\n",
    "print('--------')\n",
    "print(df_train_meta.dtypes)"
   ],
   "metadata": {
    "collapsed": false,
    "pycharm": {
     "name": "#%%\n"
    }
   }
  },
  {
   "cell_type": "code",
   "execution_count": 34,
   "outputs": [
    {
     "data": {
      "text/plain": "Index(['name_Abstract', 'name_Action', 'name_Actions', 'name_All', 'name_An',\n       'name_Application', 'name_Aware', 'name_Base', 'name_Bundle',\n       'name_Change',\n       ...\n       'insideStatement1_while_body', 'insideStatement2_finally',\n       'insideStatement2_for_body', 'insideStatement2_foreach_body',\n       'insideStatement2_if_else_body', 'insideStatement2_if_then_body',\n       'insideStatement2_return', 'insideStatement2_ternary_else',\n       'insideStatement2_try', 'insideStatement2_while_body'],\n      dtype='object', length=412)"
     },
     "execution_count": 34,
     "metadata": {},
     "output_type": "execute_result"
    }
   ],
   "source": [
    "df_train.columns"
   ],
   "metadata": {
    "collapsed": false,
    "pycharm": {
     "name": "#%%\n"
    }
   }
  },
  {
   "cell_type": "code",
   "execution_count": null,
   "outputs": [],
   "source": [],
   "metadata": {
    "collapsed": false,
    "pycharm": {
     "name": "#%%\n"
    }
   }
  },
  {
   "cell_type": "code",
   "execution_count": null,
   "outputs": [],
   "source": [],
   "metadata": {
    "collapsed": false,
    "pycharm": {
     "name": "#%%\n"
    }
   }
  },
  {
   "cell_type": "code",
   "execution_count": null,
   "outputs": [],
   "source": [
    "df_train_intr, df_test_intr, df_valid_intr = df_train_raw, df_test_raw, df_valid_raw\n",
    "print(f'train0 ########## ------> :\\n {df_train.loc[[10]]}')\n",
    "print(f'test0  ########## ------> :\\n {df_test.loc[[10]]}')\n",
    "print(f'valid0  ########## ------> :\\n {df_valid.loc[[10]]}')\n",
    "df_train_intr, df_test_intr, df_valid_intr = str_to_OHE_feature(df_train_intr, df_test_intr, df_valid_intr, 'name', max_features=60, pref='name_',  replace_columns=False)\n",
    "df_train_intr, df_test_intr, df_valid_intr = str_to_OHE_feature(df_train_intr, df_test_intr, df_valid_intr, 'features.enclosingScopeName', max_features=25, pref='enclosingScopeName_')\n",
    "df_train_intr, df_test_intr, df_valid_intr = str_to_OHE_feature(df_train_intr, df_test_intr, df_valid_intr, 'features.enclosingClassName', max_features=25, pref='enclosingClassName_')\n",
    "df_train_intr, df_test_intr, df_valid_intr = str_to_OHE_feature(df_train_intr, df_test_intr, df_valid_intr, 'features.variablesTypesInScope', max_features=25, pref='variablesTypesInScope_')\n",
    "df_train_intr, df_test_intr, df_valid_intr = str_to_OHE_feature(df_train_intr, df_test_intr, df_valid_intr, 'features.referenceType', pref='referenceType_')\n",
    "df_train_intr, df_test_intr, df_valid_intr = str_to_OHE_feature(df_train_intr, df_test_intr, df_valid_intr, 'features.scopeKind', pref='scopeKind_')\n",
    "df_train_intr, df_test_intr, df_valid_intr = str_to_OHE_feature(df_train_intr, df_test_intr, df_valid_intr, 'features.insideStatement_0', pref='insideStatement0_')\n",
    "df_train_intr, df_test_intr, df_valid_intr = str_to_OHE_feature(df_train_intr, df_test_intr, df_valid_intr, 'features.insideStatement_1', pref='insideStatement1_')\n",
    "df_train_intr, df_test_intr, df_valid_intr = str_to_OHE_feature(df_train_intr, df_test_intr, df_valid_intr, 'features.insideStatement_2', pref='insideStatement2_')\n",
    "\n",
    "\n",
    "print(f'train1 ########## ------> :\\n {df_train_intr.loc[[10]]}')\n",
    "print(f'test1  ########## ------> :\\n {df_test_intr.loc[[10]]}')\n",
    "print(f'valid1  ########## ------> :\\n {df_valid_intr.loc[[10]]}')"
   ],
   "metadata": {
    "collapsed": false,
    "pycharm": {
     "name": "#%%\n"
    }
   }
  },
  {
   "cell_type": "code",
   "execution_count": null,
   "outputs": [],
   "source": [
    "print(f'train ########## ------> : {df_train_intr.shape}')\n",
    "print(f'test ########## ------> : {df_test_intr.shape}')\n",
    "print(f'valid ########## ------> : {df_valid_intr.shape}')"
   ],
   "metadata": {
    "collapsed": false,
    "pycharm": {
     "name": "#%%\n"
    }
   }
  },
  {
   "cell_type": "code",
   "execution_count": 30,
   "outputs": [
    {
     "name": "stdout",
     "output_type": "stream",
     "text": [
      "go\n",
      "1\n",
      "2\n",
      "3\n"
     ]
    }
   ],
   "source": [
    "# df_train_intr = df_train_intr.drop(columns=['name', 'firstChar', 'group', 'correct'])\n",
    "# df_test_intr = df_test_intr.drop(columns=['name', 'firstChar', 'group', 'correct'])\n",
    "# df_valid_intr = df_valid_intr.drop(columns=['name', 'firstChar', 'group', 'correct'])\n",
    "\n",
    "poly = PolynomialFeatures(interaction_only=True, include_bias=False)\n",
    "print('go')\n",
    "df_train_intr = poly.fit_transform(df_train)\n",
    "print('1')\n",
    "df_test_intr = poly.fit_transform(df_test)\n",
    "print('2')\n",
    "df_valid_intr = poly.fit_transform(df_valid)\n",
    "print('3')\n",
    "\n",
    "\n"
   ],
   "metadata": {
    "collapsed": false,
    "pycharm": {
     "name": "#%%\n"
    }
   }
  },
  {
   "cell_type": "code",
   "execution_count": 31,
   "outputs": [
    {
     "name": "stdout",
     "output_type": "stream",
     "text": [
      "train ########## ------> : (264186, 85078)\n",
      "test ########## ------> : (236210, 85078)\n",
      "valid ########## ------> : (117702, 85078)\n"
     ]
    }
   ],
   "source": [
    "print(f'train ########## ------> : {df_train_intr.shape}')\n",
    "print(f'test ########## ------> : {df_test_intr.shape}')\n",
    "print(f'valid ########## ------> : {df_valid_intr.shape}')"
   ],
   "metadata": {
    "collapsed": false,
    "pycharm": {
     "name": "#%%\n"
    }
   }
  },
  {
   "cell_type": "code",
   "execution_count": 38,
   "outputs": [
    {
     "data": {
      "text/plain": "['name_Abstract',\n 'name_Action',\n 'name_Actions',\n 'name_All',\n 'name_An',\n 'name_Application',\n 'name_Aware',\n 'name_Base',\n 'name_Bundle',\n 'name_Change',\n 'name_Class',\n 'name_Code',\n 'name_Common',\n 'name_Component',\n 'name_Configuration',\n 'name_Container',\n 'name_Content',\n 'name_Context',\n 'name_Data',\n 'name_Debugger',\n 'name_Default',\n 'name_Descriptor',\n 'name_Dialog',\n 'name_Diff',\n 'name_Directory',\n 'name_Document',\n 'name_Dumb',\n 'name_Editor',\n 'name_Element',\n 'name_Event',\n 'name_Ex',\n 'name_Execution',\n 'name_External',\n 'name_Factory',\n 'name_File',\n 'name_Git',\n 'name_Group',\n 'name_Handler',\n 'name_Hg',\n 'name_Icons',\n 'name_Ide',\n 'name_Impl',\n 'name_Info',\n 'name_Insight',\n 'name_Inspection',\n 'name_Item',\n 'name_JB',\n 'name_Java',\n 'name_Keys',\n 'name_List',\n 'name_Log',\n 'name_Logger',\n 'name_Manager',\n 'name_Maven',\n 'name_Messages',\n 'name_Model',\n 'name_Module',\n 'name_Nls',\n 'name_Node',\n 'name_Panel',\n 'name_Path',\n 'name_Places',\n 'name_Platform',\n 'name_Popup',\n 'name_Presentation',\n 'name_Processor',\n 'name_Project',\n 'name_Properties',\n 'name_Provider',\n 'name_Psi',\n 'name_Rad',\n 'name_Repository',\n 'name_Root',\n 'name_Run',\n 'name_Scope',\n 'name_Search',\n 'name_Service',\n 'name_Settings',\n 'name_String',\n 'name_System',\n 'name_Task',\n 'name_Template',\n 'name_Test',\n 'name_Text',\n 'name_To',\n 'name_Toggle',\n 'name_Tool',\n 'name_Tree',\n 'name_Type',\n 'name_UI',\n 'name_Ui',\n 'name_Usage',\n 'name_Util',\n 'name_Value',\n 'name_Vcs',\n 'name_View',\n 'name_Virtual',\n 'name_Window',\n 'name_X',\n 'name_Xml',\n 'enclosingScopeName_<clinit>',\n 'enclosingScopeName_<init>',\n 'enclosingScopeName_Action',\n 'enclosingScopeName_Actions',\n 'enclosingScopeName_Add',\n 'enclosingScopeName_And',\n 'enclosingScopeName_Available',\n 'enclosingScopeName_Caret',\n 'enclosingScopeName_Changes',\n 'enclosingScopeName_Children',\n 'enclosingScopeName_Class',\n 'enclosingScopeName_Component',\n 'enclosingScopeName_Content',\n 'enclosingScopeName_Context',\n 'enclosingScopeName_Create',\n 'enclosingScopeName_Current',\n 'enclosingScopeName_Custom',\n 'enclosingScopeName_Data',\n 'enclosingScopeName_Dialog',\n 'enclosingScopeName_Diff',\n 'enclosingScopeName_Directory',\n 'enclosingScopeName_Editor',\n 'enclosingScopeName_Element',\n 'enclosingScopeName_Elements',\n 'enclosingScopeName_Enabled',\n 'enclosingScopeName_File',\n 'enclosingScopeName_Files',\n 'enclosingScopeName_For',\n 'enclosingScopeName_From',\n 'enclosingScopeName_Group',\n 'enclosingScopeName_Handler',\n 'enclosingScopeName_In',\n 'enclosingScopeName_Items',\n 'enclosingScopeName_Line',\n 'enclosingScopeName_List',\n 'enclosingScopeName_Model',\n 'enclosingScopeName_Module',\n 'enclosingScopeName_Name',\n 'enclosingScopeName_New',\n 'enclosingScopeName_Nodes',\n 'enclosingScopeName_On',\n 'enclosingScopeName_Or',\n 'enclosingScopeName_Panel',\n 'enclosingScopeName_Perform',\n 'enclosingScopeName_Performed',\n 'enclosingScopeName_Popup',\n 'enclosingScopeName_Project',\n 'enclosingScopeName_Psi',\n 'enclosingScopeName_Refactoring',\n 'enclosingScopeName_Run',\n 'enclosingScopeName_Selected',\n 'enclosingScopeName_Target',\n 'enclosingScopeName_Template',\n 'enclosingScopeName_Text',\n 'enclosingScopeName_To',\n 'enclosingScopeName_Tree',\n 'enclosingScopeName_Unversioned',\n 'enclosingScopeName_Update',\n 'enclosingScopeName_Valid',\n 'enclosingScopeName_Vcs',\n 'enclosingScopeName_View',\n 'enclosingScopeName_Visible',\n 'enclosingScopeName_With',\n 'enclosingScopeName_action',\n 'enclosingScopeName_add',\n 'enclosingScopeName_apply',\n 'enclosingScopeName_build',\n 'enclosingScopeName_can',\n 'enclosingScopeName_collect',\n 'enclosingScopeName_compute',\n 'enclosingScopeName_create',\n 'enclosingScopeName_do',\n 'enclosingScopeName_execute',\n 'enclosingScopeName_fill',\n 'enclosingScopeName_find',\n 'enclosingScopeName_get',\n 'enclosingScopeName_has',\n 'enclosingScopeName_invoke',\n 'enclosingScopeName_is',\n 'enclosingScopeName_perform',\n 'enclosingScopeName_process',\n 'enclosingScopeName_run',\n 'enclosingScopeName_set',\n 'enclosingScopeName_show',\n 'enclosingScopeName_update',\n 'enclosingClassName_Abstract',\n 'enclosingClassName_Action',\n 'enclosingClassName_Actions',\n 'enclosingClassName_Add',\n 'enclosingClassName_Affected',\n 'enclosingClassName_All',\n 'enclosingClassName_Annotate',\n 'enclosingClassName_As',\n 'enclosingClassName_Base',\n 'enclosingClassName_Branch',\n 'enclosingClassName_By',\n 'enclosingClassName_Change',\n 'enclosingClassName_Changes',\n 'enclosingClassName_Close',\n 'enclosingClassName_Code',\n 'enclosingClassName_Compare',\n 'enclosingClassName_Component',\n 'enclosingClassName_Configuration',\n 'enclosingClassName_Copy',\n 'enclosingClassName_Create',\n 'enclosingClassName_Default',\n 'enclosingClassName_Delete',\n 'enclosingClassName_Delombok',\n 'enclosingClassName_Diff',\n 'enclosingClassName_Dump',\n 'enclosingClassName_Edit',\n 'enclosingClassName_Editor',\n 'enclosingClassName_Element',\n 'enclosingClassName_External',\n 'enclosingClassName_Favorites',\n 'enclosingClassName_File',\n 'enclosingClassName_Files',\n 'enclosingClassName_Filter',\n 'enclosingClassName_Find',\n 'enclosingClassName_From',\n 'enclosingClassName_Generate',\n 'enclosingClassName_Git',\n 'enclosingClassName_Goto',\n 'enclosingClassName_Group',\n 'enclosingClassName_Hg',\n 'enclosingClassName_History',\n 'enclosingClassName_In',\n 'enclosingClassName_Inspection',\n 'enclosingClassName_Line',\n 'enclosingClassName_List',\n 'enclosingClassName_Log',\n 'enclosingClassName_Mode',\n 'enclosingClassName_Module',\n 'enclosingClassName_Move',\n 'enclosingClassName_My',\n 'enclosingClassName_New',\n 'enclosingClassName_Open',\n 'enclosingClassName_Path',\n 'enclosingClassName_Popup',\n 'enclosingClassName_Project',\n 'enclosingClassName_Quick',\n 'enclosingClassName_Remove',\n 'enclosingClassName_Revision',\n 'enclosingClassName_Run',\n 'enclosingClassName_Save',\n 'enclosingClassName_Select',\n 'enclosingClassName_Selected',\n 'enclosingClassName_Selection',\n 'enclosingClassName_Set',\n 'enclosingClassName_Settings',\n 'enclosingClassName_Show',\n 'enclosingClassName_Source',\n 'enclosingClassName_Switch',\n 'enclosingClassName_Tab',\n 'enclosingClassName_Tag',\n 'enclosingClassName_Task',\n 'enclosingClassName_Template',\n 'enclosingClassName_Test',\n 'enclosingClassName_Tests',\n 'enclosingClassName_Text',\n 'enclosingClassName_To',\n 'enclosingClassName_Toggle',\n 'enclosingClassName_Tool',\n 'enclosingClassName_Tree',\n 'enclosingClassName_Type',\n 'enclosingClassName_Vcs',\n 'enclosingClassName_View',\n 'enclosingClassName_Window',\n 'enclosingClassName_With',\n 'enclosingClassName_X',\n 'variablesTypesInScope_Abstract',\n 'variablesTypesInScope_Action',\n 'variablesTypesInScope_An',\n 'variablesTypesInScope_And',\n 'variablesTypesInScope_Annotation',\n 'variablesTypesInScope_Array',\n 'variablesTypesInScope_Builder',\n 'variablesTypesInScope_Change',\n 'variablesTypesInScope_Class',\n 'variablesTypesInScope_Collection',\n 'variablesTypesInScope_Component',\n 'variablesTypesInScope_Configuration',\n 'variablesTypesInScope_Consumer',\n 'variablesTypesInScope_Content',\n 'variablesTypesInScope_Context',\n 'variablesTypesInScope_Data',\n 'variablesTypesInScope_Debugger',\n 'variablesTypesInScope_Default',\n 'variablesTypesInScope_Descriptor',\n 'variablesTypesInScope_Dialog',\n 'variablesTypesInScope_Diff',\n 'variablesTypesInScope_Directory',\n 'variablesTypesInScope_Document',\n 'variablesTypesInScope_Editor',\n 'variablesTypesInScope_Element',\n 'variablesTypesInScope_Element[]',\n 'variablesTypesInScope_Entry',\n 'variablesTypesInScope_Event',\n 'variablesTypesInScope_Ex',\n 'variablesTypesInScope_Exception',\n 'variablesTypesInScope_File',\n 'variablesTypesInScope_File[]',\n 'variablesTypesInScope_Git',\n 'variablesTypesInScope_Group',\n 'variablesTypesInScope_Handler',\n 'variablesTypesInScope_Id',\n 'variablesTypesInScope_Impl',\n 'variablesTypesInScope_Info',\n 'variablesTypesInScope_Inspection',\n 'variablesTypesInScope_Item',\n 'variablesTypesInScope_J',\n 'variablesTypesInScope_JB',\n 'variablesTypesInScope_Language',\n 'variablesTypesInScope_List',\n 'variablesTypesInScope_Log',\n 'variablesTypesInScope_Manager',\n 'variablesTypesInScope_Map',\n 'variablesTypesInScope_Model',\n 'variablesTypesInScope_Module',\n 'variablesTypesInScope_Node',\n 'variablesTypesInScope_Object',\n 'variablesTypesInScope_Panel',\n 'variablesTypesInScope_Path',\n 'variablesTypesInScope_Popup',\n 'variablesTypesInScope_Presentation',\n 'variablesTypesInScope_Process',\n 'variablesTypesInScope_Project',\n 'variablesTypesInScope_Provider',\n 'variablesTypesInScope_Psi',\n 'variablesTypesInScope_Ref',\n 'variablesTypesInScope_Repository',\n 'variablesTypesInScope_Revision',\n 'variablesTypesInScope_Root',\n 'variablesTypesInScope_Run',\n 'variablesTypesInScope_Runnable',\n 'variablesTypesInScope_Runner',\n 'variablesTypesInScope_Scope',\n 'variablesTypesInScope_Session',\n 'variablesTypesInScope_Set',\n 'variablesTypesInScope_Settings',\n 'variablesTypesInScope_String',\n 'variablesTypesInScope_System',\n 'variablesTypesInScope_Task',\n 'variablesTypesInScope_Tool',\n 'variablesTypesInScope_Tree',\n 'variablesTypesInScope_Type',\n 'variablesTypesInScope_Value',\n 'variablesTypesInScope_Vcs',\n 'variablesTypesInScope_View',\n 'variablesTypesInScope_Virtual',\n 'variablesTypesInScope_Window',\n 'variablesTypesInScope_X',\n 'variablesTypesInScope_Xml',\n 'variablesTypesInScope_boolean',\n 'variablesTypesInScope_int',\n 'referenceType_CODE_',\n 'referenceType_EXPRESSION',\n 'referenceType_EXTENDS_',\n 'referenceType_IMPLEMENTS_',\n 'referenceType_JAVA_',\n 'referenceType_LIST',\n 'referenceType_METHOD_',\n 'referenceType_NEW_',\n 'referenceType_REFERENCE',\n 'referenceType_REFERENCE_',\n 'referenceType_REF_',\n 'referenceType_THIS_',\n 'referenceType_THROWS_',\n 'referenceType_TYPE',\n 'scopeKind_Initializer',\n 'scopeKind_Lambda',\n 'scopeKind_Method',\n 'insideStatement0_catch',\n 'insideStatement0_finally',\n 'insideStatement0_for_body',\n 'insideStatement0_for_initialization',\n 'insideStatement0_for_update',\n 'insideStatement0_foreach_body',\n 'insideStatement0_foreach_iterable',\n 'insideStatement0_if_condition',\n 'insideStatement0_if_else_body',\n 'insideStatement0_if_then_body',\n 'insideStatement0_return',\n 'insideStatement0_switch',\n 'insideStatement0_ternary_condition',\n 'insideStatement0_ternary_else',\n 'insideStatement0_ternary_then',\n 'insideStatement0_try',\n 'insideStatement0_try_with_resources',\n 'insideStatement0_while_body',\n 'insideStatement0_while_condition',\n 'insideStatement1_catch',\n 'insideStatement1_finally',\n 'insideStatement1_for_body',\n 'insideStatement1_foreach_body',\n 'insideStatement1_if_else_body',\n 'insideStatement1_if_then_body',\n 'insideStatement1_return',\n 'insideStatement1_switch',\n 'insideStatement1_ternary_else',\n 'insideStatement1_ternary_then',\n 'insideStatement1_try',\n 'insideStatement1_while_body',\n 'insideStatement2_finally',\n 'insideStatement2_for_body',\n 'insideStatement2_foreach_body',\n 'insideStatement2_if_else_body',\n 'insideStatement2_if_then_body',\n 'insideStatement2_return',\n 'insideStatement2_ternary_else',\n 'insideStatement2_try',\n 'insideStatement2_while_body',\n 0,\n 1,\n 2,\n 3,\n 4,\n 5,\n 6,\n 7,\n 8,\n 9,\n 10,\n 11,\n 12,\n 13,\n 14,\n 15,\n 16,\n 17,\n 18,\n 19,\n 20,\n 21,\n 22,\n 23,\n 24,\n 25,\n 26,\n 27,\n 28,\n 29,\n 30,\n 31,\n 32,\n 33,\n 34,\n 35,\n 36,\n 37,\n 38,\n 39,\n 40,\n 41,\n 42,\n 43,\n 44,\n 45,\n 46,\n 47,\n 48,\n 49,\n 50,\n 51,\n 52,\n 53,\n 54,\n 55,\n 56,\n 57,\n 58,\n 59,\n 60,\n 61,\n 62,\n 63,\n 64,\n 65,\n 66,\n 67,\n 68,\n 69,\n 70,\n 71,\n 72,\n 73,\n 74,\n 75,\n 76,\n 77,\n 78,\n 79,\n 80,\n 81,\n 82,\n 83,\n 84,\n 85,\n 86,\n 87,\n 88,\n 89,\n 90,\n 91,\n 92,\n 93,\n 94,\n 95,\n 96,\n 97,\n 98,\n 99,\n 100,\n 101,\n 102,\n 103,\n 104,\n 105,\n 106,\n 107,\n 108,\n 109,\n 110,\n 111,\n 112,\n 113,\n 114,\n 115,\n 116,\n 117,\n 118,\n 119,\n 120,\n 121,\n 122,\n 123,\n 124,\n 125,\n 126,\n 127,\n 128,\n 129,\n 130,\n 131,\n 132,\n 133,\n 134,\n 135,\n 136,\n 137,\n 138,\n 139,\n 140,\n 141,\n 142,\n 143,\n 144,\n 145,\n 146,\n 147,\n 148,\n 149,\n 150,\n 151,\n 152,\n 153,\n 154,\n 155,\n 156,\n 157,\n 158,\n 159,\n 160,\n 161,\n 162,\n 163,\n 164,\n 165,\n 166,\n 167,\n 168,\n 169,\n 170,\n 171,\n 172,\n 173,\n 174,\n 175,\n 176,\n 177,\n 178,\n 179,\n 180,\n 181,\n 182,\n 183,\n 184,\n 185,\n 186,\n 187,\n 188,\n 189,\n 190,\n 191,\n 192,\n 193,\n 194,\n 195,\n 196,\n 197,\n 198,\n 199,\n 200,\n 201,\n 202,\n 203,\n 204,\n 205,\n 206,\n 207,\n 208,\n 209,\n 210,\n 211,\n 212,\n 213,\n 214,\n 215,\n 216,\n 217,\n 218,\n 219,\n 220,\n 221,\n 222,\n 223,\n 224,\n 225,\n 226,\n 227,\n 228,\n 229,\n 230,\n 231,\n 232,\n 233,\n 234,\n 235,\n 236,\n 237,\n 238,\n 239,\n 240,\n 241,\n 242,\n 243,\n 244,\n 245,\n 246,\n 247,\n 248,\n 249,\n 250,\n 251,\n 252,\n 253,\n 254,\n 255,\n 256,\n 257,\n 258,\n 259,\n 260,\n 261,\n 262,\n 263,\n 264,\n 265,\n 266,\n 267,\n 268,\n 269,\n 270,\n 271,\n 272,\n 273,\n 274,\n 275,\n 276,\n 277,\n 278,\n 279,\n 280,\n 281,\n 282,\n 283,\n 284,\n 285,\n 286,\n 287,\n 288,\n 289,\n 290,\n 291,\n 292,\n 293,\n 294,\n 295,\n 296,\n 297,\n 298,\n 299,\n 300,\n 301,\n 302,\n 303,\n 304,\n 305,\n 306,\n 307,\n 308,\n 309,\n 310,\n 311,\n 312,\n 313,\n 314,\n 315,\n 316,\n 317,\n 318,\n 319,\n 320,\n 321,\n 322,\n 323,\n 324,\n 325,\n 326,\n 327,\n 328,\n 329,\n 330,\n 331,\n 332,\n 333,\n 334,\n 335,\n 336,\n 337,\n 338,\n 339,\n 340,\n 341,\n 342,\n 343,\n 344,\n 345,\n 346,\n 347,\n 348,\n 349,\n 350,\n 351,\n 352,\n 353,\n 354,\n 355,\n 356,\n 357,\n 358,\n 359,\n 360,\n 361,\n 362,\n 363,\n 364,\n 365,\n 366,\n 367,\n 368,\n 369,\n 370,\n 371,\n 372,\n 373,\n 374,\n 375,\n 376,\n 377,\n 378,\n 379,\n 380,\n 381,\n 382,\n 383,\n 384,\n 385,\n 386,\n 387,\n 388,\n 389,\n 390,\n 391,\n 392,\n 393,\n 394,\n 395,\n 396,\n 397,\n 398,\n 399,\n 400,\n 401,\n 402,\n 403,\n 404,\n 405,\n 406,\n 407,\n 408,\n 409,\n 410,\n 411,\n 412,\n 413,\n 414,\n 415,\n 416,\n 417,\n 418,\n 419,\n 420,\n 421,\n 422,\n 423,\n 424,\n 425,\n 426,\n 427,\n 428,\n 429,\n 430,\n 431,\n 432,\n 433,\n 434,\n 435,\n 436,\n 437,\n 438,\n 439,\n 440,\n 441,\n 442,\n 443,\n 444,\n 445,\n 446,\n 447,\n 448,\n 449,\n 450,\n 451,\n 452,\n 453,\n 454,\n 455,\n 456,\n 457,\n 458,\n 459,\n 460,\n 461,\n 462,\n 463,\n 464,\n 465,\n 466,\n 467,\n 468,\n 469,\n 470,\n 471,\n 472,\n 473,\n 474,\n 475,\n 476,\n 477,\n 478,\n 479,\n 480,\n 481,\n 482,\n 483,\n 484,\n 485,\n 486,\n 487,\n 488,\n 489,\n 490,\n 491,\n 492,\n 493,\n 494,\n 495,\n 496,\n 497,\n 498,\n 499,\n 500,\n 501,\n 502,\n 503,\n 504,\n 505,\n 506,\n 507,\n 508,\n 509,\n 510,\n 511,\n 512,\n 513,\n 514,\n 515,\n 516,\n 517,\n 518,\n 519,\n 520,\n 521,\n 522,\n 523,\n 524,\n 525,\n 526,\n 527,\n 528,\n 529,\n 530,\n 531,\n 532,\n 533,\n 534,\n 535,\n 536,\n 537,\n 538,\n 539,\n 540,\n 541,\n 542,\n 543,\n 544,\n 545,\n 546,\n 547,\n 548,\n 549,\n 550,\n 551,\n 552,\n 553,\n 554,\n 555,\n 556,\n 557,\n 558,\n 559,\n 560,\n 561,\n 562,\n 563,\n 564,\n 565,\n 566,\n 567,\n 568,\n 569,\n 570,\n 571,\n 572,\n 573,\n 574,\n 575,\n 576,\n 577,\n 578,\n 579,\n 580,\n 581,\n 582,\n 583,\n 584,\n 585,\n 586,\n 587,\n ...]"
     },
     "execution_count": 38,
     "metadata": {},
     "output_type": "execute_result"
    }
   ],
   "source": [
    "train_cols = df_train.columns.tolist()\n",
    "train_cols = train_cols + list(np.arange(df_train_intr.shape[1] - len(train_cols)))\n",
    "\n",
    "test_cols = df_test.columns.tolist()\n",
    "test_cols = test_cols + list(np.arange(df_test_intr.shape[1] - len(test_cols)))\n",
    "\n",
    "valid_cols = df_valid.columns.tolist()\n",
    "valid_cols = valid_cols + list(np.arange(df_valid_intr.shape[1] - len(valid_cols)))\n",
    "\n",
    "train_cols"
   ],
   "metadata": {
    "collapsed": false,
    "pycharm": {
     "name": "#%%\n"
    }
   }
  },
  {
   "cell_type": "code",
   "execution_count": 42,
   "outputs": [],
   "source": [
    "df_train_intr = pd.DataFrame.sparse.from_spmatrix(df_train_intr, columns=train_cols)\n",
    "df_test_intr = pd.DataFrame.sparse.from_spmatrix(df_test_intr, columns=test_cols)\n",
    "df_valid_intr = pd.DataFrame.sparse.from_spmatrix(df_valid_intr, columns=valid_cols)"
   ],
   "metadata": {
    "collapsed": false,
    "pycharm": {
     "name": "#%%\n"
    }
   }
  },
  {
   "cell_type": "code",
   "execution_count": 43,
   "outputs": [
    {
     "data": {
      "text/plain": "name_Abstract    Sparse[float64, 0]\nname_Action      Sparse[float64, 0]\nname_Actions     Sparse[float64, 0]\nname_All         Sparse[float64, 0]\nname_An          Sparse[float64, 0]\n                        ...        \n84661            Sparse[float64, 0]\n84662            Sparse[float64, 0]\n84663            Sparse[float64, 0]\n84664            Sparse[float64, 0]\n84665            Sparse[float64, 0]\nLength: 85078, dtype: object"
     },
     "execution_count": 43,
     "metadata": {},
     "output_type": "execute_result"
    }
   ],
   "source": [],
   "metadata": {
    "collapsed": false,
    "pycharm": {
     "name": "#%%\n"
    }
   }
  },
  {
   "cell_type": "code",
   "execution_count": 44,
   "outputs": [],
   "source": [
    "df_train_intr = pd.concat([df_train_meta, df_train_intr], axis=1)\n",
    "df_test_intr = pd.concat([df_test_meta, df_test_intr], axis=1)\n",
    "df_valid_intr = pd.concat([df_valid_meta, df_valid_intr], axis=1)"
   ],
   "metadata": {
    "collapsed": false,
    "pycharm": {
     "name": "#%%\n"
    }
   }
  },
  {
   "cell_type": "code",
   "execution_count": 45,
   "outputs": [
    {
     "data": {
      "text/plain": "correct                       int64\ngroup                         int64\nname_Abstract    Sparse[float64, 0]\nname_Action      Sparse[float64, 0]\nname_Actions     Sparse[float64, 0]\n                        ...        \n84661            Sparse[float64, 0]\n84662            Sparse[float64, 0]\n84663            Sparse[float64, 0]\n84664            Sparse[float64, 0]\n84665            Sparse[float64, 0]\nLength: 85080, dtype: object"
     },
     "execution_count": 45,
     "metadata": {},
     "output_type": "execute_result"
    }
   ],
   "source": [
    "df_train_intr.dtypes"
   ],
   "metadata": {
    "collapsed": false,
    "pycharm": {
     "name": "#%%\n"
    }
   }
  },
  {
   "cell_type": "code",
   "execution_count": 48,
   "outputs": [],
   "source": [
    "df_train_intr.to_pickle('df_train_intr')\n",
    "df_test_intr.to_pickle('df_test_intr')\n",
    "df_valid_intr.to_pickle('df_valid_intr')"
   ],
   "metadata": {
    "collapsed": false,
    "pycharm": {
     "name": "#%%\n"
    }
   }
  },
  {
   "cell_type": "code",
   "execution_count": null,
   "outputs": [],
   "source": [
    "assert False\n",
    "\n",
    "df_train_intr.to_csv('train_intr.csv')\n",
    "\n",
    "df_test_intr.to_csv('test_intr.csv')\n",
    "\n",
    "df_valid_intr.to_csv('valid_intr.csv')"
   ],
   "metadata": {
    "collapsed": false,
    "pycharm": {
     "name": "#%%\n"
    }
   }
  },
  {
   "cell_type": "code",
   "execution_count": null,
   "outputs": [],
   "source": [],
   "metadata": {
    "collapsed": false,
    "pycharm": {
     "name": "#%%\n"
    }
   }
  }
 ],
 "metadata": {
  "kernelspec": {
   "display_name": "Python 3",
   "language": "python",
   "name": "python3"
  },
  "language_info": {
   "codemirror_mode": {
    "name": "ipython",
    "version": 2
   },
   "file_extension": ".py",
   "mimetype": "text/x-python",
   "name": "python",
   "nbconvert_exporter": "python",
   "pygments_lexer": "ipython2",
   "version": "2.7.6"
  }
 },
 "nbformat": 4,
 "nbformat_minor": 0
}