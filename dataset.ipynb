{
 "cells": [
  {
   "cell_type": "code",
   "execution_count": 22,
   "metadata": {
    "collapsed": true,
    "pycharm": {
     "name": "#%%\n"
    }
   },
   "outputs": [],
   "source": [
    "import copy\n",
    "import json\n",
    "import glob\n",
    "import os\n",
    "import matplotlib.pyplot as plt\n",
    "import nltk as nltk\n",
    "import numpy as np\n",
    "from collections import Counter\n",
    "import math\n",
    "import pandas as pd\n",
    "from sklearn.feature_extraction.text import CountVectorizer\n",
    "import re\n"
   ]
  },
  {
   "cell_type": "code",
   "execution_count": 2,
   "outputs": [
    {
     "name": "stdout",
     "output_type": "stream",
     "text": [
      "load files, build a graph, count indevidual usages \n",
      "10000 files loaded, for current file: direct_usages = 6 | direct_children = 0 \n",
      "20000 files loaded, for current file: direct_usages = 10 | direct_children = 0 \n",
      "30000 files loaded, for current file: direct_usages = 2 | direct_children = 0 \n",
      "40000 files loaded, for current file: direct_usages = 5 | direct_children = 0 \n",
      "50000 files loaded, for current file: direct_usages = 2 | direct_children = 0 \n",
      "53265 files processed \n"
     ]
    }
   ],
   "source": [
    "root_dir = \"/home/kirill/Documents/1.Projects/\" \\\n",
    "           \"class-ranking/intellij-community/\" \\\n",
    "           \"project-processing-results/processing/\" \\\n",
    "           \"java/classes/processing/0.0.1/\"\n",
    "\n",
    "cnt = 0\n",
    "individualUsages = {}  # {className -> {className -> count}}\n",
    "graph = {}  #{className -> [parentNames]}\n",
    "\n",
    "def good(usage) -> bool:\n",
    "    # {'TYPE', 'THIS_EXPRESSION', 'EXTENDS_LIST', 'IMPLEMENTS_LIST', 'METHOD_REF_EXPRESSION', 'EXPRESSION_LIST', 'NEW_EXPRESSION', 'CONDITIONAL_EXPRESSION', 'FIELD', 'ANNOTATION', 'THROWS_LIST', 'SUPER_EXPRESSION', 'JAVA_CODE_REFERENCE', 'REFERENCE_EXPRESSION', 'DOC_REFERENCE_HOLDER'}\n",
    "    if usage[\"features\"][\"referenceType\"] == \"ANNOTATION\":\n",
    "        return False\n",
    "    if usage[\"features\"][\"referenceType\"] == \"DOC_REFERENCE_HOLDER\":\n",
    "        return False\n",
    "    return True\n",
    "\n",
    "def addToUsages(data, individualUsages):\n",
    "    enclosingName = data[\"keyInfo\"][\"name\"]\n",
    "    c = Counter()\n",
    "    for usage in data['usages']:\n",
    "        if good(usage):\n",
    "            c.update([usage['name']])\n",
    "    individualUsages[enclosingName] = c\n",
    "\n",
    "def addToGraph(data, graph):\n",
    "    enclosingName = data[\"keyInfo\"][\"name\"]\n",
    "    extends = data[\"keyInfo\"][\"additionalInfo\"][\"enclosingClassExtendsList\"]\n",
    "    impls = data[\"keyInfo\"][\"additionalInfo\"][\"enclosingClassImplementsList\"]\n",
    "    if enclosingName not in graph:\n",
    "        graph[enclosingName] = set()\n",
    "    for par in (extends + impls):\n",
    "        if par not in graph:\n",
    "            graph[par] = set()\n",
    "        graph[par].update({enclosingName})\n",
    "\n",
    "\n",
    "print(f'load files, build a graph, count indevidual usages ')\n",
    "for filename in glob.glob(root_dir + '**/*.json', recursive=True):\n",
    "    #print(f'name {filename}')\n",
    "    with open(os.path.join(os.getcwd(), filename), 'r') as f:\n",
    "        data = json.load(f)\n",
    "        addToUsages(data, individualUsages)\n",
    "        addToGraph(data, graph)\n",
    "        cnt += 1\n",
    "        if cnt % 10**4 == 0:\n",
    "            print(f'{cnt} files loaded, for current file: direct_usages = {len(individualUsages[data[\"keyInfo\"][\"name\"]])} | direct_children = {len(graph[data[\"keyInfo\"][\"name\"]])} ')\n",
    "print(f'{cnt} files processed ')"
   ],
   "metadata": {
    "collapsed": false,
    "pycharm": {
     "name": "#%%\n"
    }
   }
  },
  {
   "cell_type": "code",
   "execution_count": 3,
   "outputs": [
    {
     "name": "stdout",
     "output_type": "stream",
     "text": [
      "10000 vertexes evalueted | in com.intellij.openapi.externalSystem.model.execution.ExternalSystemTaskExecutionSettings used 6 classes, 1 children\n",
      "20000 vertexes evalueted | in com.intellij.codeInspection.SimplifyCollectorInspection used 10 classes, 1 children\n",
      "30000 vertexes evalueted | in com.intellij.refactoring.changeSignature.ChangeSignatureParameterUsageInfo used 2 classes, 1 children\n",
      "40000 vertexes evalueted | in com.intellij.structuralsearch.impl.matcher.MatchResultImpl used 5 classes, 1 children\n",
      "50000 vertexes evalueted | in com.intellij.execution.actions.ChooseDebugConfigurationPopupAction used 2 classes, 1 children\n"
     ]
    }
   ],
   "source": [
    "familyUsages = {} # className -> usages in all children (className -> number)\n",
    "family = {} # className -> self and all children set(className)\n",
    "parent = {} # className -> className\n",
    "def dfs(v):\n",
    "    cur_usages = copy.deepcopy(individualUsages[v])\n",
    "    cur_family_set = {v}\n",
    "    for u in graph[v]:\n",
    "        if u not in family:\n",
    "            parent[u] = v\n",
    "            dfs(u)\n",
    "\n",
    "        u_usages, u_child_set = familyUsages[u], family[u]\n",
    "        cur_usages.update(u_usages)\n",
    "        cur_family_set.update(u_child_set)\n",
    "    familyUsages[v], family[v] = cur_usages, cur_family_set\n",
    "\n",
    "\n",
    "v_count = 0\n",
    "for v in individualUsages:\n",
    "    if v not in familyUsages:\n",
    "        dfs(v)\n",
    "    v_count += 1\n",
    "    if v_count % 10**4 == 0:\n",
    "        print(f'{v_count} vertexes evalueted | in {v} used {len(familyUsages[v])} classes, {len(family[v])} children')"
   ],
   "metadata": {
    "collapsed": false,
    "pycharm": {
     "name": "#%%\n"
    }
   }
  },
  {
   "cell_type": "code",
   "execution_count": 58,
   "outputs": [
    {
     "name": "stdout",
     "output_type": "stream",
     "text": [
      "2810 files loaded \n"
     ]
    },
    {
     "data": {
      "text/plain": "name                              object\nfeatures.referenceType            object\nfeatures.scopeKind                object\nfeatures.enclosingScopeName       object\nenclosingClassName                object\nfeatures.variablesTypesInScope    object\nfeatures.insideStatement_0        object\nfeatures.insideStatement_1        object\nfeatures.insideStatement_2        object\ndtype: object"
     },
     "execution_count": 58,
     "metadata": {},
     "output_type": "execute_result"
    }
   ],
   "source": [
    "\n",
    "classNameSet = family['com.intellij.openapi.actionSystem.AnAction']\n",
    "cnt = 0\n",
    "\n",
    "list_of_dfs = []\n",
    "for filename in glob.glob(root_dir + '**/*.json', recursive=True):\n",
    "    with open(os.path.join(os.getcwd(), filename), 'r') as f:\n",
    "        data = json.load(f)\n",
    "        if data[\"keyInfo\"][\"name\"] not in classNameSet:\n",
    "            continue\n",
    "\n",
    "        df = pd.json_normalize(data[\"usages\"])\n",
    "        df['enclosingClassName'] = data[\"keyInfo\"][\"name\"]\n",
    "        df = df.drop(columns=['filePath', 'textOffset', 'features.lineInFile'])\n",
    "        if 'features.variablesTypesInScope' in df.columns:\n",
    "            tmp = df['features.variablesTypesInScope'].isnull(), 'features.variablesTypesInScope'\n",
    "            df.loc[tmp] = df.loc[tmp].apply(lambda x: [])\n",
    "            df['features.variablesTypesInScope'] = df['features.variablesTypesInScope'].apply(lambda x: \" \".join(x) )\n",
    "\n",
    "        list_of_dfs.append(df)\n",
    "        cnt += 1\n",
    "\n",
    "raw_df = pd.concat(list_of_dfs, axis=0, ignore_index=True)\n",
    "print(f'{cnt} files loaded ')\n",
    "\n",
    "\n",
    "raw_df.dtypes"
   ],
   "metadata": {
    "collapsed": false,
    "pycharm": {
     "name": "#%%\n"
    }
   }
  },
  {
   "cell_type": "code",
   "execution_count": 59,
   "outputs": [
    {
     "name": "stdout",
     "output_type": "stream",
     "text": [
      "------> :                             name features.referenceType features.scopeKind  \\\n",
      "10  com.intellij.ide.CutProvider                   TYPE             Method   \n",
      "\n",
      "   features.enclosingScopeName                  enclosingClassName  \\\n",
      "10     getAvailableCutProvider  com.intellij.ide.actions.CutAction   \n",
      "\n",
      "   features.variablesTypesInScope features.insideStatement_0  \\\n",
      "10                                                       NaN   \n",
      "\n",
      "   features.insideStatement_1 features.insideStatement_2  \n",
      "10                        NaN                        NaN  \n"
     ]
    }
   ],
   "source": [
    "print(f'------> : {raw_df.loc[[10]]}')"
   ],
   "metadata": {
    "collapsed": false,
    "pycharm": {
     "name": "#%%\n"
    }
   }
  },
  {
   "cell_type": "code",
   "execution_count": 51,
   "outputs": [],
   "source": [
    "def splitCamelCase(name: str):\n",
    "    res = []\n",
    "    for rname in name.split(' '):\n",
    "        rname = rname.strip('.')\n",
    "        rname = rname.rpartition('.')[2]\n",
    "        res += re.sub('([A-Z][a-z]+)', r' \\1', re.sub('([A-Z]+)', r' \\1', rname)).split()\n",
    "        #res += [rname]\n",
    "    return res"
   ],
   "metadata": {
    "collapsed": false,
    "pycharm": {
     "name": "#%%\n"
    }
   }
  },
  {
   "cell_type": "code",
   "execution_count": 52,
   "outputs": [
    {
     "data": {
      "text/plain": "['bb', 'Ke', 'dd', 'Lo']"
     },
     "execution_count": 52,
     "metadata": {},
     "output_type": "execute_result"
    }
   ],
   "source": [
    "splitCamelCase('aa.bbKe... ....cc.ddLo')"
   ],
   "metadata": {
    "collapsed": false,
    "pycharm": {
     "name": "#%%\n"
    }
   }
  },
  {
   "cell_type": "code",
   "execution_count": 55,
   "outputs": [
    {
     "name": "stdout",
     "output_type": "stream",
     "text": [
      "name                              object\n",
      "features.referenceType            object\n",
      "features.scopeKind                object\n",
      "features.enclosingScopeName       object\n",
      "enclosingClassName                object\n",
      "features.variablesTypesInScope    object\n",
      "features.insideStatement_0        object\n",
      "features.insideStatement_1        object\n",
      "features.insideStatement_2        object\n",
      "dtype: object\n",
      "['<clinit>', '<init>', 'Action', 'Actions', 'Add', 'And', 'At', 'Available', 'Branch', 'Button', 'Caret', 'Changes', 'Children', 'Class', 'Component', 'Content', 'Context', 'Create', 'Current', 'Custom', 'Data', 'Dialog', 'Diff', 'Directory', 'Editor', 'Element', 'Elements', 'Enabled', 'File', 'Files', 'Fix', 'For', 'Frame', 'From', 'Group', 'Handler', 'Impl', 'In', 'Items', 'Line', 'Model', 'Module', 'Name', 'New', 'Nodes', 'On', 'Or', 'Panel', 'Perform', 'Performed', 'Popup', 'Presentation', 'Preview', 'Project', 'Psi', 'Roots', 'Run', 'Selected', 'Shortcut', 'Target', 'Template', 'Text', 'To', 'Tool', 'Type', 'Unversioned', 'Update', 'Usage', 'Usages', 'Valid', 'Vcs', 'View', 'Visible', 'Window', 'With', 'action', 'add', 'apply', 'build', 'can', 'collect', 'compute', 'consume', 'create', 'do', 'execute', 'fill', 'find', 'generate', 'get', 'has', 'invoke', 'is', 'nan', 'perform', 'process', 'run', 'set', 'show', 'update']\n",
      "{'nan': 93, 'is': 92, 'Enabled': 27, 'action': 75, 'Performed': 49, 'get': 89, 'Available': 7, 'update': 99, 'set': 97, 'Selected': 57, 'Editor': 24, '<init>': 1, 'Shortcut': 58, 'Caret': 10, 'Line': 39, 'At': 6, 'Children': 12, 'In': 37, 'Usages': 68, 'build': 78, 'Dialog': 21, 'Action': 2, 'Name': 42, 'do': 84, 'Create': 17, 'Element': 25, 'Handler': 35, 'create': 83, 'Custom': 19, 'Component': 14, 'Impl': 36, '<clinit>': 0, 'apply': 77, 'And': 5, 'run': 96, 'Group': 34, 'Popup': 50, 'On': 45, 'Elements': 26, 'File': 28, 'has': 90, 'perform': 94, 'Data': 20, 'Context': 16, 'find': 87, 'Target': 59, 'Text': 61, 'For': 31, 'Psi': 54, 'Tool': 63, 'Window': 73, 'Usage': 67, 'Visible': 72, 'Diff': 22, 'Content': 15, 'show': 98, 'From': 33, 'Valid': 69, 'Changes': 11, 'Vcs': 70, 'consume': 82, 'Presentation': 51, 'add': 76, 'Actions': 3, 'compute': 81, 'To': 62, 'New': 43, 'Template': 60, 'Roots': 55, 'execute': 85, 'Perform': 48, 'Module': 41, 'Files': 29, 'With': 74, 'Directory': 23, 'Or': 46, 'Project': 53, 'Update': 66, 'fill': 86, 'can': 79, 'Add': 4, 'Panel': 47, 'invoke': 91, 'Type': 64, 'Fix': 30, 'Preview': 52, 'process': 95, 'collect': 80, 'Class': 13, 'Button': 9, 'View': 71, 'Current': 18, 'Model': 40, 'Items': 38, 'Frame': 32, 'Nodes': 44, 'Branch': 8, 'Run': 56, 'generate': 88, 'Unversioned': 65}\n",
      "[[0 0 0 0 0 0 0 0 0 0 0 0 0 0 0 0 0 0 0 0 0 0 0 0 0 0 0 0 0 0 0 0 0 0 0 0\n",
      "  0 0 0 0 0 0 0 0 0 0 0 0 0 0 0 0 0 0 0 0 0 0 0 0 0 0 0 0 0 0 0 0 0 0 0 0\n",
      "  0 0 0 0 0 0 0 0 0 0 0 0 0 0 0 0 0 0 0 0 0 1 0 0 0 0 0 0]\n",
      " [0 0 0 0 0 0 0 0 0 0 0 0 0 0 0 0 0 0 0 0 0 0 0 0 0 0 0 0 0 0 0 0 0 0 0 0\n",
      "  0 0 0 0 0 0 0 0 0 0 0 0 0 0 0 0 0 0 0 0 0 0 0 0 0 0 0 0 0 0 0 0 0 0 0 0\n",
      "  0 0 0 0 0 0 0 0 0 0 0 0 0 0 0 0 0 0 0 0 0 1 0 0 0 0 0 0]\n",
      " [0 0 0 0 0 0 0 0 0 0 0 0 0 0 0 0 0 0 0 0 0 0 0 0 0 0 0 0 0 0 0 0 0 0 0 0\n",
      "  0 0 0 0 0 0 0 0 0 0 0 0 0 0 0 0 0 0 0 0 0 0 0 0 0 0 0 0 0 0 0 0 0 0 0 0\n",
      "  0 0 0 0 0 0 0 0 0 0 0 0 0 0 0 0 0 0 0 0 0 1 0 0 0 0 0 0]\n",
      " [0 0 0 0 0 0 0 0 0 0 0 0 0 0 0 0 0 0 0 0 0 0 0 0 0 0 0 0 0 0 0 0 0 0 0 0\n",
      "  0 0 0 0 0 0 0 0 0 0 0 0 0 1 0 0 0 0 0 0 0 0 0 0 0 0 0 0 0 0 0 0 0 0 0 0\n",
      "  0 0 0 1 0 0 0 0 0 0 0 0 0 0 0 0 0 0 0 0 0 0 0 0 0 0 0 0]\n",
      " [0 0 0 0 0 0 0 0 0 0 0 0 0 0 0 0 0 0 0 0 0 0 0 0 0 0 0 0 0 0 0 0 0 0 0 0\n",
      "  0 0 0 0 0 0 0 0 0 0 0 0 0 1 0 0 0 0 0 0 0 0 0 0 0 0 0 0 0 0 0 0 0 0 0 0\n",
      "  0 0 0 1 0 0 0 0 0 0 0 0 0 0 0 0 0 0 0 0 0 0 0 0 0 0 0 0]]\n"
     ]
    },
    {
     "name": "stderr",
     "output_type": "stream",
     "text": [
      "/home/kirill/Documents/1.Projects/class-ranking/intellij-class-usages-analysis/venv/lib/python3.8/site-packages/sklearn/utils/deprecation.py:87: FutureWarning: Function get_feature_names is deprecated; get_feature_names is deprecated in 1.0 and will be removed in 1.2. Please use get_feature_names_out instead.\n",
      "  warnings.warn(msg, category=FutureWarning)\n"
     ]
    }
   ],
   "source": [
    "print(raw_df.dtypes)\n",
    "vectorizer = CountVectorizer(tokenizer=splitCamelCase, max_features=100, lowercase=False)\n",
    "term_doc_matrix = vectorizer.fit_transform(raw_df['features.enclosingScopeName'].values.astype('str'))\n",
    "\n",
    "print(vectorizer.get_feature_names())\n",
    "print(vectorizer.vocabulary_)\n",
    "\n",
    "print(term_doc_matrix.toarray()[5:10])"
   ],
   "metadata": {
    "collapsed": false,
    "pycharm": {
     "name": "#%%\n"
    }
   }
  },
  {
   "cell_type": "code",
   "execution_count": 5,
   "outputs": [
    {
     "name": "stdout",
     "output_type": "stream",
     "text": [
      "   A  B\n",
      "0  a  b\n",
      "1  b  a\n",
      "2  a  c\n",
      "   A  a  b  c\n",
      "0  a  0  1  0\n",
      "1  b  1  0  0\n",
      "2  a  0  0  1\n"
     ]
    }
   ],
   "source": [
    "df = pd.DataFrame({\n",
    "          'A':['a','b','a'],\n",
    "          'B':['b','a','c']\n",
    "        })\n",
    "print(df)\n",
    "\n",
    "# Get one hot encoding of columns B\n",
    "one_hot = pd.get_dummies(df['B'])\n",
    "df = df.drop('B',axis = 1)\n",
    "df = df.join(one_hot)\n",
    "\n",
    "print(df)"
   ],
   "metadata": {
    "collapsed": false,
    "pycharm": {
     "name": "#%%\n"
    }
   }
  },
  {
   "cell_type": "code",
   "execution_count": 11,
   "outputs": [
    {
     "name": "stdout",
     "output_type": "stream",
     "text": [
      "                 frases                  tokenized\n",
      "0            Do not let             [Do, not, let]\n",
      "1  without having been   [without, having, been, ]\n",
      "2                 Do no                   [Do, no]\n",
      "3                We are                  [We, are]\n"
     ]
    }
   ],
   "source": [
    "df = pd.DataFrame({'frases': ['Do not let', 'without having been ', 'Do no','We are']})\n",
    "df['tokenized'] = df.apply(lambda row: row['frases'].split(' '), axis=1)\n",
    "\n",
    "print(df)"
   ],
   "metadata": {
    "collapsed": false,
    "pycharm": {
     "name": "#%%\n"
    }
   }
  },
  {
   "cell_type": "code",
   "execution_count": null,
   "outputs": [],
   "source": [],
   "metadata": {
    "collapsed": false,
    "pycharm": {
     "name": "#%%\n"
    }
   }
  }
 ],
 "metadata": {
  "kernelspec": {
   "display_name": "Python 3",
   "language": "python",
   "name": "python3"
  },
  "language_info": {
   "codemirror_mode": {
    "name": "ipython",
    "version": 2
   },
   "file_extension": ".py",
   "mimetype": "text/x-python",
   "name": "python",
   "nbconvert_exporter": "python",
   "pygments_lexer": "ipython2",
   "version": "2.7.6"
  }
 },
 "nbformat": 4,
 "nbformat_minor": 0
}