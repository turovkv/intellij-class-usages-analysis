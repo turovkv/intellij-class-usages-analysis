{
 "cells": [
  {
   "cell_type": "code",
   "execution_count": 190,
   "metadata": {
    "collapsed": true,
    "pycharm": {
     "name": "#%%\n"
    }
   },
   "outputs": [],
   "source": [
    "import copy\n",
    "import json\n",
    "import glob\n",
    "import os\n",
    "import random\n",
    "\n",
    "import matplotlib.pyplot as plt\n",
    "import nltk as nltk\n",
    "import numpy as np\n",
    "from collections import Counter\n",
    "import math\n",
    "import pandas as pd\n",
    "from sklearn.feature_extraction.text import CountVectorizer\n",
    "import re\n",
    "from random import shuffle\n",
    "import random\n"
   ]
  },
  {
   "cell_type": "code",
   "execution_count": 191,
   "outputs": [
    {
     "name": "stdout",
     "output_type": "stream",
     "text": [
      "load files, build a graph, count indevidual usages \n",
      "10000 files loaded, for current file: direct_usages = 6 | direct_children = 0 \n",
      "20000 files loaded, for current file: direct_usages = 10 | direct_children = 0 \n",
      "30000 files loaded, for current file: direct_usages = 2 | direct_children = 0 \n",
      "40000 files loaded, for current file: direct_usages = 5 | direct_children = 0 \n",
      "50000 files loaded, for current file: direct_usages = 2 | direct_children = 0 \n",
      "53265 files processed \n"
     ]
    }
   ],
   "source": [
    "root_dir = \"/home/kirill/Documents/1.Projects/\" \\\n",
    "           \"class-ranking/intellij-community/\" \\\n",
    "           \"project-processing-results/processing/\" \\\n",
    "           \"java/classes/processing/0.0.1/\"\n",
    "\n",
    "cnt = 0\n",
    "individualUsages = {}  # {className -> {className -> count}}\n",
    "graph = {}  #{className -> [parentNames]}\n",
    "\n",
    "def good(usage) -> bool:\n",
    "    # {'TYPE', 'THIS_EXPRESSION', 'EXTENDS_LIST', 'IMPLEMENTS_LIST', 'METHOD_REF_EXPRESSION', 'EXPRESSION_LIST', 'NEW_EXPRESSION', 'CONDITIONAL_EXPRESSION', 'FIELD', 'ANNOTATION', 'THROWS_LIST', 'SUPER_EXPRESSION', 'JAVA_CODE_REFERENCE', 'REFERENCE_EXPRESSION', 'DOC_REFERENCE_HOLDER'}\n",
    "    if usage[\"features\"][\"referenceType\"] == \"ANNOTATION\":\n",
    "        return False\n",
    "    if usage[\"features\"][\"referenceType\"] == \"DOC_REFERENCE_HOLDER\":\n",
    "        return False\n",
    "    return True\n",
    "\n",
    "def addToUsages(data, individualUsages):\n",
    "    enclosingName = data[\"keyInfo\"][\"name\"]\n",
    "    c = Counter()\n",
    "    for usage in data['usages']:\n",
    "        if good(usage):\n",
    "            c.update([usage['name']])\n",
    "    individualUsages[enclosingName] = c\n",
    "\n",
    "def addToGraph(data, graph):\n",
    "    enclosingName = data[\"keyInfo\"][\"name\"]\n",
    "    extends = data[\"keyInfo\"][\"additionalInfo\"][\"enclosingClassExtendsList\"]\n",
    "    impls = data[\"keyInfo\"][\"additionalInfo\"][\"enclosingClassImplementsList\"]\n",
    "    if enclosingName not in graph:\n",
    "        graph[enclosingName] = set()\n",
    "    for par in (extends + impls):\n",
    "        if par not in graph:\n",
    "            graph[par] = set()\n",
    "        graph[par].update({enclosingName})\n",
    "\n",
    "\n",
    "print(f'load files, build a graph, count indevidual usages ')\n",
    "for filename in glob.glob(root_dir + '**/*.json', recursive=True):\n",
    "    #print(f'name {filename}')\n",
    "    with open(os.path.join(os.getcwd(), filename), 'r') as f:\n",
    "        data = json.load(f)\n",
    "        addToUsages(data, individualUsages)\n",
    "        addToGraph(data, graph)\n",
    "        cnt += 1\n",
    "        if cnt % 10**4 == 0:\n",
    "            print(f'{cnt} files loaded, for current file: direct_usages = {len(individualUsages[data[\"keyInfo\"][\"name\"]])} | direct_children = {len(graph[data[\"keyInfo\"][\"name\"]])} ')\n",
    "print(f'{cnt} files processed ')"
   ],
   "metadata": {
    "collapsed": false,
    "pycharm": {
     "name": "#%%\n"
    }
   }
  },
  {
   "cell_type": "code",
   "execution_count": 192,
   "outputs": [
    {
     "name": "stdout",
     "output_type": "stream",
     "text": [
      "10000 vertexes evalueted | in com.intellij.openapi.externalSystem.model.execution.ExternalSystemTaskExecutionSettings used 6 classes, 1 children\n",
      "20000 vertexes evalueted | in com.intellij.codeInspection.SimplifyCollectorInspection used 10 classes, 1 children\n",
      "30000 vertexes evalueted | in com.intellij.refactoring.changeSignature.ChangeSignatureParameterUsageInfo used 2 classes, 1 children\n",
      "40000 vertexes evalueted | in com.intellij.structuralsearch.impl.matcher.MatchResultImpl used 5 classes, 1 children\n",
      "50000 vertexes evalueted | in com.intellij.execution.actions.ChooseDebugConfigurationPopupAction used 2 classes, 1 children\n"
     ]
    }
   ],
   "source": [
    "familyUsages = {} # className -> usages in all children (className -> number)\n",
    "family = {} # className -> self and all children set(className)\n",
    "parent = {} # className -> className\n",
    "def dfs(v):\n",
    "    cur_usages = copy.deepcopy(individualUsages[v])\n",
    "    cur_family_set = {v}\n",
    "    for u in graph[v]:\n",
    "        if u not in family:\n",
    "            parent[u] = v\n",
    "            dfs(u)\n",
    "\n",
    "        u_usages, u_child_set = familyUsages[u], family[u]\n",
    "        cur_usages.update(u_usages)\n",
    "        cur_family_set.update(u_child_set)\n",
    "    familyUsages[v], family[v] = cur_usages, cur_family_set\n",
    "\n",
    "\n",
    "v_count = 0\n",
    "for v in individualUsages:\n",
    "    if v not in familyUsages:\n",
    "        dfs(v)\n",
    "    v_count += 1\n",
    "    if v_count % 10**4 == 0:\n",
    "        print(f'{v_count} vertexes evalueted | in {v} used {len(familyUsages[v])} classes, {len(family[v])} children')"
   ],
   "metadata": {
    "collapsed": false,
    "pycharm": {
     "name": "#%%\n"
    }
   }
  },
  {
   "cell_type": "code",
   "execution_count": 193,
   "outputs": [],
   "source": [
    "ROOT_CLASS = \"com.intellij.openapi.actionSystem.AnAction\""
   ],
   "metadata": {
    "collapsed": false,
    "pycharm": {
     "name": "#%%\n"
    }
   }
  },
  {
   "cell_type": "code",
   "execution_count": 194,
   "outputs": [],
   "source": [
    "randomNames = {}\n",
    "for k, v in familyUsages[ROOT_CLASS].most_common():\n",
    "    first_char = k.rpartition('.')[2][0]\n",
    "    if first_char not in randomNames:\n",
    "        randomNames[first_char] = []\n",
    "    randomNames[first_char] += [k] * v\n",
    "\n",
    "with open('randomNames.txt', 'w') as convert_file:\n",
    "     convert_file.write(json.dumps(randomNames))\n",
    "\n",
    "for ch in randomNames:\n",
    "    shuffle(randomNames[ch])"
   ],
   "metadata": {
    "collapsed": false,
    "pycharm": {
     "name": "#%%\n"
    }
   }
  },
  {
   "cell_type": "code",
   "execution_count": 195,
   "outputs": [],
   "source": [
    "def listToStr(df, col):\n",
    "    tmp = df[col].isnull(), col\n",
    "    df.loc[tmp] = df.loc[tmp].apply(lambda x: [])\n",
    "    df[col] = df[col].apply(lambda x: \" \".join(x) )"
   ],
   "metadata": {
    "collapsed": false,
    "pycharm": {
     "name": "#%%\n"
    }
   }
  },
  {
   "cell_type": "code",
   "execution_count": 196,
   "outputs": [
    {
     "name": "stdout",
     "output_type": "stream",
     "text": [
      "2810 files loaded, 214830 usages\n",
      "test shape (45635, 11)\n",
      "train shape (169195, 11)\n"
     ]
    },
    {
     "data": {
      "text/plain": "name                              object\ncorrect                            int64\nfirstChar                         object\nfeatures.referenceType            object\nfeatures.scopeKind                object\nfeatures.enclosingScopeName       object\nfeatures.enclosingClassName       object\nfeatures.variablesTypesInScope    object\nfeatures.insideStatement_0        object\nfeatures.insideStatement_1        object\nfeatures.insideStatement_2        object\ndtype: object"
     },
     "execution_count": 196,
     "metadata": {},
     "output_type": "execute_result"
    }
   ],
   "source": [
    "train_test_classes = family['com.intellij.openapi.actionSystem.AnAction']\n",
    "train_test_list = list(train_test_classes)\n",
    "shuffle(train_test_list)\n",
    "trainClasses = set(train_test_list[:int(0.8 * len(train_test_list))])\n",
    "testClasses = set(train_test_list[int(0.8 * len(train_test_list)):])\n",
    "\n",
    "cnt = 0\n",
    "cntu = 0\n",
    "list_of_dfs_train = []\n",
    "list_of_dfs_test = []\n",
    "for filename in glob.glob(root_dir + '**/*.json', recursive=True):\n",
    "    with open(os.path.join(os.getcwd(), filename), 'r') as f:\n",
    "        data = json.load(f)\n",
    "        enclosingClassName = data[\"keyInfo\"][\"name\"]\n",
    "        if enclosingClassName not in train_test_classes:\n",
    "            continue\n",
    "\n",
    "        data_usages = []\n",
    "        for usage in data[\"usages\"]:\n",
    "            if not good(usage):\n",
    "                continue\n",
    "            usage['correct'] = 1\n",
    "            usage['firstChar'] = usage['name'].rpartition('.')[2][0]\n",
    "            data_usages.append(usage)\n",
    "            for i in range(4):\n",
    "                usage_negative = copy.deepcopy(usage)\n",
    "                while True:\n",
    "                    cur_name = usage_negative['name']\n",
    "                    first_char = cur_name.rpartition('.')[2][0]\n",
    "                    new_name = random.choice(randomNames[first_char])\n",
    "                    if cur_name != new_name:\n",
    "                        usage_negative['firstChar'] = first_char\n",
    "                        usage_negative['name'] = new_name\n",
    "                        break\n",
    "                usage_negative['correct'] = 0\n",
    "                data_usages.append(usage_negative)\n",
    "\n",
    "        df = pd.json_normalize(data_usages)\n",
    "        df['features.enclosingClassName'] = enclosingClassName\n",
    "        df = df.drop(columns=['filePath', 'textOffset', 'features.lineInFile'])\n",
    "        if enclosingClassName in trainClasses:\n",
    "            list_of_dfs_train.append(df)\n",
    "        if enclosingClassName in testClasses:\n",
    "            list_of_dfs_test.append(df)\n",
    "        cntu += len(data_usages)\n",
    "        cnt += 1\n",
    "\n",
    "df_train_raw = pd.concat(list_of_dfs_train, axis=0, ignore_index=True)\n",
    "df_test_raw = pd.concat(list_of_dfs_test, axis=0, ignore_index=True)\n",
    "\n",
    "listToStr(df_train_raw, 'features.variablesTypesInScope')\n",
    "listToStr(df_test_raw, 'features.variablesTypesInScope')\n",
    "\n",
    "print(f'{cnt} files loaded, {cntu} usages')\n",
    "\n",
    "print(f'test shape {df_test_raw.shape}')\n",
    "print(f'train shape {df_train_raw.shape}')\n",
    "df_train_raw.dtypes"
   ],
   "metadata": {
    "collapsed": false,
    "pycharm": {
     "name": "#%%\n"
    }
   }
  },
  {
   "cell_type": "code",
   "execution_count": 197,
   "outputs": [],
   "source": [
    "def splitCamelCase(name: str):\n",
    "    res = []\n",
    "    for rname in name.split(' '):\n",
    "        rname = rname.strip('.')\n",
    "        rname = rname.rpartition('.')[2]\n",
    "        res += re.sub('([A-Z][a-z]+)', r' \\1', re.sub('([A-Z]+)', r' \\1', rname)).split()\n",
    "        #res += [rname]\n",
    "    return res"
   ],
   "metadata": {
    "collapsed": false,
    "pycharm": {
     "name": "#%%\n"
    }
   }
  },
  {
   "cell_type": "code",
   "execution_count": 198,
   "outputs": [],
   "source": [
    "def str_to_OHE_feature(df_train, df_test, col, pref):\n",
    "    vectorizer_train = CountVectorizer(tokenizer=splitCamelCase, lowercase=False, max_features=80)\n",
    "    term_doc_matrix_train = vectorizer_train.fit_transform(df_train[col].values.astype('str'))\n",
    "\n",
    "    vectorizer_test = CountVectorizer(tokenizer=splitCamelCase, lowercase=False, vocabulary=vectorizer_train.vocabulary_)\n",
    "    term_doc_matrix_test = vectorizer_test.fit_transform(df_test[col].values.astype('str'))\n",
    "\n",
    "    df_train_bow = pd.DataFrame(term_doc_matrix_train.toarray(), columns=vectorizer_train.get_feature_names_out())\n",
    "    df_test_bow = pd.DataFrame(term_doc_matrix_test.toarray(), columns=vectorizer_test.get_feature_names_out())\n",
    "    df_train_bow = df_train_bow.add_prefix(pref)\n",
    "    df_test_bow = df_test_bow.add_prefix(pref)\n",
    "\n",
    "    df_train = pd.concat([df_train, df_train_bow], axis=1)\n",
    "    df_test = pd.concat([df_test, df_test_bow], axis=1)\n",
    "\n",
    "    df_train = df_train.drop(columns=[col])\n",
    "    df_test = df_test.drop(columns=[col])\n",
    "\n",
    "    return df_train, df_test"
   ],
   "metadata": {
    "collapsed": false,
    "pycharm": {
     "name": "#%%\n"
    }
   }
  },
  {
   "cell_type": "code",
   "execution_count": 199,
   "outputs": [
    {
     "name": "stdout",
     "output_type": "stream",
     "text": [
      "train0 ------> :                                          name  correct firstChar  \\\n",
      "10  com.intellij.xdebugger.frame.XNavigatable        1         X   \n",
      "\n",
      "   features.referenceType features.scopeKind   features.enclosingScopeName  \\\n",
      "10                   TYPE             Method  startComputingSourcePosition   \n",
      "\n",
      "                          features.enclosingClassName  \\\n",
      "10  com.intellij.xdebugger.impl.ui.tree.actions.XJ...   \n",
      "\n",
      "   features.variablesTypesInScope features.insideStatement_0  \\\n",
      "10                                                       NaN   \n",
      "\n",
      "   features.insideStatement_1 features.insideStatement_2  \n",
      "10                        NaN                        NaN  \n",
      "test0 ------> :                                   name  correct firstChar  \\\n",
      "10  com.intellij.openapi.editor.Editor        1         E   \n",
      "\n",
      "   features.referenceType features.scopeKind features.enclosingScopeName  \\\n",
      "10                   TYPE             Method             actionPerformed   \n",
      "\n",
      "   features.variablesTypesInScope features.insideStatement_0  \\\n",
      "10                  AnActionEvent                        NaN   \n",
      "\n",
      "   features.insideStatement_1                    features.enclosingClassName  \\\n",
      "10                        NaN  com.intellij.internal.psiView.PsiViewerAction   \n",
      "\n",
      "   features.insideStatement_2  \n",
      "10                        NaN  \n",
      "train1 ------> :     correct firstChar features.referenceType features.scopeKind  \\\n",
      "10        1         X                   TYPE             Method   \n",
      "\n",
      "     features.enclosingScopeName  \\\n",
      "10  startComputingSourcePosition   \n",
      "\n",
      "                          features.enclosingClassName  \\\n",
      "10  com.intellij.xdebugger.impl.ui.tree.actions.XJ...   \n",
      "\n",
      "   features.variablesTypesInScope features.insideStatement_0  \\\n",
      "10                                                       NaN   \n",
      "\n",
      "   features.insideStatement_1 features.insideStatement_2  ...  n_Type  n_UI  \\\n",
      "10                        NaN                        NaN  ...       0     0   \n",
      "\n",
      "    n_Ui  n_Usage  n_Util  n_Vcs  n_View  n_Virtual  n_Window  n_X  \n",
      "10     0        0       0      0       0          0         0    1  \n",
      "\n",
      "[1 rows x 90 columns]\n",
      "test1 ------> :     correct firstChar features.referenceType features.scopeKind  \\\n",
      "10        1         E                   TYPE             Method   \n",
      "\n",
      "   features.enclosingScopeName features.variablesTypesInScope  \\\n",
      "10             actionPerformed                  AnActionEvent   \n",
      "\n",
      "   features.insideStatement_0 features.insideStatement_1  \\\n",
      "10                        NaN                        NaN   \n",
      "\n",
      "                      features.enclosingClassName features.insideStatement_2  \\\n",
      "10  com.intellij.internal.psiView.PsiViewerAction                        NaN   \n",
      "\n",
      "    ...  n_Type  n_UI  n_Ui  n_Usage  n_Util  n_Vcs  n_View  n_Virtual  \\\n",
      "10  ...       0     0     0        0       0      0       0          0   \n",
      "\n",
      "    n_Window  n_X  \n",
      "10         0    0  \n",
      "\n",
      "[1 rows x 90 columns]\n",
      "train2 ------> :     correct firstChar features.referenceType features.scopeKind  \\\n",
      "10        1         X                   TYPE             Method   \n",
      "\n",
      "   features.insideStatement_0 features.insideStatement_1  \\\n",
      "10                        NaN                        NaN   \n",
      "\n",
      "   features.insideStatement_2  n_Abstract  n_Action  n_Actions  ...  \\\n",
      "10                        NaN           0         0          0  ...   \n",
      "\n",
      "    v.t.s_Type  v.t.s_Ui  v.t.s_Value  v.t.s_Vcs  v.t.s_View  v.t.s_Virtual  \\\n",
      "10           0         0            0          0           0              0   \n",
      "\n",
      "    v.t.s_Window  v.t.s_X  v.t.s_boolean  v.t.s_int  \n",
      "10             0        0              0          0  \n",
      "\n",
      "[1 rows x 327 columns]\n",
      "test2 ------> :     correct firstChar features.referenceType features.scopeKind  \\\n",
      "10        1         E                   TYPE             Method   \n",
      "\n",
      "   features.insideStatement_0 features.insideStatement_1  \\\n",
      "10                        NaN                        NaN   \n",
      "\n",
      "   features.insideStatement_2  n_Abstract  n_Action  n_Actions  ...  \\\n",
      "10                        NaN           0         0          0  ...   \n",
      "\n",
      "    v.t.s_Type  v.t.s_Ui  v.t.s_Value  v.t.s_Vcs  v.t.s_View  v.t.s_Virtual  \\\n",
      "10           0         0            0          0           0              0   \n",
      "\n",
      "    v.t.s_Window  v.t.s_X  v.t.s_boolean  v.t.s_int  \n",
      "10             0        0              0          0  \n",
      "\n",
      "[1 rows x 327 columns]\n"
     ]
    }
   ],
   "source": [
    "df_train, df_test = df_train_raw, df_test_raw\n",
    "print(f'train0 ------> : {df_train.loc[[10]]}')\n",
    "print(f'test0 ------> : {df_test.loc[[10]]}')\n",
    "df_train, df_test = str_to_OHE_feature(df_train, df_test, 'name', pref='n_')\n",
    "df_train, df_test = str_to_OHE_feature(df_train, df_test, 'features.enclosingScopeName', pref='e.s.n_')\n",
    "df_train, df_test = str_to_OHE_feature(df_train, df_test, 'features.enclosingClassName', pref='e.c.n_')\n",
    "df_train, df_test = str_to_OHE_feature(df_train, df_test, 'features.variablesTypesInScope', pref='v.t.s_')\n",
    "df_train, df_test = str_to_OHE_feature(df_train, df_test, 'features.variablesTypesInScope', pref='v.t.s_')\n",
    "\n",
    "\n",
    "#firstChar,features.referenceType,features.scopeKind,features.insideStatement_0,features.insideStatement_1,features.insideStatement_2\n",
    "\n",
    "print(f'train2 ------> : {df_train.loc[[10]]}')\n",
    "print(f'test2 ------> : {df_test.loc[[10]]}')\n"
   ],
   "metadata": {
    "collapsed": false,
    "pycharm": {
     "name": "#%%\n"
    }
   }
  },
  {
   "cell_type": "code",
   "execution_count": 201,
   "outputs": [],
   "source": [
    "df_train.fillna('', inplace=True)\n",
    "df_train.to_csv('train.csv')\n",
    "\n",
    "df_train_raw.to_csv('train_raw.csv')\n",
    "\n",
    "df_train.fillna('', inplace=True)\n",
    "df_train.to_csv('test.csv')\n",
    "\n",
    "df_test_raw.to_csv('test_raw.csv')"
   ],
   "metadata": {
    "collapsed": false,
    "pycharm": {
     "name": "#%%\n"
    }
   }
  },
  {
   "cell_type": "code",
   "execution_count": 200,
   "outputs": [],
   "source": [],
   "metadata": {
    "collapsed": false,
    "pycharm": {
     "name": "#%%\n"
    }
   }
  },
  {
   "cell_type": "code",
   "execution_count": 200,
   "outputs": [],
   "source": [],
   "metadata": {
    "collapsed": false,
    "pycharm": {
     "name": "#%%\n"
    }
   }
  }
 ],
 "metadata": {
  "kernelspec": {
   "display_name": "Python 3",
   "language": "python",
   "name": "python3"
  },
  "language_info": {
   "codemirror_mode": {
    "name": "ipython",
    "version": 2
   },
   "file_extension": ".py",
   "mimetype": "text/x-python",
   "name": "python",
   "nbconvert_exporter": "python",
   "pygments_lexer": "ipython2",
   "version": "2.7.6"
  }
 },
 "nbformat": 4,
 "nbformat_minor": 0
}